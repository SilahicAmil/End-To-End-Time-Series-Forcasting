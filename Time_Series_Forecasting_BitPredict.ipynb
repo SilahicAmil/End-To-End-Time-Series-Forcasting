{
  "nbformat": 4,
  "nbformat_minor": 0,
  "metadata": {
    "colab": {
      "name": "Time-Series-Forecasting-BitPredict.ipynb",
      "provenance": [],
      "collapsed_sections": [],
      "authorship_tag": "ABX9TyNFIffOJ8nVf7aWGUPnkAr+",
      "include_colab_link": true
    },
    "kernelspec": {
      "name": "python3",
      "display_name": "Python 3"
    },
    "language_info": {
      "name": "python"
    }
  },
  "cells": [
    {
      "cell_type": "markdown",
      "metadata": {
        "id": "view-in-github",
        "colab_type": "text"
      },
      "source": [
        "<a href=\"https://colab.research.google.com/github/SilahicAmil/End-To-End-Time-Series-Forcasting/blob/main/Time_Series_Forecasting_BitPredict.ipynb\" target=\"_parent\"><img src=\"https://colab.research.google.com/assets/colab-badge.svg\" alt=\"Open In Colab\"/></a>"
      ]
    },
    {
      "cell_type": "markdown",
      "metadata": {
        "id": "vOjBMGN-jyDB"
      },
      "source": [
        "## Time series forecasting fundamentals with TensorFlow\n",
        "\n",
        "Links:\n",
        "* All Resources: https://github.com/mrdbourke/tensorflow-deep-learning\n",
        " "
      ]
    },
    {
      "cell_type": "markdown",
      "metadata": {
        "id": "nnPqLK9Cj_9d"
      },
      "source": [
        "## Get Data\n",
        "\n",
        "Hisotrical price data of Bitcoin from CoinDesk"
      ]
    },
    {
      "cell_type": "code",
      "metadata": {
        "colab": {
          "base_uri": "https://localhost:8080/"
        },
        "id": "4IjiM1HakhFi",
        "outputId": "54a944a5-0591-4be3-d07f-e21d5ac2e527"
      },
      "source": [
        "!wget https://raw.githubusercontent.com/mrdbourke/tensorflow-deep-learning/main/extras/BTC_USD_2013-10-01_2021-05-18-CoinDesk.csv"
      ],
      "execution_count": 1,
      "outputs": [
        {
          "output_type": "stream",
          "text": [
            "--2021-07-25 02:55:15--  https://raw.githubusercontent.com/mrdbourke/tensorflow-deep-learning/main/extras/BTC_USD_2013-10-01_2021-05-18-CoinDesk.csv\n",
            "Resolving raw.githubusercontent.com (raw.githubusercontent.com)... 185.199.108.133, 185.199.109.133, 185.199.110.133, ...\n",
            "Connecting to raw.githubusercontent.com (raw.githubusercontent.com)|185.199.108.133|:443... connected.\n",
            "HTTP request sent, awaiting response... 200 OK\n",
            "Length: 178509 (174K) [text/plain]\n",
            "Saving to: ‘BTC_USD_2013-10-01_2021-05-18-CoinDesk.csv’\n",
            "\n",
            "BTC_USD_2013-10-01_ 100%[===================>] 174.33K  --.-KB/s    in 0.02s   \n",
            "\n",
            "2021-07-25 02:55:15 (10.4 MB/s) - ‘BTC_USD_2013-10-01_2021-05-18-CoinDesk.csv’ saved [178509/178509]\n",
            "\n"
          ],
          "name": "stdout"
        }
      ]
    },
    {
      "cell_type": "markdown",
      "metadata": {
        "id": "ah7ONKkXk5aL"
      },
      "source": [
        "## Importing time series data with Pandas"
      ]
    },
    {
      "cell_type": "code",
      "metadata": {
        "colab": {
          "base_uri": "https://localhost:8080/",
          "height": 235
        },
        "id": "eX7ZRGWclMGX",
        "outputId": "06a65b39-b6d2-4585-fbd3-3f3b3aba96bd"
      },
      "source": [
        "import pandas as pd\n",
        "df= pd.read_csv(\"/content/BTC_USD_2013-10-01_2021-05-18-CoinDesk.csv\",\n",
        "                parse_dates=[\"Date\"],\n",
        "                index_col=[\"Date\"])\n",
        "df.head()"
      ],
      "execution_count": 2,
      "outputs": [
        {
          "output_type": "execute_result",
          "data": {
            "text/html": [
              "<div>\n",
              "<style scoped>\n",
              "    .dataframe tbody tr th:only-of-type {\n",
              "        vertical-align: middle;\n",
              "    }\n",
              "\n",
              "    .dataframe tbody tr th {\n",
              "        vertical-align: top;\n",
              "    }\n",
              "\n",
              "    .dataframe thead th {\n",
              "        text-align: right;\n",
              "    }\n",
              "</style>\n",
              "<table border=\"1\" class=\"dataframe\">\n",
              "  <thead>\n",
              "    <tr style=\"text-align: right;\">\n",
              "      <th></th>\n",
              "      <th>Currency</th>\n",
              "      <th>Closing Price (USD)</th>\n",
              "      <th>24h Open (USD)</th>\n",
              "      <th>24h High (USD)</th>\n",
              "      <th>24h Low (USD)</th>\n",
              "    </tr>\n",
              "    <tr>\n",
              "      <th>Date</th>\n",
              "      <th></th>\n",
              "      <th></th>\n",
              "      <th></th>\n",
              "      <th></th>\n",
              "      <th></th>\n",
              "    </tr>\n",
              "  </thead>\n",
              "  <tbody>\n",
              "    <tr>\n",
              "      <th>2013-10-01</th>\n",
              "      <td>BTC</td>\n",
              "      <td>123.65499</td>\n",
              "      <td>124.30466</td>\n",
              "      <td>124.75166</td>\n",
              "      <td>122.56349</td>\n",
              "    </tr>\n",
              "    <tr>\n",
              "      <th>2013-10-02</th>\n",
              "      <td>BTC</td>\n",
              "      <td>125.45500</td>\n",
              "      <td>123.65499</td>\n",
              "      <td>125.75850</td>\n",
              "      <td>123.63383</td>\n",
              "    </tr>\n",
              "    <tr>\n",
              "      <th>2013-10-03</th>\n",
              "      <td>BTC</td>\n",
              "      <td>108.58483</td>\n",
              "      <td>125.45500</td>\n",
              "      <td>125.66566</td>\n",
              "      <td>83.32833</td>\n",
              "    </tr>\n",
              "    <tr>\n",
              "      <th>2013-10-04</th>\n",
              "      <td>BTC</td>\n",
              "      <td>118.67466</td>\n",
              "      <td>108.58483</td>\n",
              "      <td>118.67500</td>\n",
              "      <td>107.05816</td>\n",
              "    </tr>\n",
              "    <tr>\n",
              "      <th>2013-10-05</th>\n",
              "      <td>BTC</td>\n",
              "      <td>121.33866</td>\n",
              "      <td>118.67466</td>\n",
              "      <td>121.93633</td>\n",
              "      <td>118.00566</td>\n",
              "    </tr>\n",
              "  </tbody>\n",
              "</table>\n",
              "</div>"
            ],
            "text/plain": [
              "           Currency  Closing Price (USD)  ...  24h High (USD)  24h Low (USD)\n",
              "Date                                      ...                               \n",
              "2013-10-01      BTC            123.65499  ...       124.75166      122.56349\n",
              "2013-10-02      BTC            125.45500  ...       125.75850      123.63383\n",
              "2013-10-03      BTC            108.58483  ...       125.66566       83.32833\n",
              "2013-10-04      BTC            118.67466  ...       118.67500      107.05816\n",
              "2013-10-05      BTC            121.33866  ...       121.93633      118.00566\n",
              "\n",
              "[5 rows x 5 columns]"
            ]
          },
          "metadata": {
            "tags": []
          },
          "execution_count": 2
        }
      ]
    },
    {
      "cell_type": "code",
      "metadata": {
        "colab": {
          "base_uri": "https://localhost:8080/"
        },
        "id": "I0KWRWprl_pV",
        "outputId": "13ca6c8a-2a3e-4e12-9298-08473fd93034"
      },
      "source": [
        "df.info()"
      ],
      "execution_count": 3,
      "outputs": [
        {
          "output_type": "stream",
          "text": [
            "<class 'pandas.core.frame.DataFrame'>\n",
            "DatetimeIndex: 2787 entries, 2013-10-01 to 2021-05-18\n",
            "Data columns (total 5 columns):\n",
            " #   Column               Non-Null Count  Dtype  \n",
            "---  ------               --------------  -----  \n",
            " 0   Currency             2787 non-null   object \n",
            " 1   Closing Price (USD)  2787 non-null   float64\n",
            " 2   24h Open (USD)       2787 non-null   float64\n",
            " 3   24h High (USD)       2787 non-null   float64\n",
            " 4   24h Low (USD)        2787 non-null   float64\n",
            "dtypes: float64(4), object(1)\n",
            "memory usage: 130.6+ KB\n"
          ],
          "name": "stdout"
        }
      ]
    },
    {
      "cell_type": "code",
      "metadata": {
        "colab": {
          "base_uri": "https://localhost:8080/"
        },
        "id": "XkZYgYeEmFri",
        "outputId": "d50a8912-d15a-433a-b2b5-9847bb6812f5"
      },
      "source": [
        "df[\"Closing Price (USD)\"].dtype\n",
        "# df[\"Date\"].dtype()\n",
        "# df[\"Currency\"].dtype"
      ],
      "execution_count": 4,
      "outputs": [
        {
          "output_type": "execute_result",
          "data": {
            "text/plain": [
              "dtype('float64')"
            ]
          },
          "metadata": {
            "tags": []
          },
          "execution_count": 4
        }
      ]
    },
    {
      "cell_type": "code",
      "metadata": {
        "colab": {
          "base_uri": "https://localhost:8080/"
        },
        "id": "dK0b96r8mjPI",
        "outputId": "a86b9ea0-be2d-4d2d-d74f-45553f45b207"
      },
      "source": [
        "len(df)"
      ],
      "execution_count": 5,
      "outputs": [
        {
          "output_type": "execute_result",
          "data": {
            "text/plain": [
              "2787"
            ]
          },
          "metadata": {
            "tags": []
          },
          "execution_count": 5
        }
      ]
    },
    {
      "cell_type": "markdown",
      "metadata": {
        "id": "XJHdnpBYmyCd"
      },
      "source": [
        "Collecting the historical price of Bitcoin over the past ~8 years yielded 2787 samples.\n",
        "\n",
        "Typically deep learning likes and yields better results with more data.\n",
        "\n",
        ">Seasonality of a time series dataset refers to the number of samples per year. For the dataset here the seasonality value is 365. Meaning we collect one sample per day for 365 days of the year"
      ]
    },
    {
      "cell_type": "code",
      "metadata": {
        "colab": {
          "base_uri": "https://localhost:8080/",
          "height": 235
        },
        "id": "c-3clG2zmpzP",
        "outputId": "2c9ae95c-6a2f-438b-db50-25854acb0ea3"
      },
      "source": [
        "df.head()"
      ],
      "execution_count": 6,
      "outputs": [
        {
          "output_type": "execute_result",
          "data": {
            "text/html": [
              "<div>\n",
              "<style scoped>\n",
              "    .dataframe tbody tr th:only-of-type {\n",
              "        vertical-align: middle;\n",
              "    }\n",
              "\n",
              "    .dataframe tbody tr th {\n",
              "        vertical-align: top;\n",
              "    }\n",
              "\n",
              "    .dataframe thead th {\n",
              "        text-align: right;\n",
              "    }\n",
              "</style>\n",
              "<table border=\"1\" class=\"dataframe\">\n",
              "  <thead>\n",
              "    <tr style=\"text-align: right;\">\n",
              "      <th></th>\n",
              "      <th>Currency</th>\n",
              "      <th>Closing Price (USD)</th>\n",
              "      <th>24h Open (USD)</th>\n",
              "      <th>24h High (USD)</th>\n",
              "      <th>24h Low (USD)</th>\n",
              "    </tr>\n",
              "    <tr>\n",
              "      <th>Date</th>\n",
              "      <th></th>\n",
              "      <th></th>\n",
              "      <th></th>\n",
              "      <th></th>\n",
              "      <th></th>\n",
              "    </tr>\n",
              "  </thead>\n",
              "  <tbody>\n",
              "    <tr>\n",
              "      <th>2013-10-01</th>\n",
              "      <td>BTC</td>\n",
              "      <td>123.65499</td>\n",
              "      <td>124.30466</td>\n",
              "      <td>124.75166</td>\n",
              "      <td>122.56349</td>\n",
              "    </tr>\n",
              "    <tr>\n",
              "      <th>2013-10-02</th>\n",
              "      <td>BTC</td>\n",
              "      <td>125.45500</td>\n",
              "      <td>123.65499</td>\n",
              "      <td>125.75850</td>\n",
              "      <td>123.63383</td>\n",
              "    </tr>\n",
              "    <tr>\n",
              "      <th>2013-10-03</th>\n",
              "      <td>BTC</td>\n",
              "      <td>108.58483</td>\n",
              "      <td>125.45500</td>\n",
              "      <td>125.66566</td>\n",
              "      <td>83.32833</td>\n",
              "    </tr>\n",
              "    <tr>\n",
              "      <th>2013-10-04</th>\n",
              "      <td>BTC</td>\n",
              "      <td>118.67466</td>\n",
              "      <td>108.58483</td>\n",
              "      <td>118.67500</td>\n",
              "      <td>107.05816</td>\n",
              "    </tr>\n",
              "    <tr>\n",
              "      <th>2013-10-05</th>\n",
              "      <td>BTC</td>\n",
              "      <td>121.33866</td>\n",
              "      <td>118.67466</td>\n",
              "      <td>121.93633</td>\n",
              "      <td>118.00566</td>\n",
              "    </tr>\n",
              "  </tbody>\n",
              "</table>\n",
              "</div>"
            ],
            "text/plain": [
              "           Currency  Closing Price (USD)  ...  24h High (USD)  24h Low (USD)\n",
              "Date                                      ...                               \n",
              "2013-10-01      BTC            123.65499  ...       124.75166      122.56349\n",
              "2013-10-02      BTC            125.45500  ...       125.75850      123.63383\n",
              "2013-10-03      BTC            108.58483  ...       125.66566       83.32833\n",
              "2013-10-04      BTC            118.67466  ...       118.67500      107.05816\n",
              "2013-10-05      BTC            121.33866  ...       121.93633      118.00566\n",
              "\n",
              "[5 rows x 5 columns]"
            ]
          },
          "metadata": {
            "tags": []
          },
          "execution_count": 6
        }
      ]
    },
    {
      "cell_type": "code",
      "metadata": {
        "colab": {
          "base_uri": "https://localhost:8080/",
          "height": 450
        },
        "id": "7tQ4XtY-px2w",
        "outputId": "d213edf4-e64c-47d3-b35b-ebf278bbbc6c"
      },
      "source": [
        "# Only having date and closing price\n",
        "bitcoin_prices = pd.DataFrame(df[\"Closing Price (USD)\"]).rename(columns={\"Closing Price (USD)\": \"Price\"})\n",
        "bitcoin_prices"
      ],
      "execution_count": 7,
      "outputs": [
        {
          "output_type": "execute_result",
          "data": {
            "text/html": [
              "<div>\n",
              "<style scoped>\n",
              "    .dataframe tbody tr th:only-of-type {\n",
              "        vertical-align: middle;\n",
              "    }\n",
              "\n",
              "    .dataframe tbody tr th {\n",
              "        vertical-align: top;\n",
              "    }\n",
              "\n",
              "    .dataframe thead th {\n",
              "        text-align: right;\n",
              "    }\n",
              "</style>\n",
              "<table border=\"1\" class=\"dataframe\">\n",
              "  <thead>\n",
              "    <tr style=\"text-align: right;\">\n",
              "      <th></th>\n",
              "      <th>Price</th>\n",
              "    </tr>\n",
              "    <tr>\n",
              "      <th>Date</th>\n",
              "      <th></th>\n",
              "    </tr>\n",
              "  </thead>\n",
              "  <tbody>\n",
              "    <tr>\n",
              "      <th>2013-10-01</th>\n",
              "      <td>123.654990</td>\n",
              "    </tr>\n",
              "    <tr>\n",
              "      <th>2013-10-02</th>\n",
              "      <td>125.455000</td>\n",
              "    </tr>\n",
              "    <tr>\n",
              "      <th>2013-10-03</th>\n",
              "      <td>108.584830</td>\n",
              "    </tr>\n",
              "    <tr>\n",
              "      <th>2013-10-04</th>\n",
              "      <td>118.674660</td>\n",
              "    </tr>\n",
              "    <tr>\n",
              "      <th>2013-10-05</th>\n",
              "      <td>121.338660</td>\n",
              "    </tr>\n",
              "    <tr>\n",
              "      <th>...</th>\n",
              "      <td>...</td>\n",
              "    </tr>\n",
              "    <tr>\n",
              "      <th>2021-05-14</th>\n",
              "      <td>49764.132082</td>\n",
              "    </tr>\n",
              "    <tr>\n",
              "      <th>2021-05-15</th>\n",
              "      <td>50032.693137</td>\n",
              "    </tr>\n",
              "    <tr>\n",
              "      <th>2021-05-16</th>\n",
              "      <td>47885.625255</td>\n",
              "    </tr>\n",
              "    <tr>\n",
              "      <th>2021-05-17</th>\n",
              "      <td>45604.615754</td>\n",
              "    </tr>\n",
              "    <tr>\n",
              "      <th>2021-05-18</th>\n",
              "      <td>43144.471291</td>\n",
              "    </tr>\n",
              "  </tbody>\n",
              "</table>\n",
              "<p>2787 rows × 1 columns</p>\n",
              "</div>"
            ],
            "text/plain": [
              "                   Price\n",
              "Date                    \n",
              "2013-10-01    123.654990\n",
              "2013-10-02    125.455000\n",
              "2013-10-03    108.584830\n",
              "2013-10-04    118.674660\n",
              "2013-10-05    121.338660\n",
              "...                  ...\n",
              "2021-05-14  49764.132082\n",
              "2021-05-15  50032.693137\n",
              "2021-05-16  47885.625255\n",
              "2021-05-17  45604.615754\n",
              "2021-05-18  43144.471291\n",
              "\n",
              "[2787 rows x 1 columns]"
            ]
          },
          "metadata": {
            "tags": []
          },
          "execution_count": 7
        }
      ]
    },
    {
      "cell_type": "code",
      "metadata": {
        "colab": {
          "base_uri": "https://localhost:8080/",
          "height": 623
        },
        "id": "ybGH2BI7qHV9",
        "outputId": "865426c8-a9cc-4018-ed1b-979c4b7811ce"
      },
      "source": [
        "import matplotlib.pyplot as plt\n",
        "bitcoin_prices.plot(figsize=(15,10))\n",
        "plt.ylabel(\"BTC Price\")\n",
        "plt.title(\"Price of Bitcoin 10/2013 to 05/2021\", fontsize=14);"
      ],
      "execution_count": 8,
      "outputs": [
        {
          "output_type": "display_data",
          "data": {
            "image/png": "[encoded data removed]",
            "text/plain": [
              "<Figure size 1080x720 with 1 Axes>"
            ]
          },
          "metadata": {
            "tags": [],
            "needs_background": "light"
          }
        }
      ]
    },
    {
      "cell_type": "markdown",
      "metadata": {
        "id": "S8kbGDXWtUTf"
      },
      "source": [
        "## Importing time series data with Pythn's CSV Module"
      ]
    },
    {
      "cell_type": "code",
      "metadata": {
        "colab": {
          "base_uri": "https://localhost:8080/"
        },
        "id": "a6rKQI8YqOk9",
        "outputId": "e6cff0a8-71e5-43e8-91a2-f67e69917b72"
      },
      "source": [
        "import csv\n",
        "from datetime import datetime\n",
        "\n",
        "timesteps = []\n",
        "btc_price = []\n",
        "\n",
        "with open(\"/content/BTC_USD_2013-10-01_2021-05-18-CoinDesk.csv\", \"r\") as f:\n",
        "  csv_reader = csv.reader(f, delimiter=\",\")\n",
        "  next(csv_reader) #Skips header\n",
        "  for line in csv_reader:\n",
        "    timesteps.append(datetime.strptime(line[1], \"%Y-%m-%d\")) # Gets dates as dates\n",
        "    btc_price.append(float(line[2]))\n",
        "\n",
        "# View first 10\n",
        "timesteps[:10],btc_price[:10]"
      ],
      "execution_count": 9,
      "outputs": [
        {
          "output_type": "execute_result",
          "data": {
            "text/plain": [
              "([datetime.datetime(2013, 10, 1, 0, 0),\n",
              "  datetime.datetime(2013, 10, 2, 0, 0),\n",
              "  datetime.datetime(2013, 10, 3, 0, 0),\n",
              "  datetime.datetime(2013, 10, 4, 0, 0),\n",
              "  datetime.datetime(2013, 10, 5, 0, 0),\n",
              "  datetime.datetime(2013, 10, 6, 0, 0),\n",
              "  datetime.datetime(2013, 10, 7, 0, 0),\n",
              "  datetime.datetime(2013, 10, 8, 0, 0),\n",
              "  datetime.datetime(2013, 10, 9, 0, 0),\n",
              "  datetime.datetime(2013, 10, 10, 0, 0)],\n",
              " [123.65499,\n",
              "  125.455,\n",
              "  108.58483,\n",
              "  118.67466,\n",
              "  121.33866,\n",
              "  120.65533,\n",
              "  121.795,\n",
              "  123.033,\n",
              "  124.049,\n",
              "  125.96116])"
            ]
          },
          "metadata": {
            "tags": []
          },
          "execution_count": 9
        }
      ]
    },
    {
      "cell_type": "code",
      "metadata": {
        "colab": {
          "base_uri": "https://localhost:8080/",
          "height": 623
        },
        "id": "qZZtjudhu3cd",
        "outputId": "2ebac432-ed5c-4a89-b98d-194bf8f7ffa5"
      },
      "source": [
        "# plot from csv\n",
        "import numpy as np\n",
        "plt.figure(figsize=(15,10))\n",
        "plt.plot(timesteps, btc_price)\n",
        "plt.ylabel(\"BTC Price\")\n",
        "plt.xlabel(\"Date\")\n",
        "plt.title(\"Price of Bitcoin 10/2013 to 05/2021\", fontsize=14);"
      ],
      "execution_count": 10,
      "outputs": [
        {
          "output_type": "display_data",
          "data": {
            "image/png": "[encoded data removed]",
            "text/plain": [
              "<Figure size 1080x720 with 1 Axes>"
            ]
          },
          "metadata": {
            "tags": [],
            "needs_background": "light"
          }
        }
      ]
    },
    {
      "cell_type": "markdown",
      "metadata": {
        "id": "_2zsLoafvYSo"
      },
      "source": [
        "## Create Train/Test Split "
      ]
    },
    {
      "cell_type": "code",
      "metadata": {
        "colab": {
          "base_uri": "https://localhost:8080/"
        },
        "id": "goqbznwzxUy4",
        "outputId": "b1729f4b-7e31-4d17-997e-9aca8046c98f"
      },
      "source": [
        "\n",
        "# Get bitcoin date array\n",
        "timesteps = bitcoin_prices.index.to_numpy()\n",
        "prices = bitcoin_prices[\"Price\"].to_numpy()\n",
        "\n",
        "timesteps[:10], prices[:10]"
      ],
      "execution_count": 11,
      "outputs": [
        {
          "output_type": "execute_result",
          "data": {
            "text/plain": [
              "(array(['2013-10-01T00:00:00.000000000', '2013-10-02T00:00:00.000000000',\n",
              "        '2013-10-03T00:00:00.000000000', '2013-10-04T00:00:00.000000000',\n",
              "        '2013-10-05T00:00:00.000000000', '2013-10-06T00:00:00.000000000',\n",
              "        '2013-10-07T00:00:00.000000000', '2013-10-08T00:00:00.000000000',\n",
              "        '2013-10-09T00:00:00.000000000', '2013-10-10T00:00:00.000000000'],\n",
              "       dtype='datetime64[ns]'),\n",
              " array([123.65499, 125.455  , 108.58483, 118.67466, 121.33866, 120.65533,\n",
              "        121.795  , 123.033  , 124.049  , 125.96116]))"
            ]
          },
          "metadata": {
            "tags": []
          },
          "execution_count": 11
        }
      ]
    },
    {
      "cell_type": "code",
      "metadata": {
        "colab": {
          "base_uri": "https://localhost:8080/"
        },
        "id": "WgHHayCOw-c_",
        "outputId": "91234ebe-d342-4267-d995-39b359f97e6f"
      },
      "source": [
        "from sklearn.model_selection import train_test_split\n",
        "\n",
        "X_train, X_test, y_train, y_test = train_test_split(timesteps,\n",
        "                                                    prices,\n",
        "                                                    test_size=0.2,\n",
        "                                                    random_state=42)\n",
        "X_train.shape, X_test.shape, y_train.shape, y_test.shape"
      ],
      "execution_count": 12,
      "outputs": [
        {
          "output_type": "execute_result",
          "data": {
            "text/plain": [
              "((2229,), (558,), (2229,), (558,))"
            ]
          },
          "metadata": {
            "tags": []
          },
          "execution_count": 12
        }
      ]
    },
    {
      "cell_type": "code",
      "metadata": {
        "colab": {
          "base_uri": "https://localhost:8080/"
        },
        "id": "B5xLW13cwBXM",
        "outputId": "52a6502d-8649-47d3-b2ae-4a0b689be2a7"
      },
      "source": [
        "# Create train and test splits for time series data\n",
        "split_size = int(0.8 * len(prices)) \n",
        "\n",
        "# Train data splits\n",
        "X_train, y_train = timesteps[:split_size], prices[:split_size]\n",
        "\n",
        "# Test data splits\n",
        "X_test, y_test = timesteps[split_size:], prices[split_size:]\n",
        "\n",
        "len(X_train), len(X_test), len(y_train), len(y_test)"
      ],
      "execution_count": 13,
      "outputs": [
        {
          "output_type": "execute_result",
          "data": {
            "text/plain": [
              "(2229, 558, 2229, 558)"
            ]
          },
          "metadata": {
            "tags": []
          },
          "execution_count": 13
        }
      ]
    },
    {
      "cell_type": "code",
      "metadata": {
        "colab": {
          "base_uri": "https://localhost:8080/",
          "height": 606
        },
        "id": "f7Xx1WuYxkzn",
        "outputId": "f5541270-513b-4123-895d-1b5ac31e266b"
      },
      "source": [
        "# Plot the splits\n",
        "plt.figure(figsize=(15,10))\n",
        "plt.scatter(X_train, y_train, s=5, label=\"Train data\")\n",
        "plt.scatter(X_test, y_test, s=5, label=\"Test data\")\n",
        "plt.xlabel(\"Date\")\n",
        "plt.ylabel(\"BTC Price\")\n",
        "plt.legend(fontsize=12)\n",
        "plt.show();"
      ],
      "execution_count": 14,
      "outputs": [
        {
          "output_type": "display_data",
          "data": {
            "image/png": "[encoded data removed]",
            "text/plain": [
              "<Figure size 1080x720 with 1 Axes>"
            ]
          },
          "metadata": {
            "tags": [],
            "needs_background": "light"
          }
        }
      ]
    },
    {
      "cell_type": "markdown",
      "metadata": {
        "id": "G7dpr4TFxnM7"
      },
      "source": [
        "## Create a plotting function\n"
      ]
    },
    {
      "cell_type": "code",
      "metadata": {
        "id": "tgThIIVAyxfu"
      },
      "source": [
        "# Plotting function\n",
        "\n",
        "def plot_time_series(timesteps, values, format=\".\", start=0, end=None, label=None):\n",
        "  \"\"\"\n",
        "  Plots timesteps (series of points in times)\n",
        "\n",
        "  Params\n",
        "  -------\n",
        "  timesteps: array of timestep values\n",
        "  values: array of values across time\n",
        "  foramt: style of plot defaults scatter\n",
        "  start: where to start the plot\n",
        "  end: where to end the plot\n",
        "  label: label to show plot values\n",
        "  \"\"\"\n",
        "  # Plot series\n",
        "  # plt.figure(figsize=(10,7))\n",
        "  plt.plot(timesteps[start:end], values[start:end], format, label=label)\n",
        "  plt.xlabel(\"Time\")\n",
        "  plt.ylabel(\"BTC Price\")\n",
        "  if label:\n",
        "    plt.legend(fontsize=14)\n",
        "  plt.grid=True"
      ],
      "execution_count": 15,
      "outputs": []
    },
    {
      "cell_type": "code",
      "metadata": {
        "colab": {
          "base_uri": "https://localhost:8080/",
          "height": 442
        },
        "id": "0lV14pvJy2yd",
        "outputId": "5c46d8e1-60b0-4452-d2a7-26a9c3daf4bb"
      },
      "source": [
        "# Test out func\n",
        "plt.figure(figsize=(10,7))\n",
        "plot_time_series(timesteps=X_train, values=y_train, label=\"Train Data\")\n",
        "plot_time_series(timesteps=X_test, values=y_test, label=\"Test Data\")"
      ],
      "execution_count": 16,
      "outputs": [
        {
          "output_type": "display_data",
          "data": {
            "image/png": "[encoded data removed]",
            "text/plain": [
              "<Figure size 720x504 with 1 Axes>"
            ]
          },
          "metadata": {
            "tags": [],
            "needs_background": "light"
          }
        }
      ]
    },
    {
      "cell_type": "markdown",
      "metadata": {
        "id": "JJl3InsC0Lke"
      },
      "source": [
        "## Modelling Experiment\n",
        "\n",
        "We've got sme BTC historical data for modelling. Time to run a series of modelling experiments to see which performs best\n",
        "\n",
        "Common terms:\n",
        "* Horizon = number of timesteps into the future were going to predict\n",
        "* Window Size = number of timesteps we're going to use to predict horizon\n",
        "\n",
        "Modeling experiments\n",
        "\n",
        "Model Number\tModel Type\tHorizon size\tWindow size\tExtra data\n",
        "* 0\tNaïve model (baseline)\n",
        "* 1\tDense model\tHorizon=1,\tWindow Size=7\t\n",
        "* 2\tSame as Horizon=1, Window Size=30\t\n",
        "* 3\tSame as Horizon=1, Window Size=30\n",
        "* 4\tConv1D\tHorizon=1, Window Size=7\n",
        "* 5\tLSTM\tHorizon=1,\t Window Size=7\t\n",
        "* 6\tSame as 1 (but with multivariate data)\tHorizon=1,\tWindow Size=7\t- Extra Data: Block Reward Size\n",
        "* 7\tN-BEATs Algorithm\tHorizon=1,\tWindow Size=7\t\n",
        "* 8\tEnsemble (multiple models optimized on different loss functions)\tHorizon=1\tWindow Size=7\t\n",
        "* 9\tFuture prediction model (model to predict future values)\tHorizon=1,\tWindow Size=7\t\n",
        "* 10\tSame as 1 (but with turkey 🦃 data introduced) Horizon=1,\tWindow Size=7\t"
      ]
    },
    {
      "cell_type": "markdown",
      "metadata": {
        "id": "23cqZwdb1_dk"
      },
      "source": [
        "## Model 0: Baseline Forecast"
      ]
    },
    {
      "cell_type": "code",
      "metadata": {
        "colab": {
          "base_uri": "https://localhost:8080/"
        },
        "id": "Qs1F0Be3USpt",
        "outputId": "6c311e2f-e0c3-46a9-a2d6-26f11f2bb1e3"
      },
      "source": [
        "# Create a naive forecast\n",
        "naive_forecast = y_test[:-1]\n",
        "\n",
        "naive_forecast[:10],naive_forecast[-10:]"
      ],
      "execution_count": 17,
      "outputs": [
        {
          "output_type": "execute_result",
          "data": {
            "text/plain": [
              "(array([9226.48582088, 8794.35864452, 8798.04205463, 9081.18687849,\n",
              "        8711.53433917, 8760.89271814, 8749.52059102, 8656.97092235,\n",
              "        8500.64355816, 8469.2608989 ]),\n",
              " array([57107.12067189, 58788.20967893, 58102.19142623, 55715.54665129,\n",
              "        56573.5554719 , 52147.82118698, 49764.1320816 , 50032.69313676,\n",
              "        47885.62525472, 45604.61575361]))"
            ]
          },
          "metadata": {
            "tags": []
          },
          "execution_count": 17
        }
      ]
    },
    {
      "cell_type": "code",
      "metadata": {
        "colab": {
          "base_uri": "https://localhost:8080/",
          "height": 442
        },
        "id": "M6DCKJKwVCGK",
        "outputId": "56b9e0f2-7cce-4db3-c9d9-2c97a0c1c4a9"
      },
      "source": [
        "# Plot naive forecast\n",
        "plt.figure(figsize=(10,7))\n",
        "# plot_time_series(timesteps=X_train, values=y_train, label=\"Train Data\")\n",
        "plot_time_series(timesteps=X_test, values=y_test, start=360, format=\"-\", label=\"Test Data\")\n",
        "plot_time_series(timesteps=X_test[1:], values=naive_forecast, start=360, format=\"-\", label=\"Naive Forecast\")"
      ],
      "execution_count": 18,
      "outputs": [
        {
          "output_type": "display_data",
          "data": {
            "image/png": "[encoded data removed]",
            "text/plain": [
              "<Figure size 720x504 with 1 Axes>"
            ]
          },
          "metadata": {
            "tags": [],
            "needs_background": "light"
          }
        }
      ]
    },
    {
      "cell_type": "markdown",
      "metadata": {
        "id": "1R_8tjz7VuCC"
      },
      "source": [
        "## Evaluating a time series model\n",
        "\n",
        "Looking into some evaluation metrics for time series forecasting.\n",
        "\n",
        "What are we doing?\n",
        "\n",
        "We're predicting a number. So that means it is a regression problem.\n",
        "\n",
        "\n",
        "Because we're working on a regression problem, we'll  regression metrics.\n",
        "\n",
        "Regression Metrics:\n",
        "* MAE - mean absolute error\n",
        "* MSE - mean squared error\n",
        "* RMSE - root mean square error\n",
        "* MAPE/sMAPE - (symmetric) mean absolute percentage error\n",
        "* MASE - mean absolute scaled error\n",
        "\n",
        "For all of the above metrics, **lower is better**.\n",
        "\n",
        "The main evaluation we are doing is: *how does our models forecast `(y_pred)` compare against the actual values `(y_true)`\n"
      ]
    },
    {
      "cell_type": "code",
      "metadata": {
        "id": "EXE1bHrNYGJK"
      },
      "source": [
        "import tensorflow as tf"
      ],
      "execution_count": 19,
      "outputs": []
    },
    {
      "cell_type": "code",
      "metadata": {
        "id": "wmBTZBOlZr_2"
      },
      "source": [
        "def mean_absolute_scaled_error(y_true, y_pred):\n",
        "  \"\"\"\n",
        "  Implement MASE (assumes no seasonality)\n",
        "  \"\"\"\n",
        "  mae = tf.reduce_mean(tf.abs(y_true-y_pred))\n",
        "\n",
        "  # Find MAE of naive forecast \n",
        "  mae_naive_no_season = tf.reduce_mean(tf.abs(y_true[1:]-y_true[:-1])) # Seasonality is 1 day. Reason for the shift of 1\n",
        "\n",
        "  return mae / mae_naive_no_season"
      ],
      "execution_count": 20,
      "outputs": []
    },
    {
      "cell_type": "code",
      "metadata": {
        "colab": {
          "base_uri": "https://localhost:8080/"
        },
        "id": "UQLMha_XbB8Z",
        "outputId": "da02145c-52c7-4d7d-e956-d0c0a2549f31"
      },
      "source": [
        "mean_absolute_scaled_error(y_true=y_test[1:], y_pred=naive_forecast).numpy()"
      ],
      "execution_count": 21,
      "outputs": [
        {
          "output_type": "execute_result",
          "data": {
            "text/plain": [
              "0.9995699939182624"
            ]
          },
          "metadata": {
            "tags": []
          },
          "execution_count": 21
        }
      ]
    },
    {
      "cell_type": "code",
      "metadata": {
        "id": "6zgwVhhSbHrM"
      },
      "source": [
        "# Create a function to take in model preds and true values\n",
        "\n",
        "def evaluate_preds(y_true,y_pred):\n",
        "  # Make sure float32 for metric calculations\n",
        "  y_true = tf.cast(y_true, dtype=tf.float32)\n",
        "  y_pred = tf.cast(y_pred, dtype=tf.float32)\n",
        "\n",
        "  # Calc evals\n",
        "  mae = tf.keras.metrics.mean_absolute_error(y_true, y_pred)\n",
        "  mse = tf.keras.metrics.mean_squared_error(y_true, y_pred)\n",
        "  rmse = tf.sqrt(mse)\n",
        "  mape = tf.keras.metrics.mean_absolute_percentage_error(y_true, y_pred)\n",
        "  mase = mean_absolute_scaled_error(y_true, y_pred)\n",
        "\n",
        "  return {\"mae\": mae.numpy(),\n",
        "          \"mse\": mse.numpy(),\n",
        "          \"rmse\": rmse.numpy(),\n",
        "          \"mape\": mape.numpy(),\n",
        "          \"mase\": mase.numpy()}"
      ],
      "execution_count": 22,
      "outputs": []
    },
    {
      "cell_type": "code",
      "metadata": {
        "colab": {
          "base_uri": "https://localhost:8080/"
        },
        "id": "pf2MK9HTF5Z1",
        "outputId": "064a8690-8e88-4849-d046-fb8f8e928f00"
      },
      "source": [
        "naive_results = evaluate_preds(y_true=y_test[1:],\n",
        "                               y_pred=naive_forecast)\n",
        "naive_results"
      ],
      "execution_count": 23,
      "outputs": [
        {
          "output_type": "execute_result",
          "data": {
            "text/plain": [
              "{'mae': 567.9802,\n",
              " 'mape': 2.516525,\n",
              " 'mase': 0.99957,\n",
              " 'mse': 1147547.0,\n",
              " 'rmse': 1071.2362}"
            ]
          },
          "metadata": {
            "tags": []
          },
          "execution_count": 23
        }
      ]
    },
    {
      "cell_type": "markdown",
      "metadata": {
        "id": "UrIv5uEfGDha"
      },
      "source": [
        "## Format Data Part 2: Windowing Dataset\n",
        "\n",
        "We window our time series dataset to turn our data into a supervised learning problem"
      ]
    },
    {
      "cell_type": "code",
      "metadata": {
        "id": "9GFMRU6oNi7M"
      },
      "source": [
        "# Global variables\n",
        "HORIZON = 1\n",
        "WINDOW_SIZE = 7"
      ],
      "execution_count": 24,
      "outputs": []
    },
    {
      "cell_type": "code",
      "metadata": {
        "id": "sIMptX8YOPhl"
      },
      "source": [
        "# Create function to label windowed data\n",
        "\n",
        "def get_labeled_window(x, horizon=HORIZON):\n",
        "  \"\"\"\n",
        "  Creates labels for windowed dataset\n",
        "  \"\"\"\n",
        "  return x[:, :-horizon], x[:,-horizon:]\n"
      ],
      "execution_count": 25,
      "outputs": []
    },
    {
      "cell_type": "code",
      "metadata": {
        "colab": {
          "base_uri": "https://localhost:8080/"
        },
        "id": "0vz4lFEyPPno",
        "outputId": "24fe8ea4-3bc9-4788-d3ed-0e24d44f2725"
      },
      "source": [
        "# Test out function\n",
        "test_window, test_label = get_labeled_window(tf.expand_dims(tf.range(8), axis=0))\n",
        "print(f\"Window: {tf.squeeze(test_window).numpy()} ->, Label: {tf.squeeze(test_label).numpy()}\")"
      ],
      "execution_count": 26,
      "outputs": [
        {
          "output_type": "stream",
          "text": [
            "Window: [0 1 2 3 4 5 6] ->, Label: 7\n"
          ],
          "name": "stdout"
        }
      ]
    },
    {
      "cell_type": "code",
      "metadata": {
        "id": "zL-usQCkPcIz"
      },
      "source": [
        "# Create function to view numpy arrays as windows\n",
        "\n",
        "def make_windows(x, window_size=WINDOW_SIZE, horizon=HORIZON):\n",
        "  \"\"\"\n",
        "  Turns a 1D Array into a 2D of sequentially labeled windows of window_size and horizon size labels\n",
        "  \"\"\"\n",
        "  # Create window of specific size (horizon on the end)\n",
        "  window_step = np.expand_dims(np.arange(window_size+horizon), axis=0)\n",
        "\n",
        "  # Numpy indexing - 2D Array of multiple window steps minus 1 (zero indexing)\n",
        "  window_indexes = window_step + np.expand_dims(np.arange(len(x)-(window_size+horizon-1)), axis=0).T\n",
        "  # print(f\"Window indexes:\\n {window_indexes, window_indexes.shape}\")\n",
        "\n",
        "  # Index on the target array with 2D array\n",
        "  windowed_array = x[window_indexes]\n",
        "\n",
        "  # Get the labelled windows\n",
        "  windows, labels = get_labeled_window(windowed_array, horizon=horizon)\n",
        "  return windows, labels\n",
        "  "
      ],
      "execution_count": 27,
      "outputs": []
    },
    {
      "cell_type": "code",
      "metadata": {
        "colab": {
          "base_uri": "https://localhost:8080/"
        },
        "id": "-0kvKiu0TQZ5",
        "outputId": "5862d5b5-93ec-4169-eb5e-14d6ca72036e"
      },
      "source": [
        "full_windows, full_labels = make_windows(prices, window_size=WINDOW_SIZE, horizon=HORIZON)\n",
        "len(full_windows), len(full_labels)"
      ],
      "execution_count": 28,
      "outputs": [
        {
          "output_type": "execute_result",
          "data": {
            "text/plain": [
              "(2780, 2780)"
            ]
          },
          "metadata": {
            "tags": []
          },
          "execution_count": 28
        }
      ]
    },
    {
      "cell_type": "code",
      "metadata": {
        "colab": {
          "base_uri": "https://localhost:8080/"
        },
        "id": "LEYxZ8bSUsM5",
        "outputId": "1ac8b75d-6c34-4839-c8b8-fe939e849a90"
      },
      "source": [
        "# View first 3 windows/labels\n",
        "\n",
        "for i in range(3):\n",
        "  print(f\"Window: {full_windows[i]} -> Horizon: {full_labels[i]}\")"
      ],
      "execution_count": 29,
      "outputs": [
        {
          "output_type": "stream",
          "text": [
            "Window: [123.65499 125.455   108.58483 118.67466 121.33866 120.65533 121.795  ] -> Horizon: [123.033]\n",
            "Window: [125.455   108.58483 118.67466 121.33866 120.65533 121.795   123.033  ] -> Horizon: [124.049]\n",
            "Window: [108.58483 118.67466 121.33866 120.65533 121.795   123.033   124.049  ] -> Horizon: [125.96116]\n"
          ],
          "name": "stdout"
        }
      ]
    },
    {
      "cell_type": "code",
      "metadata": {
        "colab": {
          "base_uri": "https://localhost:8080/"
        },
        "id": "2w5bE2cKWfnH",
        "outputId": "51a6550d-91a6-4cae-bbef-1a68de6ddde9"
      },
      "source": [
        "# View last 3 \n",
        "for i in range(3):\n",
        "  print(f\"Window: {full_windows[i-3]} -> Horizon: {full_labels[i-3]}\")"
      ],
      "execution_count": 30,
      "outputs": [
        {
          "output_type": "stream",
          "text": [
            "Window: [58788.20967893 58102.19142623 55715.54665129 56573.5554719\n",
            " 52147.82118698 49764.1320816  50032.69313676] -> Horizon: [47885.62525472]\n",
            "Window: [58102.19142623 55715.54665129 56573.5554719  52147.82118698\n",
            " 49764.1320816  50032.69313676 47885.62525472] -> Horizon: [45604.61575361]\n",
            "Window: [55715.54665129 56573.5554719  52147.82118698 49764.1320816\n",
            " 50032.69313676 47885.62525472 45604.61575361] -> Horizon: [43144.47129086]\n"
          ],
          "name": "stdout"
        }
      ]
    },
    {
      "cell_type": "markdown",
      "metadata": {
        "id": "CoO-r8wnW1Qu"
      },
      "source": [
        "## Turning windows into train and test sets"
      ]
    },
    {
      "cell_type": "code",
      "metadata": {
        "id": "KzSgcHFaZaeX"
      },
      "source": [
        "# Train and test splits\n",
        "\n",
        "def make_train_test_splits(windows, labels, test_split=0.2):\n",
        "  \"\"\"\n",
        "  Splits matching pairs of windows and horizon (labels) into train and test splits\n",
        "  \"\"\"\n",
        "  split_size = int(len(windows) * (1-test_split)) # Default to 80% train. 20% Test\n",
        "  train_windows = windows[:split_size]\n",
        "  train_labels = labels[:split_size]\n",
        "  test_windows = windows[split_size:]\n",
        "  test_labels = labels[split_size:]\n",
        "  \n",
        "  return train_windows, test_windows, train_labels, test_labels"
      ],
      "execution_count": 31,
      "outputs": []
    },
    {
      "cell_type": "code",
      "metadata": {
        "colab": {
          "base_uri": "https://localhost:8080/"
        },
        "id": "ebe13XiQanCn",
        "outputId": "27c6375b-2c67-4d09-ce0a-30b24ea9d598"
      },
      "source": [
        "# Create train and test windows\n",
        "train_windows, test_windows, train_labels, test_labels = make_train_test_splits(full_windows, full_labels)\n",
        "len(train_windows), len(test_windows), len(train_labels), len(test_labels)"
      ],
      "execution_count": 32,
      "outputs": [
        {
          "output_type": "execute_result",
          "data": {
            "text/plain": [
              "(2224, 556, 2224, 556)"
            ]
          },
          "metadata": {
            "tags": []
          },
          "execution_count": 32
        }
      ]
    },
    {
      "cell_type": "code",
      "metadata": {
        "colab": {
          "base_uri": "https://localhost:8080/"
        },
        "id": "n9Euaw18a9kq",
        "outputId": "40217eb4-cd7a-40ed-f881-c93a267f0f22"
      },
      "source": [
        "len(full_windows) * 0.8"
      ],
      "execution_count": 33,
      "outputs": [
        {
          "output_type": "execute_result",
          "data": {
            "text/plain": [
              "2224.0"
            ]
          },
          "metadata": {
            "tags": []
          },
          "execution_count": 33
        }
      ]
    },
    {
      "cell_type": "code",
      "metadata": {
        "colab": {
          "base_uri": "https://localhost:8080/"
        },
        "id": "GHnWYwxqbDNo",
        "outputId": "34cce927-f749-4384-d9f2-ed20bcd433e6"
      },
      "source": [
        "# Check if train labels are same\n",
        "np.array_equal(np.squeeze(train_labels[:-HORIZON-1]), y_train[WINDOW_SIZE:])"
      ],
      "execution_count": 34,
      "outputs": [
        {
          "output_type": "execute_result",
          "data": {
            "text/plain": [
              "True"
            ]
          },
          "metadata": {
            "tags": []
          },
          "execution_count": 34
        }
      ]
    },
    {
      "cell_type": "markdown",
      "metadata": {
        "id": "cZn4EPdrbWZv"
      },
      "source": [
        "## Creating a modelling checkpoint"
      ]
    },
    {
      "cell_type": "code",
      "metadata": {
        "id": "pX6InSAFcU2U"
      },
      "source": [
        "import os\n",
        "\n",
        "# Create function to implement ModelCheckpoint callback for specific filenames\n",
        "\n",
        "def create_model_checkpoint(model_name, save_path=\"model_experiments\"):\n",
        "  return tf.keras.callbacks.ModelCheckpoint(filepath=os.path.join(save_path, model_name), # Monitors val_loss\n",
        "                                            verbose=0,\n",
        "                                            save_best_only=True)\n"
      ],
      "execution_count": 36,
      "outputs": []
    },
    {
      "cell_type": "markdown",
      "metadata": {
        "id": "ILWLkUgnlq54"
      },
      "source": [
        "## Model 1: Dense Model (window=7, horizon=1)\n",
        "\n",
        "First simple dense model:\n",
        "\n",
        "* Single Dense layer (128 hidden units)\n",
        "* Output layer with linear activation aka no activation\n",
        "* Adam optimization and MAE loss function\n",
        "* Batch size of 128\n",
        "* 100 Epochs - Dataset is smaller than normal, won't affect the learning time as much if the dataset was bigger\n",
        "\n"
      ]
    },
    {
      "cell_type": "code",
      "metadata": {
        "colab": {
          "base_uri": "https://localhost:8080/"
        },
        "id": "N1cHZlDQl8Ll",
        "outputId": "7d49fd1a-d055-454a-e945-73599dc561a3"
      },
      "source": [
        "import tensorflow as tf\n",
        "from tensorflow.keras import layers\n",
        "\n",
        "# Random seed\n",
        "tf.random.set_seed(42)\n",
        "\n",
        "# Construct model\n",
        "\n",
        "model_1 = tf.keras.Sequential([\n",
        "    layers.Dense(128, activation=\"relu\"),\n",
        "    layers.Dense(HORIZON, activation=\"linear\")\n",
        "], name=\"model_1_dense\")\n",
        "\n",
        "# Compile\n",
        "model_1.compile(loss=\"mae\",\n",
        "                optimizer=tf.keras.optimizers.Adam(),\n",
        "                metrics=[\"mae\", \"mse\"])\n",
        "\n",
        "# Fit the model\n",
        "\n",
        "model_1.fit(x=train_windows,\n",
        "            y=train_labels,\n",
        "            epochs=100,\n",
        "            verbose=1,\n",
        "            batch_size=128,\n",
        "            validation_data=(test_windows, test_labels),\n",
        "            callbacks=[create_model_checkpoint(model_name=model_1.name)])\n",
        "\n"
      ],
      "execution_count": 41,
      "outputs": [
        {
          "output_type": "stream",
          "text": [
            "Epoch 1/100\n",
            "18/18 [==============================] - 1s 14ms/step - loss: 780.3469 - mae: 780.3469 - mse: 2312739.0000 - val_loss: 2279.5828 - val_mae: 2279.5828 - val_mse: 12772095.0000\n",
            "INFO:tensorflow:Assets written to: model_experiments/model_1_dense/assets\n",
            "Epoch 2/100\n",
            "18/18 [==============================] - 0s 3ms/step - loss: 247.6765 - mae: 247.6765 - mse: 285480.9375 - val_loss: 1005.9864 - val_mae: 1005.9864 - val_mse: 3441759.2500\n",
            "INFO:tensorflow:Assets written to: model_experiments/model_1_dense/assets\n",
            "Epoch 3/100\n",
            "18/18 [==============================] - 0s 4ms/step - loss: 188.4107 - mae: 188.4107 - mse: 171890.0312 - val_loss: 923.2859 - val_mae: 923.2859 - val_mse: 2868195.0000\n",
            "INFO:tensorflow:Assets written to: model_experiments/model_1_dense/assets\n",
            "Epoch 4/100\n",
            "18/18 [==============================] - 0s 3ms/step - loss: 169.4334 - mae: 169.4334 - mse: 151699.4375 - val_loss: 900.5932 - val_mae: 900.5932 - val_mse: 2683713.7500\n",
            "INFO:tensorflow:Assets written to: model_experiments/model_1_dense/assets\n",
            "Epoch 5/100\n",
            "18/18 [==============================] - 0s 3ms/step - loss: 165.0899 - mae: 165.0899 - mse: 145490.8594 - val_loss: 895.2405 - val_mae: 895.2405 - val_mse: 2564606.2500\n",
            "INFO:tensorflow:Assets written to: model_experiments/model_1_dense/assets\n",
            "Epoch 6/100\n",
            "18/18 [==============================] - 0s 3ms/step - loss: 158.5206 - mae: 158.5206 - mse: 133816.7969 - val_loss: 855.1868 - val_mae: 855.1868 - val_mse: 2481815.5000\n",
            "INFO:tensorflow:Assets written to: model_experiments/model_1_dense/assets\n",
            "Epoch 7/100\n",
            "18/18 [==============================] - 0s 3ms/step - loss: 151.3568 - mae: 151.3568 - mse: 123446.8047 - val_loss: 840.9290 - val_mae: 840.9290 - val_mse: 2276476.2500\n",
            "INFO:tensorflow:Assets written to: model_experiments/model_1_dense/assets\n",
            "Epoch 8/100\n",
            "18/18 [==============================] - 0s 4ms/step - loss: 145.2560 - mae: 145.2560 - mse: 117694.1797 - val_loss: 803.6005 - val_mae: 803.6005 - val_mse: 2140566.2500\n",
            "INFO:tensorflow:Assets written to: model_experiments/model_1_dense/assets\n",
            "Epoch 9/100\n",
            "18/18 [==============================] - 0s 3ms/step - loss: 144.3546 - mae: 144.3546 - mse: 115269.0859 - val_loss: 799.5592 - val_mae: 799.5592 - val_mse: 2049233.7500\n",
            "INFO:tensorflow:Assets written to: model_experiments/model_1_dense/assets\n",
            "Epoch 10/100\n",
            "18/18 [==============================] - 0s 3ms/step - loss: 141.2944 - mae: 141.2944 - mse: 112394.1953 - val_loss: 763.5060 - val_mae: 763.5060 - val_mse: 1933137.0000\n",
            "INFO:tensorflow:Assets written to: model_experiments/model_1_dense/assets\n",
            "Epoch 11/100\n",
            "18/18 [==============================] - 0s 3ms/step - loss: 135.6591 - mae: 135.6591 - mse: 104117.6016 - val_loss: 771.3525 - val_mae: 771.3525 - val_mse: 1885888.2500\n",
            "Epoch 12/100\n",
            "18/18 [==============================] - 0s 3ms/step - loss: 134.1702 - mae: 134.1702 - mse: 101780.5156 - val_loss: 782.8326 - val_mae: 782.8325 - val_mse: 1881791.6250\n",
            "Epoch 13/100\n",
            "18/18 [==============================] - 0s 3ms/step - loss: 134.6014 - mae: 134.6014 - mse: 102344.3516 - val_loss: 784.4728 - val_mae: 784.4728 - val_mse: 1861070.5000\n",
            "Epoch 14/100\n",
            "18/18 [==============================] - 0s 3ms/step - loss: 130.6125 - mae: 130.6125 - mse: 96224.3594 - val_loss: 751.3470 - val_mae: 751.3470 - val_mse: 1749667.6250\n",
            "INFO:tensorflow:Assets written to: model_experiments/model_1_dense/assets\n",
            "Epoch 15/100\n",
            "18/18 [==============================] - 0s 2ms/step - loss: 128.8352 - mae: 128.8352 - mse: 94306.8672 - val_loss: 696.5837 - val_mae: 696.5837 - val_mse: 1606358.6250\n",
            "INFO:tensorflow:Assets written to: model_experiments/model_1_dense/assets\n",
            "Epoch 16/100\n",
            "18/18 [==============================] - 0s 3ms/step - loss: 124.8667 - mae: 124.8667 - mse: 90498.6250 - val_loss: 707.2988 - val_mae: 707.2988 - val_mse: 1602364.3750\n",
            "Epoch 17/100\n",
            "18/18 [==============================] - 0s 2ms/step - loss: 123.6096 - mae: 123.6096 - mse: 89226.7422 - val_loss: 714.2291 - val_mae: 714.2291 - val_mse: 1601816.6250\n",
            "Epoch 18/100\n",
            "18/18 [==============================] - 0s 4ms/step - loss: 122.3023 - mae: 122.3023 - mse: 87726.4766 - val_loss: 669.1414 - val_mae: 669.1414 - val_mse: 1498631.3750\n",
            "INFO:tensorflow:Assets written to: model_experiments/model_1_dense/assets\n",
            "Epoch 19/100\n",
            "18/18 [==============================] - 0s 3ms/step - loss: 121.4932 - mae: 121.4932 - mse: 86447.8828 - val_loss: 721.5452 - val_mae: 721.5452 - val_mse: 1595832.0000\n",
            "Epoch 20/100\n",
            "18/18 [==============================] - 0s 3ms/step - loss: 119.2384 - mae: 119.2384 - mse: 84250.7500 - val_loss: 658.0786 - val_mae: 658.0786 - val_mse: 1448095.1250\n",
            "INFO:tensorflow:Assets written to: model_experiments/model_1_dense/assets\n",
            "Epoch 21/100\n",
            "18/18 [==============================] - 0s 2ms/step - loss: 121.5293 - mae: 121.5293 - mse: 85926.5547 - val_loss: 638.3386 - val_mae: 638.3386 - val_mse: 1397797.1250\n",
            "INFO:tensorflow:Assets written to: model_experiments/model_1_dense/assets\n",
            "Epoch 22/100\n",
            "18/18 [==============================] - 0s 3ms/step - loss: 119.3422 - mae: 119.3422 - mse: 83495.1953 - val_loss: 678.8881 - val_mae: 678.8881 - val_mse: 1465750.7500\n",
            "Epoch 23/100\n",
            "18/18 [==============================] - 0s 3ms/step - loss: 122.8203 - mae: 122.8203 - mse: 84656.3828 - val_loss: 651.8512 - val_mae: 651.8512 - val_mse: 1401081.1250\n",
            "Epoch 24/100\n",
            "18/18 [==============================] - 0s 3ms/step - loss: 117.0774 - mae: 117.0774 - mse: 81069.2031 - val_loss: 623.5611 - val_mae: 623.5611 - val_mse: 1362704.7500\n",
            "INFO:tensorflow:Assets written to: model_experiments/model_1_dense/assets\n",
            "Epoch 25/100\n",
            "18/18 [==============================] - 0s 3ms/step - loss: 115.1816 - mae: 115.1816 - mse: 79065.0469 - val_loss: 618.5576 - val_mae: 618.5576 - val_mse: 1342634.1250\n",
            "INFO:tensorflow:Assets written to: model_experiments/model_1_dense/assets\n",
            "Epoch 26/100\n",
            "18/18 [==============================] - 0s 4ms/step - loss: 115.0673 - mae: 115.0673 - mse: 78886.6484 - val_loss: 616.4918 - val_mae: 616.4918 - val_mse: 1321327.3750\n",
            "INFO:tensorflow:Assets written to: model_experiments/model_1_dense/assets\n",
            "Epoch 27/100\n",
            "18/18 [==============================] - 0s 2ms/step - loss: 116.6431 - mae: 116.6431 - mse: 79058.1172 - val_loss: 619.0472 - val_mae: 619.0472 - val_mse: 1316206.5000\n",
            "Epoch 28/100\n",
            "18/18 [==============================] - 0s 3ms/step - loss: 114.0328 - mae: 114.0328 - mse: 77953.4609 - val_loss: 610.3879 - val_mae: 610.3879 - val_mse: 1316937.5000\n",
            "INFO:tensorflow:Assets written to: model_experiments/model_1_dense/assets\n",
            "Epoch 29/100\n",
            "18/18 [==============================] - 0s 3ms/step - loss: 113.4892 - mae: 113.4892 - mse: 78513.0859 - val_loss: 617.2401 - val_mae: 617.2401 - val_mse: 1304227.6250\n",
            "Epoch 30/100\n",
            "18/18 [==============================] - 0s 3ms/step - loss: 116.4094 - mae: 116.4094 - mse: 78943.1562 - val_loss: 603.6490 - val_mae: 603.6490 - val_mse: 1283177.8750\n",
            "INFO:tensorflow:Assets written to: model_experiments/model_1_dense/assets\n",
            "Epoch 31/100\n",
            "18/18 [==============================] - 0s 4ms/step - loss: 112.3454 - mae: 112.3454 - mse: 74879.3203 - val_loss: 623.4434 - val_mae: 623.4434 - val_mse: 1311036.7500\n",
            "Epoch 32/100\n",
            "18/18 [==============================] - 0s 3ms/step - loss: 113.2056 - mae: 113.2056 - mse: 77898.5000 - val_loss: 600.0261 - val_mae: 600.0261 - val_mse: 1271945.6250\n",
            "INFO:tensorflow:Assets written to: model_experiments/model_1_dense/assets\n",
            "Epoch 33/100\n",
            "18/18 [==============================] - 0s 3ms/step - loss: 112.9528 - mae: 112.9528 - mse: 76235.3906 - val_loss: 653.0604 - val_mae: 653.0604 - val_mse: 1369885.5000\n",
            "Epoch 34/100\n",
            "18/18 [==============================] - 0s 3ms/step - loss: 112.1157 - mae: 112.1157 - mse: 77267.7500 - val_loss: 594.7913 - val_mae: 594.7913 - val_mse: 1263628.2500\n",
            "INFO:tensorflow:Assets written to: model_experiments/model_1_dense/assets\n",
            "Epoch 35/100\n",
            "18/18 [==============================] - 0s 4ms/step - loss: 110.7447 - mae: 110.7447 - mse: 75067.1562 - val_loss: 592.7401 - val_mae: 592.7401 - val_mse: 1250752.6250\n",
            "INFO:tensorflow:Assets written to: model_experiments/model_1_dense/assets\n",
            "Epoch 36/100\n",
            "18/18 [==============================] - 0s 4ms/step - loss: 116.3301 - mae: 116.3301 - mse: 77425.8047 - val_loss: 592.4697 - val_mae: 592.4697 - val_mse: 1246067.6250\n",
            "INFO:tensorflow:Assets written to: model_experiments/model_1_dense/assets\n",
            "Epoch 37/100\n",
            "18/18 [==============================] - 0s 3ms/step - loss: 110.7676 - mae: 110.7676 - mse: 75596.7188 - val_loss: 618.5350 - val_mae: 618.5350 - val_mse: 1286741.7500\n",
            "Epoch 38/100\n",
            "18/18 [==============================] - 0s 3ms/step - loss: 112.5935 - mae: 112.5935 - mse: 75636.7109 - val_loss: 613.9557 - val_mae: 613.9557 - val_mse: 1306248.2500\n",
            "Epoch 39/100\n",
            "18/18 [==============================] - 0s 4ms/step - loss: 110.1321 - mae: 110.1321 - mse: 74271.7969 - val_loss: 586.6888 - val_mae: 586.6888 - val_mse: 1231217.3750\n",
            "INFO:tensorflow:Assets written to: model_experiments/model_1_dense/assets\n",
            "Epoch 40/100\n",
            "18/18 [==============================] - 0s 3ms/step - loss: 109.4753 - mae: 109.4753 - mse: 73257.0078 - val_loss: 593.9153 - val_mae: 593.9153 - val_mse: 1256532.0000\n",
            "Epoch 41/100\n",
            "18/18 [==============================] - 0s 3ms/step - loss: 110.1777 - mae: 110.1777 - mse: 73581.0234 - val_loss: 586.4465 - val_mae: 586.4465 - val_mse: 1229670.8750\n",
            "INFO:tensorflow:Assets written to: model_experiments/model_1_dense/assets\n",
            "Epoch 42/100\n",
            "18/18 [==============================] - 0s 3ms/step - loss: 111.5192 - mae: 111.5192 - mse: 76049.7500 - val_loss: 649.3650 - val_mae: 649.3650 - val_mse: 1345896.2500\n",
            "Epoch 43/100\n",
            "18/18 [==============================] - 0s 3ms/step - loss: 115.8939 - mae: 115.8939 - mse: 74405.6172 - val_loss: 686.8293 - val_mae: 686.8293 - val_mse: 1486392.8750\n",
            "Epoch 44/100\n",
            "18/18 [==============================] - 0s 3ms/step - loss: 123.0945 - mae: 123.0945 - mse: 83366.2891 - val_loss: 661.1304 - val_mae: 661.1304 - val_mse: 1411199.7500\n",
            "Epoch 45/100\n",
            "18/18 [==============================] - 0s 3ms/step - loss: 113.8169 - mae: 113.8169 - mse: 77100.1719 - val_loss: 626.8177 - val_mae: 626.8177 - val_mse: 1293826.5000\n",
            "Epoch 46/100\n",
            "18/18 [==============================] - 0s 3ms/step - loss: 114.0971 - mae: 114.0971 - mse: 76079.4453 - val_loss: 588.7769 - val_mae: 588.7769 - val_mse: 1238327.0000\n",
            "Epoch 47/100\n",
            "18/18 [==============================] - 0s 3ms/step - loss: 108.9936 - mae: 108.9936 - mse: 73660.3125 - val_loss: 636.0583 - val_mae: 636.0583 - val_mse: 1312960.0000\n",
            "Epoch 48/100\n",
            "18/18 [==============================] - 0s 3ms/step - loss: 109.2967 - mae: 109.2967 - mse: 73079.0781 - val_loss: 604.1586 - val_mae: 604.1586 - val_mse: 1245050.2500\n",
            "Epoch 49/100\n",
            "18/18 [==============================] - 0s 3ms/step - loss: 111.7787 - mae: 111.7787 - mse: 73888.9062 - val_loss: 591.5096 - val_mae: 591.5096 - val_mse: 1222480.7500\n",
            "Epoch 50/100\n",
            "18/18 [==============================] - 0s 3ms/step - loss: 111.7319 - mae: 111.7319 - mse: 73875.1641 - val_loss: 636.4677 - val_mae: 636.4677 - val_mse: 1341626.7500\n",
            "Epoch 51/100\n",
            "18/18 [==============================] - 0s 3ms/step - loss: 110.7498 - mae: 110.7498 - mse: 73830.9141 - val_loss: 589.2878 - val_mae: 589.2878 - val_mse: 1216414.1250\n",
            "Epoch 52/100\n",
            "18/18 [==============================] - 0s 3ms/step - loss: 111.5193 - mae: 111.5193 - mse: 75446.6797 - val_loss: 609.5289 - val_mae: 609.5289 - val_mse: 1277468.7500\n",
            "Epoch 53/100\n",
            "18/18 [==============================] - 0s 4ms/step - loss: 113.9868 - mae: 113.9868 - mse: 75752.9766 - val_loss: 584.7471 - val_mae: 584.7471 - val_mse: 1209497.2500\n",
            "INFO:tensorflow:Assets written to: model_experiments/model_1_dense/assets\n",
            "Epoch 54/100\n",
            "18/18 [==============================] - 0s 3ms/step - loss: 110.1075 - mae: 110.1075 - mse: 72728.5625 - val_loss: 578.7416 - val_mae: 578.7416 - val_mse: 1200865.6250\n",
            "INFO:tensorflow:Assets written to: model_experiments/model_1_dense/assets\n",
            "Epoch 55/100\n",
            "18/18 [==============================] - 0s 4ms/step - loss: 110.6423 - mae: 110.6423 - mse: 75084.4141 - val_loss: 581.5333 - val_mae: 581.5333 - val_mse: 1218268.7500\n",
            "Epoch 56/100\n",
            "18/18 [==============================] - 0s 3ms/step - loss: 107.6537 - mae: 107.6537 - mse: 71568.1328 - val_loss: 759.0189 - val_mae: 759.0189 - val_mse: 1698484.5000\n",
            "Epoch 57/100\n",
            "18/18 [==============================] - 0s 3ms/step - loss: 119.2012 - mae: 119.2012 - mse: 79652.9531 - val_loss: 603.5953 - val_mae: 603.5953 - val_mse: 1262626.6250\n",
            "Epoch 58/100\n",
            "18/18 [==============================] - 0s 3ms/step - loss: 116.4417 - mae: 116.4417 - mse: 75122.8828 - val_loss: 583.7296 - val_mae: 583.7296 - val_mse: 1206719.0000\n",
            "Epoch 59/100\n",
            "18/18 [==============================] - 0s 4ms/step - loss: 109.9014 - mae: 109.9014 - mse: 72680.9766 - val_loss: 592.8416 - val_mae: 592.8416 - val_mse: 1240090.3750\n",
            "Epoch 60/100\n",
            "18/18 [==============================] - 0s 3ms/step - loss: 107.7859 - mae: 107.7859 - mse: 72220.4922 - val_loss: 593.4969 - val_mae: 593.4969 - val_mse: 1220786.7500\n",
            "Epoch 61/100\n",
            "18/18 [==============================] - 0s 3ms/step - loss: 107.6960 - mae: 107.6960 - mse: 72155.8516 - val_loss: 575.5123 - val_mae: 575.5123 - val_mse: 1194018.5000\n",
            "INFO:tensorflow:Assets written to: model_experiments/model_1_dense/assets\n",
            "Epoch 62/100\n",
            "18/18 [==============================] - 0s 3ms/step - loss: 107.1257 - mae: 107.1257 - mse: 70836.3516 - val_loss: 580.2645 - val_mae: 580.2645 - val_mse: 1213138.3750\n",
            "Epoch 63/100\n",
            "18/18 [==============================] - 0s 3ms/step - loss: 111.8451 - mae: 111.8451 - mse: 73612.9375 - val_loss: 654.6143 - val_mae: 654.6143 - val_mse: 1348994.2500\n",
            "Epoch 64/100\n",
            "18/18 [==============================] - 0s 3ms/step - loss: 110.3121 - mae: 110.3121 - mse: 72546.6641 - val_loss: 610.7810 - val_mae: 610.7810 - val_mse: 1251885.3750\n",
            "Epoch 65/100\n",
            "18/18 [==============================] - 0s 3ms/step - loss: 109.7098 - mae: 109.7098 - mse: 72575.1016 - val_loss: 573.9960 - val_mae: 573.9960 - val_mse: 1190387.3750\n",
            "INFO:tensorflow:Assets written to: model_experiments/model_1_dense/assets\n",
            "Epoch 66/100\n",
            "18/18 [==============================] - 0s 4ms/step - loss: 106.8139 - mae: 106.8139 - mse: 70554.2734 - val_loss: 572.9989 - val_mae: 572.9989 - val_mse: 1187547.5000\n",
            "INFO:tensorflow:Assets written to: model_experiments/model_1_dense/assets\n",
            "Epoch 67/100\n",
            "18/18 [==============================] - 0s 3ms/step - loss: 106.1394 - mae: 106.1394 - mse: 70026.4219 - val_loss: 602.1524 - val_mae: 602.1524 - val_mse: 1255793.1250\n",
            "Epoch 68/100\n",
            "18/18 [==============================] - 0s 3ms/step - loss: 112.9245 - mae: 112.9245 - mse: 70779.4219 - val_loss: 687.6375 - val_mae: 687.6375 - val_mse: 1476286.1250\n",
            "Epoch 69/100\n",
            "18/18 [==============================] - 0s 3ms/step - loss: 126.9916 - mae: 126.9916 - mse: 82712.0156 - val_loss: 664.9473 - val_mae: 664.9473 - val_mse: 1413700.8750\n",
            "Epoch 70/100\n",
            "18/18 [==============================] - 0s 4ms/step - loss: 124.8734 - mae: 124.8734 - mse: 83039.0547 - val_loss: 619.6686 - val_mae: 619.6686 - val_mse: 1298640.7500\n",
            "Epoch 71/100\n",
            "18/18 [==============================] - 0s 3ms/step - loss: 109.8522 - mae: 109.8522 - mse: 71643.5000 - val_loss: 582.3637 - val_mae: 582.3637 - val_mse: 1201057.1250\n",
            "Epoch 72/100\n",
            "18/18 [==============================] - 0s 3ms/step - loss: 107.6717 - mae: 107.6717 - mse: 71406.7734 - val_loss: 573.4947 - val_mae: 573.4947 - val_mse: 1192645.7500\n",
            "Epoch 73/100\n",
            "18/18 [==============================] - 0s 3ms/step - loss: 109.6036 - mae: 109.6036 - mse: 71761.6250 - val_loss: 583.9045 - val_mae: 583.9045 - val_mse: 1218967.3750\n",
            "Epoch 74/100\n",
            "18/18 [==============================] - 0s 5ms/step - loss: 107.7049 - mae: 107.7049 - mse: 71542.6172 - val_loss: 572.9933 - val_mae: 572.9933 - val_mse: 1189806.3750\n",
            "INFO:tensorflow:Assets written to: model_experiments/model_1_dense/assets\n",
            "Epoch 75/100\n",
            "18/18 [==============================] - 0s 3ms/step - loss: 108.1179 - mae: 108.1179 - mse: 70535.8047 - val_loss: 583.9372 - val_mae: 583.9372 - val_mse: 1199156.5000\n",
            "Epoch 76/100\n",
            "18/18 [==============================] - 0s 4ms/step - loss: 109.5447 - mae: 109.5447 - mse: 71991.1328 - val_loss: 592.8235 - val_mae: 592.8235 - val_mse: 1234671.6250\n",
            "Epoch 77/100\n",
            "18/18 [==============================] - 0s 3ms/step - loss: 108.3639 - mae: 108.3639 - mse: 70784.8203 - val_loss: 575.4260 - val_mae: 575.4260 - val_mse: 1197659.8750\n",
            "Epoch 78/100\n",
            "18/18 [==============================] - 0s 3ms/step - loss: 108.0055 - mae: 108.0055 - mse: 70093.0234 - val_loss: 574.3941 - val_mae: 574.3941 - val_mse: 1193026.1250\n",
            "Epoch 79/100\n",
            "18/18 [==============================] - 0s 4ms/step - loss: 107.3223 - mae: 107.3223 - mse: 71654.6562 - val_loss: 597.2478 - val_mae: 597.2478 - val_mse: 1242042.0000\n",
            "Epoch 80/100\n",
            "18/18 [==============================] - 0s 3ms/step - loss: 108.1452 - mae: 108.1452 - mse: 71775.7266 - val_loss: 586.6866 - val_mae: 586.6866 - val_mse: 1199789.2500\n",
            "Epoch 81/100\n",
            "18/18 [==============================] - 0s 4ms/step - loss: 106.1153 - mae: 106.1153 - mse: 69995.2422 - val_loss: 575.1765 - val_mae: 575.1765 - val_mse: 1195805.5000\n",
            "Epoch 82/100\n",
            "18/18 [==============================] - 0s 3ms/step - loss: 116.6344 - mae: 116.6344 - mse: 77928.7344 - val_loss: 575.4340 - val_mae: 575.4340 - val_mse: 1192046.3750\n",
            "Epoch 83/100\n",
            "18/18 [==============================] - 0s 3ms/step - loss: 110.8731 - mae: 110.8731 - mse: 72825.0703 - val_loss: 654.5366 - val_mae: 654.5366 - val_mse: 1375390.8750\n",
            "Epoch 84/100\n",
            "18/18 [==============================] - 0s 3ms/step - loss: 111.9106 - mae: 111.9106 - mse: 73183.8438 - val_loss: 572.3373 - val_mae: 572.3373 - val_mse: 1176463.6250\n",
            "INFO:tensorflow:Assets written to: model_experiments/model_1_dense/assets\n",
            "Epoch 85/100\n",
            "18/18 [==============================] - 0s 3ms/step - loss: 106.6154 - mae: 106.6154 - mse: 70752.4375 - val_loss: 574.2833 - val_mae: 574.2833 - val_mse: 1178176.7500\n",
            "Epoch 86/100\n",
            "18/18 [==============================] - 0s 3ms/step - loss: 108.4299 - mae: 108.4299 - mse: 70129.7266 - val_loss: 583.3530 - val_mae: 583.3530 - val_mse: 1191900.3750\n",
            "Epoch 87/100\n",
            "18/18 [==============================] - 0s 4ms/step - loss: 105.7481 - mae: 105.7481 - mse: 68589.9453 - val_loss: 593.0121 - val_mae: 593.0121 - val_mse: 1230071.7500\n",
            "Epoch 88/100\n",
            "18/18 [==============================] - 0s 4ms/step - loss: 107.2604 - mae: 107.2604 - mse: 70897.3281 - val_loss: 571.7658 - val_mae: 571.7658 - val_mse: 1182082.7500\n",
            "INFO:tensorflow:Assets written to: model_experiments/model_1_dense/assets\n",
            "Epoch 89/100\n",
            "18/18 [==============================] - 0s 3ms/step - loss: 106.7823 - mae: 106.7823 - mse: 69118.5625 - val_loss: 568.6370 - val_mae: 568.6370 - val_mse: 1174329.7500\n",
            "INFO:tensorflow:Assets written to: model_experiments/model_1_dense/assets\n",
            "Epoch 90/100\n",
            "18/18 [==============================] - 0s 3ms/step - loss: 105.8682 - mae: 105.8682 - mse: 67370.6953 - val_loss: 602.9690 - val_mae: 602.9690 - val_mse: 1230767.2500\n",
            "Epoch 91/100\n",
            "18/18 [==============================] - 0s 3ms/step - loss: 110.6365 - mae: 110.6365 - mse: 72148.0391 - val_loss: 605.6947 - val_mae: 605.6947 - val_mse: 1257883.8750\n",
            "Epoch 92/100\n",
            "18/18 [==============================] - 0s 4ms/step - loss: 109.4668 - mae: 109.4668 - mse: 72193.7734 - val_loss: 572.4370 - val_mae: 572.4370 - val_mse: 1183753.2500\n",
            "Epoch 93/100\n",
            "18/18 [==============================] - 0s 3ms/step - loss: 113.0063 - mae: 113.0063 - mse: 73147.9609 - val_loss: 617.3001 - val_mae: 617.3001 - val_mse: 1284326.5000\n",
            "Epoch 94/100\n",
            "18/18 [==============================] - 0s 3ms/step - loss: 112.4903 - mae: 112.4903 - mse: 73928.3047 - val_loss: 599.9803 - val_mae: 599.9803 - val_mse: 1225950.7500\n",
            "Epoch 95/100\n",
            "18/18 [==============================] - 0s 3ms/step - loss: 106.0053 - mae: 106.0053 - mse: 68764.8672 - val_loss: 570.6210 - val_mae: 570.6210 - val_mse: 1175398.2500\n",
            "Epoch 96/100\n",
            "18/18 [==============================] - 0s 3ms/step - loss: 109.5910 - mae: 109.5910 - mse: 70458.2500 - val_loss: 676.3395 - val_mae: 676.3395 - val_mse: 1426408.5000\n",
            "Epoch 97/100\n",
            "18/18 [==============================] - 0s 3ms/step - loss: 110.2213 - mae: 110.2213 - mse: 72762.1250 - val_loss: 574.2988 - val_mae: 574.2988 - val_mse: 1177002.1250\n",
            "Epoch 98/100\n",
            "18/18 [==============================] - 0s 3ms/step - loss: 106.7290 - mae: 106.7290 - mse: 69964.2578 - val_loss: 576.7734 - val_mae: 576.7734 - val_mse: 1192501.1250\n",
            "Epoch 99/100\n",
            "18/18 [==============================] - 0s 3ms/step - loss: 106.9889 - mae: 106.9889 - mse: 70740.1953 - val_loss: 568.5499 - val_mae: 568.5499 - val_mse: 1172587.7500\n",
            "INFO:tensorflow:Assets written to: model_experiments/model_1_dense/assets\n",
            "Epoch 100/100\n",
            "18/18 [==============================] - 0s 3ms/step - loss: 117.7622 - mae: 117.7622 - mse: 73195.7656 - val_loss: 662.5322 - val_mae: 662.5322 - val_mse: 1358191.8750\n"
          ],
          "name": "stdout"
        },
        {
          "output_type": "execute_result",
          "data": {
            "text/plain": [
              "<tensorflow.python.keras.callbacks.History at 0x7f314d9e6d50>"
            ]
          },
          "metadata": {
            "tags": []
          },
          "execution_count": 41
        }
      ]
    },
    {
      "cell_type": "code",
      "metadata": {
        "colab": {
          "base_uri": "https://localhost:8080/"
        },
        "id": "Ma3p1WKgoNyv",
        "outputId": "f71f08fe-f7b8-4dae-cd01-ff09adb01dfb"
      },
      "source": [
        "naive_results"
      ],
      "execution_count": 42,
      "outputs": [
        {
          "output_type": "execute_result",
          "data": {
            "text/plain": [
              "{'mae': 567.9802,\n",
              " 'mape': 2.516525,\n",
              " 'mase': 0.99957,\n",
              " 'mse': 1147547.0,\n",
              " 'rmse': 1071.2362}"
            ]
          },
          "metadata": {
            "tags": []
          },
          "execution_count": 42
        }
      ]
    },
    {
      "cell_type": "code",
      "metadata": {
        "colab": {
          "base_uri": "https://localhost:8080/"
        },
        "id": "4olkkpisomvL",
        "outputId": "34142031-0952-4d6b-e2f1-35f2cc7174e7"
      },
      "source": [
        "# Eval model on test data\n",
        "# Model that was just tested. Not the best performing \n",
        "model_1.evaluate(test_windows, test_labels)\n"
      ],
      "execution_count": 43,
      "outputs": [
        {
          "output_type": "stream",
          "text": [
            "18/18 [==============================] - 0s 1ms/step - loss: 662.5322 - mae: 662.5322 - mse: 1358192.1250\n"
          ],
          "name": "stdout"
        },
        {
          "output_type": "execute_result",
          "data": {
            "text/plain": [
              "[662.5322265625, 662.5322265625, 1358192.125]"
            ]
          },
          "metadata": {
            "tags": []
          },
          "execution_count": 43
        }
      ]
    },
    {
      "cell_type": "code",
      "metadata": {
        "colab": {
          "base_uri": "https://localhost:8080/"
        },
        "id": "eVO2K2WVpJsR",
        "outputId": "aa06f057-476a-4200-9851-d2287caa85d0"
      },
      "source": [
        "# Load in saved best performing model_1\n",
        "\n",
        "model_1 = tf.keras.models.load_model(\"model_experiments/model_1_dense/\")\n",
        "model_1.evaluate(test_windows, test_labels)"
      ],
      "execution_count": 44,
      "outputs": [
        {
          "output_type": "stream",
          "text": [
            "18/18 [==============================] - 0s 1ms/step - loss: 568.5499 - mae: 568.5499 - mse: 1172587.7500\n"
          ],
          "name": "stdout"
        },
        {
          "output_type": "execute_result",
          "data": {
            "text/plain": [
              "[568.5498657226562, 568.5498657226562, 1172587.75]"
            ]
          },
          "metadata": {
            "tags": []
          },
          "execution_count": 44
        }
      ]
    },
    {
      "cell_type": "code",
      "metadata": {
        "id": "0Iz9c0VDpgJg"
      },
      "source": [
        ""
      ],
      "execution_count": null,
      "outputs": []
    }
  ]
}