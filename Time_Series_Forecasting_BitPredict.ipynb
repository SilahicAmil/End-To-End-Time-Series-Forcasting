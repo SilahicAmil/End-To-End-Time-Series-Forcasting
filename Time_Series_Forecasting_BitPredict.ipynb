{
  "nbformat": 4,
  "nbformat_minor": 0,
  "metadata": {
    "colab": {
      "name": "Time-Series-Forecasting-BitPredict.ipynb",
      "provenance": [],
      "collapsed_sections": [],
      "toc_visible": true,
      "authorship_tag": "ABX9TyOVoe8IPjIY7CCCclU5QkZt",
      "include_colab_link": true
    },
    "kernelspec": {
      "name": "python3",
      "display_name": "Python 3"
    },
    "language_info": {
      "name": "python"
    },
    "accelerator": "GPU"
  },
  "cells": [
    {
      "cell_type": "markdown",
      "metadata": {
        "id": "view-in-github",
        "colab_type": "text"
      },
      "source": [
        "<a href=\"https://colab.research.google.com/github/SilahicAmil/End-To-End-Time-Series-Forcasting/blob/main/Time_Series_Forecasting_BitPredict.ipynb\" target=\"_parent\"><img src=\"https://colab.research.google.com/assets/colab-badge.svg\" alt=\"Open In Colab\"/></a>"
      ]
    },
    {
      "cell_type": "markdown",
      "metadata": {
        "id": "vOjBMGN-jyDB"
      },
      "source": [
        "## Time series forecasting fundamentals with TensorFlow\n",
        "\n",
        "Links:\n",
        "* All Resources: https://github.com/mrdbourke/tensorflow-deep-learning\n",
        " "
      ]
    },
    {
      "cell_type": "markdown",
      "metadata": {
        "id": "nnPqLK9Cj_9d"
      },
      "source": [
        "## Get Data\n",
        "\n",
        "Hisotrical price data of Bitcoin from CoinDesk"
      ]
    },
    {
      "cell_type": "code",
      "metadata": {
        "colab": {
          "base_uri": "https://localhost:8080/"
        },
        "id": "4IjiM1HakhFi",
        "outputId": "9c32dbf9-d389-4e58-e09a-ea5b4c04f3ea"
      },
      "source": [
        "!wget https://raw.githubusercontent.com/mrdbourke/tensorflow-deep-learning/main/extras/BTC_USD_2013-10-01_2021-05-18-CoinDesk.csv"
      ],
      "execution_count": 1,
      "outputs": [
        {
          "output_type": "stream",
          "text": [
            "--2021-08-03 16:56:36--  https://raw.githubusercontent.com/mrdbourke/tensorflow-deep-learning/main/extras/BTC_USD_2013-10-01_2021-05-18-CoinDesk.csv\n",
            "Resolving raw.githubusercontent.com (raw.githubusercontent.com)... 185.199.108.133, 185.199.109.133, 185.199.110.133, ...\n",
            "Connecting to raw.githubusercontent.com (raw.githubusercontent.com)|185.199.108.133|:443... connected.\n",
            "HTTP request sent, awaiting response... 200 OK\n",
            "Length: 178509 (174K) [text/plain]\n",
            "Saving to: ‘BTC_USD_2013-10-01_2021-05-18-CoinDesk.csv’\n",
            "\n",
            "BTC_USD_2013-10-01_ 100%[===================>] 174.33K  --.-KB/s    in 0.009s  \n",
            "\n",
            "2021-08-03 16:56:36 (18.8 MB/s) - ‘BTC_USD_2013-10-01_2021-05-18-CoinDesk.csv’ saved [178509/178509]\n",
            "\n"
          ],
          "name": "stdout"
        }
      ]
    },
    {
      "cell_type": "code",
      "metadata": {
        "colab": {
          "base_uri": "https://localhost:8080/"
        },
        "id": "WJOrBUv13IEr",
        "outputId": "85a884bd-4472-4419-fc15-28fba9d81ec4"
      },
      "source": [
        "# Even though the datasets are smaller. Good to even get the small benefit of a GPU\n",
        "!nvidia-smi -L\n"
      ],
      "execution_count": 2,
      "outputs": [
        {
          "output_type": "stream",
          "text": [
            "GPU 0: Tesla K80 (UUID: GPU-6cc95bad-c820-3348-a11a-e36f316e1c06)\n"
          ],
          "name": "stdout"
        }
      ]
    },
    {
      "cell_type": "markdown",
      "metadata": {
        "id": "ah7ONKkXk5aL"
      },
      "source": [
        "## Importing time series data with Pandas"
      ]
    },
    {
      "cell_type": "code",
      "metadata": {
        "colab": {
          "base_uri": "https://localhost:8080/",
          "height": 235
        },
        "id": "eX7ZRGWclMGX",
        "outputId": "b8ff6037-10e6-4f6d-bd14-43a9c6b0bfda"
      },
      "source": [
        "import pandas as pd\n",
        "df= pd.read_csv(\"/content/BTC_USD_2013-10-01_2021-05-18-CoinDesk.csv\",\n",
        "                parse_dates=[\"Date\"],\n",
        "                index_col=[\"Date\"])\n",
        "df.head()"
      ],
      "execution_count": 3,
      "outputs": [
        {
          "output_type": "execute_result",
          "data": {
            "text/html": [
              "<div>\n",
              "<style scoped>\n",
              "    .dataframe tbody tr th:only-of-type {\n",
              "        vertical-align: middle;\n",
              "    }\n",
              "\n",
              "    .dataframe tbody tr th {\n",
              "        vertical-align: top;\n",
              "    }\n",
              "\n",
              "    .dataframe thead th {\n",
              "        text-align: right;\n",
              "    }\n",
              "</style>\n",
              "<table border=\"1\" class=\"dataframe\">\n",
              "  <thead>\n",
              "    <tr style=\"text-align: right;\">\n",
              "      <th></th>\n",
              "      <th>Currency</th>\n",
              "      <th>Closing Price (USD)</th>\n",
              "      <th>24h Open (USD)</th>\n",
              "      <th>24h High (USD)</th>\n",
              "      <th>24h Low (USD)</th>\n",
              "    </tr>\n",
              "    <tr>\n",
              "      <th>Date</th>\n",
              "      <th></th>\n",
              "      <th></th>\n",
              "      <th></th>\n",
              "      <th></th>\n",
              "      <th></th>\n",
              "    </tr>\n",
              "  </thead>\n",
              "  <tbody>\n",
              "    <tr>\n",
              "      <th>2013-10-01</th>\n",
              "      <td>BTC</td>\n",
              "      <td>123.65499</td>\n",
              "      <td>124.30466</td>\n",
              "      <td>124.75166</td>\n",
              "      <td>122.56349</td>\n",
              "    </tr>\n",
              "    <tr>\n",
              "      <th>2013-10-02</th>\n",
              "      <td>BTC</td>\n",
              "      <td>125.45500</td>\n",
              "      <td>123.65499</td>\n",
              "      <td>125.75850</td>\n",
              "      <td>123.63383</td>\n",
              "    </tr>\n",
              "    <tr>\n",
              "      <th>2013-10-03</th>\n",
              "      <td>BTC</td>\n",
              "      <td>108.58483</td>\n",
              "      <td>125.45500</td>\n",
              "      <td>125.66566</td>\n",
              "      <td>83.32833</td>\n",
              "    </tr>\n",
              "    <tr>\n",
              "      <th>2013-10-04</th>\n",
              "      <td>BTC</td>\n",
              "      <td>118.67466</td>\n",
              "      <td>108.58483</td>\n",
              "      <td>118.67500</td>\n",
              "      <td>107.05816</td>\n",
              "    </tr>\n",
              "    <tr>\n",
              "      <th>2013-10-05</th>\n",
              "      <td>BTC</td>\n",
              "      <td>121.33866</td>\n",
              "      <td>118.67466</td>\n",
              "      <td>121.93633</td>\n",
              "      <td>118.00566</td>\n",
              "    </tr>\n",
              "  </tbody>\n",
              "</table>\n",
              "</div>"
            ],
            "text/plain": [
              "           Currency  Closing Price (USD)  ...  24h High (USD)  24h Low (USD)\n",
              "Date                                      ...                               \n",
              "2013-10-01      BTC            123.65499  ...       124.75166      122.56349\n",
              "2013-10-02      BTC            125.45500  ...       125.75850      123.63383\n",
              "2013-10-03      BTC            108.58483  ...       125.66566       83.32833\n",
              "2013-10-04      BTC            118.67466  ...       118.67500      107.05816\n",
              "2013-10-05      BTC            121.33866  ...       121.93633      118.00566\n",
              "\n",
              "[5 rows x 5 columns]"
            ]
          },
          "metadata": {
            "tags": []
          },
          "execution_count": 3
        }
      ]
    },
    {
      "cell_type": "code",
      "metadata": {
        "colab": {
          "base_uri": "https://localhost:8080/"
        },
        "id": "I0KWRWprl_pV",
        "outputId": "2c866cd7-48f0-4fd5-80c2-8da842c2cce0"
      },
      "source": [
        "df.info()"
      ],
      "execution_count": 4,
      "outputs": [
        {
          "output_type": "stream",
          "text": [
            "<class 'pandas.core.frame.DataFrame'>\n",
            "DatetimeIndex: 2787 entries, 2013-10-01 to 2021-05-18\n",
            "Data columns (total 5 columns):\n",
            " #   Column               Non-Null Count  Dtype  \n",
            "---  ------               --------------  -----  \n",
            " 0   Currency             2787 non-null   object \n",
            " 1   Closing Price (USD)  2787 non-null   float64\n",
            " 2   24h Open (USD)       2787 non-null   float64\n",
            " 3   24h High (USD)       2787 non-null   float64\n",
            " 4   24h Low (USD)        2787 non-null   float64\n",
            "dtypes: float64(4), object(1)\n",
            "memory usage: 130.6+ KB\n"
          ],
          "name": "stdout"
        }
      ]
    },
    {
      "cell_type": "code",
      "metadata": {
        "colab": {
          "base_uri": "https://localhost:8080/"
        },
        "id": "XkZYgYeEmFri",
        "outputId": "2b402022-185b-4147-a2a5-e5f19e92e3b3"
      },
      "source": [
        "df[\"Closing Price (USD)\"].dtype\n",
        "# df[\"Date\"].dtype()\n",
        "# df[\"Currency\"].dtype"
      ],
      "execution_count": 5,
      "outputs": [
        {
          "output_type": "execute_result",
          "data": {
            "text/plain": [
              "dtype('float64')"
            ]
          },
          "metadata": {
            "tags": []
          },
          "execution_count": 5
        }
      ]
    },
    {
      "cell_type": "code",
      "metadata": {
        "colab": {
          "base_uri": "https://localhost:8080/"
        },
        "id": "dK0b96r8mjPI",
        "outputId": "defe93a7-8e64-4972-a52e-742c0d745656"
      },
      "source": [
        "len(df)"
      ],
      "execution_count": 6,
      "outputs": [
        {
          "output_type": "execute_result",
          "data": {
            "text/plain": [
              "2787"
            ]
          },
          "metadata": {
            "tags": []
          },
          "execution_count": 6
        }
      ]
    },
    {
      "cell_type": "markdown",
      "metadata": {
        "id": "XJHdnpBYmyCd"
      },
      "source": [
        "Collecting the historical price of Bitcoin over the past ~8 years yielded 2787 samples.\n",
        "\n",
        "Typically deep learning likes and yields better results with more data.\n",
        "\n",
        ">Seasonality of a time series dataset refers to the number of samples per year. For the dataset here the seasonality value is 365. Meaning we collect one sample per day for 365 days of the year"
      ]
    },
    {
      "cell_type": "code",
      "metadata": {
        "colab": {
          "base_uri": "https://localhost:8080/",
          "height": 235
        },
        "id": "c-3clG2zmpzP",
        "outputId": "a3274760-134a-4926-df88-3deae748b889"
      },
      "source": [
        "df.head()"
      ],
      "execution_count": 7,
      "outputs": [
        {
          "output_type": "execute_result",
          "data": {
            "text/html": [
              "<div>\n",
              "<style scoped>\n",
              "    .dataframe tbody tr th:only-of-type {\n",
              "        vertical-align: middle;\n",
              "    }\n",
              "\n",
              "    .dataframe tbody tr th {\n",
              "        vertical-align: top;\n",
              "    }\n",
              "\n",
              "    .dataframe thead th {\n",
              "        text-align: right;\n",
              "    }\n",
              "</style>\n",
              "<table border=\"1\" class=\"dataframe\">\n",
              "  <thead>\n",
              "    <tr style=\"text-align: right;\">\n",
              "      <th></th>\n",
              "      <th>Currency</th>\n",
              "      <th>Closing Price (USD)</th>\n",
              "      <th>24h Open (USD)</th>\n",
              "      <th>24h High (USD)</th>\n",
              "      <th>24h Low (USD)</th>\n",
              "    </tr>\n",
              "    <tr>\n",
              "      <th>Date</th>\n",
              "      <th></th>\n",
              "      <th></th>\n",
              "      <th></th>\n",
              "      <th></th>\n",
              "      <th></th>\n",
              "    </tr>\n",
              "  </thead>\n",
              "  <tbody>\n",
              "    <tr>\n",
              "      <th>2013-10-01</th>\n",
              "      <td>BTC</td>\n",
              "      <td>123.65499</td>\n",
              "      <td>124.30466</td>\n",
              "      <td>124.75166</td>\n",
              "      <td>122.56349</td>\n",
              "    </tr>\n",
              "    <tr>\n",
              "      <th>2013-10-02</th>\n",
              "      <td>BTC</td>\n",
              "      <td>125.45500</td>\n",
              "      <td>123.65499</td>\n",
              "      <td>125.75850</td>\n",
              "      <td>123.63383</td>\n",
              "    </tr>\n",
              "    <tr>\n",
              "      <th>2013-10-03</th>\n",
              "      <td>BTC</td>\n",
              "      <td>108.58483</td>\n",
              "      <td>125.45500</td>\n",
              "      <td>125.66566</td>\n",
              "      <td>83.32833</td>\n",
              "    </tr>\n",
              "    <tr>\n",
              "      <th>2013-10-04</th>\n",
              "      <td>BTC</td>\n",
              "      <td>118.67466</td>\n",
              "      <td>108.58483</td>\n",
              "      <td>118.67500</td>\n",
              "      <td>107.05816</td>\n",
              "    </tr>\n",
              "    <tr>\n",
              "      <th>2013-10-05</th>\n",
              "      <td>BTC</td>\n",
              "      <td>121.33866</td>\n",
              "      <td>118.67466</td>\n",
              "      <td>121.93633</td>\n",
              "      <td>118.00566</td>\n",
              "    </tr>\n",
              "  </tbody>\n",
              "</table>\n",
              "</div>"
            ],
            "text/plain": [
              "           Currency  Closing Price (USD)  ...  24h High (USD)  24h Low (USD)\n",
              "Date                                      ...                               \n",
              "2013-10-01      BTC            123.65499  ...       124.75166      122.56349\n",
              "2013-10-02      BTC            125.45500  ...       125.75850      123.63383\n",
              "2013-10-03      BTC            108.58483  ...       125.66566       83.32833\n",
              "2013-10-04      BTC            118.67466  ...       118.67500      107.05816\n",
              "2013-10-05      BTC            121.33866  ...       121.93633      118.00566\n",
              "\n",
              "[5 rows x 5 columns]"
            ]
          },
          "metadata": {
            "tags": []
          },
          "execution_count": 7
        }
      ]
    },
    {
      "cell_type": "code",
      "metadata": {
        "colab": {
          "base_uri": "https://localhost:8080/",
          "height": 450
        },
        "id": "7tQ4XtY-px2w",
        "outputId": "bdca829d-468d-4faf-856f-c9c9c47c31fe"
      },
      "source": [
        "# Only having date and closing price\n",
        "bitcoin_prices = pd.DataFrame(df[\"Closing Price (USD)\"]).rename(columns={\"Closing Price (USD)\": \"Price\"})\n",
        "bitcoin_prices"
      ],
      "execution_count": 8,
      "outputs": [
        {
          "output_type": "execute_result",
          "data": {
            "text/html": [
              "<div>\n",
              "<style scoped>\n",
              "    .dataframe tbody tr th:only-of-type {\n",
              "        vertical-align: middle;\n",
              "    }\n",
              "\n",
              "    .dataframe tbody tr th {\n",
              "        vertical-align: top;\n",
              "    }\n",
              "\n",
              "    .dataframe thead th {\n",
              "        text-align: right;\n",
              "    }\n",
              "</style>\n",
              "<table border=\"1\" class=\"dataframe\">\n",
              "  <thead>\n",
              "    <tr style=\"text-align: right;\">\n",
              "      <th></th>\n",
              "      <th>Price</th>\n",
              "    </tr>\n",
              "    <tr>\n",
              "      <th>Date</th>\n",
              "      <th></th>\n",
              "    </tr>\n",
              "  </thead>\n",
              "  <tbody>\n",
              "    <tr>\n",
              "      <th>2013-10-01</th>\n",
              "      <td>123.654990</td>\n",
              "    </tr>\n",
              "    <tr>\n",
              "      <th>2013-10-02</th>\n",
              "      <td>125.455000</td>\n",
              "    </tr>\n",
              "    <tr>\n",
              "      <th>2013-10-03</th>\n",
              "      <td>108.584830</td>\n",
              "    </tr>\n",
              "    <tr>\n",
              "      <th>2013-10-04</th>\n",
              "      <td>118.674660</td>\n",
              "    </tr>\n",
              "    <tr>\n",
              "      <th>2013-10-05</th>\n",
              "      <td>121.338660</td>\n",
              "    </tr>\n",
              "    <tr>\n",
              "      <th>...</th>\n",
              "      <td>...</td>\n",
              "    </tr>\n",
              "    <tr>\n",
              "      <th>2021-05-14</th>\n",
              "      <td>49764.132082</td>\n",
              "    </tr>\n",
              "    <tr>\n",
              "      <th>2021-05-15</th>\n",
              "      <td>50032.693137</td>\n",
              "    </tr>\n",
              "    <tr>\n",
              "      <th>2021-05-16</th>\n",
              "      <td>47885.625255</td>\n",
              "    </tr>\n",
              "    <tr>\n",
              "      <th>2021-05-17</th>\n",
              "      <td>45604.615754</td>\n",
              "    </tr>\n",
              "    <tr>\n",
              "      <th>2021-05-18</th>\n",
              "      <td>43144.471291</td>\n",
              "    </tr>\n",
              "  </tbody>\n",
              "</table>\n",
              "<p>2787 rows × 1 columns</p>\n",
              "</div>"
            ],
            "text/plain": [
              "                   Price\n",
              "Date                    \n",
              "2013-10-01    123.654990\n",
              "2013-10-02    125.455000\n",
              "2013-10-03    108.584830\n",
              "2013-10-04    118.674660\n",
              "2013-10-05    121.338660\n",
              "...                  ...\n",
              "2021-05-14  49764.132082\n",
              "2021-05-15  50032.693137\n",
              "2021-05-16  47885.625255\n",
              "2021-05-17  45604.615754\n",
              "2021-05-18  43144.471291\n",
              "\n",
              "[2787 rows x 1 columns]"
            ]
          },
          "metadata": {
            "tags": []
          },
          "execution_count": 8
        }
      ]
    },
    {
      "cell_type": "code",
      "metadata": {
        "colab": {
          "base_uri": "https://localhost:8080/",
          "height": 623
        },
        "id": "ybGH2BI7qHV9",
        "outputId": "e1e4fda9-9ba4-46a4-dc83-6d9cc2d60726"
      },
      "source": [
        "import matplotlib.pyplot as plt\n",
        "bitcoin_prices.plot(figsize=(15,10))\n",
        "plt.ylabel(\"BTC Price\")\n",
        "plt.title(\"Price of Bitcoin 10/2013 to 05/2021\", fontsize=14);"
      ],
      "execution_count": 9,
      "outputs": [
        {
          "output_type": "display_data",
          "data": {
            "image/png": "[encoded data removed]",
            "text/plain": [
              "<Figure size 1080x720 with 1 Axes>"
            ]
          },
          "metadata": {
            "tags": [],
            "needs_background": "light"
          }
        }
      ]
    },
    {
      "cell_type": "markdown",
      "metadata": {
        "id": "S8kbGDXWtUTf"
      },
      "source": [
        "## Importing time series data with Pythn's CSV Module"
      ]
    },
    {
      "cell_type": "code",
      "metadata": {
        "colab": {
          "base_uri": "https://localhost:8080/"
        },
        "id": "a6rKQI8YqOk9",
        "outputId": "07637bbd-99a9-45d4-bafe-9b97339a024b"
      },
      "source": [
        "import csv\n",
        "from datetime import datetime\n",
        "\n",
        "timesteps = []\n",
        "btc_price = []\n",
        "\n",
        "with open(\"/content/BTC_USD_2013-10-01_2021-05-18-CoinDesk.csv\", \"r\") as f:\n",
        "  csv_reader = csv.reader(f, delimiter=\",\")\n",
        "  next(csv_reader) #Skips header\n",
        "  for line in csv_reader:\n",
        "    timesteps.append(datetime.strptime(line[1], \"%Y-%m-%d\")) # Gets dates as dates\n",
        "    btc_price.append(float(line[2]))\n",
        "\n",
        "# View first 10\n",
        "timesteps[:10],btc_price[:10]"
      ],
      "execution_count": 10,
      "outputs": [
        {
          "output_type": "execute_result",
          "data": {
            "text/plain": [
              "([datetime.datetime(2013, 10, 1, 0, 0),\n",
              "  datetime.datetime(2013, 10, 2, 0, 0),\n",
              "  datetime.datetime(2013, 10, 3, 0, 0),\n",
              "  datetime.datetime(2013, 10, 4, 0, 0),\n",
              "  datetime.datetime(2013, 10, 5, 0, 0),\n",
              "  datetime.datetime(2013, 10, 6, 0, 0),\n",
              "  datetime.datetime(2013, 10, 7, 0, 0),\n",
              "  datetime.datetime(2013, 10, 8, 0, 0),\n",
              "  datetime.datetime(2013, 10, 9, 0, 0),\n",
              "  datetime.datetime(2013, 10, 10, 0, 0)],\n",
              " [123.65499,\n",
              "  125.455,\n",
              "  108.58483,\n",
              "  118.67466,\n",
              "  121.33866,\n",
              "  120.65533,\n",
              "  121.795,\n",
              "  123.033,\n",
              "  124.049,\n",
              "  125.96116])"
            ]
          },
          "metadata": {
            "tags": []
          },
          "execution_count": 10
        }
      ]
    },
    {
      "cell_type": "code",
      "metadata": {
        "colab": {
          "base_uri": "https://localhost:8080/",
          "height": 623
        },
        "id": "qZZtjudhu3cd",
        "outputId": "d62205bb-d42c-4b2c-811d-63d014852241"
      },
      "source": [
        "# plot from csv\n",
        "import numpy as np\n",
        "plt.figure(figsize=(15,10))\n",
        "plt.plot(timesteps, btc_price)\n",
        "plt.ylabel(\"BTC Price\")\n",
        "plt.xlabel(\"Date\")\n",
        "plt.title(\"Price of Bitcoin 10/2013 to 05/2021\", fontsize=14);"
      ],
      "execution_count": 11,
      "outputs": [
        {
          "output_type": "display_data",
          "data": {
            "image/png": "[encoded data removed]",
            "text/plain": [
              "<Figure size 1080x720 with 1 Axes>"
            ]
          },
          "metadata": {
            "tags": [],
            "needs_background": "light"
          }
        }
      ]
    },
    {
      "cell_type": "markdown",
      "metadata": {
        "id": "_2zsLoafvYSo"
      },
      "source": [
        "## Create Train/Test Split "
      ]
    },
    {
      "cell_type": "code",
      "metadata": {
        "colab": {
          "base_uri": "https://localhost:8080/"
        },
        "id": "goqbznwzxUy4",
        "outputId": "b7cf6d3f-2946-4304-c36b-a2768e235439"
      },
      "source": [
        "\n",
        "# Get bitcoin date array\n",
        "timesteps = bitcoin_prices.index.to_numpy()\n",
        "prices = bitcoin_prices[\"Price\"].to_numpy()\n",
        "\n",
        "timesteps[:10], prices[:10]"
      ],
      "execution_count": 12,
      "outputs": [
        {
          "output_type": "execute_result",
          "data": {
            "text/plain": [
              "(array(['2013-10-01T00:00:00.000000000', '2013-10-02T00:00:00.000000000',\n",
              "        '2013-10-03T00:00:00.000000000', '2013-10-04T00:00:00.000000000',\n",
              "        '2013-10-05T00:00:00.000000000', '2013-10-06T00:00:00.000000000',\n",
              "        '2013-10-07T00:00:00.000000000', '2013-10-08T00:00:00.000000000',\n",
              "        '2013-10-09T00:00:00.000000000', '2013-10-10T00:00:00.000000000'],\n",
              "       dtype='datetime64[ns]'),\n",
              " array([123.65499, 125.455  , 108.58483, 118.67466, 121.33866, 120.65533,\n",
              "        121.795  , 123.033  , 124.049  , 125.96116]))"
            ]
          },
          "metadata": {
            "tags": []
          },
          "execution_count": 12
        }
      ]
    },
    {
      "cell_type": "code",
      "metadata": {
        "colab": {
          "base_uri": "https://localhost:8080/"
        },
        "id": "WgHHayCOw-c_",
        "outputId": "43cf3d5b-ef44-4cd8-bb69-bb28445a5eb5"
      },
      "source": [
        "from sklearn.model_selection import train_test_split\n",
        "\n",
        "X_train, X_test, y_train, y_test = train_test_split(timesteps,\n",
        "                                                    prices,\n",
        "                                                    test_size=0.2,\n",
        "                                                    random_state=42)\n",
        "X_train.shape, X_test.shape, y_train.shape, y_test.shape"
      ],
      "execution_count": 13,
      "outputs": [
        {
          "output_type": "execute_result",
          "data": {
            "text/plain": [
              "((2229,), (558,), (2229,), (558,))"
            ]
          },
          "metadata": {
            "tags": []
          },
          "execution_count": 13
        }
      ]
    },
    {
      "cell_type": "code",
      "metadata": {
        "colab": {
          "base_uri": "https://localhost:8080/"
        },
        "id": "B5xLW13cwBXM",
        "outputId": "7a65265c-4327-4f01-f949-d0937e9f823f"
      },
      "source": [
        "# Create train and test splits for time series data\n",
        "split_size = int(0.8 * len(prices)) \n",
        "\n",
        "# Train data splits\n",
        "X_train, y_train = timesteps[:split_size], prices[:split_size]\n",
        "\n",
        "# Test data splits\n",
        "X_test, y_test = timesteps[split_size:], prices[split_size:]\n",
        "\n",
        "len(X_train), len(X_test), len(y_train), len(y_test)"
      ],
      "execution_count": 14,
      "outputs": [
        {
          "output_type": "execute_result",
          "data": {
            "text/plain": [
              "(2229, 558, 2229, 558)"
            ]
          },
          "metadata": {
            "tags": []
          },
          "execution_count": 14
        }
      ]
    },
    {
      "cell_type": "code",
      "metadata": {
        "colab": {
          "base_uri": "https://localhost:8080/",
          "height": 606
        },
        "id": "f7Xx1WuYxkzn",
        "outputId": "886e8bf1-b270-4e8d-ad16-680a32e63021"
      },
      "source": [
        "# Plot the splits\n",
        "plt.figure(figsize=(15,10))\n",
        "plt.scatter(X_train, y_train, s=5, label=\"Train data\")\n",
        "plt.scatter(X_test, y_test, s=5, label=\"Test data\")\n",
        "plt.xlabel(\"Date\")\n",
        "plt.ylabel(\"BTC Price\")\n",
        "plt.legend(fontsize=12)\n",
        "plt.show();"
      ],
      "execution_count": 15,
      "outputs": [
        {
          "output_type": "display_data",
          "data": {
            "image/png": "[encoded data removed]",
            "text/plain": [
              "<Figure size 1080x720 with 1 Axes>"
            ]
          },
          "metadata": {
            "tags": [],
            "needs_background": "light"
          }
        }
      ]
    },
    {
      "cell_type": "markdown",
      "metadata": {
        "id": "G7dpr4TFxnM7"
      },
      "source": [
        "## Create a plotting function\n"
      ]
    },
    {
      "cell_type": "code",
      "metadata": {
        "id": "tgThIIVAyxfu"
      },
      "source": [
        "# Plotting function\n",
        "\n",
        "def plot_time_series(timesteps, values, format=\".\", start=0, end=None, label=None):\n",
        "  \"\"\"\n",
        "  Plots timesteps (series of points in times)\n",
        "\n",
        "  Params\n",
        "  -------\n",
        "  timesteps: array of timestep values\n",
        "  values: array of values across time\n",
        "  foramt: style of plot defaults scatter\n",
        "  start: where to start the plot\n",
        "  end: where to end the plot\n",
        "  label: label to show plot values\n",
        "  \"\"\"\n",
        "  # Plot series\n",
        "\n",
        "  plt.plot(timesteps[start:end], values[start:end], format, label=label)\n",
        "  plt.xlabel(\"Time\")\n",
        "  plt.ylabel(\"BTC Price\")\n",
        "  if label:\n",
        "    plt.legend(fontsize=14)\n",
        "  plt.grid=(True)"
      ],
      "execution_count": 16,
      "outputs": []
    },
    {
      "cell_type": "code",
      "metadata": {
        "colab": {
          "base_uri": "https://localhost:8080/",
          "height": 442
        },
        "id": "0lV14pvJy2yd",
        "outputId": "48d4b52c-6955-49f9-e8ae-b435106fb431"
      },
      "source": [
        "# Test out func\n",
        "plt.figure(figsize=(10,7))\n",
        "plot_time_series(timesteps=X_train, values=y_train, label=\"Train Data\")\n",
        "plot_time_series(timesteps=X_test, values=y_test, label=\"Test Data\")"
      ],
      "execution_count": 17,
      "outputs": [
        {
          "output_type": "display_data",
          "data": {
            "image/png": "[encoded data removed]",
            "text/plain": [
              "<Figure size 720x504 with 1 Axes>"
            ]
          },
          "metadata": {
            "tags": [],
            "needs_background": "light"
          }
        }
      ]
    },
    {
      "cell_type": "markdown",
      "metadata": {
        "id": "JJl3InsC0Lke"
      },
      "source": [
        "## Modelling Experiment\n",
        "\n",
        "We've got sme BTC historical data for modelling. Time to run a series of modelling experiments to see which performs best\n",
        "\n",
        "Common terms:\n",
        "* Horizon = number of timesteps into the future were going to predict\n",
        "* Window Size = number of timesteps we're going to use to predict horizon\n",
        "\n",
        "Modeling experiments\n",
        "\n",
        "Model Number\tModel Type\tHorizon size\tWindow size\tExtra data\n",
        "* 0\tNaïve model (baseline)\n",
        "* 1\tDense model\tHorizon=1,\tWindow Size=7\t\n",
        "* 2\tSame as Horizon=1, Window Size=30\t\n",
        "* 3\tSame as Horizon=1, Window Size=30\n",
        "* 4\tConv1D\tHorizon=1, Window Size=7\n",
        "* 5\tLSTM\tHorizon=1,\t Window Size=7\t\n",
        "* 6\tSame as 1 (but with multivariate data)\tHorizon=1,\tWindow Size=7\t- Extra Data: Block Reward Size\n",
        "* 7\tN-BEATs Algorithm\tHorizon=1,\tWindow Size=7\t\n",
        "* 8\tEnsemble (multiple models optimized on different loss functions)\tHorizon=1\tWindow Size=7\t\n",
        "* 9\tFuture prediction model (model to predict future values)\tHorizon=1,\tWindow Size=7\t\n",
        "* 10\tSame as 1 (but with turkey 🦃 data introduced) Horizon=1,\tWindow Size=7\t"
      ]
    },
    {
      "cell_type": "markdown",
      "metadata": {
        "id": "23cqZwdb1_dk"
      },
      "source": [
        "## Model 0: Baseline Forecast"
      ]
    },
    {
      "cell_type": "code",
      "metadata": {
        "colab": {
          "base_uri": "https://localhost:8080/"
        },
        "id": "Qs1F0Be3USpt",
        "outputId": "e0088784-4a2b-482d-f72c-e2f878a2d5e9"
      },
      "source": [
        "# Create a naive forecast\n",
        "naive_forecast = y_test[:-1]\n",
        "\n",
        "naive_forecast[:10],naive_forecast[-10:]"
      ],
      "execution_count": 18,
      "outputs": [
        {
          "output_type": "execute_result",
          "data": {
            "text/plain": [
              "(array([9226.48582088, 8794.35864452, 8798.04205463, 9081.18687849,\n",
              "        8711.53433917, 8760.89271814, 8749.52059102, 8656.97092235,\n",
              "        8500.64355816, 8469.2608989 ]),\n",
              " array([57107.12067189, 58788.20967893, 58102.19142623, 55715.54665129,\n",
              "        56573.5554719 , 52147.82118698, 49764.1320816 , 50032.69313676,\n",
              "        47885.62525472, 45604.61575361]))"
            ]
          },
          "metadata": {
            "tags": []
          },
          "execution_count": 18
        }
      ]
    },
    {
      "cell_type": "code",
      "metadata": {
        "colab": {
          "base_uri": "https://localhost:8080/",
          "height": 442
        },
        "id": "M6DCKJKwVCGK",
        "outputId": "b04d80dc-c9f1-4a18-ebe1-d8815929db2e"
      },
      "source": [
        "# Plot naive forecast\n",
        "plt.figure(figsize=(10,7))\n",
        "# plot_time_series(timesteps=X_train, values=y_train, label=\"Train Data\")\n",
        "plot_time_series(timesteps=X_test, values=y_test, start=360, format=\"-\", label=\"Test Data\")\n",
        "plot_time_series(timesteps=X_test[1:], values=naive_forecast, start=360, format=\"-\", label=\"Naive Forecast\")"
      ],
      "execution_count": 19,
      "outputs": [
        {
          "output_type": "display_data",
          "data": {
            "image/png": "[encoded data removed]",
            "text/plain": [
              "<Figure size 720x504 with 1 Axes>"
            ]
          },
          "metadata": {
            "tags": [],
            "needs_background": "light"
          }
        }
      ]
    },
    {
      "cell_type": "markdown",
      "metadata": {
        "id": "1R_8tjz7VuCC"
      },
      "source": [
        "## Evaluating a time series model\n",
        "\n",
        "Looking into some evaluation metrics for time series forecasting.\n",
        "\n",
        "What are we doing?\n",
        "\n",
        "We're predicting a number. So that means it is a regression problem.\n",
        "\n",
        "\n",
        "Because we're working on a regression problem, we'll  regression metrics.\n",
        "\n",
        "Regression Metrics:\n",
        "* MAE - mean absolute error\n",
        "* MSE - mean squared error\n",
        "* RMSE - root mean square error\n",
        "* MAPE/sMAPE - (symmetric) mean absolute percentage error\n",
        "* MASE - mean absolute scaled error\n",
        "\n",
        "For all of the above metrics, **lower is better**.\n",
        "\n",
        "The main evaluation we are doing is: *how does our models forecast `(y_pred)` compare against the actual values `(y_true)`\n"
      ]
    },
    {
      "cell_type": "code",
      "metadata": {
        "id": "EXE1bHrNYGJK"
      },
      "source": [
        "import tensorflow as tf"
      ],
      "execution_count": 20,
      "outputs": []
    },
    {
      "cell_type": "code",
      "metadata": {
        "id": "wmBTZBOlZr_2"
      },
      "source": [
        "def mean_absolute_scaled_error(y_true, y_pred):\n",
        "  \"\"\"\n",
        "  Implement MASE (assumes no seasonality)\n",
        "  \"\"\"\n",
        "  mae = tf.reduce_mean(tf.abs(y_true-y_pred))\n",
        "\n",
        "  # Find MAE of naive forecast \n",
        "  mae_naive_no_season = tf.reduce_mean(tf.abs(y_true[1:]-y_true[:-1])) # Seasonality is 1 day. Reason for the shift of 1\n",
        "\n",
        "  return mae / mae_naive_no_season"
      ],
      "execution_count": 21,
      "outputs": []
    },
    {
      "cell_type": "code",
      "metadata": {
        "colab": {
          "base_uri": "https://localhost:8080/"
        },
        "id": "UQLMha_XbB8Z",
        "outputId": "aec3ca3e-ef0b-4fa6-d807-bdf41557023a"
      },
      "source": [
        "mean_absolute_scaled_error(y_true=y_test[1:], y_pred=naive_forecast).numpy()"
      ],
      "execution_count": 22,
      "outputs": [
        {
          "output_type": "execute_result",
          "data": {
            "text/plain": [
              "0.9995699939182624"
            ]
          },
          "metadata": {
            "tags": []
          },
          "execution_count": 22
        }
      ]
    },
    {
      "cell_type": "code",
      "metadata": {
        "id": "6zgwVhhSbHrM"
      },
      "source": [
        "# Create a function to take in model preds and true values\n",
        "\n",
        "def evaluate_preds(y_true,y_pred):\n",
        "  # Make sure float32 for metric calculations\n",
        "  y_true = tf.cast(y_true, dtype=tf.float32)\n",
        "  y_pred = tf.cast(y_pred, dtype=tf.float32)\n",
        "\n",
        "  # Calc evals\n",
        "  mae = tf.keras.metrics.mean_absolute_error(y_true, y_pred)\n",
        "  mse = tf.keras.metrics.mean_squared_error(y_true, y_pred)\n",
        "  rmse = tf.sqrt(mse)\n",
        "  mape = tf.keras.metrics.mean_absolute_percentage_error(y_true, y_pred)\n",
        "  mase = mean_absolute_scaled_error(y_true, y_pred)\n",
        "\n",
        "  return {\"mae\": mae.numpy(),\n",
        "          \"mse\": mse.numpy(),\n",
        "          \"rmse\": rmse.numpy(),\n",
        "          \"mape\": mape.numpy(),\n",
        "          \"mase\": mase.numpy()}"
      ],
      "execution_count": 23,
      "outputs": []
    },
    {
      "cell_type": "code",
      "metadata": {
        "colab": {
          "base_uri": "https://localhost:8080/"
        },
        "id": "pf2MK9HTF5Z1",
        "outputId": "fdf15754-9465-42dd-d80f-5d7be1c5270d"
      },
      "source": [
        "naive_results = evaluate_preds(y_true=y_test[1:],\n",
        "                               y_pred=naive_forecast)\n",
        "naive_results"
      ],
      "execution_count": 24,
      "outputs": [
        {
          "output_type": "execute_result",
          "data": {
            "text/plain": [
              "{'mae': 567.9802,\n",
              " 'mape': 2.516525,\n",
              " 'mase': 0.99957,\n",
              " 'mse': 1147547.0,\n",
              " 'rmse': 1071.2362}"
            ]
          },
          "metadata": {
            "tags": []
          },
          "execution_count": 24
        }
      ]
    },
    {
      "cell_type": "markdown",
      "metadata": {
        "id": "UrIv5uEfGDha"
      },
      "source": [
        "## Format Data Part 2: Windowing Dataset\n",
        "\n",
        "We window our time series dataset to turn our data into a supervised learning problem"
      ]
    },
    {
      "cell_type": "code",
      "metadata": {
        "id": "9GFMRU6oNi7M"
      },
      "source": [
        "# Global variables\n",
        "HORIZON = 1\n",
        "WINDOW_SIZE = 7"
      ],
      "execution_count": 25,
      "outputs": []
    },
    {
      "cell_type": "code",
      "metadata": {
        "id": "sIMptX8YOPhl"
      },
      "source": [
        "# Create function to label windowed data\n",
        "\n",
        "def get_labeled_window(x, horizon=HORIZON):\n",
        "  \"\"\"\n",
        "  Creates labels for windowed dataset\n",
        "  \"\"\"\n",
        "  return x[:, :-horizon], x[:,-horizon:]\n"
      ],
      "execution_count": 26,
      "outputs": []
    },
    {
      "cell_type": "code",
      "metadata": {
        "colab": {
          "base_uri": "https://localhost:8080/"
        },
        "id": "0vz4lFEyPPno",
        "outputId": "22d4574b-a476-4b9e-8fd6-b34eda63a384"
      },
      "source": [
        "# Test out function\n",
        "test_window, test_label = get_labeled_window(tf.expand_dims(tf.range(8), axis=0))\n",
        "print(f\"Window: {tf.squeeze(test_window).numpy()} ->, Label: {tf.squeeze(test_label).numpy()}\")"
      ],
      "execution_count": 27,
      "outputs": [
        {
          "output_type": "stream",
          "text": [
            "Window: [0 1 2 3 4 5 6] ->, Label: 7\n"
          ],
          "name": "stdout"
        }
      ]
    },
    {
      "cell_type": "code",
      "metadata": {
        "id": "zL-usQCkPcIz"
      },
      "source": [
        "# Create function to view numpy arrays as windows\n",
        "\n",
        "def make_windows(x, window_size=WINDOW_SIZE, horizon=HORIZON):\n",
        "  \"\"\"\n",
        "  Turns a 1D Array into a 2D of sequentially labeled windows of window_size and horizon size labels\n",
        "  \"\"\"\n",
        "  # Create window of specific size (horizon on the end)\n",
        "  window_step = np.expand_dims(np.arange(window_size+horizon), axis=0)\n",
        "\n",
        "  # Numpy indexing - 2D Array of multiple window steps minus 1 (zero indexing)\n",
        "  window_indexes = window_step + np.expand_dims(np.arange(len(x)-(window_size+horizon-1)), axis=0).T\n",
        "  \n",
        "  # print(f\"Window indexes:\\n {window_indexes, window_indexes.shape}\")\n",
        "\n",
        "  # Index on the target array with 2D array\n",
        "  windowed_array = x[window_indexes]\n",
        "\n",
        "  # Get the labelled windows\n",
        "  windows, labels = get_labeled_window(windowed_array, horizon=horizon)\n",
        "  \n",
        "  return windows, labels\n",
        "  "
      ],
      "execution_count": 28,
      "outputs": []
    },
    {
      "cell_type": "code",
      "metadata": {
        "colab": {
          "base_uri": "https://localhost:8080/"
        },
        "id": "-0kvKiu0TQZ5",
        "outputId": "6153d144-629d-4b3b-91ad-2c7452d6bb5f"
      },
      "source": [
        "full_windows, full_labels = make_windows(prices, window_size=WINDOW_SIZE, horizon=HORIZON)\n",
        "len(full_windows), len(full_labels)"
      ],
      "execution_count": 29,
      "outputs": [
        {
          "output_type": "execute_result",
          "data": {
            "text/plain": [
              "(2780, 2780)"
            ]
          },
          "metadata": {
            "tags": []
          },
          "execution_count": 29
        }
      ]
    },
    {
      "cell_type": "code",
      "metadata": {
        "colab": {
          "base_uri": "https://localhost:8080/"
        },
        "id": "LEYxZ8bSUsM5",
        "outputId": "77f38ea7-7f00-4ff4-f3ef-b1bd3cede409"
      },
      "source": [
        "# View first 3 windows/labels\n",
        "\n",
        "for i in range(3):\n",
        "  print(f\"Window: {full_windows[i]} -> Horizon: {full_labels[i]}\")"
      ],
      "execution_count": 30,
      "outputs": [
        {
          "output_type": "stream",
          "text": [
            "Window: [123.65499 125.455   108.58483 118.67466 121.33866 120.65533 121.795  ] -> Horizon: [123.033]\n",
            "Window: [125.455   108.58483 118.67466 121.33866 120.65533 121.795   123.033  ] -> Horizon: [124.049]\n",
            "Window: [108.58483 118.67466 121.33866 120.65533 121.795   123.033   124.049  ] -> Horizon: [125.96116]\n"
          ],
          "name": "stdout"
        }
      ]
    },
    {
      "cell_type": "code",
      "metadata": {
        "colab": {
          "base_uri": "https://localhost:8080/"
        },
        "id": "2w5bE2cKWfnH",
        "outputId": "f6e57f33-2484-49b7-cfe1-c49f0ba2a054"
      },
      "source": [
        "# View last 3 \n",
        "for i in range(3):\n",
        "  print(f\"Window: {full_windows[i-3]} -> Horizon: {full_labels[i-3]}\")"
      ],
      "execution_count": 31,
      "outputs": [
        {
          "output_type": "stream",
          "text": [
            "Window: [58788.20967893 58102.19142623 55715.54665129 56573.5554719\n",
            " 52147.82118698 49764.1320816  50032.69313676] -> Horizon: [47885.62525472]\n",
            "Window: [58102.19142623 55715.54665129 56573.5554719  52147.82118698\n",
            " 49764.1320816  50032.69313676 47885.62525472] -> Horizon: [45604.61575361]\n",
            "Window: [55715.54665129 56573.5554719  52147.82118698 49764.1320816\n",
            " 50032.69313676 47885.62525472 45604.61575361] -> Horizon: [43144.47129086]\n"
          ],
          "name": "stdout"
        }
      ]
    },
    {
      "cell_type": "markdown",
      "metadata": {
        "id": "CoO-r8wnW1Qu"
      },
      "source": [
        "## Turning windows into train and test sets"
      ]
    },
    {
      "cell_type": "code",
      "metadata": {
        "id": "KzSgcHFaZaeX"
      },
      "source": [
        "# Train and test splits\n",
        "\n",
        "def make_train_test_splits(windows, labels, test_split=0.2):\n",
        "  \"\"\"\n",
        "  Splits matching pairs of windows and horizon (labels) into train and test splits\n",
        "  \"\"\"\n",
        "  split_size = int(len(windows) * (1-test_split)) # Default to 80% train. 20% Test\n",
        "  train_windows = windows[:split_size]\n",
        "  train_labels = labels[:split_size]\n",
        "  test_windows = windows[split_size:]\n",
        "  test_labels = labels[split_size:]\n",
        "  \n",
        "  return train_windows, test_windows, train_labels, test_labels"
      ],
      "execution_count": 32,
      "outputs": []
    },
    {
      "cell_type": "code",
      "metadata": {
        "colab": {
          "base_uri": "https://localhost:8080/"
        },
        "id": "ebe13XiQanCn",
        "outputId": "b649225d-5337-4d43-d968-d3fc6a8e2e58"
      },
      "source": [
        "# Create train and test windows\n",
        "train_windows, test_windows, train_labels, test_labels = make_train_test_splits(full_windows, full_labels)\n",
        "len(train_windows), len(test_windows), len(train_labels), len(test_labels)"
      ],
      "execution_count": 33,
      "outputs": [
        {
          "output_type": "execute_result",
          "data": {
            "text/plain": [
              "(2224, 556, 2224, 556)"
            ]
          },
          "metadata": {
            "tags": []
          },
          "execution_count": 33
        }
      ]
    },
    {
      "cell_type": "code",
      "metadata": {
        "colab": {
          "base_uri": "https://localhost:8080/"
        },
        "id": "Mr0tSCcrwgPi",
        "outputId": "fc5f9b47-092a-4e30-f2ce-5a0d07a84db2"
      },
      "source": [
        "train_windows[:5]"
      ],
      "execution_count": 34,
      "outputs": [
        {
          "output_type": "execute_result",
          "data": {
            "text/plain": [
              "array([[123.65499, 125.455  , 108.58483, 118.67466, 121.33866, 120.65533,\n",
              "        121.795  ],\n",
              "       [125.455  , 108.58483, 118.67466, 121.33866, 120.65533, 121.795  ,\n",
              "        123.033  ],\n",
              "       [108.58483, 118.67466, 121.33866, 120.65533, 121.795  , 123.033  ,\n",
              "        124.049  ],\n",
              "       [118.67466, 121.33866, 120.65533, 121.795  , 123.033  , 124.049  ,\n",
              "        125.96116],\n",
              "       [121.33866, 120.65533, 121.795  , 123.033  , 124.049  , 125.96116,\n",
              "        125.27966]])"
            ]
          },
          "metadata": {
            "tags": []
          },
          "execution_count": 34
        }
      ]
    },
    {
      "cell_type": "code",
      "metadata": {
        "colab": {
          "base_uri": "https://localhost:8080/"
        },
        "id": "n9Euaw18a9kq",
        "outputId": "2cdf0d8f-c60c-45ac-d44e-e3edc3694aa3"
      },
      "source": [
        "len(full_windows) * 0.8"
      ],
      "execution_count": 35,
      "outputs": [
        {
          "output_type": "execute_result",
          "data": {
            "text/plain": [
              "2224.0"
            ]
          },
          "metadata": {
            "tags": []
          },
          "execution_count": 35
        }
      ]
    },
    {
      "cell_type": "code",
      "metadata": {
        "colab": {
          "base_uri": "https://localhost:8080/"
        },
        "id": "GHnWYwxqbDNo",
        "outputId": "1b6731a0-256e-42c5-eb08-1a7a1f3b3fbe"
      },
      "source": [
        "# Check if train labels are same\n",
        "np.array_equal(np.squeeze(train_labels[:-HORIZON-1]), y_train[WINDOW_SIZE:])"
      ],
      "execution_count": 36,
      "outputs": [
        {
          "output_type": "execute_result",
          "data": {
            "text/plain": [
              "True"
            ]
          },
          "metadata": {
            "tags": []
          },
          "execution_count": 36
        }
      ]
    },
    {
      "cell_type": "markdown",
      "metadata": {
        "id": "cZn4EPdrbWZv"
      },
      "source": [
        "## Creating a modelling checkpoint"
      ]
    },
    {
      "cell_type": "code",
      "metadata": {
        "id": "pX6InSAFcU2U"
      },
      "source": [
        "import os\n",
        "\n",
        "# Create function to implement ModelCheckpoint callback for specific filenames\n",
        "\n",
        "def create_model_checkpoint(model_name, save_path=\"model_experiments\"):\n",
        "  return tf.keras.callbacks.ModelCheckpoint(filepath=os.path.join(save_path, model_name), # Monitors val_loss\n",
        "                                            verbose=0,\n",
        "                                            save_best_only=True)\n"
      ],
      "execution_count": 37,
      "outputs": []
    },
    {
      "cell_type": "markdown",
      "metadata": {
        "id": "ILWLkUgnlq54"
      },
      "source": [
        "## Model 1: Dense Model (Window=7, Horizon=1)\n",
        "\n",
        "First simple dense model:\n",
        "\n",
        "* Single Dense layer (128 hidden units)\n",
        "* Output layer with linear activation aka no activation\n",
        "* Adam optimization and MAE loss function\n",
        "* Batch size of 128\n",
        "* 100 Epochs - Dataset is smaller than normal, won't affect the learning time as much if the dataset was bigger\n",
        "\n"
      ]
    },
    {
      "cell_type": "code",
      "metadata": {
        "colab": {
          "base_uri": "https://localhost:8080/"
        },
        "id": "N1cHZlDQl8Ll",
        "outputId": "334c380c-7d41-4434-bfb8-11e8c9bfbdb7"
      },
      "source": [
        "import tensorflow as tf\n",
        "from tensorflow.keras import layers\n",
        "\n",
        "# Random seed\n",
        "tf.random.set_seed(42)\n",
        "\n",
        "# Construct model\n",
        "\n",
        "model_1 = tf.keras.Sequential([\n",
        "    layers.Dense(128, activation=\"relu\"),\n",
        "    layers.Dense(HORIZON, activation=\"linear\")\n",
        "], name=\"model_1_dense\")\n",
        "\n",
        "# Compile\n",
        "model_1.compile(loss=\"mae\",\n",
        "                optimizer=tf.keras.optimizers.Adam(),\n",
        "                metrics=[\"mae\", \"mse\"])\n",
        "\n",
        "# Fit the model\n",
        "\n",
        "model_1.fit(x=train_windows,\n",
        "            y=train_labels,\n",
        "            epochs=100,\n",
        "            verbose=1,\n",
        "            batch_size=128,\n",
        "            validation_data=(test_windows, test_labels),\n",
        "            callbacks=[create_model_checkpoint(model_name=model_1.name)])\n",
        "\n"
      ],
      "execution_count": 38,
      "outputs": [
        {
          "output_type": "stream",
          "text": [
            "Epoch 1/100\n",
            "18/18 [==============================] - 3s 16ms/step - loss: 780.3455 - mae: 780.3455 - mse: 2312725.7500 - val_loss: 2279.6526 - val_mae: 2279.6526 - val_mse: 12772728.0000\n",
            "INFO:tensorflow:Assets written to: model_experiments/model_1_dense/assets\n",
            "Epoch 2/100\n",
            "18/18 [==============================] - 0s 5ms/step - loss: 247.6756 - mae: 247.6756 - mse: 285481.1875 - val_loss: 1005.9991 - val_mae: 1005.9991 - val_mse: 3441833.5000\n",
            "INFO:tensorflow:Assets written to: model_experiments/model_1_dense/assets\n",
            "Epoch 3/100\n",
            "18/18 [==============================] - 0s 5ms/step - loss: 188.4116 - mae: 188.4116 - mse: 171891.5625 - val_loss: 923.2862 - val_mae: 923.2862 - val_mse: 2868220.5000\n",
            "INFO:tensorflow:Assets written to: model_experiments/model_1_dense/assets\n",
            "Epoch 4/100\n",
            "18/18 [==============================] - 0s 4ms/step - loss: 169.4340 - mae: 169.4340 - mse: 151700.5625 - val_loss: 900.5872 - val_mae: 900.5872 - val_mse: 2683715.2500\n",
            "INFO:tensorflow:Assets written to: model_experiments/model_1_dense/assets\n",
            "Epoch 5/100\n",
            "18/18 [==============================] - 0s 4ms/step - loss: 165.0895 - mae: 165.0895 - mse: 145490.7969 - val_loss: 895.2238 - val_mae: 895.2238 - val_mse: 2564574.0000\n",
            "INFO:tensorflow:Assets written to: model_experiments/model_1_dense/assets\n",
            "Epoch 6/100\n",
            "18/18 [==============================] - 0s 5ms/step - loss: 158.5210 - mae: 158.5210 - mse: 133817.7344 - val_loss: 855.1982 - val_mae: 855.1982 - val_mse: 2481872.7500\n",
            "INFO:tensorflow:Assets written to: model_experiments/model_1_dense/assets\n",
            "Epoch 7/100\n",
            "18/18 [==============================] - 0s 6ms/step - loss: 151.3566 - mae: 151.3566 - mse: 123446.9609 - val_loss: 840.9168 - val_mae: 840.9168 - val_mse: 2276452.2500\n",
            "INFO:tensorflow:Assets written to: model_experiments/model_1_dense/assets\n",
            "Epoch 8/100\n",
            "18/18 [==============================] - 0s 5ms/step - loss: 145.2560 - mae: 145.2560 - mse: 117694.4922 - val_loss: 803.5956 - val_mae: 803.5956 - val_mse: 2140573.5000\n",
            "INFO:tensorflow:Assets written to: model_experiments/model_1_dense/assets\n",
            "Epoch 9/100\n",
            "18/18 [==============================] - 0s 5ms/step - loss: 144.3546 - mae: 144.3546 - mse: 115269.3047 - val_loss: 799.5455 - val_mae: 799.5455 - val_mse: 2049207.7500\n",
            "INFO:tensorflow:Assets written to: model_experiments/model_1_dense/assets\n",
            "Epoch 10/100\n",
            "18/18 [==============================] - 0s 5ms/step - loss: 141.2943 - mae: 141.2943 - mse: 112394.6016 - val_loss: 763.5010 - val_mae: 763.5010 - val_mse: 1933140.7500\n",
            "INFO:tensorflow:Assets written to: model_experiments/model_1_dense/assets\n",
            "Epoch 11/100\n",
            "18/18 [==============================] - 0s 4ms/step - loss: 135.6595 - mae: 135.6595 - mse: 104118.2656 - val_loss: 771.3357 - val_mae: 771.3357 - val_mse: 1885850.0000\n",
            "Epoch 12/100\n",
            "18/18 [==============================] - 0s 4ms/step - loss: 134.1700 - mae: 134.1700 - mse: 101780.8750 - val_loss: 782.8079 - val_mae: 782.8079 - val_mse: 1881727.7500\n",
            "Epoch 13/100\n",
            "18/18 [==============================] - 0s 4ms/step - loss: 134.6015 - mae: 134.6015 - mse: 102345.2266 - val_loss: 784.4449 - val_mae: 784.4449 - val_mse: 1860996.7500\n",
            "Epoch 14/100\n",
            "18/18 [==============================] - 0s 5ms/step - loss: 130.6127 - mae: 130.6127 - mse: 96225.1406 - val_loss: 751.3234 - val_mae: 751.3234 - val_mse: 1749609.3750\n",
            "INFO:tensorflow:Assets written to: model_experiments/model_1_dense/assets\n",
            "Epoch 15/100\n",
            "18/18 [==============================] - 0s 5ms/step - loss: 128.8347 - mae: 128.8347 - mse: 94307.0078 - val_loss: 696.5757 - val_mae: 696.5757 - val_mse: 1606352.6250\n",
            "INFO:tensorflow:Assets written to: model_experiments/model_1_dense/assets\n",
            "Epoch 16/100\n",
            "18/18 [==============================] - 0s 4ms/step - loss: 124.7739 - mae: 124.7739 - mse: 90394.9297 - val_loss: 702.4698 - val_mae: 702.4698 - val_mse: 1592416.0000\n",
            "Epoch 17/100\n",
            "18/18 [==============================] - 0s 4ms/step - loss: 123.4474 - mae: 123.4474 - mse: 89247.6797 - val_loss: 704.9241 - val_mae: 704.9241 - val_mse: 1580783.5000\n",
            "Epoch 18/100\n",
            "18/18 [==============================] - 0s 5ms/step - loss: 122.2105 - mae: 122.2105 - mse: 87607.6016 - val_loss: 667.9725 - val_mae: 667.9725 - val_mse: 1498882.0000\n",
            "INFO:tensorflow:Assets written to: model_experiments/model_1_dense/assets\n",
            "Epoch 19/100\n",
            "18/18 [==============================] - 0s 4ms/step - loss: 121.7263 - mae: 121.7263 - mse: 86632.2656 - val_loss: 718.8797 - val_mae: 718.8797 - val_mse: 1589299.6250\n",
            "Epoch 20/100\n",
            "18/18 [==============================] - 0s 5ms/step - loss: 119.2420 - mae: 119.2420 - mse: 84334.3438 - val_loss: 657.0667 - val_mae: 657.0667 - val_mse: 1447500.8750\n",
            "INFO:tensorflow:Assets written to: model_experiments/model_1_dense/assets\n",
            "Epoch 21/100\n",
            "18/18 [==============================] - 0s 4ms/step - loss: 121.2275 - mae: 121.2275 - mse: 85743.3672 - val_loss: 637.0330 - val_mae: 637.0330 - val_mse: 1401773.5000\n",
            "INFO:tensorflow:Assets written to: model_experiments/model_1_dense/assets\n",
            "Epoch 22/100\n",
            "18/18 [==============================] - 0s 5ms/step - loss: 119.9544 - mae: 119.9544 - mse: 84050.1250 - val_loss: 671.2490 - val_mae: 671.2490 - val_mse: 1447896.6250\n",
            "Epoch 23/100\n",
            "18/18 [==============================] - 0s 4ms/step - loss: 121.9248 - mae: 121.9248 - mse: 83746.1328 - val_loss: 633.3593 - val_mae: 633.3593 - val_mse: 1367377.8750\n",
            "INFO:tensorflow:Assets written to: model_experiments/model_1_dense/assets\n",
            "Epoch 24/100\n",
            "18/18 [==============================] - 0s 6ms/step - loss: 116.3666 - mae: 116.3666 - mse: 81446.6641 - val_loss: 624.4852 - val_mae: 624.4852 - val_mse: 1348960.3750\n",
            "INFO:tensorflow:Assets written to: model_experiments/model_1_dense/assets\n",
            "Epoch 25/100\n",
            "18/18 [==============================] - 0s 4ms/step - loss: 114.6816 - mae: 114.6816 - mse: 78912.8438 - val_loss: 619.7571 - val_mae: 619.7571 - val_mse: 1351089.8750\n",
            "INFO:tensorflow:Assets written to: model_experiments/model_1_dense/assets\n",
            "Epoch 26/100\n",
            "18/18 [==============================] - 0s 6ms/step - loss: 116.4455 - mae: 116.4455 - mse: 79365.5625 - val_loss: 615.6364 - val_mae: 615.6364 - val_mse: 1321514.3750\n",
            "INFO:tensorflow:Assets written to: model_experiments/model_1_dense/assets\n",
            "Epoch 27/100\n",
            "18/18 [==============================] - 0s 5ms/step - loss: 116.5868 - mae: 116.5868 - mse: 78672.9141 - val_loss: 615.9631 - val_mae: 615.9631 - val_mse: 1313077.8750\n",
            "Epoch 28/100\n",
            "18/18 [==============================] - 0s 5ms/step - loss: 113.4691 - mae: 113.4691 - mse: 77440.0703 - val_loss: 608.0920 - val_mae: 608.0920 - val_mse: 1309775.3750\n",
            "INFO:tensorflow:Assets written to: model_experiments/model_1_dense/assets\n",
            "Epoch 29/100\n",
            "18/18 [==============================] - 0s 4ms/step - loss: 113.7598 - mae: 113.7598 - mse: 78506.9531 - val_loss: 621.9306 - val_mae: 621.9306 - val_mse: 1313325.7500\n",
            "Epoch 30/100\n",
            "18/18 [==============================] - 0s 4ms/step - loss: 116.8613 - mae: 116.8613 - mse: 79236.4766 - val_loss: 604.4056 - val_mae: 604.4056 - val_mse: 1283407.7500\n",
            "INFO:tensorflow:Assets written to: model_experiments/model_1_dense/assets\n",
            "Epoch 31/100\n",
            "18/18 [==============================] - 0s 4ms/step - loss: 111.9375 - mae: 111.9375 - mse: 74849.0625 - val_loss: 609.3882 - val_mae: 609.3882 - val_mse: 1284506.2500\n",
            "Epoch 32/100\n",
            "18/18 [==============================] - 0s 5ms/step - loss: 112.4175 - mae: 112.4175 - mse: 77178.5938 - val_loss: 603.0588 - val_mae: 603.0588 - val_mse: 1273059.2500\n",
            "INFO:tensorflow:Assets written to: model_experiments/model_1_dense/assets\n",
            "Epoch 33/100\n",
            "18/18 [==============================] - 0s 5ms/step - loss: 112.6697 - mae: 112.6697 - mse: 75787.9766 - val_loss: 645.6975 - val_mae: 645.6975 - val_mse: 1353256.2500\n",
            "Epoch 34/100\n",
            "18/18 [==============================] - 0s 4ms/step - loss: 111.9867 - mae: 111.9867 - mse: 77245.7031 - val_loss: 604.7632 - val_mae: 604.7632 - val_mse: 1289359.7500\n",
            "Epoch 35/100\n",
            "18/18 [==============================] - 0s 6ms/step - loss: 110.9451 - mae: 110.9451 - mse: 75301.8047 - val_loss: 593.4648 - val_mae: 593.4648 - val_mse: 1250491.7500\n",
            "INFO:tensorflow:Assets written to: model_experiments/model_1_dense/assets\n",
            "Epoch 36/100\n",
            "18/18 [==============================] - 0s 5ms/step - loss: 114.4816 - mae: 114.4816 - mse: 76138.5391 - val_loss: 608.0073 - val_mae: 608.0073 - val_mse: 1269271.2500\n",
            "Epoch 37/100\n",
            "18/18 [==============================] - 0s 6ms/step - loss: 110.2017 - mae: 110.2017 - mse: 74635.3047 - val_loss: 597.2309 - val_mae: 597.2309 - val_mse: 1248474.3750\n",
            "Epoch 38/100\n",
            "18/18 [==============================] - 0s 6ms/step - loss: 112.2372 - mae: 112.2372 - mse: 75821.7344 - val_loss: 637.9797 - val_mae: 637.9797 - val_mse: 1366130.2500\n",
            "Epoch 39/100\n",
            "18/18 [==============================] - 0s 5ms/step - loss: 115.1289 - mae: 115.1289 - mse: 76339.6562 - val_loss: 587.4679 - val_mae: 587.4679 - val_mse: 1233512.2500\n",
            "INFO:tensorflow:Assets written to: model_experiments/model_1_dense/assets\n",
            "Epoch 40/100\n",
            "18/18 [==============================] - 0s 5ms/step - loss: 110.0854 - mae: 110.0854 - mse: 73528.4844 - val_loss: 592.7117 - val_mae: 592.7117 - val_mse: 1251474.1250\n",
            "Epoch 41/100\n",
            "18/18 [==============================] - 0s 4ms/step - loss: 110.6343 - mae: 110.6343 - mse: 73528.7969 - val_loss: 593.8997 - val_mae: 593.8997 - val_mse: 1253678.2500\n",
            "Epoch 42/100\n",
            "18/18 [==============================] - 0s 5ms/step - loss: 113.5762 - mae: 113.5762 - mse: 77076.7031 - val_loss: 636.3674 - val_mae: 636.3674 - val_mse: 1317283.3750\n",
            "Epoch 43/100\n",
            "18/18 [==============================] - 0s 5ms/step - loss: 116.2286 - mae: 116.2286 - mse: 74712.2188 - val_loss: 662.9264 - val_mae: 662.9264 - val_mse: 1419202.3750\n",
            "Epoch 44/100\n",
            "18/18 [==============================] - 0s 5ms/step - loss: 120.0192 - mae: 120.0192 - mse: 80971.8906 - val_loss: 635.6360 - val_mae: 635.6360 - val_mse: 1345999.3750\n",
            "Epoch 45/100\n",
            "18/18 [==============================] - 0s 5ms/step - loss: 110.9675 - mae: 110.9675 - mse: 74941.2891 - val_loss: 601.9926 - val_mae: 601.9926 - val_mse: 1244816.7500\n",
            "Epoch 46/100\n",
            "18/18 [==============================] - 0s 6ms/step - loss: 111.6012 - mae: 111.6012 - mse: 74565.5859 - val_loss: 593.3531 - val_mae: 593.3531 - val_mse: 1248764.3750\n",
            "Epoch 47/100\n",
            "18/18 [==============================] - 0s 4ms/step - loss: 109.6161 - mae: 109.6161 - mse: 74190.7109 - val_loss: 637.0014 - val_mae: 637.0014 - val_mse: 1314970.3750\n",
            "Epoch 48/100\n",
            "18/18 [==============================] - 0s 6ms/step - loss: 109.1368 - mae: 109.1368 - mse: 72792.5547 - val_loss: 598.4199 - val_mae: 598.4199 - val_mse: 1234610.1250\n",
            "Epoch 49/100\n",
            "18/18 [==============================] - 0s 5ms/step - loss: 112.4355 - mae: 112.4355 - mse: 73980.3281 - val_loss: 579.7040 - val_mae: 579.7040 - val_mse: 1208301.3750\n",
            "INFO:tensorflow:Assets written to: model_experiments/model_1_dense/assets\n",
            "Epoch 50/100\n",
            "18/18 [==============================] - 0s 4ms/step - loss: 110.2108 - mae: 110.2108 - mse: 72939.6953 - val_loss: 639.2326 - val_mae: 639.2326 - val_mse: 1347994.2500\n",
            "Epoch 51/100\n",
            "18/18 [==============================] - 0s 5ms/step - loss: 111.0958 - mae: 111.0958 - mse: 73281.8906 - val_loss: 597.3575 - val_mae: 597.3575 - val_mse: 1229791.8750\n",
            "Epoch 52/100\n",
            "18/18 [==============================] - 0s 4ms/step - loss: 110.7351 - mae: 110.7351 - mse: 74529.6328 - val_loss: 580.7227 - val_mae: 580.7227 - val_mse: 1215477.3750\n",
            "Epoch 53/100\n",
            "18/18 [==============================] - 0s 4ms/step - loss: 111.1785 - mae: 111.1785 - mse: 74149.4688 - val_loss: 648.3588 - val_mae: 648.3588 - val_mse: 1336951.8750\n",
            "Epoch 54/100\n",
            "18/18 [==============================] - 0s 5ms/step - loss: 114.0832 - mae: 114.0832 - mse: 74815.0781 - val_loss: 593.2007 - val_mae: 593.2007 - val_mse: 1220661.3750\n",
            "Epoch 55/100\n",
            "18/18 [==============================] - 0s 4ms/step - loss: 110.4910 - mae: 110.4910 - mse: 74711.2266 - val_loss: 579.5065 - val_mae: 579.5065 - val_mse: 1211579.7500\n",
            "INFO:tensorflow:Assets written to: model_experiments/model_1_dense/assets\n",
            "Epoch 56/100\n",
            "18/18 [==============================] - 0s 5ms/step - loss: 108.0489 - mae: 108.0489 - mse: 71844.1484 - val_loss: 807.3851 - val_mae: 807.3851 - val_mse: 1859291.8750\n",
            "Epoch 57/100\n",
            "18/18 [==============================] - 0s 4ms/step - loss: 125.0614 - mae: 125.0614 - mse: 84025.2578 - val_loss: 674.1654 - val_mae: 674.1654 - val_mse: 1437686.2500\n",
            "Epoch 58/100\n",
            "18/18 [==============================] - 0s 4ms/step - loss: 115.4340 - mae: 115.4340 - mse: 73710.7188 - val_loss: 582.2698 - val_mae: 582.2698 - val_mse: 1202679.8750\n",
            "Epoch 59/100\n",
            "18/18 [==============================] - 0s 5ms/step - loss: 110.0881 - mae: 110.0881 - mse: 72845.1016 - val_loss: 606.7637 - val_mae: 606.7637 - val_mse: 1267543.0000\n",
            "Epoch 60/100\n",
            "18/18 [==============================] - 0s 5ms/step - loss: 108.7156 - mae: 108.7156 - mse: 72675.7500 - val_loss: 602.3102 - val_mae: 602.3102 - val_mse: 1234690.2500\n",
            "Epoch 61/100\n",
            "18/18 [==============================] - 0s 5ms/step - loss: 108.1525 - mae: 108.1525 - mse: 72252.0781 - val_loss: 573.9990 - val_mae: 573.9990 - val_mse: 1189583.1250\n",
            "INFO:tensorflow:Assets written to: model_experiments/model_1_dense/assets\n",
            "Epoch 62/100\n",
            "18/18 [==============================] - 0s 4ms/step - loss: 107.3727 - mae: 107.3727 - mse: 70822.7891 - val_loss: 581.7012 - val_mae: 581.7012 - val_mse: 1214006.5000\n",
            "Epoch 63/100\n",
            "18/18 [==============================] - 0s 4ms/step - loss: 110.7667 - mae: 110.7667 - mse: 73178.4297 - val_loss: 637.5252 - val_mae: 637.5252 - val_mse: 1311204.0000\n",
            "Epoch 64/100\n",
            "18/18 [==============================] - 0s 4ms/step - loss: 110.1539 - mae: 110.1539 - mse: 72588.2031 - val_loss: 586.6601 - val_mae: 586.6601 - val_mse: 1207116.8750\n",
            "Epoch 65/100\n",
            "18/18 [==============================] - 0s 4ms/step - loss: 108.2325 - mae: 108.2325 - mse: 71962.0469 - val_loss: 573.5620 - val_mae: 573.5620 - val_mse: 1188986.7500\n",
            "INFO:tensorflow:Assets written to: model_experiments/model_1_dense/assets\n",
            "Epoch 66/100\n",
            "18/18 [==============================] - 0s 4ms/step - loss: 108.6825 - mae: 108.6825 - mse: 71026.3359 - val_loss: 572.2206 - val_mae: 572.2206 - val_mse: 1187818.0000\n",
            "INFO:tensorflow:Assets written to: model_experiments/model_1_dense/assets\n",
            "Epoch 67/100\n",
            "18/18 [==============================] - 0s 5ms/step - loss: 106.6371 - mae: 106.6371 - mse: 70166.2500 - val_loss: 646.6349 - val_mae: 646.6349 - val_mse: 1356390.5000\n",
            "Epoch 68/100\n",
            "18/18 [==============================] - 0s 5ms/step - loss: 114.1603 - mae: 114.1603 - mse: 71297.2969 - val_loss: 681.8561 - val_mae: 681.8561 - val_mse: 1455427.1250\n",
            "Epoch 69/100\n",
            "18/18 [==============================] - 0s 4ms/step - loss: 124.5514 - mae: 124.5514 - mse: 81238.9297 - val_loss: 655.9885 - val_mae: 655.9885 - val_mse: 1383322.8750\n",
            "Epoch 70/100\n",
            "18/18 [==============================] - 0s 4ms/step - loss: 125.0235 - mae: 125.0235 - mse: 83058.2109 - val_loss: 601.0032 - val_mae: 601.0032 - val_mse: 1256962.2500\n",
            "Epoch 71/100\n",
            "18/18 [==============================] - 0s 5ms/step - loss: 110.3652 - mae: 110.3652 - mse: 71691.4844 - val_loss: 595.3962 - val_mae: 595.3962 - val_mse: 1222772.2500\n",
            "Epoch 72/100\n",
            "18/18 [==============================] - 0s 4ms/step - loss: 107.9285 - mae: 107.9285 - mse: 71745.5156 - val_loss: 573.7085 - val_mae: 573.7085 - val_mse: 1192818.0000\n",
            "Epoch 73/100\n",
            "18/18 [==============================] - 0s 5ms/step - loss: 109.5085 - mae: 109.5085 - mse: 71691.1016 - val_loss: 580.4180 - val_mae: 580.4180 - val_mse: 1211316.7500\n",
            "Epoch 74/100\n",
            "18/18 [==============================] - 0s 4ms/step - loss: 108.7380 - mae: 108.7380 - mse: 72051.0469 - val_loss: 576.1211 - val_mae: 576.1211 - val_mse: 1199669.5000\n",
            "Epoch 75/100\n",
            "18/18 [==============================] - 0s 4ms/step - loss: 107.9404 - mae: 107.9404 - mse: 71043.1328 - val_loss: 591.1477 - val_mae: 591.1477 - val_mse: 1211108.6250\n",
            "Epoch 76/100\n",
            "18/18 [==============================] - 0s 4ms/step - loss: 109.4232 - mae: 109.4232 - mse: 72295.0234 - val_loss: 597.8605 - val_mae: 597.8605 - val_mse: 1243935.2500\n",
            "Epoch 77/100\n",
            "18/18 [==============================] - 0s 4ms/step - loss: 107.5879 - mae: 107.5879 - mse: 70333.8203 - val_loss: 571.9299 - val_mae: 571.9299 - val_mse: 1186829.7500\n",
            "INFO:tensorflow:Assets written to: model_experiments/model_1_dense/assets\n",
            "Epoch 78/100\n",
            "18/18 [==============================] - 0s 4ms/step - loss: 108.1598 - mae: 108.1598 - mse: 70200.0625 - val_loss: 575.2383 - val_mae: 575.2383 - val_mse: 1195317.1250\n",
            "Epoch 79/100\n",
            "18/18 [==============================] - 0s 4ms/step - loss: 107.9175 - mae: 107.9175 - mse: 72451.5781 - val_loss: 617.3071 - val_mae: 617.3071 - val_mse: 1285509.7500\n",
            "Epoch 80/100\n",
            "18/18 [==============================] - 0s 5ms/step - loss: 108.9510 - mae: 108.9510 - mse: 72158.7500 - val_loss: 583.4847 - val_mae: 583.4847 - val_mse: 1194358.2500\n",
            "Epoch 81/100\n",
            "18/18 [==============================] - 0s 5ms/step - loss: 106.0505 - mae: 106.0505 - mse: 69690.8828 - val_loss: 570.0802 - val_mae: 570.0802 - val_mse: 1177238.0000\n",
            "INFO:tensorflow:Assets written to: model_experiments/model_1_dense/assets\n",
            "Epoch 82/100\n",
            "18/18 [==============================] - 0s 5ms/step - loss: 115.6827 - mae: 115.6827 - mse: 76903.4531 - val_loss: 575.7382 - val_mae: 575.7382 - val_mse: 1194661.5000\n",
            "Epoch 83/100\n",
            "18/18 [==============================] - 0s 5ms/step - loss: 110.9379 - mae: 110.9379 - mse: 72968.2891 - val_loss: 659.6570 - val_mae: 659.6570 - val_mse: 1388827.8750\n",
            "Epoch 84/100\n",
            "18/18 [==============================] - 0s 6ms/step - loss: 111.4836 - mae: 111.4836 - mse: 73017.8984 - val_loss: 570.1959 - val_mae: 570.1959 - val_mse: 1177492.1250\n",
            "Epoch 85/100\n",
            "18/18 [==============================] - 0s 4ms/step - loss: 107.5948 - mae: 107.5948 - mse: 70728.1797 - val_loss: 601.5945 - val_mae: 601.5945 - val_mse: 1228452.5000\n",
            "Epoch 86/100\n",
            "18/18 [==============================] - 0s 5ms/step - loss: 108.9426 - mae: 108.9426 - mse: 70066.7500 - val_loss: 592.8107 - val_mae: 592.8107 - val_mse: 1209681.6250\n",
            "Epoch 87/100\n",
            "18/18 [==============================] - 0s 4ms/step - loss: 105.7717 - mae: 105.7717 - mse: 68382.3438 - val_loss: 603.6169 - val_mae: 603.6169 - val_mse: 1252408.8750\n",
            "Epoch 88/100\n",
            "18/18 [==============================] - 0s 6ms/step - loss: 107.9217 - mae: 107.9217 - mse: 71668.0156 - val_loss: 569.0500 - val_mae: 569.0500 - val_mse: 1174588.2500\n",
            "INFO:tensorflow:Assets written to: model_experiments/model_1_dense/assets\n",
            "Epoch 89/100\n",
            "18/18 [==============================] - 0s 4ms/step - loss: 106.0344 - mae: 106.0344 - mse: 68979.1328 - val_loss: 568.9512 - val_mae: 568.9512 - val_mse: 1171744.1250\n",
            "INFO:tensorflow:Assets written to: model_experiments/model_1_dense/assets\n",
            "Epoch 90/100\n",
            "18/18 [==============================] - 0s 6ms/step - loss: 105.4977 - mae: 105.4977 - mse: 67516.5000 - val_loss: 581.7681 - val_mae: 581.7681 - val_mse: 1190161.7500\n",
            "Epoch 91/100\n",
            "18/18 [==============================] - 0s 4ms/step - loss: 108.8468 - mae: 108.8468 - mse: 71112.3203 - val_loss: 573.6023 - val_mae: 573.6023 - val_mse: 1185215.3750\n",
            "Epoch 92/100\n",
            "18/18 [==============================] - 0s 5ms/step - loss: 110.8884 - mae: 110.8884 - mse: 73287.8203 - val_loss: 576.8247 - val_mae: 576.8247 - val_mse: 1181629.3750\n",
            "Epoch 93/100\n",
            "18/18 [==============================] - 0s 6ms/step - loss: 113.8781 - mae: 113.8781 - mse: 75236.4062 - val_loss: 608.3018 - val_mae: 608.3018 - val_mse: 1264205.6250\n",
            "Epoch 94/100\n",
            "18/18 [==============================] - 0s 5ms/step - loss: 110.5763 - mae: 110.5763 - mse: 72590.8672 - val_loss: 601.6047 - val_mae: 601.6047 - val_mse: 1229106.1250\n",
            "Epoch 95/100\n",
            "18/18 [==============================] - 0s 5ms/step - loss: 106.5906 - mae: 106.5906 - mse: 68612.3125 - val_loss: 570.3652 - val_mae: 570.3652 - val_mse: 1175759.6250\n",
            "Epoch 96/100\n",
            "18/18 [==============================] - 0s 5ms/step - loss: 116.9515 - mae: 116.9515 - mse: 75082.1172 - val_loss: 615.2581 - val_mae: 615.2581 - val_mse: 1277123.7500\n",
            "Epoch 97/100\n",
            "18/18 [==============================] - 0s 5ms/step - loss: 108.0739 - mae: 108.0739 - mse: 71321.4141 - val_loss: 580.3073 - val_mae: 580.3073 - val_mse: 1202621.8750\n",
            "Epoch 98/100\n",
            "18/18 [==============================] - 0s 6ms/step - loss: 108.7102 - mae: 108.7102 - mse: 70248.0781 - val_loss: 586.6512 - val_mae: 586.6512 - val_mse: 1200831.3750\n",
            "Epoch 99/100\n",
            "18/18 [==============================] - 0s 5ms/step - loss: 109.0488 - mae: 109.0488 - mse: 70913.1484 - val_loss: 570.0629 - val_mae: 570.0629 - val_mse: 1177064.5000\n",
            "Epoch 100/100\n",
            "18/18 [==============================] - 0s 5ms/step - loss: 106.1845 - mae: 106.1845 - mse: 68681.7031 - val_loss: 585.9763 - val_mae: 585.9763 - val_mse: 1197803.1250\n"
          ],
          "name": "stdout"
        },
        {
          "output_type": "execute_result",
          "data": {
            "text/plain": [
              "<tensorflow.python.keras.callbacks.History at 0x7f496042a3d0>"
            ]
          },
          "metadata": {
            "tags": []
          },
          "execution_count": 38
        }
      ]
    },
    {
      "cell_type": "code",
      "metadata": {
        "colab": {
          "base_uri": "https://localhost:8080/"
        },
        "id": "Ma3p1WKgoNyv",
        "outputId": "dd53cae8-af3d-475a-9332-2698f08baeab"
      },
      "source": [
        "naive_results"
      ],
      "execution_count": 39,
      "outputs": [
        {
          "output_type": "execute_result",
          "data": {
            "text/plain": [
              "{'mae': 567.9802,\n",
              " 'mape': 2.516525,\n",
              " 'mase': 0.99957,\n",
              " 'mse': 1147547.0,\n",
              " 'rmse': 1071.2362}"
            ]
          },
          "metadata": {
            "tags": []
          },
          "execution_count": 39
        }
      ]
    },
    {
      "cell_type": "code",
      "metadata": {
        "colab": {
          "base_uri": "https://localhost:8080/"
        },
        "id": "4olkkpisomvL",
        "outputId": "11810340-38e2-4cd6-e2d0-892524295b80"
      },
      "source": [
        "# Eval model on test data\n",
        "# Model that was just tested. Not the best performing \n",
        "model_1.evaluate(test_windows, test_labels)\n"
      ],
      "execution_count": 40,
      "outputs": [
        {
          "output_type": "stream",
          "text": [
            "18/18 [==============================] - 0s 2ms/step - loss: 585.9762 - mae: 585.9762 - mse: 1197803.1250\n"
          ],
          "name": "stdout"
        },
        {
          "output_type": "execute_result",
          "data": {
            "text/plain": [
              "[585.9761962890625, 585.9761962890625, 1197803.125]"
            ]
          },
          "metadata": {
            "tags": []
          },
          "execution_count": 40
        }
      ]
    },
    {
      "cell_type": "code",
      "metadata": {
        "colab": {
          "base_uri": "https://localhost:8080/"
        },
        "id": "eVO2K2WVpJsR",
        "outputId": "3a475a2c-c875-4645-99d6-1f2f83d2a258"
      },
      "source": [
        "# Load in saved best performing model_1\n",
        "\n",
        "model_1 = tf.keras.models.load_model(\"model_experiments/model_1_dense/\")\n",
        "model_1.evaluate(test_windows, test_labels)"
      ],
      "execution_count": 41,
      "outputs": [
        {
          "output_type": "stream",
          "text": [
            "18/18 [==============================] - 0s 2ms/step - loss: 568.9512 - mae: 568.9512 - mse: 1171744.0000\n"
          ],
          "name": "stdout"
        },
        {
          "output_type": "execute_result",
          "data": {
            "text/plain": [
              "[568.951171875, 568.951171875, 1171744.0]"
            ]
          },
          "metadata": {
            "tags": []
          },
          "execution_count": 41
        }
      ]
    },
    {
      "cell_type": "markdown",
      "metadata": {
        "id": "0Iz9c0VDpgJg"
      },
      "source": [
        "## Making forecast (predictions on the pseudo future) with the model (test data)\n",
        "\n",
        "To make forecasts lets write a function:\n",
        "\n",
        "1. Take in a train model\n",
        "2. Takes in some input data\n",
        "3. Passes the input data to the models `predict()` method\n",
        "4. Returns predictions"
      ]
    },
    {
      "cell_type": "code",
      "metadata": {
        "id": "dM_8Xd1tq2te"
      },
      "source": [
        "def make_preds(model, input_data):\n",
        "  \"\"\"\n",
        "  Uses model to make preds on input data (time series)\n",
        "  \"\"\"\n",
        "  \n",
        "  # Pseudo future forecast\n",
        "  forecast = model.predict(input_data)\n",
        "  return tf.squeeze(forecast)"
      ],
      "execution_count": 42,
      "outputs": []
    },
    {
      "cell_type": "code",
      "metadata": {
        "colab": {
          "base_uri": "https://localhost:8080/"
        },
        "id": "YFvGktoarKIx",
        "outputId": "af2bf72e-c910-401e-f22e-85ea1e3f4a4d"
      },
      "source": [
        "# Make preds with model_1\n",
        "\n",
        "model_1_preds = make_preds(model_1, test_windows)\n",
        "model_1_preds[:5]"
      ],
      "execution_count": 43,
      "outputs": [
        {
          "output_type": "execute_result",
          "data": {
            "text/plain": [
              "<tf.Tensor: shape=(5,), dtype=float32, numpy=array([8861.711, 8769.886, 9015.71 , 8795.517, 8723.809], dtype=float32)>"
            ]
          },
          "metadata": {
            "tags": []
          },
          "execution_count": 43
        }
      ]
    },
    {
      "cell_type": "code",
      "metadata": {
        "colab": {
          "base_uri": "https://localhost:8080/"
        },
        "id": "my96iAUZrYOb",
        "outputId": "a85ce019-3d7e-4e3c-ee44-90837ede74df"
      },
      "source": [
        "# Evaluate preds\n",
        "\n",
        "model_1_results = evaluate_preds(y_true=tf.squeeze(test_labels),\n",
        "                                 y_pred=model_1_preds)\n",
        "\n",
        "model_1_results"
      ],
      "execution_count": 44,
      "outputs": [
        {
          "output_type": "execute_result",
          "data": {
            "text/plain": [
              "{'mae': 568.95123,\n",
              " 'mape': 2.5448983,\n",
              " 'mase': 0.9994897,\n",
              " 'mse': 1171744.0,\n",
              " 'rmse': 1082.4712}"
            ]
          },
          "metadata": {
            "tags": []
          },
          "execution_count": 44
        }
      ]
    },
    {
      "cell_type": "code",
      "metadata": {
        "colab": {
          "base_uri": "https://localhost:8080/"
        },
        "id": "b5BoIBFGrsCS",
        "outputId": "bb1c38f9-961e-4f7a-e842-0d3e59453446"
      },
      "source": [
        "naive_results"
      ],
      "execution_count": 45,
      "outputs": [
        {
          "output_type": "execute_result",
          "data": {
            "text/plain": [
              "{'mae': 567.9802,\n",
              " 'mape': 2.516525,\n",
              " 'mase': 0.99957,\n",
              " 'mse': 1147547.0,\n",
              " 'rmse': 1071.2362}"
            ]
          },
          "metadata": {
            "tags": []
          },
          "execution_count": 45
        }
      ]
    },
    {
      "cell_type": "code",
      "metadata": {
        "colab": {
          "base_uri": "https://localhost:8080/"
        },
        "id": "2z9YR8nLtSvz",
        "outputId": "092e354a-4d06-45de-ea0c-b1b66d0e7e08"
      },
      "source": [
        "test_windows.shape"
      ],
      "execution_count": 46,
      "outputs": [
        {
          "output_type": "execute_result",
          "data": {
            "text/plain": [
              "(556, 7)"
            ]
          },
          "metadata": {
            "tags": []
          },
          "execution_count": 46
        }
      ]
    },
    {
      "cell_type": "code",
      "metadata": {
        "colab": {
          "base_uri": "https://localhost:8080/"
        },
        "id": "GoJw7vbRuILi",
        "outputId": "e6659a65-8d3d-4d08-e7b5-580b90ed2dff"
      },
      "source": [
        "test_windows"
      ],
      "execution_count": 47,
      "outputs": [
        {
          "output_type": "execute_result",
          "data": {
            "text/plain": [
              "array([[ 9290.89660239,  9202.41545055,  9369.62808116, ...,\n",
              "         9335.75240233,  9226.48582088,  8794.35864452],\n",
              "       [ 9202.41545055,  9369.62808116,  9326.59962378, ...,\n",
              "         9226.48582088,  8794.35864452,  8798.04205463],\n",
              "       [ 9369.62808116,  9326.59962378,  9335.75240233, ...,\n",
              "         8794.35864452,  8798.04205463,  9081.18687849],\n",
              "       ...,\n",
              "       [58788.20967893, 58102.19142623, 55715.54665129, ...,\n",
              "        52147.82118698, 49764.1320816 , 50032.69313676],\n",
              "       [58102.19142623, 55715.54665129, 56573.5554719 , ...,\n",
              "        49764.1320816 , 50032.69313676, 47885.62525472],\n",
              "       [55715.54665129, 56573.5554719 , 52147.82118698, ...,\n",
              "        50032.69313676, 47885.62525472, 45604.61575361]])"
            ]
          },
          "metadata": {
            "tags": []
          },
          "execution_count": 47
        }
      ]
    },
    {
      "cell_type": "code",
      "metadata": {
        "colab": {
          "base_uri": "https://localhost:8080/",
          "height": 442
        },
        "id": "aU2t_OcqsE74",
        "outputId": "6531e905-b4c1-4721-bfee-b5c3d8e9ff31"
      },
      "source": [
        "offset = 300\n",
        "plt.figure(figsize=(10, 7))\n",
        "\n",
        "# Account for test_window offset and index into test_labels\n",
        "plot_time_series(timesteps=X_test[-len(test_windows):], values=test_labels[:, 0], start=offset, label=\"Test_data\")\n",
        "plot_time_series(timesteps=X_test[-len(test_windows):], values=model_1_preds, start=offset, format=\"-\", label=\"model_1_preds\")"
      ],
      "execution_count": 48,
      "outputs": [
        {
          "output_type": "display_data",
          "data": {
            "image/png": "[encoded data removed]",
            "text/plain": [
              "<Figure size 720x504 with 1 Axes>"
            ]
          },
          "metadata": {
            "tags": [],
            "needs_background": "light"
          }
        }
      ]
    },
    {
      "cell_type": "markdown",
      "metadata": {
        "id": "ucBvJBZLykdi"
      },
      "source": [
        "## Model 2: Dense Model(Window=30, Horizon=1)"
      ]
    },
    {
      "cell_type": "code",
      "metadata": {
        "id": "QZdHJiQG3xkr"
      },
      "source": [
        "HORIZON = 1\n",
        "WINDOW_SIZE = 30"
      ],
      "execution_count": 49,
      "outputs": []
    },
    {
      "cell_type": "code",
      "metadata": {
        "colab": {
          "base_uri": "https://localhost:8080/"
        },
        "id": "cLFJa3yi6pAd",
        "outputId": "acd5a0cc-a6f9-46b9-dc94-07927a6981a7"
      },
      "source": [
        "# Make windowed data with horizon and window sizes\n",
        "\n",
        "full_windows, full_labels = make_windows(prices, window_size=WINDOW_SIZE, horizon=HORIZON)\n",
        "\n",
        "len(full_windows), len(full_labels)"
      ],
      "execution_count": 50,
      "outputs": [
        {
          "output_type": "execute_result",
          "data": {
            "text/plain": [
              "(2757, 2757)"
            ]
          },
          "metadata": {
            "tags": []
          },
          "execution_count": 50
        }
      ]
    },
    {
      "cell_type": "code",
      "metadata": {
        "colab": {
          "base_uri": "https://localhost:8080/"
        },
        "id": "dQMnQbPX6_sr",
        "outputId": "df9a0c70-7a73-4d20-fe64-345298abdb33"
      },
      "source": [
        "# Make train and test windows\n",
        "\n",
        "train_windows, test_windows, train_labels, test_labels = make_train_test_splits(windows=full_windows,\n",
        "                                                                                labels=full_labels,\n",
        "                                                                                test_split=0.2)\n",
        "\n",
        "len(train_windows), len(test_windows), len(train_labels), len(test_labels)"
      ],
      "execution_count": 51,
      "outputs": [
        {
          "output_type": "execute_result",
          "data": {
            "text/plain": [
              "(2205, 552, 2205, 552)"
            ]
          },
          "metadata": {
            "tags": []
          },
          "execution_count": 51
        }
      ]
    },
    {
      "cell_type": "code",
      "metadata": {
        "colab": {
          "base_uri": "https://localhost:8080/"
        },
        "id": "np8QfauR7YAj",
        "outputId": "a5194c8a-d360-4d07-e6a8-1624aa9d5658"
      },
      "source": [
        "train_windows[:5], train_labels[:5]"
      ],
      "execution_count": 52,
      "outputs": [
        {
          "output_type": "execute_result",
          "data": {
            "text/plain": [
              "(array([[123.65499, 125.455  , 108.58483, 118.67466, 121.33866, 120.65533,\n",
              "         121.795  , 123.033  , 124.049  , 125.96116, 125.27966, 125.9275 ,\n",
              "         126.38333, 135.24199, 133.20333, 142.76333, 137.92333, 142.95166,\n",
              "         152.55183, 160.33883, 164.31499, 177.63333, 188.29716, 200.70166,\n",
              "         180.355  , 175.03166, 177.6965 , 187.15983, 192.75666, 197.4    ],\n",
              "        [125.455  , 108.58483, 118.67466, 121.33866, 120.65533, 121.795  ,\n",
              "         123.033  , 124.049  , 125.96116, 125.27966, 125.9275 , 126.38333,\n",
              "         135.24199, 133.20333, 142.76333, 137.92333, 142.95166, 152.55183,\n",
              "         160.33883, 164.31499, 177.63333, 188.29716, 200.70166, 180.355  ,\n",
              "         175.03166, 177.6965 , 187.15983, 192.75666, 197.4    , 196.02499],\n",
              "        [108.58483, 118.67466, 121.33866, 120.65533, 121.795  , 123.033  ,\n",
              "         124.049  , 125.96116, 125.27966, 125.9275 , 126.38333, 135.24199,\n",
              "         133.20333, 142.76333, 137.92333, 142.95166, 152.55183, 160.33883,\n",
              "         164.31499, 177.63333, 188.29716, 200.70166, 180.355  , 175.03166,\n",
              "         177.6965 , 187.15983, 192.75666, 197.4    , 196.02499, 198.04883],\n",
              "        [118.67466, 121.33866, 120.65533, 121.795  , 123.033  , 124.049  ,\n",
              "         125.96116, 125.27966, 125.9275 , 126.38333, 135.24199, 133.20333,\n",
              "         142.76333, 137.92333, 142.95166, 152.55183, 160.33883, 164.31499,\n",
              "         177.63333, 188.29716, 200.70166, 180.355  , 175.03166, 177.6965 ,\n",
              "         187.15983, 192.75666, 197.4    , 196.02499, 198.04883, 198.93233],\n",
              "        [121.33866, 120.65533, 121.795  , 123.033  , 124.049  , 125.96116,\n",
              "         125.27966, 125.9275 , 126.38333, 135.24199, 133.20333, 142.76333,\n",
              "         137.92333, 142.95166, 152.55183, 160.33883, 164.31499, 177.63333,\n",
              "         188.29716, 200.70166, 180.355  , 175.03166, 177.6965 , 187.15983,\n",
              "         192.75666, 197.4    , 196.02499, 198.04883, 198.93233, 200.543  ]]),\n",
              " array([[196.02499],\n",
              "        [198.04883],\n",
              "        [198.93233],\n",
              "        [200.543  ],\n",
              "        [210.3075 ]]))"
            ]
          },
          "metadata": {
            "tags": []
          },
          "execution_count": 52
        }
      ]
    },
    {
      "cell_type": "code",
      "metadata": {
        "colab": {
          "base_uri": "https://localhost:8080/"
        },
        "id": "CVP9UeBw7aUQ",
        "outputId": "6fc8418f-9f6f-4517-cd95-037de07b9584"
      },
      "source": [
        "tf.random.set_seed(42)\n",
        "\n",
        "# Create model\n",
        "model_2 = tf.keras.Sequential([\n",
        "  layers.Dense(128, activation=\"relu\"),\n",
        "  layers.Dense(HORIZON)                                                        \n",
        "                              \n",
        "], name=\"model_2_dense\")\n",
        "\n",
        "# Compile\n",
        "model_2.compile(loss=\"mae\",\n",
        "                optimizer=tf.keras.optimizers.Adam(),)\n",
        "\n",
        "# Fit model\n",
        "\n",
        "model_2.fit(train_windows,\n",
        "            train_labels,\n",
        "            epochs=100,\n",
        "            batch_size=128,\n",
        "            verbose=0,\n",
        "            validation_data=(test_windows, test_labels),\n",
        "            callbacks=[create_model_checkpoint(model_name=model_2.name)])"
      ],
      "execution_count": 53,
      "outputs": [
        {
          "output_type": "stream",
          "text": [
            "INFO:tensorflow:Assets written to: model_experiments/model_2_dense/assets\n",
            "INFO:tensorflow:Assets written to: model_experiments/model_2_dense/assets\n",
            "INFO:tensorflow:Assets written to: model_experiments/model_2_dense/assets\n",
            "INFO:tensorflow:Assets written to: model_experiments/model_2_dense/assets\n",
            "INFO:tensorflow:Assets written to: model_experiments/model_2_dense/assets\n",
            "INFO:tensorflow:Assets written to: model_experiments/model_2_dense/assets\n",
            "INFO:tensorflow:Assets written to: model_experiments/model_2_dense/assets\n",
            "INFO:tensorflow:Assets written to: model_experiments/model_2_dense/assets\n",
            "INFO:tensorflow:Assets written to: model_experiments/model_2_dense/assets\n",
            "INFO:tensorflow:Assets written to: model_experiments/model_2_dense/assets\n",
            "INFO:tensorflow:Assets written to: model_experiments/model_2_dense/assets\n",
            "INFO:tensorflow:Assets written to: model_experiments/model_2_dense/assets\n",
            "INFO:tensorflow:Assets written to: model_experiments/model_2_dense/assets\n",
            "INFO:tensorflow:Assets written to: model_experiments/model_2_dense/assets\n",
            "INFO:tensorflow:Assets written to: model_experiments/model_2_dense/assets\n",
            "INFO:tensorflow:Assets written to: model_experiments/model_2_dense/assets\n",
            "INFO:tensorflow:Assets written to: model_experiments/model_2_dense/assets\n",
            "INFO:tensorflow:Assets written to: model_experiments/model_2_dense/assets\n",
            "INFO:tensorflow:Assets written to: model_experiments/model_2_dense/assets\n",
            "INFO:tensorflow:Assets written to: model_experiments/model_2_dense/assets\n",
            "INFO:tensorflow:Assets written to: model_experiments/model_2_dense/assets\n",
            "INFO:tensorflow:Assets written to: model_experiments/model_2_dense/assets\n",
            "INFO:tensorflow:Assets written to: model_experiments/model_2_dense/assets\n",
            "INFO:tensorflow:Assets written to: model_experiments/model_2_dense/assets\n",
            "INFO:tensorflow:Assets written to: model_experiments/model_2_dense/assets\n",
            "INFO:tensorflow:Assets written to: model_experiments/model_2_dense/assets\n",
            "INFO:tensorflow:Assets written to: model_experiments/model_2_dense/assets\n"
          ],
          "name": "stdout"
        },
        {
          "output_type": "execute_result",
          "data": {
            "text/plain": [
              "<tensorflow.python.keras.callbacks.History at 0x7f491a315190>"
            ]
          },
          "metadata": {
            "tags": []
          },
          "execution_count": 53
        }
      ]
    },
    {
      "cell_type": "code",
      "metadata": {
        "colab": {
          "base_uri": "https://localhost:8080/"
        },
        "id": "Zz2-XT7v8N64",
        "outputId": "9c54f084-4211-43fb-9f23-ef556babc3dc"
      },
      "source": [
        "# Evaluate model 2\n",
        "model_2.evaluate(test_windows, test_labels)"
      ],
      "execution_count": 54,
      "outputs": [
        {
          "output_type": "stream",
          "text": [
            "18/18 [==============================] - 0s 2ms/step - loss: 608.9615\n"
          ],
          "name": "stdout"
        },
        {
          "output_type": "execute_result",
          "data": {
            "text/plain": [
              "608.9614868164062"
            ]
          },
          "metadata": {
            "tags": []
          },
          "execution_count": 54
        }
      ]
    },
    {
      "cell_type": "code",
      "metadata": {
        "colab": {
          "base_uri": "https://localhost:8080/"
        },
        "id": "vGfrDKQd8YZ7",
        "outputId": "28bb2479-31ac-4b06-aa7e-143c4cdd6738"
      },
      "source": [
        "# Load in best model\n",
        "model_2 = tf.keras.models.load_model(\"model_experiments/model_2_dense/\")\n",
        "model_2.evaluate(test_windows, test_labels)"
      ],
      "execution_count": 55,
      "outputs": [
        {
          "output_type": "stream",
          "text": [
            "18/18 [==============================] - 0s 2ms/step - loss: 608.9615\n"
          ],
          "name": "stdout"
        },
        {
          "output_type": "execute_result",
          "data": {
            "text/plain": [
              "608.9614868164062"
            ]
          },
          "metadata": {
            "tags": []
          },
          "execution_count": 55
        }
      ]
    },
    {
      "cell_type": "code",
      "metadata": {
        "id": "Gwx8ETMU8o5T"
      },
      "source": [
        "# Forecast preds\n",
        "model_2_pred = make_preds(model_2,\n",
        "                          input_data=test_windows)"
      ],
      "execution_count": 56,
      "outputs": []
    },
    {
      "cell_type": "code",
      "metadata": {
        "colab": {
          "base_uri": "https://localhost:8080/"
        },
        "id": "2fY-YJ2m8ioa",
        "outputId": "2ab98a5e-3724-4d66-e3a4-9274396839c4"
      },
      "source": [
        "# Eval results for preds\n",
        "model_2_results = evaluate_preds(y_true=tf.squeeze(test_labels),\n",
        "                                 y_pred=model_2_pred)\n",
        "model_2_results"
      ],
      "execution_count": 57,
      "outputs": [
        {
          "output_type": "execute_result",
          "data": {
            "text/plain": [
              "{'mae': 608.9615,\n",
              " 'mape': 2.7693386,\n",
              " 'mase': 1.0644706,\n",
              " 'mse': 1281438.8,\n",
              " 'rmse': 1132.0065}"
            ]
          },
          "metadata": {
            "tags": []
          },
          "execution_count": 57
        }
      ]
    },
    {
      "cell_type": "code",
      "metadata": {
        "colab": {
          "base_uri": "https://localhost:8080/"
        },
        "id": "r5nyNCzC89zR",
        "outputId": "c6fdccd8-7b8e-4612-c2b2-138b45267cb8"
      },
      "source": [
        "model_1_results"
      ],
      "execution_count": 58,
      "outputs": [
        {
          "output_type": "execute_result",
          "data": {
            "text/plain": [
              "{'mae': 568.95123,\n",
              " 'mape': 2.5448983,\n",
              " 'mase': 0.9994897,\n",
              " 'mse': 1171744.0,\n",
              " 'rmse': 1082.4712}"
            ]
          },
          "metadata": {
            "tags": []
          },
          "execution_count": 58
        }
      ]
    },
    {
      "cell_type": "code",
      "metadata": {
        "colab": {
          "base_uri": "https://localhost:8080/",
          "height": 442
        },
        "id": "Kigxl64x8-sI",
        "outputId": "3bb28e41-a8da-4ec7-8ef6-9076d3cd9eab"
      },
      "source": [
        "#PLot model\n",
        "offset=300\n",
        "plt.figure(figsize=(10,7))\n",
        "\n",
        "plot_time_series(timesteps=X_test[-len(test_windows):], values=test_labels[:, 0], start=offset, label=\"Test Data\")\n",
        "plot_time_series(timesteps=X_test[-len(test_windows):], values=model_2_pred, start=offset, format=\"-\", label=\"model_2_pred\")"
      ],
      "execution_count": 59,
      "outputs": [
        {
          "output_type": "display_data",
          "data": {
            "image/png": "[encoded data removed]",
            "text/plain": [
              "<Figure size 720x504 with 1 Axes>"
            ]
          },
          "metadata": {
            "tags": [],
            "needs_background": "light"
          }
        }
      ]
    },
    {
      "cell_type": "markdown",
      "metadata": {
        "id": "blu3Ymv_9hNW"
      },
      "source": [
        "## Model 3: Dense Model (Window=30, Horizon=7)"
      ]
    },
    {
      "cell_type": "code",
      "metadata": {
        "colab": {
          "base_uri": "https://localhost:8080/"
        },
        "id": "CVvmzhL-rfJc",
        "outputId": "29dac5ce-6544-46e8-eee3-527c87c4895f"
      },
      "source": [
        "HORIZON = 7\n",
        "WINDOW_SIZE = 30\n",
        "\n",
        "full_windows, full_labels = make_windows(prices, window_size=WINDOW_SIZE, horizon=HORIZON)\n",
        "\n",
        "len(full_windows), len(full_labels)"
      ],
      "execution_count": 60,
      "outputs": [
        {
          "output_type": "execute_result",
          "data": {
            "text/plain": [
              "(2751, 2751)"
            ]
          },
          "metadata": {
            "tags": []
          },
          "execution_count": 60
        }
      ]
    },
    {
      "cell_type": "code",
      "metadata": {
        "colab": {
          "base_uri": "https://localhost:8080/"
        },
        "id": "Up8ex6corwV0",
        "outputId": "0a76ed75-2c1b-4112-9fc6-178d76a98be4"
      },
      "source": [
        "train_windows, test_windows, train_labels, test_labels = make_train_test_splits(windows=full_windows,\n",
        "                                                                                labels=full_labels,\n",
        "                                                                                test_split=0.2)\n",
        "\n",
        "len(train_windows), len(test_windows), len(train_labels), len(test_labels)"
      ],
      "execution_count": 61,
      "outputs": [
        {
          "output_type": "execute_result",
          "data": {
            "text/plain": [
              "(2200, 551, 2200, 551)"
            ]
          },
          "metadata": {
            "tags": []
          },
          "execution_count": 61
        }
      ]
    },
    {
      "cell_type": "code",
      "metadata": {
        "colab": {
          "base_uri": "https://localhost:8080/"
        },
        "id": "G60T0zV2sBoY",
        "outputId": "49ef7152-3b7c-4d30-b906-20ad1f787bf9"
      },
      "source": [
        "tf.random.set_seed(42)\n",
        "\n",
        "# Create model\n",
        "\n",
        "model_3 = tf.keras.Sequential([\n",
        "    layers.Dense(128, activation=\"relu\"),\n",
        "    layers.Dense(HORIZON)\n",
        "], name=\"model_3_dense\")\n",
        "\n",
        "\n",
        "# Compile\n",
        "\n",
        "model_3.compile(loss=\"mae\",\n",
        "                 optimizer=\"adam\")\n",
        "\n",
        "# Fit model\n",
        "\n",
        "model_3.fit(train_windows,\n",
        "            train_labels,\n",
        "            batch_size=128,\n",
        "            epochs=100,\n",
        "            verbose=0,\n",
        "            validation_data=(test_windows, test_labels),\n",
        "            callbacks=create_model_checkpoint(model_name=model_3.name))"
      ],
      "execution_count": 62,
      "outputs": [
        {
          "output_type": "stream",
          "text": [
            "INFO:tensorflow:Assets written to: model_experiments/model_3_dense/assets\n",
            "INFO:tensorflow:Assets written to: model_experiments/model_3_dense/assets\n",
            "INFO:tensorflow:Assets written to: model_experiments/model_3_dense/assets\n",
            "INFO:tensorflow:Assets written to: model_experiments/model_3_dense/assets\n",
            "INFO:tensorflow:Assets written to: model_experiments/model_3_dense/assets\n",
            "INFO:tensorflow:Assets written to: model_experiments/model_3_dense/assets\n",
            "INFO:tensorflow:Assets written to: model_experiments/model_3_dense/assets\n",
            "INFO:tensorflow:Assets written to: model_experiments/model_3_dense/assets\n",
            "INFO:tensorflow:Assets written to: model_experiments/model_3_dense/assets\n",
            "INFO:tensorflow:Assets written to: model_experiments/model_3_dense/assets\n",
            "INFO:tensorflow:Assets written to: model_experiments/model_3_dense/assets\n",
            "INFO:tensorflow:Assets written to: model_experiments/model_3_dense/assets\n",
            "INFO:tensorflow:Assets written to: model_experiments/model_3_dense/assets\n",
            "INFO:tensorflow:Assets written to: model_experiments/model_3_dense/assets\n",
            "INFO:tensorflow:Assets written to: model_experiments/model_3_dense/assets\n",
            "INFO:tensorflow:Assets written to: model_experiments/model_3_dense/assets\n",
            "INFO:tensorflow:Assets written to: model_experiments/model_3_dense/assets\n",
            "INFO:tensorflow:Assets written to: model_experiments/model_3_dense/assets\n",
            "INFO:tensorflow:Assets written to: model_experiments/model_3_dense/assets\n",
            "INFO:tensorflow:Assets written to: model_experiments/model_3_dense/assets\n",
            "INFO:tensorflow:Assets written to: model_experiments/model_3_dense/assets\n",
            "INFO:tensorflow:Assets written to: model_experiments/model_3_dense/assets\n"
          ],
          "name": "stdout"
        },
        {
          "output_type": "execute_result",
          "data": {
            "text/plain": [
              "<tensorflow.python.keras.callbacks.History at 0x7f491a8a7290>"
            ]
          },
          "metadata": {
            "tags": []
          },
          "execution_count": 62
        }
      ]
    },
    {
      "cell_type": "code",
      "metadata": {
        "colab": {
          "base_uri": "https://localhost:8080/"
        },
        "id": "H0Fz2S8ksupn",
        "outputId": "da5d31b7-5140-432e-97b8-7f06d6953f31"
      },
      "source": [
        "#  Evaluate\n",
        "\n",
        "model_3.evaluate(test_windows, test_labels)"
      ],
      "execution_count": 63,
      "outputs": [
        {
          "output_type": "stream",
          "text": [
            "18/18 [==============================] - 0s 2ms/step - loss: 1321.5201\n"
          ],
          "name": "stdout"
        },
        {
          "output_type": "execute_result",
          "data": {
            "text/plain": [
              "1321.5201416015625"
            ]
          },
          "metadata": {
            "tags": []
          },
          "execution_count": 63
        }
      ]
    },
    {
      "cell_type": "code",
      "metadata": {
        "colab": {
          "base_uri": "https://localhost:8080/"
        },
        "id": "WVeY8ujcs-v7",
        "outputId": "dc9c6fdf-867a-434c-b1a2-63d8287d493e"
      },
      "source": [
        "# Load best model_3\n",
        "\n",
        "model_3 = tf.keras.models.load_model(\"model_experiments/model_3_dense/\")\n",
        "model_3.evaluate(test_windows, test_labels)\n"
      ],
      "execution_count": 64,
      "outputs": [
        {
          "output_type": "stream",
          "text": [
            "18/18 [==============================] - 0s 2ms/step - loss: 1237.5063\n"
          ],
          "name": "stdout"
        },
        {
          "output_type": "execute_result",
          "data": {
            "text/plain": [
              "1237.50634765625"
            ]
          },
          "metadata": {
            "tags": []
          },
          "execution_count": 64
        }
      ]
    },
    {
      "cell_type": "code",
      "metadata": {
        "colab": {
          "base_uri": "https://localhost:8080/"
        },
        "id": "7oXQqz4ItZJ4",
        "outputId": "7f32f4cc-6683-4d3e-d9b3-92256198413a"
      },
      "source": [
        "# Make preds on model_3\n",
        "\n",
        "model_3_preds = make_preds(model_3,\n",
        "                           input_data=test_windows)\n",
        "\n",
        "model_3_preds[:5]"
      ],
      "execution_count": 65,
      "outputs": [
        {
          "output_type": "execute_result",
          "data": {
            "text/plain": [
              "<tf.Tensor: shape=(5, 7), dtype=float32, numpy=\n",
              "array([[9004.693 , 9048.1   , 9425.088 , 9258.258 , 9495.798 , 9558.451 ,\n",
              "        9357.354 ],\n",
              "       [8735.507 , 8840.304 , 9247.793 , 8885.6   , 9097.188 , 9174.329 ,\n",
              "        9156.819 ],\n",
              "       [8672.509 , 8782.388 , 9123.8545, 8770.37  , 9007.13  , 9003.87  ,\n",
              "        9042.724 ],\n",
              "       [8874.399 , 8784.737 , 9043.901 , 8943.051 , 9033.478 , 9176.488 ,\n",
              "        9039.676 ],\n",
              "       [8825.891 , 8777.4375, 8926.779 , 8870.178 , 9213.232 , 9268.156 ,\n",
              "        8942.485 ]], dtype=float32)>"
            ]
          },
          "metadata": {
            "tags": []
          },
          "execution_count": 65
        }
      ]
    },
    {
      "cell_type": "code",
      "metadata": {
        "colab": {
          "base_uri": "https://localhost:8080/"
        },
        "id": "nhGBfPezth7J",
        "outputId": "e4ce4fe9-e8b1-4841-cbdd-327d9ce07134"
      },
      "source": [
        "# Eval model_3 results\n",
        "\n",
        "model_3_results = evaluate_preds(y_true=tf.squeeze(test_labels),\n",
        "                                 y_pred=model_3_preds)\n",
        "\n",
        "model_3_results"
      ],
      "execution_count": 66,
      "outputs": [
        {
          "output_type": "execute_result",
          "data": {
            "text/plain": [
              "{'mae': array([ 513.60516 ,  355.0837  ,  327.1702  ,  358.50977 ,  420.53207 ,\n",
              "         537.8537  ,  545.6606  ,  485.92307 ,  584.497   ,  687.38153 ,\n",
              "         836.22675 ,  755.1571  ,  731.4958  ,  775.33984 ,  567.95465 ,\n",
              "         266.80865 ,  188.80225 ,  188.1077  ,  253.09529 ,  301.43365 ,\n",
              "         151.10735 ,  196.81424 ,  191.46184 ,  231.65074 ,  143.6114  ,\n",
              "         122.5904  ,  132.78844 ,  190.81166 ,  179.15967 ,  228.25949 ,\n",
              "         314.4401  ,  379.09277 ,  278.3254  ,  295.34604 ,  299.38525 ,\n",
              "         248.64977 ,  299.7565  ,  259.69363 ,  180.30566 ,  206.72887 ,\n",
              "         374.62906 ,  144.85143 ,  142.33601 ,  131.1158  ,   93.940636,\n",
              "          54.825542,   73.79423 ,  103.59989 ,  121.33378 ,  168.67209 ,\n",
              "         183.90945 ,  152.25307 ,  186.57137 ,  146.91316 ,  240.42961 ,\n",
              "         351.00656 ,  540.9515  ,  549.15674 ,  521.2421  ,  526.85535 ,\n",
              "         453.363   ,  257.98166 ,  277.29492 ,  301.82465 ,  455.71756 ,\n",
              "         458.95975 ,  503.44427 ,  522.3119  ,  223.07701 ,  250.095   ,\n",
              "         297.14438 ,  400.5699  ,  495.79785 ,  364.33664 ,  283.3654  ,\n",
              "         325.59457 ,  238.21178 ,  318.9777  ,  460.7726  ,  651.0756  ,\n",
              "         835.88055 ,  669.9654  ,  319.5452  ,  261.99484 ,  142.39217 ,\n",
              "         136.62834 ,  154.75237 ,  221.32631 ,  290.50446 ,  503.8845  ,\n",
              "         414.2602  ,  434.35715 ,  377.98926 ,  251.7899  ,  204.28404 ,\n",
              "         388.22684 ,  360.65933 ,  493.80902 ,  614.86035 ,  754.7017  ,\n",
              "         533.7708  ,  378.98898 ,  280.49442 ,  339.48062 ,  413.12875 ,\n",
              "         452.87933 ,  550.53906 ,  634.57214 ,  935.57227 ,  931.6006  ,\n",
              "         881.2807  ,  426.4011  ,  179.45885 ,  121.66225 ,  160.43806 ,\n",
              "         372.07037 ,  341.85776 ,  476.5249  ,  618.3241  , 1038.8975  ,\n",
              "        1569.5026  , 2157.1194  , 1987.6074  , 2158.6108  , 2303.5603  ,\n",
              "        2662.9426  , 1405.5018  ,  728.3016  ,  351.70062 ,  322.03174 ,\n",
              "         493.94754 ,  435.48492 ,  565.5562  ,  350.1165  ,  289.0203  ,\n",
              "         251.21645 ,  409.0556  ,  342.21024 ,  320.8361  ,  330.8859  ,\n",
              "         357.84564 ,  335.9481  ,  206.10316 ,  544.38367 ,  700.00916 ,\n",
              "         468.9196  ,  404.4963  ,  172.80183 ,  308.33664 ,  210.47559 ,\n",
              "         318.95444 ,  486.1319  ,  428.87973 ,  533.911   ,  433.7812  ,\n",
              "         396.89438 ,  138.4034  ,  189.96623 ,  170.39133 ,  181.54387 ,\n",
              "         282.89014 ,  264.38882 ,  250.62172 ,  240.33705 ,  276.95404 ,\n",
              "         326.03055 ,  489.61572 ,  686.245   ,  526.9798  ,  603.01166 ,\n",
              "         825.3829  ,  871.04694 ,  990.0689  , 1090.0593  ,  560.28406 ,\n",
              "         310.5219  ,  371.3902  ,  348.45996 ,  355.73465 ,  429.56473 ,\n",
              "         581.2839  ,  550.5218  ,  635.4312  ,  913.40375 ,  840.7186  ,\n",
              "         305.03488 ,  493.93387 ,  751.3177  ,  410.63434 ,  220.62459 ,\n",
              "         282.25488 ,  291.85352 ,  422.50293 ,  458.65387 ,  637.2345  ,\n",
              "         647.82355 ,  417.24457 ,  220.23717 ,  246.72154 ,  200.22949 ,\n",
              "         455.14914 ,  719.6056  ,  696.30383 ,  485.09848 ,  294.9534  ,\n",
              "         170.52371 ,  211.8245  ,  270.565   ,  189.89342 ,  171.21721 ,\n",
              "         366.44742 ,  231.96303 ,  318.7871  ,  273.7934  ,  358.55594 ,\n",
              "         412.22797 ,  512.31573 ,  185.43834 ,  196.38113 ,  200.00572 ,\n",
              "         224.58678 ,  213.41965 ,  186.23912 ,  113.37096 ,  172.23117 ,\n",
              "         168.89885 ,  236.09584 ,  307.59683 ,  328.93918 ,  566.5958  ,\n",
              "         285.04282 ,  300.44922 ,  125.45201 ,  168.94322 ,  137.25781 ,\n",
              "         143.50404 ,  145.27776 ,  107.340126,   77.16029 ,  131.8711  ,\n",
              "         134.01967 ,  167.45871 ,  137.92188 ,  148.91267 ,  204.9548  ,\n",
              "         157.89732 ,  196.95174 ,  167.93861 ,  156.45592 ,  188.6808  ,\n",
              "         161.4414  ,   90.99791 ,  136.84096 ,  198.51744 ,  230.13908 ,\n",
              "         294.7839  ,  594.24286 ,  699.64856 ,  815.137   ,  905.33887 ,\n",
              "        1127.3002  , 1342.6947  , 1317.0686  ,  590.1699  ,  296.34555 ,\n",
              "         243.43694 ,  256.3987  ,  222.28445 ,  323.8386  ,   82.51339 ,\n",
              "         120.14467 ,  249.14871 ,  205.7369  ,  243.45467 ,  250.64844 ,\n",
              "         287.27567 ,  224.3803  ,  266.55972 ,  221.50935 ,  218.49539 ,\n",
              "         272.42258 ,  279.5964  ,  252.58775 ,  381.5646  ,  417.97028 ,\n",
              "         624.55634 ,  368.0364  ,  327.2546  ,  263.43973 ,  349.95242 ,\n",
              "         398.62485 ,  297.07492 ,  147.0494  ,  164.54381 ,  313.36258 ,\n",
              "         477.74875 ,  675.0419  ,  897.269   , 1094.7097  , 1460.1769  ,\n",
              "        1398.5852  ,  952.72375 ,  645.95953 ,  166.17912 ,  144.66853 ,\n",
              "         189.18234 ,  304.81363 ,  435.10742 ,  449.6441  ,  425.24414 ,\n",
              "         441.93652 ,  407.2959  ,  252.40388 ,  248.36928 ,  336.17075 ,\n",
              "         482.8111  ,  437.53027 ,  533.0855  ,  346.98032 ,  127.68722 ,\n",
              "         110.20885 ,  301.7521  ,  195.50697 ,  174.65262 ,  238.4707  ,\n",
              "         302.3711  ,  313.51688 ,  310.1289  ,  200.29674 ,  172.47209 ,\n",
              "         140.23006 ,  252.48465 ,  289.32407 ,  343.62222 ,  504.118   ,\n",
              "         635.1338  ,  602.13086 ,  519.0612  ,  214.90291 ,  195.91197 ,\n",
              "         265.03683 ,  198.90053 ,  345.51227 ,  517.22235 ,  631.02985 ,\n",
              "         988.4249  , 1174.2136  , 1196.2845  , 1253.9299  ,  526.0654  ,\n",
              "         210.31264 ,  215.27176 ,  169.86021 ,  283.78543 ,  269.76117 ,\n",
              "         228.63477 ,  186.64719 ,  410.5434  ,  601.2659  ,  618.12164 ,\n",
              "         768.7539  , 1158.545   , 1232.8796  , 1254.4288  ,  423.02554 ,\n",
              "         390.03613 ,  367.23926 ,  209.55818 ,  530.2233  ,  821.3827  ,\n",
              "         812.37195 ,  741.19464 ,  953.48285 , 1258.9929  , 1844.9335  ,\n",
              "        1605.2852  , 1112.767   ,  594.18915 ,  549.7676  ,  632.5438  ,\n",
              "         829.2656  , 1103.2213  , 1130.1024  , 1033.3529  ,  878.5851  ,\n",
              "         595.4096  , 1115.6521  , 1371.1716  , 1385.2498  ,  387.52512 ,\n",
              "         303.74918 ,  495.12305 ,  719.5804  ,  648.9029  ,  766.1624  ,\n",
              "         683.23157 ,  596.4121  ,  523.0918  ,  577.33984 , 1337.6239  ,\n",
              "        2454.5972  , 2759.2363  , 3135.8757  , 3407.3806  , 3602.6365  ,\n",
              "        2527.1584  , 1158.1013  ,  679.84375 ,  748.5583  , 1073.4894  ,\n",
              "        1217.7302  , 1459.567   , 2502.7332  , 3075.8264  , 3090.2869  ,\n",
              "        2564.758   , 2660.5312  , 2928.9348  , 3690.557   , 3525.1433  ,\n",
              "        4183.6704  , 5144.068   , 4384.6533  , 4164.9614  , 4431.0967  ,\n",
              "        3335.1206  , 3017.6853  , 2589.5403  , 4103.6313  , 5582.089   ,\n",
              "        5108.4565  , 1382.9642  ,  953.5435  , 1081.6842  , 2483.1992  ,\n",
              "        2992.0552  , 3127.0942  , 2972.2717  , 3054.6477  , 3283.7107  ,\n",
              "        3617.367   , 1170.2559  , 1074.1888  , 1059.3181  , 1044.5385  ,\n",
              "        1060.62    , 2115.7224  , 3569.8901  , 3474.3647  , 2448.0173  ,\n",
              "        2641.4202  , 3188.602   , 4899.913   , 5516.2935  , 4635.4883  ,\n",
              "        4677.036   , 5732.88    , 5866.7344  , 8083.341   , 5049.8237  ,\n",
              "        1476.2327  , 1873.3309  , 1219.1027  , 2324.069   , 2467.0044  ,\n",
              "        3005.0872  , 2805.049   , 3688.2551  , 2962.7131  , 3664.2356  ,\n",
              "        5618.6836  , 6925.0913  , 9751.089   , 8790.822   , 5057.6245  ,\n",
              "        2971.6863  , 1715.495   , 1125.7706  , 2201.4314  , 3969.5005  ,\n",
              "        2988.5105  , 2911.934   , 2796.869   , 3937.875   , 5449.591   ,\n",
              "        6395.02    , 6148.2515  , 5437.706   , 4291.8257  , 2362.3967  ,\n",
              "        1657.3444  , 1426.6295  , 1647.7142  , 2730.398   , 1813.716   ,\n",
              "        2061.149   , 3095.72    , 4312.809   , 5500.723   , 5258.03    ,\n",
              "        5152.03    , 1331.404   , 1634.4012  , 2493.433   , 3957.9553  ,\n",
              "        4499.216   , 2215.8538  , 2587.4136  , 1622.4386  ,  591.87836 ,\n",
              "        1297.4694  , 1284.5938  ,  915.22656 ,  940.4565  , 1084.6562  ,\n",
              "         875.9001  , 1041.3538  , 2299.2517  , 3152.6033  , 3518.3918  ,\n",
              "        2531.5212  , 2682.5742  , 3094.2942  , 3829.3286  , 5550.61    ,\n",
              "        7159.3433  , 8820.526   , 8587.338   , 6777.814   , 5193.286   ,\n",
              "        4793.3325  , 2605.2522  , 1668.3544  , 2510.7244  , 4105.687   ,\n",
              "        6278.3906  , 4109.7583  , 1711.1205  , 2261.9878  , 2384.7534  ,\n",
              "        1246.6613  , 1672.8494  , 1103.1317  , 1743.3611  , 1608.4514  ,\n",
              "        1933.9006  , 2742.3442  , 3945.3638  , 5765.9404  , 6955.839   ,\n",
              "        8107.707   ], dtype=float32),\n",
              " 'mape': array([ 5.8601456 ,  4.087346  ,  3.77581   ,  4.187648  ,  4.9781313 ,\n",
              "         6.448362  ,  6.614449  ,  6.0616755 ,  7.5475893 ,  9.095917  ,\n",
              "        11.300213  , 10.396466  , 10.109089  , 10.697324  ,  7.862837  ,\n",
              "         3.6872823 ,  2.585637  ,  2.505     ,  3.3504553 ,  4.0135956 ,\n",
              "         2.0036247 ,  2.6397336 ,  2.6087892 ,  3.1609323 ,  1.9612147 ,\n",
              "         1.6679807 ,  1.7952247 ,  2.5901208 ,  2.436254  ,  3.1327312 ,\n",
              "         4.359541  ,  5.285642  ,  3.9403565 ,  4.3142104 ,  4.3733163 ,\n",
              "         3.637684  ,  4.362976  ,  3.7757337 ,  2.6192994 ,  2.9007592 ,\n",
              "         5.1501145 ,  2.0147438 ,  1.9706607 ,  1.8104095 ,  1.3007177 ,\n",
              "         0.75351447,  1.0192158 ,  1.4282547 ,  1.6741836 ,  2.3589606 ,\n",
              "         2.563099  ,  2.1327195 ,  2.5974777 ,  2.0173328 ,  3.138768  ,\n",
              "         4.5021305 ,  6.9596224 ,  6.9602156 ,  6.5331516 ,  6.5757847 ,\n",
              "         5.6102934 ,  3.0642097 ,  3.2474015 ,  3.4847279 ,  5.222716  ,\n",
              "         5.229472  ,  5.727943  ,  5.9273834 ,  2.5284553 ,  2.8664002 ,\n",
              "         3.430899  ,  4.687407  ,  5.841506  ,  4.30981   ,  3.3552744 ,\n",
              "         3.8162014 ,  2.7363582 ,  3.4623704 ,  4.971696  ,  7.026096  ,\n",
              "         8.974985  ,  7.167823  ,  3.401335  ,  2.7761242 ,  1.522323  ,\n",
              "         1.4535459 ,  1.6354676 ,  2.252781  ,  2.9475648 ,  5.0738997 ,\n",
              "         4.1032834 ,  4.2952967 ,  3.7052956 ,  2.4620814 ,  2.0132308 ,\n",
              "         3.8428285 ,  3.630666  ,  5.0162754 ,  6.2794676 ,  7.757465  ,\n",
              "         5.495671  ,  3.8907118 ,  2.8546865 ,  3.531113  ,  4.464891  ,\n",
              "         5.0162473 ,  6.1257253 ,  7.1294317 , 10.711446  , 10.6640835 ,\n",
              "        10.08725   ,  4.893643  ,  2.071729  ,  1.3628412 ,  1.8011061 ,\n",
              "         4.219873  ,  4.055696  ,  5.7449045 ,  7.4928746 , 15.032967  ,\n",
              "        24.388464  , 35.42812   , 34.702423  , 39.8611    , 42.83657   ,\n",
              "        49.6046    , 26.081127  , 13.66996   ,  6.36087   ,  5.498638  ,\n",
              "         7.992514  ,  6.8575478 ,  8.820611  ,  5.311197  ,  4.5279207 ,\n",
              "         3.870413  ,  6.228378  ,  5.247035  ,  5.1045513 ,  5.329423  ,\n",
              "         5.7789655 ,  5.358487  ,  3.2211275 ,  8.11844   , 10.2319765 ,\n",
              "         6.7268596 ,  5.757309  ,  2.4041252 ,  4.2864537 ,  2.9776907 ,\n",
              "         4.454852  ,  6.9261975 ,  6.1590714 ,  7.7638254 ,  6.308199  ,\n",
              "         5.737149  ,  1.9719439 ,  2.7191167 ,  2.3998733 ,  2.568591  ,\n",
              "         3.9530032 ,  3.6584768 ,  3.453558  ,  3.301868  ,  3.7942219 ,\n",
              "         4.3103228 ,  6.4319835 ,  8.567105  ,  6.293662  ,  7.0238786 ,\n",
              "         9.469169  ,  9.915066  , 11.217034  , 12.28066   ,  6.2092824 ,\n",
              "         3.2802734 ,  3.8508556 ,  3.6124747 ,  3.7172396 ,  4.6127787 ,\n",
              "         6.2338514 ,  6.037696  ,  7.1359625 , 10.132258  ,  9.337391  ,\n",
              "         3.379447  ,  5.190339  ,  7.822919  ,  4.2645    ,  2.328503  ,\n",
              "         3.0320938 ,  3.122556  ,  4.5721846 ,  5.013455  ,  7.0593185 ,\n",
              "         7.180874  ,  4.6288195 ,  2.4294462 ,  2.6893399 ,  2.1346948 ,\n",
              "         4.6703873 ,  7.4296765 ,  7.177756  ,  4.92744   ,  2.969763  ,\n",
              "         1.7036035 ,  2.10208   ,  2.790086  ,  1.9541011 ,  1.7562655 ,\n",
              "         3.8170435 ,  2.4557195 ,  3.3356555 ,  2.8912637 ,  3.800681  ,\n",
              "         4.3685193 ,  5.4371476 ,  1.9690486 ,  2.086854  ,  2.1329858 ,\n",
              "         2.4014482 ,  2.2829742 ,  1.9878368 ,  1.2127163 ,  1.8306142 ,\n",
              "         1.8156711 ,  2.5207567 ,  3.2923858 ,  3.5837202 ,  6.1877666 ,\n",
              "         3.1183949 ,  3.2884507 ,  1.3740205 ,  1.8472785 ,  1.5017166 ,\n",
              "         1.5671413 ,  1.5889224 ,  1.1630745 ,  0.83710647,  1.4223033 ,\n",
              "         1.4407492 ,  1.8030001 ,  1.4797007 ,  1.5990775 ,  2.2175827 ,\n",
              "         1.7130904 ,  2.142257  ,  1.8232663 ,  1.701559  ,  2.0563016 ,\n",
              "         1.7596675 ,  0.98229975,  1.4560648 ,  2.1070192 ,  2.411424  ,\n",
              "         3.0499995 ,  5.7738442 ,  6.618569  ,  7.495159  ,  8.227665  ,\n",
              "        10.186898  , 11.928125  , 11.676125  ,  5.199727  ,  2.592975  ,\n",
              "         2.1249938 ,  2.2335236 ,  1.9233059 ,  2.846622  ,  0.7076666 ,\n",
              "         1.0350628 ,  2.1322293 ,  1.778992  ,  2.1161122 ,  2.1635592 ,\n",
              "         2.4792838 ,  1.9270526 ,  2.2551262 ,  1.8457135 ,  1.8112589 ,\n",
              "         2.2626731 ,  2.3515143 ,  2.1173332 ,  3.2111573 ,  3.5736024 ,\n",
              "         5.3715706 ,  3.18694   ,  2.8585365 ,  2.295806  ,  3.0580947 ,\n",
              "         3.4806054 ,  2.5900269 ,  1.2625049 ,  1.4050388 ,  2.762227  ,\n",
              "         4.304955  ,  6.283071  ,  8.513568  , 10.517085  , 14.1610775 ,\n",
              "        13.640602  ,  9.320237  ,  6.308076  ,  1.6300542 ,  1.3983153 ,\n",
              "         1.8191814 ,  2.8875973 ,  4.068832  ,  4.1736465 ,  3.9228618 ,\n",
              "         4.0472746 ,  3.7387464 ,  2.3069751 ,  2.3063238 ,  3.194115  ,\n",
              "         4.5895944 ,  4.15794   ,  5.0558047 ,  3.3005733 ,  1.2102845 ,\n",
              "         1.0371118 ,  2.8088582 ,  1.8151615 ,  1.6353222 ,  2.2353542 ,\n",
              "         2.8412042 ,  2.9520016 ,  2.9187465 ,  1.8913047 ,  1.6178632 ,\n",
              "         1.2982832 ,  2.3039293 ,  2.6034784 ,  3.017652  ,  4.4442596 ,\n",
              "         5.5989375 ,  5.2669487 ,  4.535601  ,  1.8671715 ,  1.7055075 ,\n",
              "         2.3196962 ,  1.7318199 ,  2.7897227 ,  4.062603  ,  4.8944483 ,\n",
              "         7.6816416 ,  9.107798  ,  9.207179  ,  9.502263  ,  3.975476  ,\n",
              "         1.5744554 ,  1.5997045 ,  1.242374  ,  2.0770247 ,  1.9747138 ,\n",
              "         1.6764196 ,  1.3502706 ,  2.7858412 ,  3.9915662 ,  4.0835853 ,\n",
              "         5.0163    ,  7.6388383 ,  8.078356  ,  8.109137  ,  2.661267  ,\n",
              "         2.4994845 ,  2.2963924 ,  1.3040318 ,  3.2585602 ,  4.9145145 ,\n",
              "         4.7377896 ,  4.253874  ,  5.353144  ,  6.9800797 , 10.170479  ,\n",
              "         8.772201  ,  6.003796  ,  3.1840134 ,  3.0090022 ,  3.637018  ,\n",
              "         4.7740936 ,  6.289234  ,  6.4191875 ,  5.9040895 ,  4.9963107 ,\n",
              "         3.1906037 ,  5.8562365 ,  7.1810246 ,  7.2116504 ,  2.0219972 ,\n",
              "         1.5912403 ,  2.624319  ,  3.8534112 ,  3.5140638 ,  4.1405296 ,\n",
              "         3.6843975 ,  3.215591  ,  2.822819  ,  2.8898451 ,  6.284907  ,\n",
              "        11.45801   , 12.342688  , 13.764669  , 14.824157  , 15.566206  ,\n",
              "        10.829556  ,  4.9278226 ,  2.8345613 ,  3.0226736 ,  4.3118    ,\n",
              "         4.7200475 ,  5.516799  ,  9.303044  , 11.212711  , 11.037065  ,\n",
              "         8.631595  ,  8.577729  ,  9.389048  , 11.497773  , 10.463535  ,\n",
              "        11.683612  , 13.823773  , 11.273857  , 10.805961  , 11.400717  ,\n",
              "         8.496613  ,  7.889378  ,  7.169477  , 11.423848  , 15.540573  ,\n",
              "        14.246382  ,  3.8430908 ,  2.545029  ,  2.926236  ,  7.288314  ,\n",
              "         8.999363  ,  9.586316  ,  9.271836  ,  9.423251  , 10.242945  ,\n",
              "        11.396608  ,  3.6557925 ,  3.345475  ,  3.2290876 ,  3.159098  ,\n",
              "         3.1852565 ,  6.141241  , 10.163153  ,  9.673946  ,  6.657339  ,\n",
              "         6.975828  ,  8.377455  , 12.244584  , 13.002382  , 10.547294  ,\n",
              "        10.269914  , 12.405397  , 12.598526  , 17.187769  , 10.61679   ,\n",
              "         3.071772  ,  3.7662778 ,  2.3915367 ,  4.4263544 ,  4.6217527 ,\n",
              "         5.4785814 ,  5.1152296 ,  6.8264327 ,  5.61515   ,  7.0909553 ,\n",
              "        11.599258  , 14.51015   , 20.678543  , 18.670784  , 10.813841  ,\n",
              "         6.395925  ,  3.68131   ,  2.3239684 ,  4.4593782 ,  8.030951  ,\n",
              "         5.9532933 ,  5.6428714 ,  5.1379447 ,  7.1625314 ,  9.831413  ,\n",
              "        11.209798  , 10.556709  ,  9.350725  ,  7.3507614 ,  3.9944015 ,\n",
              "         2.8233469 ,  2.3929286 ,  2.8540497 ,  4.729089  ,  3.236382  ,\n",
              "         3.6810744 ,  5.6685753 ,  8.005047  , 10.247116  ,  9.747858  ,\n",
              "         9.5460415 ,  2.4771695 ,  2.9854107 ,  4.3493805 ,  6.8806477 ,\n",
              "         7.7586865 ,  3.8011413 ,  4.4251776 ,  2.7610888 ,  1.0093759 ,\n",
              "         2.242201  ,  2.2289157 ,  1.58688   ,  1.6239213 ,  1.8814766 ,\n",
              "         1.5162649 ,  1.7166442 ,  3.7594397 ,  5.097799  ,  5.664716  ,\n",
              "         4.0754285 ,  4.3486757 ,  5.141968  ,  6.618967  ,  9.823994  ,\n",
              "        12.981372  , 16.388018  , 16.260675  , 13.249782  , 10.180591  ,\n",
              "         9.383685  ,  5.1218467 ,  3.2893803 ,  4.6348934 ,  7.4068384 ,\n",
              "        11.284324  ,  7.2873487 ,  3.0196319 ,  4.006139  ,  4.172642  ,\n",
              "         2.233761  ,  3.0054173 ,  1.9702854 ,  3.1210968 ,  2.7774734 ,\n",
              "         3.4924905 ,  5.1419353 ,  7.6572046 , 11.470652  , 14.311544  ,\n",
              "        17.28017   ], dtype=float32),\n",
              " 'mase': 2.2020733,\n",
              " 'mse': array([3.15562156e+05, 1.69165703e+05, 1.44131703e+05, 1.76002828e+05,\n",
              "        2.63519750e+05, 3.91517094e+05, 3.99524688e+05, 3.44422312e+05,\n",
              "        4.93892281e+05, 6.88785625e+05, 9.18703500e+05, 8.00988125e+05,\n",
              "        6.35508625e+05, 6.45535188e+05, 3.57739844e+05, 1.03007117e+05,\n",
              "        5.33132891e+04, 4.65829805e+04, 1.10349227e+05, 1.11647734e+05,\n",
              "        4.35358633e+04, 5.45387773e+04, 4.55849375e+04, 7.64886719e+04,\n",
              "        4.03074453e+04, 2.71072305e+04, 1.90268887e+04, 4.55625273e+04,\n",
              "        4.25345820e+04, 6.63246172e+04, 1.16741633e+05, 1.69440797e+05,\n",
              "        1.10486977e+05, 1.59707547e+05, 1.61631141e+05, 1.23861852e+05,\n",
              "        1.50757422e+05, 1.31196297e+05, 5.50281562e+04, 6.28155977e+04,\n",
              "        1.77474406e+05, 2.68844238e+04, 2.53033574e+04, 2.58044258e+04,\n",
              "        1.34592529e+04, 3.88203076e+03, 9.22772363e+03, 1.22399551e+04,\n",
              "        2.20868711e+04, 3.60825352e+04, 4.87962109e+04, 3.74652266e+04,\n",
              "        4.10560898e+04, 4.17419023e+04, 1.10490836e+05, 2.00761969e+05,\n",
              "        3.48148844e+05, 3.58060812e+05, 3.28375219e+05, 2.96505938e+05,\n",
              "        2.33353984e+05, 1.54047203e+05, 1.43171328e+05, 1.62586469e+05,\n",
              "        2.96452719e+05, 2.66880344e+05, 2.94189062e+05, 3.10067656e+05,\n",
              "        6.27180000e+04, 8.63870469e+04, 9.69543984e+04, 2.01814516e+05,\n",
              "        2.97053594e+05, 2.00674781e+05, 1.27305148e+05, 1.32509578e+05,\n",
              "        8.46020391e+04, 1.74817453e+05, 2.95116000e+05, 4.75888781e+05,\n",
              "        7.21894375e+05, 4.62711281e+05, 1.33154750e+05, 8.13639844e+04,\n",
              "        3.43109023e+04, 3.45204180e+04, 5.36851602e+04, 7.42413281e+04,\n",
              "        1.09339375e+05, 2.79682750e+05, 2.19119422e+05, 1.99934203e+05,\n",
              "        1.65903391e+05, 8.16738047e+04, 4.82394414e+04, 1.65301000e+05,\n",
              "        1.81699297e+05, 3.30645000e+05, 4.63625750e+05, 6.75044000e+05,\n",
              "        3.34911500e+05, 1.69343750e+05, 1.03218859e+05, 1.48347594e+05,\n",
              "        2.98684844e+05, 3.71952656e+05, 4.43306688e+05, 5.27904688e+05,\n",
              "        1.12945275e+06, 1.00652981e+06, 8.03247312e+05, 2.21278000e+05,\n",
              "        6.64886406e+04, 2.66180898e+04, 3.29688867e+04, 1.68663250e+05,\n",
              "        1.76257219e+05, 2.99365719e+05, 4.31793562e+05, 1.91346712e+06,\n",
              "        3.90353850e+06, 6.29502450e+06, 5.49042400e+06, 6.25676850e+06,\n",
              "        6.28618050e+06, 7.23876450e+06, 2.08143575e+06, 6.66786562e+05,\n",
              "        1.44639953e+05, 1.83413719e+05, 3.41026656e+05, 3.02069719e+05,\n",
              "        3.71339719e+05, 2.02418219e+05, 1.36151141e+05, 8.24758281e+04,\n",
              "        1.96006641e+05, 1.61595578e+05, 1.71401469e+05, 2.00606266e+05,\n",
              "        2.37198875e+05, 1.58720156e+05, 6.36030820e+04, 3.38903938e+05,\n",
              "        5.23523969e+05, 2.86212156e+05, 1.92326125e+05, 3.73765820e+04,\n",
              "        1.31962000e+05, 9.33162656e+04, 1.18443672e+05, 3.00598719e+05,\n",
              "        2.28996922e+05, 3.57954281e+05, 2.36219000e+05, 1.71530328e+05,\n",
              "        2.68482344e+04, 4.79163203e+04, 4.00419062e+04, 5.41031875e+04,\n",
              "        1.07641375e+05, 9.80020000e+04, 7.08350078e+04, 6.55984766e+04,\n",
              "        8.53739609e+04, 1.33837531e+05, 2.72516312e+05, 6.54133375e+05,\n",
              "        4.97212750e+05, 6.11189875e+05, 9.92908125e+05, 9.56692312e+05,\n",
              "        1.09541375e+06, 1.19283125e+06, 3.75002156e+05, 2.22053797e+05,\n",
              "        2.60620016e+05, 1.88109625e+05, 1.87927500e+05, 2.49058609e+05,\n",
              "        3.79192656e+05, 4.07706656e+05, 6.24783062e+05, 9.62079375e+05,\n",
              "        7.95344625e+05, 1.40557531e+05, 2.65227281e+05, 6.26269500e+05,\n",
              "        2.05804078e+05, 6.53089570e+04, 1.33563031e+05, 1.14692070e+05,\n",
              "        2.26913016e+05, 2.61226703e+05, 5.08516250e+05, 4.90744562e+05,\n",
              "        2.38721891e+05, 6.85555703e+04, 7.30575938e+04, 5.36114727e+04,\n",
              "        3.28223438e+05, 6.26447125e+05, 5.17735562e+05, 3.32536156e+05,\n",
              "        1.72657453e+05, 8.28138125e+04, 1.43392656e+05, 8.83170391e+04,\n",
              "        5.15845430e+04, 4.20798125e+04, 1.78049219e+05, 1.17351570e+05,\n",
              "        1.16870320e+05, 1.02416617e+05, 1.67488922e+05, 2.05509953e+05,\n",
              "        2.73221469e+05, 4.73881172e+04, 4.60577500e+04, 5.33725273e+04,\n",
              "        7.87071094e+04, 7.06486719e+04, 5.23131289e+04, 2.50280723e+04,\n",
              "        4.52024609e+04, 4.14732461e+04, 7.00107344e+04, 1.24132148e+05,\n",
              "        1.34168156e+05, 3.38401219e+05, 9.75599844e+04, 1.10022875e+05,\n",
              "        1.99194824e+04, 3.32738164e+04, 2.43712324e+04, 2.76617012e+04,\n",
              "        2.70386660e+04, 1.58115801e+04, 1.16165869e+04, 2.74852148e+04,\n",
              "        2.95267363e+04, 3.95874922e+04, 2.81846035e+04, 3.19154473e+04,\n",
              "        5.60369375e+04, 3.98338398e+04, 5.02200195e+04, 3.19759512e+04,\n",
              "        2.96142441e+04, 4.48333711e+04, 4.32266758e+04, 1.52425674e+04,\n",
              "        2.86077324e+04, 4.23485820e+04, 7.25034219e+04, 1.21924688e+05,\n",
              "        6.41490688e+05, 8.50461562e+05, 1.11135312e+06, 1.22003100e+06,\n",
              "        1.54110212e+06, 2.03452038e+06, 1.76440575e+06, 4.22100781e+05,\n",
              "        1.30513859e+05, 7.30581328e+04, 8.56110391e+04, 7.42398281e+04,\n",
              "        1.49466672e+05, 1.25624268e+04, 2.13100293e+04, 9.81795781e+04,\n",
              "        7.28018516e+04, 1.26064758e+05, 1.01337953e+05, 1.24553164e+05,\n",
              "        7.13400000e+04, 8.41950469e+04, 6.25289375e+04, 8.18789453e+04,\n",
              "        1.27303305e+05, 8.94661250e+04, 1.04100523e+05, 1.66146922e+05,\n",
              "        2.32076422e+05, 4.41965156e+05, 1.75838281e+05, 1.76445219e+05,\n",
              "        9.12170703e+04, 1.67975469e+05, 1.87876422e+05, 1.07637141e+05,\n",
              "        3.26578262e+04, 5.35412734e+04, 1.38143609e+05, 3.28638500e+05,\n",
              "        6.38893812e+05, 1.08279325e+06, 1.55802512e+06, 2.42136850e+06,\n",
              "        2.08979912e+06, 9.83019312e+05, 4.27435656e+05, 5.84014961e+04,\n",
              "        4.02854375e+04, 5.27582930e+04, 1.33694250e+05, 2.41687594e+05,\n",
              "        2.54570391e+05, 2.18475609e+05, 2.39844859e+05, 1.72920250e+05,\n",
              "        9.46135625e+04, 8.14810703e+04, 1.83792094e+05, 3.41631531e+05,\n",
              "        2.67090906e+05, 3.54819844e+05, 1.69607578e+05, 2.63052676e+04,\n",
              "        2.11339941e+04, 1.11685898e+05, 6.08852578e+04, 4.64014688e+04,\n",
              "        6.97661953e+04, 1.16936102e+05, 1.44630969e+05, 1.14626898e+05,\n",
              "        7.92794609e+04, 5.69158320e+04, 3.03999336e+04, 9.47752500e+04,\n",
              "        1.19674977e+05, 2.15400000e+05, 3.15528000e+05, 4.17611562e+05,\n",
              "        3.91753844e+05, 2.83129906e+05, 8.15816328e+04, 5.00839805e+04,\n",
              "        1.01595930e+05, 6.17695586e+04, 3.16726438e+05, 5.76748000e+05,\n",
              "        7.41103312e+05, 1.33218000e+06, 1.56516188e+06, 1.55553325e+06,\n",
              "        1.68517862e+06, 3.21849656e+05, 6.30692422e+04, 7.78373750e+04,\n",
              "        5.12544375e+04, 1.14444250e+05, 1.13520141e+05, 7.03014531e+04,\n",
              "        4.71108398e+04, 4.52435781e+05, 7.79108188e+05, 7.32536312e+05,\n",
              "        1.03909088e+06, 1.56208775e+06, 1.63956712e+06, 1.72789938e+06,\n",
              "        4.00525656e+05, 2.34608641e+05, 1.76724859e+05, 6.78014844e+04,\n",
              "        3.90382281e+05, 9.80141375e+05, 1.03537131e+06, 8.44669812e+05,\n",
              "        1.38893975e+06, 1.98341138e+06, 3.62835550e+06, 2.66920750e+06,\n",
              "        1.42116975e+06, 4.54601844e+05, 3.65967062e+05, 9.46589188e+05,\n",
              "        1.45184738e+06, 1.85900112e+06, 1.89930475e+06, 1.82373125e+06,\n",
              "        1.21286000e+06, 4.94641594e+05, 1.49650425e+06, 2.03091575e+06,\n",
              "        2.25657300e+06, 2.11183000e+05, 1.21396016e+05, 3.04308844e+05,\n",
              "        7.11903438e+05, 6.20312312e+05, 8.05386562e+05, 6.26902875e+05,\n",
              "        5.66389875e+05, 4.27516500e+05, 7.83491375e+05, 3.63025775e+06,\n",
              "        8.18037750e+06, 1.07676250e+07, 1.26563580e+07, 1.33500370e+07,\n",
              "        1.33957410e+07, 6.52511100e+06, 1.60696712e+06, 8.56758062e+05,\n",
              "        1.15616662e+06, 1.69268912e+06, 2.17122850e+06, 3.34218225e+06,\n",
              "        7.84994850e+06, 1.08378930e+07, 1.05726990e+07, 1.01602540e+07,\n",
              "        1.14205860e+07, 1.16179750e+07, 1.73510020e+07, 1.79301800e+07,\n",
              "        2.70626460e+07, 3.72665520e+07, 2.97687340e+07, 2.14580120e+07,\n",
              "        2.44066140e+07, 1.56006550e+07, 1.03771300e+07, 9.93532800e+06,\n",
              "        2.18889460e+07, 3.45001800e+07, 2.72495140e+07, 2.51545175e+06,\n",
              "        2.11410550e+06, 1.65101288e+06, 8.78065000e+06, 1.42263940e+07,\n",
              "        1.50277600e+07, 1.42628750e+07, 1.11520980e+07, 1.31385740e+07,\n",
              "        1.44270190e+07, 2.10807200e+06, 2.37278675e+06, 2.06521262e+06,\n",
              "        1.51271400e+06, 1.63591825e+06, 6.01038350e+06, 1.48181850e+07,\n",
              "        1.51462730e+07, 8.88826900e+06, 1.03656340e+07, 1.24236550e+07,\n",
              "        3.12300180e+07, 4.44122520e+07, 3.35616920e+07, 3.37026000e+07,\n",
              "        4.33024640e+07, 4.04647440e+07, 6.68120760e+07, 2.68142400e+07,\n",
              "        3.37228925e+06, 6.18199550e+06, 3.33603800e+06, 9.76002300e+06,\n",
              "        9.50538200e+06, 1.48300350e+07, 1.08089050e+07, 1.52812310e+07,\n",
              "        1.21298770e+07, 1.47110950e+07, 4.46196920e+07, 6.19225800e+07,\n",
              "        1.05739032e+08, 8.06071680e+07, 3.00356640e+07, 1.30779130e+07,\n",
              "        4.55988750e+06, 1.67930500e+06, 6.99431850e+06, 1.63487150e+07,\n",
              "        1.21498960e+07, 1.21798620e+07, 1.68979740e+07, 2.39387000e+07,\n",
              "        3.73065640e+07, 5.09610480e+07, 4.59523160e+07, 3.20003800e+07,\n",
              "        2.06371500e+07, 8.14507250e+06, 4.14795750e+06, 4.23498600e+06,\n",
              "        3.09784525e+06, 8.37918150e+06, 7.36108300e+06, 7.06094350e+06,\n",
              "        1.57310800e+07, 2.78767140e+07, 4.07339960e+07, 3.28521600e+07,\n",
              "        2.89016540e+07, 3.40228125e+06, 3.84222975e+06, 8.10805500e+06,\n",
              "        1.74778840e+07, 2.13824620e+07, 5.77507300e+06, 7.30700850e+06,\n",
              "        3.70581200e+06, 6.14524688e+05, 1.92765288e+06, 2.29573400e+06,\n",
              "        1.09031975e+06, 1.19423488e+06, 2.01535425e+06, 1.38583962e+06,\n",
              "        2.60915525e+06, 7.48127550e+06, 1.25728670e+07, 1.49188270e+07,\n",
              "        7.64712350e+06, 9.50861200e+06, 1.16537360e+07, 2.15388360e+07,\n",
              "        4.32745160e+07, 6.52254160e+07, 9.30125040e+07, 8.49970400e+07,\n",
              "        5.87007080e+07, 3.43532480e+07, 2.82685860e+07, 9.30442500e+06,\n",
              "        4.66932300e+06, 8.00190000e+06, 2.05975640e+07, 4.07234120e+07,\n",
              "        1.93118780e+07, 4.04352975e+06, 5.92508550e+06, 7.37346650e+06,\n",
              "        2.68488525e+06, 5.27761600e+06, 1.84823212e+06, 4.87232550e+06,\n",
              "        4.87888250e+06, 5.77534650e+06, 1.21702210e+07, 2.70199520e+07,\n",
              "        4.94704840e+07, 6.90300960e+07, 8.50554880e+07], dtype=float32),\n",
              " 'rmse': array([  561.7492  ,   411.29758 ,   379.64682 ,   419.52692 ,\n",
              "          513.34174 ,   625.71326 ,   632.07965 ,   586.87506 ,\n",
              "          702.7747  ,   829.9311  ,   958.49023 ,   894.9794  ,\n",
              "          797.1879  ,   803.452   ,   598.1136  ,   320.9472  ,\n",
              "          230.89671 ,   215.8309  ,   332.18854 ,   334.1373  ,\n",
              "          208.6525  ,   233.53539 ,   213.50629 ,   276.56586 ,\n",
              "          200.76714 ,   164.64273 ,   137.93799 ,   213.45381 ,\n",
              "          206.23914 ,   257.53568 ,   341.67474 ,   411.63187 ,\n",
              "          332.3958  ,   399.63428 ,   402.03375 ,   351.94012 ,\n",
              "          388.27493 ,   362.2103  ,   234.58081 ,   250.6304  ,\n",
              "          421.2771  ,   163.9647  ,   159.0703  ,   160.63756 ,\n",
              "          116.01402 ,    62.305946,    96.06104 ,   110.63433 ,\n",
              "          148.61652 ,   189.95404 ,   220.89865 ,   193.55936 ,\n",
              "          202.62302 ,   204.30835 ,   332.4016  ,   448.0647  ,\n",
              "          590.0414  ,   598.38184 ,   573.04034 ,   544.52356 ,\n",
              "          483.06726 ,   392.48846 ,   378.37988 ,   403.22012 ,\n",
              "          544.47473 ,   516.6046  ,   542.39197 ,   556.8372  ,\n",
              "          250.43562 ,   293.91675 ,   311.375   ,   449.2377  ,\n",
              "          545.02625 ,   447.96738 ,   356.79846 ,   364.01865 ,\n",
              "          290.8643  ,   418.1118  ,   543.2458  ,   689.8469  ,\n",
              "          849.6437  ,   680.2288  ,   364.90375 ,   285.2437  ,\n",
              "          185.23203 ,   185.7967  ,   231.70058 ,   272.47263 ,\n",
              "          330.66504 ,   528.8504  ,   468.10193 ,   447.14    ,\n",
              "          407.3124  ,   285.7863  ,   219.6348  ,   406.57227 ,\n",
              "          426.262   ,   575.0174  ,   680.9007  ,   821.6106  ,\n",
              "          578.7154  ,   411.51398 ,   321.27692 ,   385.15918 ,\n",
              "          546.5207  ,   609.8792  ,   665.8128  ,   726.5705  ,\n",
              "         1062.7572  ,  1003.2596  ,   896.24066 ,   470.40195 ,\n",
              "          257.8539  ,   163.15051 ,   181.57336 ,   410.6863  ,\n",
              "          419.83    ,   547.14325 ,   657.11    ,  1383.2812  ,\n",
              "         1975.7374  ,  2508.9888  ,  2343.1653  ,  2501.3533  ,\n",
              "         2507.2256  ,  2690.495   ,  1442.7181  ,   816.57    ,\n",
              "          380.31558 ,   428.26828 ,   583.97485 ,   549.6087  ,\n",
              "          609.3765  ,   449.90912 ,   368.98663 ,   287.18607 ,\n",
              "          442.72638 ,   401.98953 ,   414.0066  ,   447.8909  ,\n",
              "          487.03067 ,   398.39697 ,   252.19652 ,   582.15454 ,\n",
              "          723.54956 ,   534.988   ,   438.55002 ,   193.33025 ,\n",
              "          363.26575 ,   305.4771  ,   344.15646 ,   548.26886 ,\n",
              "          478.53622 ,   598.2928  ,   486.02365 ,   414.1622  ,\n",
              "          163.85431 ,   218.89796 ,   200.10474 ,   232.60092 ,\n",
              "          328.08746 ,   313.0527  ,   266.14847 ,   256.122   ,\n",
              "          292.18823 ,   365.83813 ,   522.03094 ,   808.7851  ,\n",
              "          705.1331  ,   781.7863  ,   996.44775 ,   978.1065  ,\n",
              "         1046.6201  ,  1092.1681  ,   612.3742  ,   471.22583 ,\n",
              "          510.50955 ,   433.71606 ,   433.50604 ,   499.0577  ,\n",
              "          615.7862  ,   638.5191  ,   790.4322  ,   980.85645 ,\n",
              "          891.821   ,   374.91003 ,   515.0022  ,   791.3719  ,\n",
              "          453.65634 ,   255.55617 ,   365.46277 ,   338.66217 ,\n",
              "          476.35388 ,   511.10342 ,   713.1033  ,   700.5316  ,\n",
              "          488.59174 ,   261.83118 ,   270.2917  ,   231.54152 ,\n",
              "          572.9079  ,   791.48413 ,   719.53845 ,   576.6595  ,\n",
              "          415.5207  ,   287.7739  ,   378.67224 ,   297.18182 ,\n",
              "          227.12231 ,   205.13365 ,   421.9588  ,   342.56616 ,\n",
              "          341.863   ,   320.02597 ,   409.2541  ,   453.33206 ,\n",
              "          522.70593 ,   217.68813 ,   214.61069 ,   231.02495 ,\n",
              "          280.54788 ,   265.7982  ,   228.72064 ,   158.20264 ,\n",
              "          212.6087  ,   203.64981 ,   264.59543 ,   352.3239  ,\n",
              "          366.2897  ,   581.72266 ,   312.34595 ,   331.69696 ,\n",
              "          141.1364  ,   182.41112 ,   156.11288 ,   166.31807 ,\n",
              "          164.43439 ,   125.7441  ,   107.78027 ,   165.78665 ,\n",
              "          171.83345 ,   198.96606 ,   167.8827  ,   178.64896 ,\n",
              "          236.72122 ,   199.58417 ,   224.09824 ,   178.8182  ,\n",
              "          172.08789 ,   211.73892 ,   207.91026 ,   123.46079 ,\n",
              "          169.1382  ,   205.7877  ,   269.2646  ,   349.17715 ,\n",
              "          800.93115 ,   922.2047  ,  1054.2074  ,  1104.5502  ,\n",
              "         1241.4114  ,  1426.3661  ,  1328.3093  ,   649.6928  ,\n",
              "          361.26703 ,   270.2927  ,   292.59363 ,   272.46988 ,\n",
              "          386.6092  ,   112.08223 ,   145.97955 ,   313.3362  ,\n",
              "          269.81818 ,   355.056   ,   318.3362  ,   352.9209  ,\n",
              "          267.0955  ,   290.16382 ,   250.05786 ,   286.14496 ,\n",
              "          356.7959  ,   299.1089  ,   322.64612 ,   407.61124 ,\n",
              "          481.7431  ,   664.8046  ,   419.33075 ,   420.05383 ,\n",
              "          302.02164 ,   409.8481  ,   433.44714 ,   328.081   ,\n",
              "          180.71477 ,   231.38988 ,   371.67676 ,   573.27    ,\n",
              "          799.30835 ,  1040.5735  ,  1248.2087  ,  1556.0747  ,\n",
              "         1445.6138  ,   991.4733  ,   653.78564 ,   241.66402 ,\n",
              "          200.71233 ,   229.69174 ,   365.64224 ,   491.6173  ,\n",
              "          504.54968 ,   467.41376 ,   489.7396  ,   415.8368  ,\n",
              "          307.59317 ,   285.44888 ,   428.7098  ,   584.49255 ,\n",
              "          516.8084  ,   595.66754 ,   411.8344  ,   162.18898 ,\n",
              "          145.37535 ,   334.1944  ,   246.74939 ,   215.41    ,\n",
              "          264.1329  ,   341.9592  ,   380.30377 ,   338.56595 ,\n",
              "          281.5661  ,   238.57039 ,   174.35577 ,   307.8559  ,\n",
              "          345.9407  ,   464.11206 ,   561.7188  ,   646.2287  ,\n",
              "          625.9024  ,   532.09955 ,   285.625   ,   223.79451 ,\n",
              "          318.74115 ,   248.53482 ,   562.78455 ,   759.4393  ,\n",
              "          860.8736  ,  1154.201   ,  1251.0643  ,  1247.2102  ,\n",
              "         1298.1443  ,   567.31793 ,   251.13591 ,   278.9935  ,\n",
              "          226.39442 ,   338.2961  ,   336.9275  ,   265.14423 ,\n",
              "          217.05032 ,   672.6335  ,   882.6711  ,   855.88336 ,\n",
              "         1019.3581  ,  1249.8351  ,  1280.4558  ,  1314.4958  ,\n",
              "          632.871   ,   484.36417 ,   420.38657 ,   260.38718 ,\n",
              "          624.8058  ,   990.0209  ,  1017.532   ,   919.0592  ,\n",
              "         1178.5328  ,  1408.3364  ,  1904.8242  ,  1633.771   ,\n",
              "         1192.1283  ,   674.2417  ,   604.9521  ,   972.92816 ,\n",
              "         1204.9263  ,  1363.4519  ,  1378.1527  ,  1350.4559  ,\n",
              "         1101.2992  ,   703.3076  ,  1223.3169  ,  1425.102   ,\n",
              "         1502.1895  ,   459.5465  ,   348.4193  ,   551.64197 ,\n",
              "          843.7437  ,   787.59906 ,   897.43335 ,   791.772   ,\n",
              "          752.5888  ,   653.8475  ,   885.15045 ,  1905.3235  ,\n",
              "         2860.136   ,  3281.406   ,  3557.5776  ,  3653.7703  ,\n",
              "         3660.0193  ,  2554.4297  ,  1267.6621  ,   925.61224 ,\n",
              "         1075.2518  ,  1301.0338  ,  1473.5089  ,  1828.1636  ,\n",
              "         2801.776   ,  3292.0955  ,  3251.5686  ,  3187.5154  ,\n",
              "         3379.4358  ,  3408.5151  ,  4165.4536  ,  4234.4043  ,\n",
              "         5202.1772  ,  6104.634   ,  5456.073   ,  4632.2793  ,\n",
              "         4940.305   ,  3949.7664  ,  3221.3552  ,  3152.0356  ,\n",
              "         4678.5625  ,  5873.6855  ,  5220.107   ,  1586.0176  ,\n",
              "         1453.9963  ,  1284.9175  ,  2963.216   ,  3771.7893  ,\n",
              "         3876.5654  ,  3776.622   ,  3339.4756  ,  3624.717   ,\n",
              "         3798.2915  ,  1451.9202  ,  1540.3853  ,  1437.0847  ,\n",
              "         1229.9244  ,  1279.0302  ,  2451.6084  ,  3849.4395  ,\n",
              "         3891.8213  ,  2981.32    ,  3219.5706  ,  3524.7205  ,\n",
              "         5588.3823  ,  6664.252   ,  5793.2456  ,  5805.394   ,\n",
              "         6580.461   ,  6361.1904  ,  8173.865   ,  5178.2466  ,\n",
              "         1836.3794  ,  2486.3618  ,  1826.4824  ,  3124.1035  ,\n",
              "         3083.0798  ,  3850.9785  ,  3287.69    ,  3909.1216  ,\n",
              "         3482.7974  ,  3835.5046  ,  6679.7974  ,  7869.0903  ,\n",
              "        10282.948   ,  8978.149   ,  5480.4805  ,  3616.3398  ,\n",
              "         2135.3894  ,  1295.88    ,  2644.6775  ,  4043.3545  ,\n",
              "         3485.6702  ,  3489.9658  ,  4110.7144  ,  4892.719   ,\n",
              "         6107.91    ,  7138.7007  ,  6778.814   ,  5656.8877  ,\n",
              "         4542.813   ,  2853.9573  ,  2036.6536  ,  2057.9082  ,\n",
              "         1760.0697  ,  2894.6816  ,  2713.1316  ,  2657.2437  ,\n",
              "         3966.2427  ,  5279.8403  ,  6382.319   ,  5731.68    ,\n",
              "         5376.026   ,  1844.5273  ,  1960.1606  ,  2847.4646  ,\n",
              "         4180.656   ,  4624.117   ,  2403.1382  ,  2703.148   ,\n",
              "         1925.0486  ,   783.91626 ,  1388.3994  ,  1515.168   ,\n",
              "         1044.1837  ,  1092.8105  ,  1419.6317  ,  1177.2169  ,\n",
              "         1615.288   ,  2735.1921  ,  3545.824   ,  3862.4897  ,\n",
              "         2765.3433  ,  3083.6038  ,  3413.7568  ,  4640.995   ,\n",
              "         6578.337   ,  8076.2256  ,  9644.299   ,  9219.384   ,\n",
              "         7661.6387  ,  5861.1646  ,  5316.821   ,  3050.3157  ,\n",
              "         2160.8616  ,  2828.763   ,  4538.454   ,  6381.4897  ,\n",
              "         4394.5283  ,  2010.853   ,  2434.15    ,  2715.4128  ,\n",
              "         1638.5619  ,  2297.3062  ,  1359.4971  ,  2207.3345  ,\n",
              "         2208.8193  ,  2403.195   ,  3488.5845  ,  5198.072   ,\n",
              "         7033.526   ,  8308.436   ,  9222.554   ], dtype=float32)}"
            ]
          },
          "metadata": {
            "tags": []
          },
          "execution_count": 66
        }
      ]
    },
    {
      "cell_type": "markdown",
      "metadata": {
        "id": "XkfxzrIouKqt"
      },
      "source": [
        "## Updating the evaluation function to work for larger horizons"
      ]
    },
    {
      "cell_type": "code",
      "metadata": {
        "id": "cIJS9Pbsu5Rt"
      },
      "source": [
        "# Create a function to take in model preds and true values\n",
        "\n",
        "def evaluate_preds(y_true,y_pred):\n",
        "  # Make sure float32 for metric calculations\n",
        "  y_true = tf.cast(y_true, dtype=tf.float32)\n",
        "  y_pred = tf.cast(y_pred, dtype=tf.float32)\n",
        "\n",
        "  # Calc evals\n",
        "  mae = tf.keras.metrics.mean_absolute_error(y_true, y_pred)\n",
        "  mse = tf.keras.metrics.mean_squared_error(y_true, y_pred)\n",
        "  rmse = tf.sqrt(mse)\n",
        "  mape = tf.keras.metrics.mean_absolute_percentage_error(y_true, y_pred)\n",
        "  mase = mean_absolute_scaled_error(y_true, y_pred)\n",
        "\n",
        "  # Account for different sized metrics (longer horizons)\n",
        "\n",
        "  if mae.ndim > 0:\n",
        "    mae = tf.reduce_mean(mae)\n",
        "    mse = tf.reduce_mean(mse)\n",
        "    rmse = tf.reduce_mean(rmse)\n",
        "    mape = tf.reduce_mean(mape)\n",
        "    mase = tf.reduce_mean(mase)\n",
        "\n",
        "\n",
        "  return {\"mae\": mae.numpy(),\n",
        "          \"mse\": mse.numpy(),\n",
        "          \"rmse\": rmse.numpy(),\n",
        "          \"mape\": mape.numpy(),\n",
        "          \"mase\": mase.numpy()}"
      ],
      "execution_count": 67,
      "outputs": []
    },
    {
      "cell_type": "code",
      "metadata": {
        "colab": {
          "base_uri": "https://localhost:8080/"
        },
        "id": "bJen6jmKwAYe",
        "outputId": "93df97e0-b58c-4247-f538-3cd6cef9ff83"
      },
      "source": [
        "# Model_3 results\n",
        "\n",
        "model_3_results = evaluate_preds(y_true=tf.squeeze(test_labels),\n",
        "                                 y_pred=model_3_preds)\n",
        "model_3_results"
      ],
      "execution_count": 68,
      "outputs": [
        {
          "output_type": "execute_result",
          "data": {
            "text/plain": [
              "{'mae': 1237.5063,\n",
              " 'mape': 5.5588784,\n",
              " 'mase': 2.2020733,\n",
              " 'mse': 5405198.5,\n",
              " 'rmse': 1425.7477}"
            ]
          },
          "metadata": {
            "tags": []
          },
          "execution_count": 68
        }
      ]
    },
    {
      "cell_type": "code",
      "metadata": {
        "colab": {
          "base_uri": "https://localhost:8080/",
          "height": 606
        },
        "id": "UPuWCGLJwJ-r",
        "outputId": "b75ae4f7-b4a6-43bd-995a-e5dce6537aed"
      },
      "source": [
        "# Plot the model\n",
        "\n",
        "offset=420\n",
        "plt.figure(figsize=(15,10))\n",
        "\n",
        "plot_time_series(timesteps=X_test[-len(test_windows):], values=test_labels[:, 0], start=offset, label=\"Test Data\")\n",
        "plot_time_series(timesteps=X_test[-len(test_windows):], values=model_3_preds, format=\"-\", start=offset, label=\"model_3_preds\")"
      ],
      "execution_count": 69,
      "outputs": [
        {
          "output_type": "display_data",
          "data": {
            "image/png": "[encoded data removed]",
            "text/plain": [
              "<Figure size 1080x720 with 1 Axes>"
            ]
          },
          "metadata": {
            "tags": [],
            "needs_background": "light"
          }
        }
      ]
    },
    {
      "cell_type": "code",
      "metadata": {
        "colab": {
          "base_uri": "https://localhost:8080/",
          "height": 606
        },
        "id": "7bQ9LESsxEnC",
        "outputId": "7a9cd112-dcde-4b9c-9057-0b07d22e2cd7"
      },
      "source": [
        "# Time to reduce_mean aka aggregate values\n",
        "\n",
        "offset=420\n",
        "plt.figure(figsize=(15,10))\n",
        "\n",
        "plot_time_series(timesteps=X_test[-len(test_windows):], values=test_labels[:, 0], start=offset, label=\"Test Data\")\n",
        "plot_time_series(timesteps=X_test[-len(test_windows):], values=tf.reduce_mean(model_3_preds, axis=1), format=\"-\", start=offset, label=\"model_3_preds\")"
      ],
      "execution_count": 70,
      "outputs": [
        {
          "output_type": "display_data",
          "data": {
            "image/png": "[encoded data removed]",
            "text/plain": [
              "<Figure size 1080x720 with 1 Axes>"
            ]
          },
          "metadata": {
            "tags": [],
            "needs_background": "light"
          }
        }
      ]
    },
    {
      "cell_type": "markdown",
      "metadata": {
        "id": "ZpBEc161zKAi"
      },
      "source": [
        "### Which models performs best so far?\n",
        "\n",
        "Let's compare them so far"
      ]
    },
    {
      "cell_type": "code",
      "metadata": {
        "colab": {
          "base_uri": "https://localhost:8080/",
          "height": 440
        },
        "id": "iHEfziMq2sWD",
        "outputId": "7fb3dea3-76a2-402f-a922-4c8516460092"
      },
      "source": [
        "pd.DataFrame({\"naive\": naive_results[\"mae\"],\n",
        "              \"window_7_horizon_1\": model_1_results[\"mae\"],\n",
        "              \"window_30_horizon_1\": model_2_results[\"mae\"],\n",
        "              \"window_30_horizon_7\": model_3_results[\"mae\"]}, index=[\"mae\"]).plot(figsize=(10,7), kind=\"bar\");"
      ],
      "execution_count": 71,
      "outputs": [
        {
          "output_type": "display_data",
          "data": {
            "image/png": "[encoded data removed]",
            "text/plain": [
              "<Figure size 720x504 with 1 Axes>"
            ]
          },
          "metadata": {
            "tags": [],
            "needs_background": "light"
          }
        }
      ]
    },
    {
      "cell_type": "markdown",
      "metadata": {
        "id": "IOr2xbk93WFl"
      },
      "source": [
        "## Model 4: Conv1D Model\n",
        "\n"
      ]
    },
    {
      "cell_type": "code",
      "metadata": {
        "id": "RzugmzqG55Tn"
      },
      "source": [
        "HORIZON = 1\n",
        "WINDOW_SIZE = 7"
      ],
      "execution_count": 72,
      "outputs": []
    },
    {
      "cell_type": "code",
      "metadata": {
        "colab": {
          "base_uri": "https://localhost:8080/"
        },
        "id": "_ZglQTHa6ACv",
        "outputId": "085b31c8-50d7-40e4-db9b-01ae96468896"
      },
      "source": [
        "# Create dataset\n",
        "\n",
        "full_windows, full_labels = make_windows(prices, window_size=WINDOW_SIZE, horizon=HORIZON)\n",
        "len(full_windows), len(full_labels)"
      ],
      "execution_count": 73,
      "outputs": [
        {
          "output_type": "execute_result",
          "data": {
            "text/plain": [
              "(2780, 2780)"
            ]
          },
          "metadata": {
            "tags": []
          },
          "execution_count": 73
        }
      ]
    },
    {
      "cell_type": "code",
      "metadata": {
        "colab": {
          "base_uri": "https://localhost:8080/"
        },
        "id": "Q1ZM6-ip6LWU",
        "outputId": "6d0bc125-5141-418e-9440-2a672e61f31a"
      },
      "source": [
        "# Train and test sets\n",
        "\n",
        "train_windows, test_windows, train_labels, test_labels = make_train_test_splits(full_windows, full_labels)\n",
        "\n",
        "len(train_windows), len(test_windows), len(train_labels), len(test_labels)"
      ],
      "execution_count": 74,
      "outputs": [
        {
          "output_type": "execute_result",
          "data": {
            "text/plain": [
              "(2224, 556, 2224, 556)"
            ]
          },
          "metadata": {
            "tags": []
          },
          "execution_count": 74
        }
      ]
    },
    {
      "cell_type": "markdown",
      "metadata": {
        "id": "MCp1Oenv6Tg8"
      },
      "source": [
        "Need an input shape of: `(batch_size , timesteps, input_dim)`"
      ]
    },
    {
      "cell_type": "code",
      "metadata": {
        "colab": {
          "base_uri": "https://localhost:8080/"
        },
        "id": "yS4zQjeI6zCR",
        "outputId": "f3bc10f2-4202-4d0d-8b03-ca54e74b5a7d"
      },
      "source": [
        "# Data input shape\n",
        "\n",
        "train_windows[0].shape # Returns window size\n"
      ],
      "execution_count": 75,
      "outputs": [
        {
          "output_type": "execute_result",
          "data": {
            "text/plain": [
              "(7,)"
            ]
          },
          "metadata": {
            "tags": []
          },
          "execution_count": 75
        }
      ]
    },
    {
      "cell_type": "code",
      "metadata": {
        "colab": {
          "base_uri": "https://localhost:8080/"
        },
        "id": "jKOXYwbm61-x",
        "outputId": "75e0de31-1be3-4df6-ae85-59a03710b3d8"
      },
      "source": [
        "# Before passing the data to conv1d, we have to reshape, to make it work\n",
        "x = tf.constant(train_windows[0])\n",
        "x"
      ],
      "execution_count": 76,
      "outputs": [
        {
          "output_type": "execute_result",
          "data": {
            "text/plain": [
              "<tf.Tensor: shape=(7,), dtype=float64, numpy=\n",
              "array([123.65499, 125.455  , 108.58483, 118.67466, 121.33866, 120.65533,\n",
              "       121.795  ])>"
            ]
          },
          "metadata": {
            "tags": []
          },
          "execution_count": 76
        }
      ]
    },
    {
      "cell_type": "code",
      "metadata": {
        "colab": {
          "base_uri": "https://localhost:8080/"
        },
        "id": "FlhUhOUD7R-X",
        "outputId": "0c458fe8-e99c-4ac8-d8ec-9e23b7828952"
      },
      "source": [
        "expand_dims_layers = layers.Lambda(lambda x: tf.expand_dims(x, axis=1)) # Adds extra dimension for input_dim\n",
        "expand_dims_layers"
      ],
      "execution_count": 77,
      "outputs": [
        {
          "output_type": "execute_result",
          "data": {
            "text/plain": [
              "<tensorflow.python.keras.layers.core.Lambda at 0x7f4919eff910>"
            ]
          },
          "metadata": {
            "tags": []
          },
          "execution_count": 77
        }
      ]
    },
    {
      "cell_type": "code",
      "metadata": {
        "colab": {
          "base_uri": "https://localhost:8080/"
        },
        "id": "TPjxIWF67fj1",
        "outputId": "57d51a92-6c37-47e2-f165-47b8d003c1b9"
      },
      "source": [
        "# Test out lambda layer\n",
        "\n",
        "print(f\"Original shape: {x.shape}\") # window size\n",
        "print(f\"Expanded shape: {expand_dims_layers(x).shape}\") # window size + extra dimension for input_dim\n",
        "print(f\"Original values with expanded shape:\\n {expand_dims_layers(x)}\")"
      ],
      "execution_count": 78,
      "outputs": [
        {
          "output_type": "stream",
          "text": [
            "Original shape: (7,)\n",
            "Expanded shape: (7, 1)\n",
            "Original values with expanded shape:\n",
            " [[123.65499]\n",
            " [125.455  ]\n",
            " [108.58483]\n",
            " [118.67466]\n",
            " [121.33866]\n",
            " [120.65533]\n",
            " [121.795  ]]\n"
          ],
          "name": "stdout"
        }
      ]
    },
    {
      "cell_type": "code",
      "metadata": {
        "colab": {
          "base_uri": "https://localhost:8080/"
        },
        "id": "3wbEFb8C7zCs",
        "outputId": "9daa455b-0f7c-463e-bd21-83246dbc72e9"
      },
      "source": [
        "# Set seed\n",
        "tf.random.set_seed(42)\n",
        "\n",
        "# Create model\n",
        "model_4 = tf.keras.Sequential([\n",
        "  layers.Lambda(lambda x: tf.expand_dims(x, axis=1)),\n",
        "  layers.Conv1D(128, kernel_size=5, strides=1, padding=\"causal\", activation=\"relu\"),\n",
        "  layers.Dense(HORIZON)\n",
        "], name=\"model_4_conv1d\")\n",
        "\n",
        "# Compile\n",
        "model_4.compile(loss=\"mae\",\n",
        "                optimizer=\"adam\")\n",
        "\n",
        "# Fit the model\n",
        "model_4.fit(train_windows,\n",
        "            train_labels,\n",
        "            epochs=100,\n",
        "            batch_size=128,\n",
        "            verbose=0,\n",
        "            validation_data=(test_windows, test_labels),\n",
        "            callbacks=[create_model_checkpoint(model_name=model_4.name)])"
      ],
      "execution_count": 79,
      "outputs": [
        {
          "output_type": "stream",
          "text": [
            "INFO:tensorflow:Assets written to: model_experiments/model_4_conv1d/assets\n",
            "INFO:tensorflow:Assets written to: model_experiments/model_4_conv1d/assets\n",
            "INFO:tensorflow:Assets written to: model_experiments/model_4_conv1d/assets\n",
            "INFO:tensorflow:Assets written to: model_experiments/model_4_conv1d/assets\n",
            "INFO:tensorflow:Assets written to: model_experiments/model_4_conv1d/assets\n",
            "INFO:tensorflow:Assets written to: model_experiments/model_4_conv1d/assets\n",
            "INFO:tensorflow:Assets written to: model_experiments/model_4_conv1d/assets\n",
            "INFO:tensorflow:Assets written to: model_experiments/model_4_conv1d/assets\n",
            "INFO:tensorflow:Assets written to: model_experiments/model_4_conv1d/assets\n",
            "INFO:tensorflow:Assets written to: model_experiments/model_4_conv1d/assets\n",
            "INFO:tensorflow:Assets written to: model_experiments/model_4_conv1d/assets\n",
            "INFO:tensorflow:Assets written to: model_experiments/model_4_conv1d/assets\n",
            "INFO:tensorflow:Assets written to: model_experiments/model_4_conv1d/assets\n",
            "INFO:tensorflow:Assets written to: model_experiments/model_4_conv1d/assets\n",
            "INFO:tensorflow:Assets written to: model_experiments/model_4_conv1d/assets\n",
            "INFO:tensorflow:Assets written to: model_experiments/model_4_conv1d/assets\n",
            "INFO:tensorflow:Assets written to: model_experiments/model_4_conv1d/assets\n",
            "INFO:tensorflow:Assets written to: model_experiments/model_4_conv1d/assets\n",
            "INFO:tensorflow:Assets written to: model_experiments/model_4_conv1d/assets\n",
            "INFO:tensorflow:Assets written to: model_experiments/model_4_conv1d/assets\n",
            "INFO:tensorflow:Assets written to: model_experiments/model_4_conv1d/assets\n",
            "INFO:tensorflow:Assets written to: model_experiments/model_4_conv1d/assets\n",
            "INFO:tensorflow:Assets written to: model_experiments/model_4_conv1d/assets\n",
            "INFO:tensorflow:Assets written to: model_experiments/model_4_conv1d/assets\n",
            "INFO:tensorflow:Assets written to: model_experiments/model_4_conv1d/assets\n",
            "INFO:tensorflow:Assets written to: model_experiments/model_4_conv1d/assets\n",
            "INFO:tensorflow:Assets written to: model_experiments/model_4_conv1d/assets\n",
            "INFO:tensorflow:Assets written to: model_experiments/model_4_conv1d/assets\n",
            "INFO:tensorflow:Assets written to: model_experiments/model_4_conv1d/assets\n",
            "INFO:tensorflow:Assets written to: model_experiments/model_4_conv1d/assets\n",
            "INFO:tensorflow:Assets written to: model_experiments/model_4_conv1d/assets\n",
            "INFO:tensorflow:Assets written to: model_experiments/model_4_conv1d/assets\n",
            "INFO:tensorflow:Assets written to: model_experiments/model_4_conv1d/assets\n",
            "INFO:tensorflow:Assets written to: model_experiments/model_4_conv1d/assets\n",
            "INFO:tensorflow:Assets written to: model_experiments/model_4_conv1d/assets\n",
            "INFO:tensorflow:Assets written to: model_experiments/model_4_conv1d/assets\n",
            "INFO:tensorflow:Assets written to: model_experiments/model_4_conv1d/assets\n",
            "INFO:tensorflow:Assets written to: model_experiments/model_4_conv1d/assets\n",
            "INFO:tensorflow:Assets written to: model_experiments/model_4_conv1d/assets\n"
          ],
          "name": "stdout"
        },
        {
          "output_type": "execute_result",
          "data": {
            "text/plain": [
              "<tensorflow.python.keras.callbacks.History at 0x7f491b112250>"
            ]
          },
          "metadata": {
            "tags": []
          },
          "execution_count": 79
        }
      ]
    },
    {
      "cell_type": "code",
      "metadata": {
        "colab": {
          "base_uri": "https://localhost:8080/"
        },
        "id": "rI6EWgVXAgFI",
        "outputId": "eed7ca4d-0d61-4fb4-936a-638682d1aa8c"
      },
      "source": [
        "model_4.summary()"
      ],
      "execution_count": 80,
      "outputs": [
        {
          "output_type": "stream",
          "text": [
            "Model: \"model_4_conv1d\"\n",
            "_________________________________________________________________\n",
            "Layer (type)                 Output Shape              Param #   \n",
            "=================================================================\n",
            "lambda_1 (Lambda)            (None, 1, 7)              0         \n",
            "_________________________________________________________________\n",
            "conv1d (Conv1D)              (None, 1, 128)            4608      \n",
            "_________________________________________________________________\n",
            "dense_6 (Dense)              (None, 1, 1)              129       \n",
            "=================================================================\n",
            "Total params: 4,737\n",
            "Trainable params: 4,737\n",
            "Non-trainable params: 0\n",
            "_________________________________________________________________\n"
          ],
          "name": "stdout"
        }
      ]
    },
    {
      "cell_type": "code",
      "metadata": {
        "colab": {
          "base_uri": "https://localhost:8080/"
        },
        "id": "NaY2aYnr_Hy1",
        "outputId": "71761160-8c92-4745-b9c2-c8b5d4823056"
      },
      "source": [
        "# Eval model\n",
        "\n",
        "model_4.evaluate(train_windows, train_labels)"
      ],
      "execution_count": 81,
      "outputs": [
        {
          "output_type": "stream",
          "text": [
            "70/70 [==============================] - 0s 3ms/step - loss: 111.2363\n"
          ],
          "name": "stdout"
        },
        {
          "output_type": "execute_result",
          "data": {
            "text/plain": [
              "111.23632049560547"
            ]
          },
          "metadata": {
            "tags": []
          },
          "execution_count": 81
        }
      ]
    },
    {
      "cell_type": "code",
      "metadata": {
        "colab": {
          "base_uri": "https://localhost:8080/"
        },
        "id": "ZZuYojuaAinF",
        "outputId": "7f818f80-8f5e-4759-cacd-ae6dfab26f02"
      },
      "source": [
        "# Load best model\n",
        "\n",
        "model_4 = tf.keras.models.load_model(\"model_experiments/model_4_conv1d/\")\n",
        "model_4.evaluate(test_windows, test_labels)"
      ],
      "execution_count": 82,
      "outputs": [
        {
          "output_type": "stream",
          "text": [
            "18/18 [==============================] - 0s 3ms/step - loss: 570.8284\n"
          ],
          "name": "stdout"
        },
        {
          "output_type": "execute_result",
          "data": {
            "text/plain": [
              "570.8284301757812"
            ]
          },
          "metadata": {
            "tags": []
          },
          "execution_count": 82
        }
      ]
    },
    {
      "cell_type": "code",
      "metadata": {
        "colab": {
          "base_uri": "https://localhost:8080/"
        },
        "id": "pNfkyoOIAv6s",
        "outputId": "5f1833d6-a6a7-4ca9-b63d-099a36e708ad"
      },
      "source": [
        "# Make preds\n",
        "\n",
        "model_4_preds = make_preds(model_4,\n",
        "                           input_data=test_windows)\n",
        "model_4_preds[:5]"
      ],
      "execution_count": 83,
      "outputs": [
        {
          "output_type": "execute_result",
          "data": {
            "text/plain": [
              "<tf.Tensor: shape=(5,), dtype=float32, numpy=array([8851.464, 8754.469, 8983.927, 8759.67 , 8703.627], dtype=float32)>"
            ]
          },
          "metadata": {
            "tags": []
          },
          "execution_count": 83
        }
      ]
    },
    {
      "cell_type": "code",
      "metadata": {
        "colab": {
          "base_uri": "https://localhost:8080/"
        },
        "id": "UkOQTMCYA1qA",
        "outputId": "e9fa7ad4-47c9-4502-98b5-d005c6624bd7"
      },
      "source": [
        "# model_4 results\n",
        "\n",
        "model_4_results = evaluate_preds(y_true=tf.squeeze(test_labels),\n",
        "                                 y_pred=model_4_preds)\n",
        "model_4_results"
      ],
      "execution_count": 84,
      "outputs": [
        {
          "output_type": "execute_result",
          "data": {
            "text/plain": [
              "{'mae': 570.8285,\n",
              " 'mape': 2.559336,\n",
              " 'mase': 1.0027876,\n",
              " 'mse': 1176671.6,\n",
              " 'rmse': 1084.745}"
            ]
          },
          "metadata": {
            "tags": []
          },
          "execution_count": 84
        }
      ]
    },
    {
      "cell_type": "code",
      "metadata": {
        "colab": {
          "base_uri": "https://localhost:8080/"
        },
        "id": "dAdQ5ek1CNfF",
        "outputId": "1665b57a-369e-428a-8065-726b7573a173"
      },
      "source": [
        "naive_results"
      ],
      "execution_count": 85,
      "outputs": [
        {
          "output_type": "execute_result",
          "data": {
            "text/plain": [
              "{'mae': 567.9802,\n",
              " 'mape': 2.516525,\n",
              " 'mase': 0.99957,\n",
              " 'mse': 1147547.0,\n",
              " 'rmse': 1071.2362}"
            ]
          },
          "metadata": {
            "tags": []
          },
          "execution_count": 85
        }
      ]
    },
    {
      "cell_type": "code",
      "metadata": {
        "colab": {
          "base_uri": "https://localhost:8080/",
          "height": 606
        },
        "id": "_YoaL61FBnt1",
        "outputId": "3b0dc084-bf40-4682-9d2c-46024c7ecd86"
      },
      "source": [
        "# Plot the model\n",
        "\n",
        "offset=300\n",
        "plt.figure(figsize=(15,10))\n",
        "\n",
        "plot_time_series(timesteps=X_test[-len(test_windows):], values=test_labels[:, 0], start=offset, label=\"Test Data\")\n",
        "plot_time_series(timesteps=X_test[-len(test_windows):], values=model_4_preds, format=\"-\", start=offset, label=\"model_4_preds\")"
      ],
      "execution_count": 86,
      "outputs": [
        {
          "output_type": "display_data",
          "data": {
            "image/png": "[encoded data removed]",
            "text/plain": [
              "<Figure size 1080x720 with 1 Axes>"
            ]
          },
          "metadata": {
            "tags": [],
            "needs_background": "light"
          }
        }
      ]
    },
    {
      "cell_type": "markdown",
      "metadata": {
        "id": "GOcrsAzrCLIE"
      },
      "source": [
        "## Model 5: RNN (LSTM) - Same data as Model 4"
      ]
    },
    {
      "cell_type": "code",
      "metadata": {
        "colab": {
          "base_uri": "https://localhost:8080/"
        },
        "id": "PG1Adl9_lyma",
        "outputId": "d0970909-049d-46f5-deb4-7f6bb7c91654"
      },
      "source": [
        "tf.random.set_seed(42)\n",
        "\n",
        "# Create model (functional API)\n",
        "inputs = layers.Input(shape=(WINDOW_SIZE))\n",
        "x = layers.Lambda(lambda x: tf.expand_dims(x, axis=1))(inputs)\n",
        "# x = layers.LSTM(128, return_sequences=True)(x) # Future Testing\n",
        "x = layers.LSTM(128, activation=\"relu\")(x)\n",
        "# x = layers.Dense(32, activation=\"relu\")(x) # Future testing\n",
        "\n",
        "output = layers.Dense(HORIZON)(x)\n",
        "\n",
        "model_5 = tf.keras.Model(inputs=inputs, outputs=output, name=\"model_5_LSTM\")\n",
        "\n",
        "# Compile model\n",
        "model_5.compile(loss=\"mae\",\n",
        "                optimizer=\"adam\")\n",
        "\n",
        "# Fit model\n",
        "model_5.fit(train_windows,\n",
        "            train_labels,\n",
        "            epochs=100,\n",
        "            verbose=1,\n",
        "            batch_size=128,\n",
        "            validation_data=(test_windows, test_labels),\n",
        "            callbacks=[create_model_checkpoint(model_name=model_5.name)])"
      ],
      "execution_count": 87,
      "outputs": [
        {
          "output_type": "stream",
          "text": [
            "WARNING:tensorflow:Layer lstm will not use cuDNN kernels since it doesn't meet the criteria. It will use a generic GPU kernel as fallback when running on GPU.\n",
            "Epoch 1/100\n",
            "18/18 [==============================] - 2s 22ms/step - loss: 2323.6082 - val_loss: 9222.6523\n",
            "INFO:tensorflow:Assets written to: model_experiments/model_5_LSTM/assets\n",
            "Epoch 2/100\n",
            "18/18 [==============================] - 0s 9ms/step - loss: 695.4739 - val_loss: 1486.0555\n",
            "INFO:tensorflow:Assets written to: model_experiments/model_5_LSTM/assets\n",
            "Epoch 3/100\n",
            "18/18 [==============================] - 0s 8ms/step - loss: 237.3967 - val_loss: 1298.9084\n",
            "INFO:tensorflow:Assets written to: model_experiments/model_5_LSTM/assets\n",
            "Epoch 4/100\n",
            "18/18 [==============================] - 0s 8ms/step - loss: 181.9180 - val_loss: 966.6430\n",
            "INFO:tensorflow:Assets written to: model_experiments/model_5_LSTM/assets\n",
            "Epoch 5/100\n",
            "18/18 [==============================] - 0s 8ms/step - loss: 173.4022 - val_loss: 970.9295\n",
            "Epoch 6/100\n",
            "18/18 [==============================] - 0s 7ms/step - loss: 173.5414 - val_loss: 941.4746\n",
            "INFO:tensorflow:Assets written to: model_experiments/model_5_LSTM/assets\n",
            "Epoch 7/100\n",
            "18/18 [==============================] - 0s 7ms/step - loss: 170.3566 - val_loss: 898.5215\n",
            "INFO:tensorflow:Assets written to: model_experiments/model_5_LSTM/assets\n",
            "Epoch 8/100\n",
            "18/18 [==============================] - 0s 9ms/step - loss: 157.6712 - val_loss: 914.8641\n",
            "Epoch 9/100\n",
            "18/18 [==============================] - 0s 9ms/step - loss: 166.5143 - val_loss: 1079.0775\n",
            "Epoch 10/100\n",
            "18/18 [==============================] - 0s 8ms/step - loss: 162.3369 - val_loss: 877.1689\n",
            "INFO:tensorflow:Assets written to: model_experiments/model_5_LSTM/assets\n",
            "Epoch 11/100\n",
            "18/18 [==============================] - 0s 8ms/step - loss: 163.0841 - val_loss: 924.1126\n",
            "Epoch 12/100\n",
            "18/18 [==============================] - 0s 8ms/step - loss: 168.5598 - val_loss: 941.6025\n",
            "Epoch 13/100\n",
            "18/18 [==============================] - 0s 8ms/step - loss: 166.4727 - val_loss: 934.8435\n",
            "Epoch 14/100\n",
            "18/18 [==============================] - 0s 9ms/step - loss: 163.9537 - val_loss: 920.2159\n",
            "Epoch 15/100\n",
            "18/18 [==============================] - 0s 9ms/step - loss: 152.9470 - val_loss: 856.2653\n",
            "INFO:tensorflow:Assets written to: model_experiments/model_5_LSTM/assets\n",
            "Epoch 16/100\n",
            "18/18 [==============================] - 0s 8ms/step - loss: 147.4420 - val_loss: 898.9912\n",
            "Epoch 17/100\n",
            "18/18 [==============================] - 0s 7ms/step - loss: 151.0533 - val_loss: 943.1415\n",
            "Epoch 18/100\n",
            "18/18 [==============================] - 0s 8ms/step - loss: 157.8232 - val_loss: 924.0045\n",
            "Epoch 19/100\n",
            "18/18 [==============================] - 0s 8ms/step - loss: 155.9198 - val_loss: 911.4751\n",
            "Epoch 20/100\n",
            "18/18 [==============================] - 0s 9ms/step - loss: 155.6456 - val_loss: 862.6679\n",
            "Epoch 21/100\n",
            "18/18 [==============================] - 0s 8ms/step - loss: 153.1514 - val_loss: 862.5831\n",
            "Epoch 22/100\n",
            "18/18 [==============================] - 0s 8ms/step - loss: 151.4883 - val_loss: 863.8171\n",
            "Epoch 23/100\n",
            "18/18 [==============================] - 0s 8ms/step - loss: 150.7770 - val_loss: 886.8352\n",
            "Epoch 24/100\n",
            "18/18 [==============================] - 0s 9ms/step - loss: 148.6539 - val_loss: 861.3268\n",
            "Epoch 25/100\n",
            "18/18 [==============================] - 0s 9ms/step - loss: 146.8467 - val_loss: 845.2780\n",
            "INFO:tensorflow:Assets written to: model_experiments/model_5_LSTM/assets\n",
            "Epoch 26/100\n",
            "18/18 [==============================] - 0s 8ms/step - loss: 145.9843 - val_loss: 818.6807\n",
            "INFO:tensorflow:Assets written to: model_experiments/model_5_LSTM/assets\n",
            "Epoch 27/100\n",
            "18/18 [==============================] - 0s 8ms/step - loss: 144.4289 - val_loss: 804.3278\n",
            "INFO:tensorflow:Assets written to: model_experiments/model_5_LSTM/assets\n",
            "Epoch 28/100\n",
            "18/18 [==============================] - 0s 8ms/step - loss: 142.4610 - val_loss: 789.0858\n",
            "INFO:tensorflow:Assets written to: model_experiments/model_5_LSTM/assets\n",
            "Epoch 29/100\n",
            "18/18 [==============================] - 0s 8ms/step - loss: 141.8738 - val_loss: 806.6756\n",
            "Epoch 30/100\n",
            "18/18 [==============================] - 0s 7ms/step - loss: 142.0521 - val_loss: 794.8835\n",
            "Epoch 31/100\n",
            "18/18 [==============================] - 0s 8ms/step - loss: 138.4690 - val_loss: 773.2811\n",
            "INFO:tensorflow:Assets written to: model_experiments/model_5_LSTM/assets\n",
            "Epoch 32/100\n",
            "18/18 [==============================] - 0s 17ms/step - loss: 137.1986 - val_loss: 772.2625\n",
            "INFO:tensorflow:Assets written to: model_experiments/model_5_LSTM/assets\n",
            "Epoch 33/100\n",
            "18/18 [==============================] - 0s 8ms/step - loss: 135.9342 - val_loss: 786.4801\n",
            "Epoch 34/100\n",
            "18/18 [==============================] - 0s 8ms/step - loss: 136.1931 - val_loss: 744.4506\n",
            "INFO:tensorflow:Assets written to: model_experiments/model_5_LSTM/assets\n",
            "Epoch 35/100\n",
            "18/18 [==============================] - 0s 7ms/step - loss: 133.4514 - val_loss: 756.2968\n",
            "Epoch 36/100\n",
            "18/18 [==============================] - 0s 8ms/step - loss: 134.0992 - val_loss: 735.1729\n",
            "INFO:tensorflow:Assets written to: model_experiments/model_5_LSTM/assets\n",
            "Epoch 37/100\n",
            "18/18 [==============================] - 0s 9ms/step - loss: 130.6932 - val_loss: 745.9096\n",
            "Epoch 38/100\n",
            "18/18 [==============================] - 0s 7ms/step - loss: 129.2891 - val_loss: 717.2498\n",
            "INFO:tensorflow:Assets written to: model_experiments/model_5_LSTM/assets\n",
            "Epoch 39/100\n",
            "18/18 [==============================] - 0s 9ms/step - loss: 129.6088 - val_loss: 719.0669\n",
            "Epoch 40/100\n",
            "18/18 [==============================] - 0s 8ms/step - loss: 129.6111 - val_loss: 732.0630\n",
            "Epoch 41/100\n",
            "18/18 [==============================] - 0s 9ms/step - loss: 127.1393 - val_loss: 702.9354\n",
            "INFO:tensorflow:Assets written to: model_experiments/model_5_LSTM/assets\n",
            "Epoch 42/100\n",
            "18/18 [==============================] - 0s 8ms/step - loss: 125.6113 - val_loss: 700.8699\n",
            "INFO:tensorflow:Assets written to: model_experiments/model_5_LSTM/assets\n",
            "Epoch 43/100\n",
            "18/18 [==============================] - 0s 8ms/step - loss: 125.9959 - val_loss: 704.3680\n",
            "Epoch 44/100\n",
            "18/18 [==============================] - 0s 8ms/step - loss: 125.2330 - val_loss: 719.1411\n",
            "Epoch 45/100\n",
            "18/18 [==============================] - 0s 8ms/step - loss: 129.0878 - val_loss: 687.3796\n",
            "INFO:tensorflow:Assets written to: model_experiments/model_5_LSTM/assets\n",
            "Epoch 46/100\n",
            "18/18 [==============================] - 0s 8ms/step - loss: 124.9461 - val_loss: 706.3905\n",
            "Epoch 47/100\n",
            "18/18 [==============================] - 0s 8ms/step - loss: 126.0465 - val_loss: 678.0845\n",
            "INFO:tensorflow:Assets written to: model_experiments/model_5_LSTM/assets\n",
            "Epoch 48/100\n",
            "18/18 [==============================] - 0s 9ms/step - loss: 123.9412 - val_loss: 677.1480\n",
            "INFO:tensorflow:Assets written to: model_experiments/model_5_LSTM/assets\n",
            "Epoch 49/100\n",
            "18/18 [==============================] - 0s 7ms/step - loss: 123.1814 - val_loss: 700.9755\n",
            "Epoch 50/100\n",
            "18/18 [==============================] - 0s 8ms/step - loss: 125.1446 - val_loss: 725.7572\n",
            "Epoch 51/100\n",
            "18/18 [==============================] - 0s 8ms/step - loss: 125.5208 - val_loss: 780.1040\n",
            "Epoch 52/100\n",
            "18/18 [==============================] - 0s 8ms/step - loss: 123.5061 - val_loss: 663.2543\n",
            "INFO:tensorflow:Assets written to: model_experiments/model_5_LSTM/assets\n",
            "Epoch 53/100\n",
            "18/18 [==============================] - 0s 8ms/step - loss: 120.0524 - val_loss: 665.6277\n",
            "Epoch 54/100\n",
            "18/18 [==============================] - 0s 8ms/step - loss: 120.4394 - val_loss: 658.1812\n",
            "INFO:tensorflow:Assets written to: model_experiments/model_5_LSTM/assets\n",
            "Epoch 55/100\n",
            "18/18 [==============================] - 0s 8ms/step - loss: 118.6817 - val_loss: 650.8017\n",
            "INFO:tensorflow:Assets written to: model_experiments/model_5_LSTM/assets\n",
            "Epoch 56/100\n",
            "18/18 [==============================] - 0s 8ms/step - loss: 120.2385 - val_loss: 646.9162\n",
            "INFO:tensorflow:Assets written to: model_experiments/model_5_LSTM/assets\n",
            "Epoch 57/100\n",
            "18/18 [==============================] - 0s 8ms/step - loss: 123.6108 - val_loss: 676.0363\n",
            "Epoch 58/100\n",
            "18/18 [==============================] - 0s 9ms/step - loss: 118.2166 - val_loss: 642.8526\n",
            "INFO:tensorflow:Assets written to: model_experiments/model_5_LSTM/assets\n",
            "Epoch 59/100\n",
            "18/18 [==============================] - 0s 8ms/step - loss: 117.8050 - val_loss: 644.1140\n",
            "Epoch 60/100\n",
            "18/18 [==============================] - 0s 9ms/step - loss: 118.0277 - val_loss: 640.6298\n",
            "INFO:tensorflow:Assets written to: model_experiments/model_5_LSTM/assets\n",
            "Epoch 61/100\n",
            "18/18 [==============================] - 0s 8ms/step - loss: 117.6757 - val_loss: 674.2546\n",
            "Epoch 62/100\n",
            "18/18 [==============================] - 0s 8ms/step - loss: 120.8419 - val_loss: 736.8734\n",
            "Epoch 63/100\n",
            "18/18 [==============================] - 0s 8ms/step - loss: 122.4814 - val_loss: 641.0597\n",
            "Epoch 64/100\n",
            "18/18 [==============================] - 0s 9ms/step - loss: 115.6879 - val_loss: 665.2364\n",
            "Epoch 65/100\n",
            "18/18 [==============================] - 0s 9ms/step - loss: 117.8764 - val_loss: 629.4848\n",
            "INFO:tensorflow:Assets written to: model_experiments/model_5_LSTM/assets\n",
            "Epoch 66/100\n",
            "18/18 [==============================] - 0s 9ms/step - loss: 115.7342 - val_loss: 627.8654\n",
            "INFO:tensorflow:Assets written to: model_experiments/model_5_LSTM/assets\n",
            "Epoch 67/100\n",
            "18/18 [==============================] - 0s 7ms/step - loss: 116.0720 - val_loss: 624.9843\n",
            "INFO:tensorflow:Assets written to: model_experiments/model_5_LSTM/assets\n",
            "Epoch 68/100\n",
            "18/18 [==============================] - 0s 8ms/step - loss: 115.8544 - val_loss: 626.7468\n",
            "Epoch 69/100\n",
            "18/18 [==============================] - 0s 9ms/step - loss: 119.5743 - val_loss: 623.6360\n",
            "INFO:tensorflow:Assets written to: model_experiments/model_5_LSTM/assets\n",
            "Epoch 70/100\n",
            "18/18 [==============================] - 0s 9ms/step - loss: 115.2881 - val_loss: 623.5431\n",
            "INFO:tensorflow:Assets written to: model_experiments/model_5_LSTM/assets\n",
            "Epoch 71/100\n",
            "18/18 [==============================] - 0s 9ms/step - loss: 114.6981 - val_loss: 640.9242\n",
            "Epoch 72/100\n",
            "18/18 [==============================] - 0s 9ms/step - loss: 117.3488 - val_loss: 621.0178\n",
            "INFO:tensorflow:Assets written to: model_experiments/model_5_LSTM/assets\n",
            "Epoch 73/100\n",
            "18/18 [==============================] - 0s 8ms/step - loss: 114.7942 - val_loss: 629.5701\n",
            "Epoch 74/100\n",
            "18/18 [==============================] - 0s 8ms/step - loss: 115.1500 - val_loss: 626.9415\n",
            "Epoch 75/100\n",
            "18/18 [==============================] - 0s 9ms/step - loss: 115.9312 - val_loss: 662.2502\n",
            "Epoch 76/100\n",
            "18/18 [==============================] - 0s 7ms/step - loss: 115.1412 - val_loss: 620.8359\n",
            "INFO:tensorflow:Assets written to: model_experiments/model_5_LSTM/assets\n",
            "Epoch 77/100\n",
            "18/18 [==============================] - 0s 8ms/step - loss: 117.6456 - val_loss: 668.2390\n",
            "Epoch 78/100\n",
            "18/18 [==============================] - 0s 8ms/step - loss: 117.0707 - val_loss: 628.1731\n",
            "Epoch 79/100\n",
            "18/18 [==============================] - 0s 8ms/step - loss: 113.6489 - val_loss: 610.1957\n",
            "INFO:tensorflow:Assets written to: model_experiments/model_5_LSTM/assets\n",
            "Epoch 80/100\n",
            "18/18 [==============================] - 0s 7ms/step - loss: 113.0044 - val_loss: 624.5187\n",
            "Epoch 81/100\n",
            "18/18 [==============================] - 0s 9ms/step - loss: 113.2803 - val_loss: 632.4530\n",
            "Epoch 82/100\n",
            "18/18 [==============================] - 0s 9ms/step - loss: 115.9831 - val_loss: 607.7241\n",
            "INFO:tensorflow:Assets written to: model_experiments/model_5_LSTM/assets\n",
            "Epoch 83/100\n",
            "18/18 [==============================] - 0s 8ms/step - loss: 113.7448 - val_loss: 622.1393\n",
            "Epoch 84/100\n",
            "18/18 [==============================] - 0s 8ms/step - loss: 114.0071 - val_loss: 619.6950\n",
            "Epoch 85/100\n",
            "18/18 [==============================] - 0s 9ms/step - loss: 114.1199 - val_loss: 640.6756\n",
            "Epoch 86/100\n",
            "18/18 [==============================] - 0s 8ms/step - loss: 115.0656 - val_loss: 613.5978\n",
            "Epoch 87/100\n",
            "18/18 [==============================] - 0s 7ms/step - loss: 112.2010 - val_loss: 607.8956\n",
            "Epoch 88/100\n",
            "18/18 [==============================] - 0s 9ms/step - loss: 112.1981 - val_loss: 601.7839\n",
            "INFO:tensorflow:Assets written to: model_experiments/model_5_LSTM/assets\n",
            "Epoch 89/100\n",
            "18/18 [==============================] - 0s 7ms/step - loss: 112.8817 - val_loss: 647.1225\n",
            "Epoch 90/100\n",
            "18/18 [==============================] - 0s 7ms/step - loss: 118.4780 - val_loss: 660.7481\n",
            "Epoch 91/100\n",
            "18/18 [==============================] - 0s 9ms/step - loss: 118.6482 - val_loss: 685.7650\n",
            "Epoch 92/100\n",
            "18/18 [==============================] - 0s 8ms/step - loss: 114.3789 - val_loss: 622.2435\n",
            "Epoch 93/100\n",
            "18/18 [==============================] - 0s 7ms/step - loss: 113.3837 - val_loss: 599.4068\n",
            "INFO:tensorflow:Assets written to: model_experiments/model_5_LSTM/assets\n",
            "Epoch 94/100\n",
            "18/18 [==============================] - 0s 9ms/step - loss: 111.0267 - val_loss: 600.6318\n",
            "Epoch 95/100\n",
            "18/18 [==============================] - 0s 8ms/step - loss: 111.1373 - val_loss: 597.5020\n",
            "INFO:tensorflow:Assets written to: model_experiments/model_5_LSTM/assets\n",
            "Epoch 96/100\n",
            "18/18 [==============================] - 0s 8ms/step - loss: 111.1646 - val_loss: 603.2917\n",
            "Epoch 97/100\n",
            "18/18 [==============================] - 0s 8ms/step - loss: 111.7010 - val_loss: 618.8985\n",
            "Epoch 98/100\n",
            "18/18 [==============================] - 0s 8ms/step - loss: 111.8481 - val_loss: 598.4055\n",
            "Epoch 99/100\n",
            "18/18 [==============================] - 0s 9ms/step - loss: 110.7292 - val_loss: 596.6447\n",
            "INFO:tensorflow:Assets written to: model_experiments/model_5_LSTM/assets\n",
            "Epoch 100/100\n",
            "18/18 [==============================] - 0s 8ms/step - loss: 112.5656 - val_loss: 597.1186\n"
          ],
          "name": "stdout"
        },
        {
          "output_type": "execute_result",
          "data": {
            "text/plain": [
              "<tensorflow.python.keras.callbacks.History at 0x7f4919e17210>"
            ]
          },
          "metadata": {
            "tags": []
          },
          "execution_count": 87
        }
      ]
    },
    {
      "cell_type": "code",
      "metadata": {
        "colab": {
          "base_uri": "https://localhost:8080/"
        },
        "id": "2owtPG14n6XP",
        "outputId": "d485099a-6f1d-4d20-a02b-2f693f1e84f3"
      },
      "source": [
        "# Load best model_5\n",
        "\n",
        "model_5 = tf.keras.models.load_model(\"model_experiments/model_5_LSTM/\")\n",
        "model_5.evaluate(test_windows, test_labels)"
      ],
      "execution_count": 88,
      "outputs": [
        {
          "output_type": "stream",
          "text": [
            "WARNING:tensorflow:Layer lstm will not use cuDNN kernels since it doesn't meet the criteria. It will use a generic GPU kernel as fallback when running on GPU.\n",
            "18/18 [==============================] - 0s 2ms/step - loss: 596.6447\n"
          ],
          "name": "stdout"
        },
        {
          "output_type": "execute_result",
          "data": {
            "text/plain": [
              "596.6446533203125"
            ]
          },
          "metadata": {
            "tags": []
          },
          "execution_count": 88
        }
      ]
    },
    {
      "cell_type": "code",
      "metadata": {
        "colab": {
          "base_uri": "https://localhost:8080/"
        },
        "id": "ON1c0SWcpbZg",
        "outputId": "026dd798-cd39-4306-cb85-45f326f78aec"
      },
      "source": [
        "# Make preds\n",
        "\n",
        "model_5_preds = make_preds(model_5, test_windows)\n",
        "model_5_preds[:3]"
      ],
      "execution_count": 89,
      "outputs": [
        {
          "output_type": "execute_result",
          "data": {
            "text/plain": [
              "<tf.Tensor: shape=(3,), dtype=float32, numpy=array([8991.225, 8823.2  , 9009.359], dtype=float32)>"
            ]
          },
          "metadata": {
            "tags": []
          },
          "execution_count": 89
        }
      ]
    },
    {
      "cell_type": "code",
      "metadata": {
        "colab": {
          "base_uri": "https://localhost:8080/"
        },
        "id": "DMWsGbQ5plv1",
        "outputId": "fa18efec-9416-4583-95df-a4823af8a871"
      },
      "source": [
        "# Eval model 5\n",
        "\n",
        "model_5_results = evaluate_preds(y_true=tf.squeeze(test_labels),\n",
        "                                 y_pred=model_5_preds)\n",
        "model_5_results"
      ],
      "execution_count": 90,
      "outputs": [
        {
          "output_type": "execute_result",
          "data": {
            "text/plain": [
              "{'mae': 596.64465,\n",
              " 'mape': 2.6838453,\n",
              " 'mase': 1.0481395,\n",
              " 'mse': 1273486.9,\n",
              " 'rmse': 1128.4888}"
            ]
          },
          "metadata": {
            "tags": []
          },
          "execution_count": 90
        }
      ]
    },
    {
      "cell_type": "code",
      "metadata": {
        "colab": {
          "base_uri": "https://localhost:8080/"
        },
        "id": "egjQyTKQqUVn",
        "outputId": "6c1004c4-6c62-40b0-bac4-bec3713118fc"
      },
      "source": [
        "naive_results, model_4_results"
      ],
      "execution_count": 91,
      "outputs": [
        {
          "output_type": "execute_result",
          "data": {
            "text/plain": [
              "({'mae': 567.9802,\n",
              "  'mape': 2.516525,\n",
              "  'mase': 0.99957,\n",
              "  'mse': 1147547.0,\n",
              "  'rmse': 1071.2362},\n",
              " {'mae': 570.8285,\n",
              "  'mape': 2.559336,\n",
              "  'mase': 1.0027876,\n",
              "  'mse': 1176671.6,\n",
              "  'rmse': 1084.745})"
            ]
          },
          "metadata": {
            "tags": []
          },
          "execution_count": 91
        }
      ]
    },
    {
      "cell_type": "code",
      "metadata": {
        "colab": {
          "base_uri": "https://localhost:8080/",
          "height": 606
        },
        "id": "fKJFKsdapvD0",
        "outputId": "fc1b156c-ebc0-4a0e-ceba-750df09cc261"
      },
      "source": [
        "# Plot the model\n",
        "\n",
        "offset=300\n",
        "plt.figure(figsize=(15,10))\n",
        "#\n",
        "plot_time_series(timesteps=X_test[-len(test_windows):], values=test_labels[:, 0], start=offset, label=\"Test Data\")\n",
        "plot_time_series(timesteps=X_test[-len(test_windows):], values=model_5_preds, format=\"-\", start=offset, label=\"model_5_preds\")"
      ],
      "execution_count": 92,
      "outputs": [
        {
          "output_type": "display_data",
          "data": {
            "image/png": "[encoded data removed]",
            "text/plain": [
              "<Figure size 1080x720 with 1 Axes>"
            ]
          },
          "metadata": {
            "tags": [],
            "needs_background": "light"
          }
        }
      ]
    },
    {
      "cell_type": "markdown",
      "metadata": {
        "id": "hbZ15kAEqYZA"
      },
      "source": [
        "### Modeling tip 🔑\n",
        "\n",
        "Nueral Network are powerfl algorithms, and can be used for almost anything. Doesn't mean that they'll perform or have usable results in every application/dataset"
      ]
    },
    {
      "cell_type": "markdown",
      "metadata": {
        "id": "aKDlVTm_qSZj"
      },
      "source": [
        "## Making a multivariate dataset\n",
        "\n",
        "What features can we use?\n",
        "\n",
        "* Bitcoin halving events"
      ]
    },
    {
      "cell_type": "code",
      "metadata": {
        "colab": {
          "base_uri": "https://localhost:8080/",
          "height": 235
        },
        "id": "_kHVijkIq_G2",
        "outputId": "b2d6c356-7afe-467c-daaf-a2b8f194852c"
      },
      "source": [
        "# Multivariate time series\n",
        "\n",
        "bitcoin_prices.head()"
      ],
      "execution_count": 93,
      "outputs": [
        {
          "output_type": "execute_result",
          "data": {
            "text/html": [
              "<div>\n",
              "<style scoped>\n",
              "    .dataframe tbody tr th:only-of-type {\n",
              "        vertical-align: middle;\n",
              "    }\n",
              "\n",
              "    .dataframe tbody tr th {\n",
              "        vertical-align: top;\n",
              "    }\n",
              "\n",
              "    .dataframe thead th {\n",
              "        text-align: right;\n",
              "    }\n",
              "</style>\n",
              "<table border=\"1\" class=\"dataframe\">\n",
              "  <thead>\n",
              "    <tr style=\"text-align: right;\">\n",
              "      <th></th>\n",
              "      <th>Price</th>\n",
              "    </tr>\n",
              "    <tr>\n",
              "      <th>Date</th>\n",
              "      <th></th>\n",
              "    </tr>\n",
              "  </thead>\n",
              "  <tbody>\n",
              "    <tr>\n",
              "      <th>2013-10-01</th>\n",
              "      <td>123.65499</td>\n",
              "    </tr>\n",
              "    <tr>\n",
              "      <th>2013-10-02</th>\n",
              "      <td>125.45500</td>\n",
              "    </tr>\n",
              "    <tr>\n",
              "      <th>2013-10-03</th>\n",
              "      <td>108.58483</td>\n",
              "    </tr>\n",
              "    <tr>\n",
              "      <th>2013-10-04</th>\n",
              "      <td>118.67466</td>\n",
              "    </tr>\n",
              "    <tr>\n",
              "      <th>2013-10-05</th>\n",
              "      <td>121.33866</td>\n",
              "    </tr>\n",
              "  </tbody>\n",
              "</table>\n",
              "</div>"
            ],
            "text/plain": [
              "                Price\n",
              "Date                 \n",
              "2013-10-01  123.65499\n",
              "2013-10-02  125.45500\n",
              "2013-10-03  108.58483\n",
              "2013-10-04  118.67466\n",
              "2013-10-05  121.33866"
            ]
          },
          "metadata": {
            "tags": []
          },
          "execution_count": 93
        }
      ]
    },
    {
      "cell_type": "code",
      "metadata": {
        "colab": {
          "base_uri": "https://localhost:8080/",
          "height": 235
        },
        "id": "FF8JxVGquGkU",
        "outputId": "5772bf21-8ef0-4d80-a7d1-250eecf50186"
      },
      "source": [
        "bitcoin_prices.tail()"
      ],
      "execution_count": 94,
      "outputs": [
        {
          "output_type": "execute_result",
          "data": {
            "text/html": [
              "<div>\n",
              "<style scoped>\n",
              "    .dataframe tbody tr th:only-of-type {\n",
              "        vertical-align: middle;\n",
              "    }\n",
              "\n",
              "    .dataframe tbody tr th {\n",
              "        vertical-align: top;\n",
              "    }\n",
              "\n",
              "    .dataframe thead th {\n",
              "        text-align: right;\n",
              "    }\n",
              "</style>\n",
              "<table border=\"1\" class=\"dataframe\">\n",
              "  <thead>\n",
              "    <tr style=\"text-align: right;\">\n",
              "      <th></th>\n",
              "      <th>Price</th>\n",
              "    </tr>\n",
              "    <tr>\n",
              "      <th>Date</th>\n",
              "      <th></th>\n",
              "    </tr>\n",
              "  </thead>\n",
              "  <tbody>\n",
              "    <tr>\n",
              "      <th>2021-05-14</th>\n",
              "      <td>49764.132082</td>\n",
              "    </tr>\n",
              "    <tr>\n",
              "      <th>2021-05-15</th>\n",
              "      <td>50032.693137</td>\n",
              "    </tr>\n",
              "    <tr>\n",
              "      <th>2021-05-16</th>\n",
              "      <td>47885.625255</td>\n",
              "    </tr>\n",
              "    <tr>\n",
              "      <th>2021-05-17</th>\n",
              "      <td>45604.615754</td>\n",
              "    </tr>\n",
              "    <tr>\n",
              "      <th>2021-05-18</th>\n",
              "      <td>43144.471291</td>\n",
              "    </tr>\n",
              "  </tbody>\n",
              "</table>\n",
              "</div>"
            ],
            "text/plain": [
              "                   Price\n",
              "Date                    \n",
              "2021-05-14  49764.132082\n",
              "2021-05-15  50032.693137\n",
              "2021-05-16  47885.625255\n",
              "2021-05-17  45604.615754\n",
              "2021-05-18  43144.471291"
            ]
          },
          "metadata": {
            "tags": []
          },
          "execution_count": 94
        }
      ]
    },
    {
      "cell_type": "code",
      "metadata": {
        "id": "BNhn2Iunslh4"
      },
      "source": [
        "# Halving values\n",
        "block_reward_1 = 50 # January 3, 2009 - block reward isnt in our dataset\n",
        "block_reward_2 = 25 # November 28, 2012\n",
        "block_reward_3 = 12.5 # July 9, 2016\n",
        "block_reward_4 = 6.25 # May 18, 2020\n",
        "\n",
        "\n",
        "# Block reward dates\n",
        "block_reward_2_datetime = np.datetime64(\"2012-11-28\") # Year, Month, Day\n",
        "block_reward_3_datetime = np.datetime64(\"2016-07-09\")\n",
        "block_reward_4_datetime = np.datetime64(\"2020-05-18\")\n"
      ],
      "execution_count": 95,
      "outputs": []
    },
    {
      "cell_type": "code",
      "metadata": {
        "colab": {
          "base_uri": "https://localhost:8080/"
        },
        "id": "Yj5DoBwit0qu",
        "outputId": "1a0640d5-54f9-4f71-e294-80d1722d39e4"
      },
      "source": [
        "# Data ranges for specific block_reward values\n",
        "\n",
        "block_reward_2_days = (block_reward_3_datetime - bitcoin_prices.index[0]).days\n",
        "block_reward_3_days = (block_reward_4_datetime - bitcoin_prices.index[0]).days\n",
        "block_reward_2_days, block_reward_3_days"
      ],
      "execution_count": 96,
      "outputs": [
        {
          "output_type": "execute_result",
          "data": {
            "text/plain": [
              "(1012, 2421)"
            ]
          },
          "metadata": {
            "tags": []
          },
          "execution_count": 96
        }
      ]
    },
    {
      "cell_type": "code",
      "metadata": {
        "id": "tMVVuYT3t42R"
      },
      "source": [
        "# Add in block reward column\n",
        "\n",
        "bitcoin_prices_block = bitcoin_prices.copy()\n",
        "bitcoin_prices_block[\"block_reward\"] = None\n",
        "\n",
        "# Add block_reward feature to dataframe\n",
        "bitcoin_prices_block.iloc[:block_reward_2_days, -1] = block_reward_2\n",
        "bitcoin_prices_block.iloc[block_reward_2_days:block_reward_3_days, -1] = block_reward_3\n",
        "bitcoin_prices_block.iloc[block_reward_3_days:, -1] = block_reward_4\n",
        "\n"
      ],
      "execution_count": 97,
      "outputs": []
    },
    {
      "cell_type": "code",
      "metadata": {
        "colab": {
          "base_uri": "https://localhost:8080/"
        },
        "id": "X9iCPkhJx8fP",
        "outputId": "82413b09-db48-4885-eb1c-51a4d09bc7d1"
      },
      "source": [
        "bitcoin_prices_block.head(), bitcoin_prices_block.tail()"
      ],
      "execution_count": 98,
      "outputs": [
        {
          "output_type": "execute_result",
          "data": {
            "text/plain": [
              "(                Price block_reward\n",
              " Date                              \n",
              " 2013-10-01  123.65499           25\n",
              " 2013-10-02  125.45500           25\n",
              " 2013-10-03  108.58483           25\n",
              " 2013-10-04  118.67466           25\n",
              " 2013-10-05  121.33866           25,                    Price block_reward\n",
              " Date                                 \n",
              " 2021-05-14  49764.132082         6.25\n",
              " 2021-05-15  50032.693137         6.25\n",
              " 2021-05-16  47885.625255         6.25\n",
              " 2021-05-17  45604.615754         6.25\n",
              " 2021-05-18  43144.471291         6.25)"
            ]
          },
          "metadata": {
            "tags": []
          },
          "execution_count": 98
        }
      ]
    },
    {
      "cell_type": "code",
      "metadata": {
        "colab": {
          "base_uri": "https://localhost:8080/",
          "height": 450
        },
        "id": "IUA60pbcyOrk",
        "outputId": "aead2d2f-bb0a-46b8-cb37-75c26380b517"
      },
      "source": [
        "bitcoin_prices_block[:1500]"
      ],
      "execution_count": 99,
      "outputs": [
        {
          "output_type": "execute_result",
          "data": {
            "text/html": [
              "<div>\n",
              "<style scoped>\n",
              "    .dataframe tbody tr th:only-of-type {\n",
              "        vertical-align: middle;\n",
              "    }\n",
              "\n",
              "    .dataframe tbody tr th {\n",
              "        vertical-align: top;\n",
              "    }\n",
              "\n",
              "    .dataframe thead th {\n",
              "        text-align: right;\n",
              "    }\n",
              "</style>\n",
              "<table border=\"1\" class=\"dataframe\">\n",
              "  <thead>\n",
              "    <tr style=\"text-align: right;\">\n",
              "      <th></th>\n",
              "      <th>Price</th>\n",
              "      <th>block_reward</th>\n",
              "    </tr>\n",
              "    <tr>\n",
              "      <th>Date</th>\n",
              "      <th></th>\n",
              "      <th></th>\n",
              "    </tr>\n",
              "  </thead>\n",
              "  <tbody>\n",
              "    <tr>\n",
              "      <th>2013-10-01</th>\n",
              "      <td>123.65499</td>\n",
              "      <td>25</td>\n",
              "    </tr>\n",
              "    <tr>\n",
              "      <th>2013-10-02</th>\n",
              "      <td>125.45500</td>\n",
              "      <td>25</td>\n",
              "    </tr>\n",
              "    <tr>\n",
              "      <th>2013-10-03</th>\n",
              "      <td>108.58483</td>\n",
              "      <td>25</td>\n",
              "    </tr>\n",
              "    <tr>\n",
              "      <th>2013-10-04</th>\n",
              "      <td>118.67466</td>\n",
              "      <td>25</td>\n",
              "    </tr>\n",
              "    <tr>\n",
              "      <th>2013-10-05</th>\n",
              "      <td>121.33866</td>\n",
              "      <td>25</td>\n",
              "    </tr>\n",
              "    <tr>\n",
              "      <th>...</th>\n",
              "      <td>...</td>\n",
              "      <td>...</td>\n",
              "    </tr>\n",
              "    <tr>\n",
              "      <th>2017-11-04</th>\n",
              "      <td>7210.46875</td>\n",
              "      <td>12.5</td>\n",
              "    </tr>\n",
              "    <tr>\n",
              "      <th>2017-11-05</th>\n",
              "      <td>7376.74250</td>\n",
              "      <td>12.5</td>\n",
              "    </tr>\n",
              "    <tr>\n",
              "      <th>2017-11-06</th>\n",
              "      <td>7231.93000</td>\n",
              "      <td>12.5</td>\n",
              "    </tr>\n",
              "    <tr>\n",
              "      <th>2017-11-07</th>\n",
              "      <td>7123.89375</td>\n",
              "      <td>12.5</td>\n",
              "    </tr>\n",
              "    <tr>\n",
              "      <th>2017-11-08</th>\n",
              "      <td>7356.50625</td>\n",
              "      <td>12.5</td>\n",
              "    </tr>\n",
              "  </tbody>\n",
              "</table>\n",
              "<p>1500 rows × 2 columns</p>\n",
              "</div>"
            ],
            "text/plain": [
              "                 Price block_reward\n",
              "Date                               \n",
              "2013-10-01   123.65499           25\n",
              "2013-10-02   125.45500           25\n",
              "2013-10-03   108.58483           25\n",
              "2013-10-04   118.67466           25\n",
              "2013-10-05   121.33866           25\n",
              "...                ...          ...\n",
              "2017-11-04  7210.46875         12.5\n",
              "2017-11-05  7376.74250         12.5\n",
              "2017-11-06  7231.93000         12.5\n",
              "2017-11-07  7123.89375         12.5\n",
              "2017-11-08  7356.50625         12.5\n",
              "\n",
              "[1500 rows x 2 columns]"
            ]
          },
          "metadata": {
            "tags": []
          },
          "execution_count": 99
        }
      ]
    },
    {
      "cell_type": "code",
      "metadata": {
        "colab": {
          "base_uri": "https://localhost:8080/",
          "height": 606
        },
        "id": "oXSqV_joy7eD",
        "outputId": "f75f14ab-1202-4ae3-9aa8-7341346bfbc8"
      },
      "source": [
        "# Plot block_reward vs price\n",
        "\n",
        "from sklearn.preprocessing import minmax_scale\n",
        "\n",
        "scaled_price_block_df = pd.DataFrame(minmax_scale(bitcoin_prices_block[[\"Price\", \"block_reward\"]]),\n",
        "                                                                       columns=bitcoin_prices_block.columns,\n",
        "                                                                       index=bitcoin_prices_block.index)\n",
        "\n",
        "scaled_price_block_df.plot(figsize=(15,10));"
      ],
      "execution_count": 100,
      "outputs": [
        {
          "output_type": "display_data",
          "data": {
            "image/png": "[encoded data removed]",
            "text/plain": [
              "<Figure size 1080x720 with 1 Axes>"
            ]
          },
          "metadata": {
            "tags": [],
            "needs_background": "light"
          }
        }
      ]
    },
    {
      "cell_type": "markdown",
      "metadata": {
        "id": "-ZhqNaQRy-mJ"
      },
      "source": [
        "## Making windowed dataset with pandas (Multivariate)\n",
        "\n"
      ]
    },
    {
      "cell_type": "code",
      "metadata": {
        "id": "vLzV0YMr0osN"
      },
      "source": [
        "#Dataset hyperparameters\n",
        "HORIZON = 1\n",
        "WINDOW_SIZE = 7"
      ],
      "execution_count": 101,
      "outputs": []
    },
    {
      "cell_type": "code",
      "metadata": {
        "colab": {
          "base_uri": "https://localhost:8080/",
          "height": 390
        },
        "id": "7aLHt4uN2b_J",
        "outputId": "3ffa8fed-743a-420e-ea42-f5f9acc57627"
      },
      "source": [
        "# Make a copy of the historical data\n",
        "\n",
        "bitcoin_prices_windowed = bitcoin_prices_block.copy()\n",
        "\n",
        "# Add windowed columns\n",
        "\n",
        "for i in range(WINDOW_SIZE):\n",
        "  bitcoin_prices_windowed[f\"Price={i+1}\"] = bitcoin_prices_windowed[\"Price\"].shift(periods=i+1)\n",
        "bitcoin_prices_windowed.head(10)"
      ],
      "execution_count": 102,
      "outputs": [
        {
          "output_type": "execute_result",
          "data": {
            "text/html": [
              "<div>\n",
              "<style scoped>\n",
              "    .dataframe tbody tr th:only-of-type {\n",
              "        vertical-align: middle;\n",
              "    }\n",
              "\n",
              "    .dataframe tbody tr th {\n",
              "        vertical-align: top;\n",
              "    }\n",
              "\n",
              "    .dataframe thead th {\n",
              "        text-align: right;\n",
              "    }\n",
              "</style>\n",
              "<table border=\"1\" class=\"dataframe\">\n",
              "  <thead>\n",
              "    <tr style=\"text-align: right;\">\n",
              "      <th></th>\n",
              "      <th>Price</th>\n",
              "      <th>block_reward</th>\n",
              "      <th>Price=1</th>\n",
              "      <th>Price=2</th>\n",
              "      <th>Price=3</th>\n",
              "      <th>Price=4</th>\n",
              "      <th>Price=5</th>\n",
              "      <th>Price=6</th>\n",
              "      <th>Price=7</th>\n",
              "    </tr>\n",
              "    <tr>\n",
              "      <th>Date</th>\n",
              "      <th></th>\n",
              "      <th></th>\n",
              "      <th></th>\n",
              "      <th></th>\n",
              "      <th></th>\n",
              "      <th></th>\n",
              "      <th></th>\n",
              "      <th></th>\n",
              "      <th></th>\n",
              "    </tr>\n",
              "  </thead>\n",
              "  <tbody>\n",
              "    <tr>\n",
              "      <th>2013-10-01</th>\n",
              "      <td>123.65499</td>\n",
              "      <td>25</td>\n",
              "      <td>NaN</td>\n",
              "      <td>NaN</td>\n",
              "      <td>NaN</td>\n",
              "      <td>NaN</td>\n",
              "      <td>NaN</td>\n",
              "      <td>NaN</td>\n",
              "      <td>NaN</td>\n",
              "    </tr>\n",
              "    <tr>\n",
              "      <th>2013-10-02</th>\n",
              "      <td>125.45500</td>\n",
              "      <td>25</td>\n",
              "      <td>123.65499</td>\n",
              "      <td>NaN</td>\n",
              "      <td>NaN</td>\n",
              "      <td>NaN</td>\n",
              "      <td>NaN</td>\n",
              "      <td>NaN</td>\n",
              "      <td>NaN</td>\n",
              "    </tr>\n",
              "    <tr>\n",
              "      <th>2013-10-03</th>\n",
              "      <td>108.58483</td>\n",
              "      <td>25</td>\n",
              "      <td>125.45500</td>\n",
              "      <td>123.65499</td>\n",
              "      <td>NaN</td>\n",
              "      <td>NaN</td>\n",
              "      <td>NaN</td>\n",
              "      <td>NaN</td>\n",
              "      <td>NaN</td>\n",
              "    </tr>\n",
              "    <tr>\n",
              "      <th>2013-10-04</th>\n",
              "      <td>118.67466</td>\n",
              "      <td>25</td>\n",
              "      <td>108.58483</td>\n",
              "      <td>125.45500</td>\n",
              "      <td>123.65499</td>\n",
              "      <td>NaN</td>\n",
              "      <td>NaN</td>\n",
              "      <td>NaN</td>\n",
              "      <td>NaN</td>\n",
              "    </tr>\n",
              "    <tr>\n",
              "      <th>2013-10-05</th>\n",
              "      <td>121.33866</td>\n",
              "      <td>25</td>\n",
              "      <td>118.67466</td>\n",
              "      <td>108.58483</td>\n",
              "      <td>125.45500</td>\n",
              "      <td>123.65499</td>\n",
              "      <td>NaN</td>\n",
              "      <td>NaN</td>\n",
              "      <td>NaN</td>\n",
              "    </tr>\n",
              "    <tr>\n",
              "      <th>2013-10-06</th>\n",
              "      <td>120.65533</td>\n",
              "      <td>25</td>\n",
              "      <td>121.33866</td>\n",
              "      <td>118.67466</td>\n",
              "      <td>108.58483</td>\n",
              "      <td>125.45500</td>\n",
              "      <td>123.65499</td>\n",
              "      <td>NaN</td>\n",
              "      <td>NaN</td>\n",
              "    </tr>\n",
              "    <tr>\n",
              "      <th>2013-10-07</th>\n",
              "      <td>121.79500</td>\n",
              "      <td>25</td>\n",
              "      <td>120.65533</td>\n",
              "      <td>121.33866</td>\n",
              "      <td>118.67466</td>\n",
              "      <td>108.58483</td>\n",
              "      <td>125.45500</td>\n",
              "      <td>123.65499</td>\n",
              "      <td>NaN</td>\n",
              "    </tr>\n",
              "    <tr>\n",
              "      <th>2013-10-08</th>\n",
              "      <td>123.03300</td>\n",
              "      <td>25</td>\n",
              "      <td>121.79500</td>\n",
              "      <td>120.65533</td>\n",
              "      <td>121.33866</td>\n",
              "      <td>118.67466</td>\n",
              "      <td>108.58483</td>\n",
              "      <td>125.45500</td>\n",
              "      <td>123.65499</td>\n",
              "    </tr>\n",
              "    <tr>\n",
              "      <th>2013-10-09</th>\n",
              "      <td>124.04900</td>\n",
              "      <td>25</td>\n",
              "      <td>123.03300</td>\n",
              "      <td>121.79500</td>\n",
              "      <td>120.65533</td>\n",
              "      <td>121.33866</td>\n",
              "      <td>118.67466</td>\n",
              "      <td>108.58483</td>\n",
              "      <td>125.45500</td>\n",
              "    </tr>\n",
              "    <tr>\n",
              "      <th>2013-10-10</th>\n",
              "      <td>125.96116</td>\n",
              "      <td>25</td>\n",
              "      <td>124.04900</td>\n",
              "      <td>123.03300</td>\n",
              "      <td>121.79500</td>\n",
              "      <td>120.65533</td>\n",
              "      <td>121.33866</td>\n",
              "      <td>118.67466</td>\n",
              "      <td>108.58483</td>\n",
              "    </tr>\n",
              "  </tbody>\n",
              "</table>\n",
              "</div>"
            ],
            "text/plain": [
              "                Price block_reward    Price=1  ...    Price=5    Price=6    Price=7\n",
              "Date                                           ...                                 \n",
              "2013-10-01  123.65499           25        NaN  ...        NaN        NaN        NaN\n",
              "2013-10-02  125.45500           25  123.65499  ...        NaN        NaN        NaN\n",
              "2013-10-03  108.58483           25  125.45500  ...        NaN        NaN        NaN\n",
              "2013-10-04  118.67466           25  108.58483  ...        NaN        NaN        NaN\n",
              "2013-10-05  121.33866           25  118.67466  ...        NaN        NaN        NaN\n",
              "2013-10-06  120.65533           25  121.33866  ...  123.65499        NaN        NaN\n",
              "2013-10-07  121.79500           25  120.65533  ...  125.45500  123.65499        NaN\n",
              "2013-10-08  123.03300           25  121.79500  ...  108.58483  125.45500  123.65499\n",
              "2013-10-09  124.04900           25  123.03300  ...  118.67466  108.58483  125.45500\n",
              "2013-10-10  125.96116           25  124.04900  ...  121.33866  118.67466  108.58483\n",
              "\n",
              "[10 rows x 9 columns]"
            ]
          },
          "metadata": {
            "tags": []
          },
          "execution_count": 102
        }
      ]
    },
    {
      "cell_type": "code",
      "metadata": {
        "colab": {
          "base_uri": "https://localhost:8080/",
          "height": 235
        },
        "id": "Vj9U5lLS3q-E",
        "outputId": "2c1195d1-2ef5-49de-ac0f-cddb9f26dd74"
      },
      "source": [
        " # Create X (windows) and y (horizon) features\n",
        "\n",
        " X = bitcoin_prices_windowed.dropna().drop(\"Price\", axis=1).astype(np.float32)\n",
        " y = bitcoin_prices_windowed.dropna()[\"Price\"].astype(np.float32)\n",
        " X.head()"
      ],
      "execution_count": 103,
      "outputs": [
        {
          "output_type": "execute_result",
          "data": {
            "text/html": [
              "<div>\n",
              "<style scoped>\n",
              "    .dataframe tbody tr th:only-of-type {\n",
              "        vertical-align: middle;\n",
              "    }\n",
              "\n",
              "    .dataframe tbody tr th {\n",
              "        vertical-align: top;\n",
              "    }\n",
              "\n",
              "    .dataframe thead th {\n",
              "        text-align: right;\n",
              "    }\n",
              "</style>\n",
              "<table border=\"1\" class=\"dataframe\">\n",
              "  <thead>\n",
              "    <tr style=\"text-align: right;\">\n",
              "      <th></th>\n",
              "      <th>block_reward</th>\n",
              "      <th>Price=1</th>\n",
              "      <th>Price=2</th>\n",
              "      <th>Price=3</th>\n",
              "      <th>Price=4</th>\n",
              "      <th>Price=5</th>\n",
              "      <th>Price=6</th>\n",
              "      <th>Price=7</th>\n",
              "    </tr>\n",
              "    <tr>\n",
              "      <th>Date</th>\n",
              "      <th></th>\n",
              "      <th></th>\n",
              "      <th></th>\n",
              "      <th></th>\n",
              "      <th></th>\n",
              "      <th></th>\n",
              "      <th></th>\n",
              "      <th></th>\n",
              "    </tr>\n",
              "  </thead>\n",
              "  <tbody>\n",
              "    <tr>\n",
              "      <th>2013-10-08</th>\n",
              "      <td>25.0</td>\n",
              "      <td>121.794998</td>\n",
              "      <td>120.655327</td>\n",
              "      <td>121.338661</td>\n",
              "      <td>118.674660</td>\n",
              "      <td>108.584831</td>\n",
              "      <td>125.455002</td>\n",
              "      <td>123.654991</td>\n",
              "    </tr>\n",
              "    <tr>\n",
              "      <th>2013-10-09</th>\n",
              "      <td>25.0</td>\n",
              "      <td>123.032997</td>\n",
              "      <td>121.794998</td>\n",
              "      <td>120.655327</td>\n",
              "      <td>121.338661</td>\n",
              "      <td>118.674660</td>\n",
              "      <td>108.584831</td>\n",
              "      <td>125.455002</td>\n",
              "    </tr>\n",
              "    <tr>\n",
              "      <th>2013-10-10</th>\n",
              "      <td>25.0</td>\n",
              "      <td>124.049004</td>\n",
              "      <td>123.032997</td>\n",
              "      <td>121.794998</td>\n",
              "      <td>120.655327</td>\n",
              "      <td>121.338661</td>\n",
              "      <td>118.674660</td>\n",
              "      <td>108.584831</td>\n",
              "    </tr>\n",
              "    <tr>\n",
              "      <th>2013-10-11</th>\n",
              "      <td>25.0</td>\n",
              "      <td>125.961159</td>\n",
              "      <td>124.049004</td>\n",
              "      <td>123.032997</td>\n",
              "      <td>121.794998</td>\n",
              "      <td>120.655327</td>\n",
              "      <td>121.338661</td>\n",
              "      <td>118.674660</td>\n",
              "    </tr>\n",
              "    <tr>\n",
              "      <th>2013-10-12</th>\n",
              "      <td>25.0</td>\n",
              "      <td>125.279663</td>\n",
              "      <td>125.961159</td>\n",
              "      <td>124.049004</td>\n",
              "      <td>123.032997</td>\n",
              "      <td>121.794998</td>\n",
              "      <td>120.655327</td>\n",
              "      <td>121.338661</td>\n",
              "    </tr>\n",
              "  </tbody>\n",
              "</table>\n",
              "</div>"
            ],
            "text/plain": [
              "            block_reward     Price=1  ...     Price=6     Price=7\n",
              "Date                                  ...                        \n",
              "2013-10-08          25.0  121.794998  ...  125.455002  123.654991\n",
              "2013-10-09          25.0  123.032997  ...  108.584831  125.455002\n",
              "2013-10-10          25.0  124.049004  ...  118.674660  108.584831\n",
              "2013-10-11          25.0  125.961159  ...  121.338661  118.674660\n",
              "2013-10-12          25.0  125.279663  ...  120.655327  121.338661\n",
              "\n",
              "[5 rows x 8 columns]"
            ]
          },
          "metadata": {
            "tags": []
          },
          "execution_count": 103
        }
      ]
    },
    {
      "cell_type": "code",
      "metadata": {
        "colab": {
          "base_uri": "https://localhost:8080/"
        },
        "id": "zEyGQAXF4rYu",
        "outputId": "10fb549a-34b3-47b4-9be4-442e98d7df43"
      },
      "source": [
        " y.head()"
      ],
      "execution_count": 104,
      "outputs": [
        {
          "output_type": "execute_result",
          "data": {
            "text/plain": [
              "Date\n",
              "2013-10-08    123.032997\n",
              "2013-10-09    124.049004\n",
              "2013-10-10    125.961159\n",
              "2013-10-11    125.279663\n",
              "2013-10-12    125.927498\n",
              "Name: Price, dtype: float32"
            ]
          },
          "metadata": {
            "tags": []
          },
          "execution_count": 104
        }
      ]
    },
    {
      "cell_type": "code",
      "metadata": {
        "colab": {
          "base_uri": "https://localhost:8080/"
        },
        "id": "Ye2sow8C4tzr",
        "outputId": "ca22e047-515e-4d94-9f24-9f79e1f6794c"
      },
      "source": [
        "# Train and test sets\n",
        "split_size = int(len(X) * 0.8)\n",
        "X_train, y_train = X[:split_size], y[:split_size]\n",
        "X_test, y_test = X[split_size:], y[split_size:]\n",
        "\n",
        "len(X_train), len(y_train), len(X_test), len(y_test)"
      ],
      "execution_count": 105,
      "outputs": [
        {
          "output_type": "execute_result",
          "data": {
            "text/plain": [
              "(2224, 2224, 556, 556)"
            ]
          },
          "metadata": {
            "tags": []
          },
          "execution_count": 105
        }
      ]
    },
    {
      "cell_type": "markdown",
      "metadata": {
        "id": "jOE9eyGq5OhE"
      },
      "source": [
        "## Model 6: Multivariate model\n",
        "\n",
        "Same architecture to Model_1. Except we are training on the multivariate data instead of the univariate."
      ]
    },
    {
      "cell_type": "code",
      "metadata": {
        "colab": {
          "base_uri": "https://localhost:8080/"
        },
        "id": "fQRa0Jqp5uBI",
        "outputId": "8e2ff548-a5fe-4656-96a2-27a65127b044"
      },
      "source": [
        "\n",
        "# Random seed\n",
        "tf.random.set_seed(42)\n",
        "\n",
        "# Multivariate model\n",
        "model_6 = tf.keras.Sequential([\n",
        "    layers.Dense(128, activation=\"relu\"),\n",
        "    layers.Dense(HORIZON, activation=\"linear\")\n",
        "], name=\"model_6_multivariate\")\n",
        "\n",
        "# Compile\n",
        "model_6.compile(loss=\"mae\",\n",
        "                optimizer=\"adam\")\n",
        "\n",
        "# Fit the model\n",
        "model_6.fit(x=X_train,\n",
        "            y=y_train,\n",
        "            epochs=100,\n",
        "            verbose=1,\n",
        "            batch_size=128,\n",
        "            validation_data=(X_test, y_test),\n",
        "            callbacks=[create_model_checkpoint(model_name=model_6.name)])"
      ],
      "execution_count": 106,
      "outputs": [
        {
          "output_type": "stream",
          "text": [
            "Epoch 1/100\n",
            "18/18 [==============================] - 1s 12ms/step - loss: 1234.6805 - val_loss: 2061.9080\n",
            "INFO:tensorflow:Assets written to: model_experiments/model_6_multivariate/assets\n",
            "Epoch 2/100\n",
            "18/18 [==============================] - 0s 4ms/step - loss: 351.5053 - val_loss: 1908.6729\n",
            "INFO:tensorflow:Assets written to: model_experiments/model_6_multivariate/assets\n",
            "Epoch 3/100\n",
            "18/18 [==============================] - 0s 4ms/step - loss: 235.4153 - val_loss: 1329.0585\n",
            "INFO:tensorflow:Assets written to: model_experiments/model_6_multivariate/assets\n",
            "Epoch 4/100\n",
            "18/18 [==============================] - 0s 4ms/step - loss: 208.6112 - val_loss: 1102.1340\n",
            "INFO:tensorflow:Assets written to: model_experiments/model_6_multivariate/assets\n",
            "Epoch 5/100\n",
            "18/18 [==============================] - 0s 5ms/step - loss: 196.5770 - val_loss: 1107.8472\n",
            "Epoch 6/100\n",
            "18/18 [==============================] - 0s 5ms/step - loss: 187.2244 - val_loss: 1036.1722\n",
            "INFO:tensorflow:Assets written to: model_experiments/model_6_multivariate/assets\n",
            "Epoch 7/100\n",
            "18/18 [==============================] - 0s 5ms/step - loss: 182.0245 - val_loss: 1019.2924\n",
            "INFO:tensorflow:Assets written to: model_experiments/model_6_multivariate/assets\n",
            "Epoch 8/100\n",
            "18/18 [==============================] - 0s 5ms/step - loss: 175.7059 - val_loss: 977.8487\n",
            "INFO:tensorflow:Assets written to: model_experiments/model_6_multivariate/assets\n",
            "Epoch 9/100\n",
            "18/18 [==============================] - 0s 4ms/step - loss: 170.1784 - val_loss: 954.4034\n",
            "INFO:tensorflow:Assets written to: model_experiments/model_6_multivariate/assets\n",
            "Epoch 10/100\n",
            "18/18 [==============================] - 0s 4ms/step - loss: 164.4430 - val_loss: 913.5146\n",
            "INFO:tensorflow:Assets written to: model_experiments/model_6_multivariate/assets\n",
            "Epoch 11/100\n",
            "18/18 [==============================] - 0s 4ms/step - loss: 158.6892 - val_loss: 874.2504\n",
            "INFO:tensorflow:Assets written to: model_experiments/model_6_multivariate/assets\n",
            "Epoch 12/100\n",
            "18/18 [==============================] - 0s 5ms/step - loss: 152.0732 - val_loss: 861.0414\n",
            "INFO:tensorflow:Assets written to: model_experiments/model_6_multivariate/assets\n",
            "Epoch 13/100\n",
            "18/18 [==============================] - 0s 4ms/step - loss: 151.1057 - val_loss: 886.1201\n",
            "Epoch 14/100\n",
            "18/18 [==============================] - 0s 4ms/step - loss: 147.5482 - val_loss: 837.8613\n",
            "INFO:tensorflow:Assets written to: model_experiments/model_6_multivariate/assets\n",
            "Epoch 15/100\n",
            "18/18 [==============================] - 0s 4ms/step - loss: 142.3497 - val_loss: 794.4784\n",
            "INFO:tensorflow:Assets written to: model_experiments/model_6_multivariate/assets\n",
            "Epoch 16/100\n",
            "18/18 [==============================] - 0s 5ms/step - loss: 137.5206 - val_loss: 778.4048\n",
            "INFO:tensorflow:Assets written to: model_experiments/model_6_multivariate/assets\n",
            "Epoch 17/100\n",
            "18/18 [==============================] - 0s 6ms/step - loss: 135.8191 - val_loss: 772.4528\n",
            "INFO:tensorflow:Assets written to: model_experiments/model_6_multivariate/assets\n",
            "Epoch 18/100\n",
            "18/18 [==============================] - 0s 4ms/step - loss: 134.8562 - val_loss: 747.4800\n",
            "INFO:tensorflow:Assets written to: model_experiments/model_6_multivariate/assets\n",
            "Epoch 19/100\n",
            "18/18 [==============================] - 0s 4ms/step - loss: 130.3347 - val_loss: 761.0549\n",
            "Epoch 20/100\n",
            "18/18 [==============================] - 0s 5ms/step - loss: 128.6775 - val_loss: 701.8977\n",
            "INFO:tensorflow:Assets written to: model_experiments/model_6_multivariate/assets\n",
            "Epoch 21/100\n",
            "18/18 [==============================] - 0s 4ms/step - loss: 129.5576 - val_loss: 691.0128\n",
            "INFO:tensorflow:Assets written to: model_experiments/model_6_multivariate/assets\n",
            "Epoch 22/100\n",
            "18/18 [==============================] - 0s 5ms/step - loss: 125.8060 - val_loss: 684.4119\n",
            "INFO:tensorflow:Assets written to: model_experiments/model_6_multivariate/assets\n",
            "Epoch 23/100\n",
            "18/18 [==============================] - 0s 4ms/step - loss: 125.5263 - val_loss: 692.1294\n",
            "Epoch 24/100\n",
            "18/18 [==============================] - 0s 4ms/step - loss: 122.4765 - val_loss: 674.2213\n",
            "INFO:tensorflow:Assets written to: model_experiments/model_6_multivariate/assets\n",
            "Epoch 25/100\n",
            "18/18 [==============================] - 0s 5ms/step - loss: 121.1171 - val_loss: 669.6445\n",
            "INFO:tensorflow:Assets written to: model_experiments/model_6_multivariate/assets\n",
            "Epoch 26/100\n",
            "18/18 [==============================] - 0s 4ms/step - loss: 127.2623 - val_loss: 690.0408\n",
            "Epoch 27/100\n",
            "18/18 [==============================] - 0s 4ms/step - loss: 124.6204 - val_loss: 643.9725\n",
            "INFO:tensorflow:Assets written to: model_experiments/model_6_multivariate/assets\n",
            "Epoch 28/100\n",
            "18/18 [==============================] - 0s 5ms/step - loss: 118.2544 - val_loss: 656.2766\n",
            "Epoch 29/100\n",
            "18/18 [==============================] - 0s 4ms/step - loss: 119.6374 - val_loss: 633.4545\n",
            "INFO:tensorflow:Assets written to: model_experiments/model_6_multivariate/assets\n",
            "Epoch 30/100\n",
            "18/18 [==============================] - 0s 4ms/step - loss: 119.5001 - val_loss: 625.3953\n",
            "INFO:tensorflow:Assets written to: model_experiments/model_6_multivariate/assets\n",
            "Epoch 31/100\n",
            "18/18 [==============================] - 0s 4ms/step - loss: 114.5633 - val_loss: 668.5061\n",
            "Epoch 32/100\n",
            "18/18 [==============================] - 0s 4ms/step - loss: 116.9750 - val_loss: 617.1060\n",
            "INFO:tensorflow:Assets written to: model_experiments/model_6_multivariate/assets\n",
            "Epoch 33/100\n",
            "18/18 [==============================] - 0s 4ms/step - loss: 115.2438 - val_loss: 649.0985\n",
            "Epoch 34/100\n",
            "18/18 [==============================] - 0s 4ms/step - loss: 114.5187 - val_loss: 632.1378\n",
            "Epoch 35/100\n",
            "18/18 [==============================] - 0s 4ms/step - loss: 113.6357 - val_loss: 607.4173\n",
            "INFO:tensorflow:Assets written to: model_experiments/model_6_multivariate/assets\n",
            "Epoch 36/100\n",
            "18/18 [==============================] - 0s 4ms/step - loss: 115.2605 - val_loss: 626.4316\n",
            "Epoch 37/100\n",
            "18/18 [==============================] - 0s 5ms/step - loss: 113.7021 - val_loss: 606.2318\n",
            "INFO:tensorflow:Assets written to: model_experiments/model_6_multivariate/assets\n",
            "Epoch 38/100\n",
            "18/18 [==============================] - 0s 4ms/step - loss: 111.4061 - val_loss: 603.2919\n",
            "INFO:tensorflow:Assets written to: model_experiments/model_6_multivariate/assets\n",
            "Epoch 39/100\n",
            "18/18 [==============================] - 0s 4ms/step - loss: 112.7722 - val_loss: 596.0060\n",
            "INFO:tensorflow:Assets written to: model_experiments/model_6_multivariate/assets\n",
            "Epoch 40/100\n",
            "18/18 [==============================] - 0s 6ms/step - loss: 110.5418 - val_loss: 593.2170\n",
            "INFO:tensorflow:Assets written to: model_experiments/model_6_multivariate/assets\n",
            "Epoch 41/100\n",
            "18/18 [==============================] - 0s 4ms/step - loss: 110.8671 - val_loss: 609.1066\n",
            "Epoch 42/100\n",
            "18/18 [==============================] - 0s 4ms/step - loss: 115.7249 - val_loss: 607.4875\n",
            "Epoch 43/100\n",
            "18/18 [==============================] - 0s 4ms/step - loss: 111.3313 - val_loss: 606.2031\n",
            "Epoch 44/100\n",
            "18/18 [==============================] - 0s 4ms/step - loss: 109.7027 - val_loss: 586.1214\n",
            "INFO:tensorflow:Assets written to: model_experiments/model_6_multivariate/assets\n",
            "Epoch 45/100\n",
            "18/18 [==============================] - 0s 4ms/step - loss: 107.8748 - val_loss: 593.8447\n",
            "Epoch 46/100\n",
            "18/18 [==============================] - 0s 5ms/step - loss: 109.8641 - val_loss: 586.4578\n",
            "Epoch 47/100\n",
            "18/18 [==============================] - 0s 4ms/step - loss: 112.3587 - val_loss: 655.4485\n",
            "Epoch 48/100\n",
            "18/18 [==============================] - 0s 5ms/step - loss: 109.1614 - val_loss: 598.7232\n",
            "Epoch 49/100\n",
            "18/18 [==============================] - 0s 4ms/step - loss: 109.3029 - val_loss: 589.2487\n",
            "Epoch 50/100\n",
            "18/18 [==============================] - 0s 5ms/step - loss: 111.1971 - val_loss: 649.3792\n",
            "Epoch 51/100\n",
            "18/18 [==============================] - 0s 4ms/step - loss: 110.8514 - val_loss: 602.7665\n",
            "Epoch 52/100\n",
            "18/18 [==============================] - 0s 4ms/step - loss: 111.8331 - val_loss: 599.2959\n",
            "Epoch 53/100\n",
            "18/18 [==============================] - 0s 4ms/step - loss: 110.8895 - val_loss: 652.1638\n",
            "Epoch 54/100\n",
            "18/18 [==============================] - 0s 4ms/step - loss: 113.8169 - val_loss: 600.8455\n",
            "Epoch 55/100\n",
            "18/18 [==============================] - 0s 4ms/step - loss: 110.4069 - val_loss: 575.7751\n",
            "INFO:tensorflow:Assets written to: model_experiments/model_6_multivariate/assets\n",
            "Epoch 56/100\n",
            "18/18 [==============================] - 0s 4ms/step - loss: 108.6609 - val_loss: 785.9759\n",
            "Epoch 57/100\n",
            "18/18 [==============================] - 0s 4ms/step - loss: 124.9824 - val_loss: 670.3788\n",
            "Epoch 58/100\n",
            "18/18 [==============================] - 0s 4ms/step - loss: 112.8591 - val_loss: 580.2875\n",
            "Epoch 59/100\n",
            "18/18 [==============================] - 0s 4ms/step - loss: 107.2513 - val_loss: 597.5087\n",
            "Epoch 60/100\n",
            "18/18 [==============================] - 0s 5ms/step - loss: 109.2322 - val_loss: 632.2953\n",
            "Epoch 61/100\n",
            "18/18 [==============================] - 0s 4ms/step - loss: 109.3519 - val_loss: 591.5410\n",
            "Epoch 62/100\n",
            "18/18 [==============================] - 0s 4ms/step - loss: 108.4084 - val_loss: 617.5808\n",
            "Epoch 63/100\n",
            "18/18 [==============================] - 0s 4ms/step - loss: 113.5326 - val_loss: 613.1470\n",
            "Epoch 64/100\n",
            "18/18 [==============================] - 0s 5ms/step - loss: 110.6625 - val_loss: 689.1794\n",
            "Epoch 65/100\n",
            "18/18 [==============================] - 0s 4ms/step - loss: 112.0475 - val_loss: 575.5543\n",
            "INFO:tensorflow:Assets written to: model_experiments/model_6_multivariate/assets\n",
            "Epoch 66/100\n",
            "18/18 [==============================] - 0s 5ms/step - loss: 111.2830 - val_loss: 590.7806\n",
            "Epoch 67/100\n",
            "18/18 [==============================] - 0s 4ms/step - loss: 106.7917 - val_loss: 586.8845\n",
            "Epoch 68/100\n",
            "18/18 [==============================] - 0s 4ms/step - loss: 112.2987 - val_loss: 696.5294\n",
            "Epoch 69/100\n",
            "18/18 [==============================] - 0s 4ms/step - loss: 124.7808 - val_loss: 698.5267\n",
            "Epoch 70/100\n",
            "18/18 [==============================] - 0s 6ms/step - loss: 119.3443 - val_loss: 581.2104\n",
            "Epoch 71/100\n",
            "18/18 [==============================] - 0s 4ms/step - loss: 109.9960 - val_loss: 607.6739\n",
            "Epoch 72/100\n",
            "18/18 [==============================] - 0s 4ms/step - loss: 106.7710 - val_loss: 573.6144\n",
            "INFO:tensorflow:Assets written to: model_experiments/model_6_multivariate/assets\n",
            "Epoch 73/100\n",
            "18/18 [==============================] - 0s 4ms/step - loss: 110.2485 - val_loss: 618.8955\n",
            "Epoch 74/100\n",
            "18/18 [==============================] - 0s 5ms/step - loss: 105.5330 - val_loss: 574.9454\n",
            "Epoch 75/100\n",
            "18/18 [==============================] - 0s 4ms/step - loss: 107.3177 - val_loss: 606.1973\n",
            "Epoch 76/100\n",
            "18/18 [==============================] - 0s 5ms/step - loss: 107.8084 - val_loss: 582.2406\n",
            "Epoch 77/100\n",
            "18/18 [==============================] - 0s 4ms/step - loss: 107.2528 - val_loss: 571.8563\n",
            "INFO:tensorflow:Assets written to: model_experiments/model_6_multivariate/assets\n",
            "Epoch 78/100\n",
            "18/18 [==============================] - 0s 4ms/step - loss: 106.2309 - val_loss: 572.2827\n",
            "Epoch 79/100\n",
            "18/18 [==============================] - 0s 5ms/step - loss: 105.8568 - val_loss: 596.5464\n",
            "Epoch 80/100\n",
            "18/18 [==============================] - 0s 4ms/step - loss: 107.8419 - val_loss: 577.2399\n",
            "Epoch 81/100\n",
            "18/18 [==============================] - 0s 4ms/step - loss: 105.1101 - val_loss: 568.4897\n",
            "INFO:tensorflow:Assets written to: model_experiments/model_6_multivariate/assets\n",
            "Epoch 82/100\n",
            "18/18 [==============================] - 0s 5ms/step - loss: 114.1867 - val_loss: 592.5613\n",
            "Epoch 83/100\n",
            "18/18 [==============================] - 0s 4ms/step - loss: 107.9631 - val_loss: 651.6219\n",
            "Epoch 84/100\n",
            "18/18 [==============================] - 0s 4ms/step - loss: 109.6690 - val_loss: 568.9339\n",
            "Epoch 85/100\n",
            "18/18 [==============================] - 0s 5ms/step - loss: 105.8219 - val_loss: 571.5331\n",
            "Epoch 86/100\n",
            "18/18 [==============================] - 0s 4ms/step - loss: 104.8628 - val_loss: 579.3857\n",
            "Epoch 87/100\n",
            "18/18 [==============================] - 0s 4ms/step - loss: 104.7148 - val_loss: 582.9182\n",
            "Epoch 88/100\n",
            "18/18 [==============================] - 0s 4ms/step - loss: 106.8899 - val_loss: 569.0820\n",
            "Epoch 89/100\n",
            "18/18 [==============================] - 0s 4ms/step - loss: 105.4376 - val_loss: 569.3439\n",
            "Epoch 90/100\n",
            "18/18 [==============================] - 0s 4ms/step - loss: 105.1590 - val_loss: 599.0223\n",
            "Epoch 91/100\n",
            "18/18 [==============================] - 0s 4ms/step - loss: 112.2914 - val_loss: 618.5323\n",
            "Epoch 92/100\n",
            "18/18 [==============================] - 0s 4ms/step - loss: 107.1306 - val_loss: 591.9585\n",
            "Epoch 93/100\n",
            "18/18 [==============================] - 0s 4ms/step - loss: 115.7380 - val_loss: 639.2229\n",
            "Epoch 94/100\n",
            "18/18 [==============================] - 0s 4ms/step - loss: 108.3453 - val_loss: 578.5887\n",
            "Epoch 95/100\n",
            "18/18 [==============================] - 0s 5ms/step - loss: 104.2910 - val_loss: 568.2687\n",
            "INFO:tensorflow:Assets written to: model_experiments/model_6_multivariate/assets\n",
            "Epoch 96/100\n",
            "18/18 [==============================] - 0s 4ms/step - loss: 106.5346 - val_loss: 606.5489\n",
            "Epoch 97/100\n",
            "18/18 [==============================] - 0s 4ms/step - loss: 107.1290 - val_loss: 585.3787\n",
            "Epoch 98/100\n",
            "18/18 [==============================] - 0s 5ms/step - loss: 105.8151 - val_loss: 574.4833\n",
            "Epoch 99/100\n",
            "18/18 [==============================] - 0s 4ms/step - loss: 105.8276 - val_loss: 567.5863\n",
            "INFO:tensorflow:Assets written to: model_experiments/model_6_multivariate/assets\n",
            "Epoch 100/100\n",
            "18/18 [==============================] - 0s 4ms/step - loss: 114.9743 - val_loss: 654.9892\n"
          ],
          "name": "stdout"
        },
        {
          "output_type": "execute_result",
          "data": {
            "text/plain": [
              "<tensorflow.python.keras.callbacks.History at 0x7f491a5c0e50>"
            ]
          },
          "metadata": {
            "tags": []
          },
          "execution_count": 106
        }
      ]
    },
    {
      "cell_type": "code",
      "metadata": {
        "colab": {
          "base_uri": "https://localhost:8080/"
        },
        "id": "lcqxbsTG6Tv2",
        "outputId": "b78e5404-ad4e-4856-b4a7-4f3a40324127"
      },
      "source": [
        "# Load best model\n",
        "\n",
        "model_6 = tf.keras.models.load_model(\"model_experiments/model_6_multivariate/\")\n",
        "model_6.evaluate(X_test, y_test)"
      ],
      "execution_count": 107,
      "outputs": [
        {
          "output_type": "stream",
          "text": [
            "18/18 [==============================] - 0s 2ms/step - loss: 567.5862\n"
          ],
          "name": "stdout"
        },
        {
          "output_type": "execute_result",
          "data": {
            "text/plain": [
              "567.5862426757812"
            ]
          },
          "metadata": {
            "tags": []
          },
          "execution_count": 107
        }
      ]
    },
    {
      "cell_type": "code",
      "metadata": {
        "colab": {
          "base_uri": "https://localhost:8080/"
        },
        "id": "iXlQ2-9g64tD",
        "outputId": "0ff1cc93-52bb-437b-9eff-33803d2881cc"
      },
      "source": [
        "model_6_preds = make_preds(model_6,\n",
        "                           input_data=X_test)\n",
        "model_6_preds"
      ],
      "execution_count": 108,
      "outputs": [
        {
          "output_type": "execute_result",
          "data": {
            "text/plain": [
              "<tf.Tensor: shape=(556,), dtype=float32, numpy=\n",
              "array([ 8836.276 ,  8763.8   ,  9040.486 ,  8741.225 ,  8719.326 ,\n",
              "        8765.071 ,  8661.102 ,  8496.891 ,  8463.231 ,  8521.585 ,\n",
              "        8231.435 ,  8097.64  ,  8069.3574,  7645.2417,  7263.6157,\n",
              "        7257.134 ,  7076.262 ,  7147.226 ,  7142.9927,  7476.0737,\n",
              "        7430.6   ,  7704.117 ,  7604.0723,  7405.0933,  7337.0664,\n",
              "        7316.9565,  7205.1035,  7365.726 ,  7512.1655,  7539.8784,\n",
              "        7562.1396,  7373.9326,  7241.7925,  7193.8726,  7176.258 ,\n",
              "        7219.7466,  7101.171 ,  7100.5547,  6908.4653,  6591.8574,\n",
              "        7312.408 ,  7216.286 ,  7116.677 ,  7302.808 ,  7278.643 ,\n",
              "        7161.692 ,  7233.665 ,  7225.104 ,  7182.8076,  7223.9697,\n",
              "        7310.873 ,  7386.    ,  7275.969 ,  7188.378 ,  7177.2744,\n",
              "        6972.297 ,  7234.8   ,  7352.147 ,  7348.816 ,  7693.386 ,\n",
              "        8058.2744,  8104.909 ,  7869.1406,  8081.3325,  8113.5693,\n",
              "        8138.352 ,  8132.5435,  8691.771 ,  8886.127 ,  8753.706 ,\n",
              "        8935.95  ,  8989.786 ,  8673.76  ,  8638.451 ,  8710.786 ,\n",
              "        8632.832 ,  8393.948 ,  8431.402 ,  8357.334 ,  8520.868 ,\n",
              "        8860.72  ,  9138.127 ,  9341.5625,  9577.279 ,  9458.713 ,\n",
              "        9385.818 ,  9402.384 ,  9286.359 ,  9172.998 ,  9576.704 ,\n",
              "        9705.477 ,  9793.631 ,  9951.176 , 10154.358 ,  9898.566 ,\n",
              "       10198.884 , 10397.006 , 10248.527 , 10358.981 , 10005.977 ,\n",
              "        9852.339 ,  9649.373 , 10102.8955,  9763.218 ,  9603.634 ,\n",
              "        9673.831 ,  9689.55  ,  9876.372 ,  9688.289 ,  9408.082 ,\n",
              "        8837.156 ,  8730.023 ,  8749.153 ,  8637.615 ,  8522.087 ,\n",
              "        8880.349 ,  8824.539 ,  8751.8125,  9063.166 ,  9158.802 ,\n",
              "        8951.546 ,  8245.265 ,  7860.9854,  7911.0664,  7960.2563,\n",
              "        6373.9253,  5869.7407,  5606.1875,  5608.977 ,  5364.7905,\n",
              "        5394.677 ,  5387.6387,  6180.448 ,  6250.3896,  6215.706 ,\n",
              "        5965.0176,  6426.478 ,  6783.9224,  6739.1963,  6745.0654,\n",
              "        6734.3496,  6282.815 ,  5915.279 ,  6395.6855,  6457.4805,\n",
              "        6504.308 ,  6848.0596,  6836.534 ,  6856.7944,  6839.542 ,\n",
              "        7244.451 ,  7223.5903,  7357.5796,  7366.0757,  6930.254 ,\n",
              "        6846.0977,  7024.7925,  6891.2104,  6862.6284,  6744.012 ,\n",
              "        7112.7397,  7099.4507,  7254.19  ,  7229.126 ,  6904.11  ,\n",
              "        6882.409 ,  7100.263 ,  7516.356 ,  7532.893 ,  7563.1343,\n",
              "        7657.5444,  7789.201 ,  7779.0254,  8689.99  ,  8856.399 ,\n",
              "        8881.703 ,  9020.948 ,  8972.299 ,  8894.824 ,  8980.655 ,\n",
              "        9345.778 ,  9882.417 ,  9974.619 ,  9692.494 ,  8896.271 ,\n",
              "        8580.338 ,  8747.893 ,  9238.098 ,  9712.534 ,  9450.506 ,\n",
              "        9438.914 ,  9705.779 ,  9741.66  ,  9718.274 ,  9581.07  ,\n",
              "        9183.904 ,  9157.855 ,  9203.698 ,  9040.358 ,  8895.324 ,\n",
              "        8834.98  ,  9072.244 ,  9476.435 ,  9463.581 ,  9684.57  ,\n",
              "        9510.15  , 10193.061 ,  9659.575 ,  9619.071 ,  9829.755 ,\n",
              "        9688.266 ,  9644.533 ,  9749.126 ,  9793.348 ,  9790.133 ,\n",
              "        9875.961 ,  9335.653 ,  9406.626 ,  9466.853 ,  9339.004 ,\n",
              "        9411.968 ,  9521.635 ,  9467.352 ,  9406.15  ,  9297.266 ,\n",
              "        9339.262 ,  9295.297 ,  9634.901 ,  9647.096 ,  9348.184 ,\n",
              "        9257.335 ,  9184.866 ,  9011.106 ,  9067.143 ,  9178.402 ,\n",
              "        9152.065 ,  9228.7295,  9129.177 ,  9091.775 ,  9124.677 ,\n",
              "        9063.91  ,  9250.051 ,  9268.224 ,  9454.595 ,  9288.447 ,\n",
              "        9242.903 ,  9240.566 ,  9281.025 ,  9240.394 ,  9259.828 ,\n",
              "        9222.491 ,  9141.499 ,  9153.349 ,  9176.917 ,  9187.745 ,\n",
              "        9177.428 ,  9378.914 ,  9539.562 ,  9628.763 ,  9599.806 ,\n",
              "        9716.476 ,  9941.464 , 11094.363 , 11069.257 , 11290.675 ,\n",
              "       11242.398 , 11396.562 , 11756.074 , 11246.534 , 11224.379 ,\n",
              "       11263.307 , 11599.415 , 11796.626 , 11686.08  , 11754.724 ,\n",
              "       11716.589 , 11816.117 , 11400.748 , 11502.034 , 11746.04  ,\n",
              "       11784.524 , 11886.534 , 11932.966 , 12370.248 , 12153.575 ,\n",
              "       11779.041 , 11826.812 , 11613.568 , 11619.088 , 11662.276 ,\n",
              "       11732.596 , 11417.279 , 11434.15  , 11321.8955, 11442.047 ,\n",
              "       11513.491 , 11650.27  , 11695.731 , 11957.547 , 11515.236 ,\n",
              "       10760.146 , 10531.056 , 10103.115 , 10146.531 , 10326.347 ,\n",
              "       10060.288 , 10215.608 , 10364.652 , 10380.488 , 10437.364 ,\n",
              "       10349.306 , 10647.137 , 10849.12  , 11034.741 , 10985.772 ,\n",
              "       10962.707 , 11058.003 , 10888.204 , 10544.867 , 10511.584 ,\n",
              "       10275.47  , 10589.001 , 10737.257 , 10744.488 , 10769.579 ,\n",
              "       10880.778 , 10789.549 , 10744.63  , 10644.399 , 10567.208 ,\n",
              "       10546.771 , 10644.551 , 10750.381 , 10616.429 , 10640.2295,\n",
              "       10888.242 , 11057.144 , 11349.79  , 11386.1045, 11666.1   ,\n",
              "       11518.934 , 11409.299 , 11507.01  , 11383.304 , 11340.901 ,\n",
              "       11465.47  , 11757.055 , 11945.091 , 13024.001 , 13254.7295,\n",
              "       13016.111 , 13133.586 , 13082.603 , 13023.046 , 13659.989 ,\n",
              "       13384.851 , 13438.327 , 13612.796 , 13885.604 , 13767.466 ,\n",
              "       13659.809 , 13831.086 , 14155.669 , 15327.211 , 15642.604 ,\n",
              "       14933.104 , 15473.    , 15409.588 , 15333.837 , 15791.723 ,\n",
              "       16275.999 , 16383.565 , 16081.142 , 15952.959 , 16689.084 ,\n",
              "       17564.28  , 17883.506 , 18036.865 , 18661.115 , 18706.52  ,\n",
              "       18666.896 , 18537.879 , 19016.209 , 18822.531 , 17327.824 ,\n",
              "       16946.293 , 17701.387 , 18042.305 , 19230.734 , 19159.898 ,\n",
              "       19230.871 , 19537.55  , 18944.287 , 18980.273 , 19141.15  ,\n",
              "       19101.531 , 18714.447 , 18546.562 , 18364.688 , 18122.52  ,\n",
              "       18768.75  , 19084.244 , 19252.318 , 19485.32  , 21205.812 ,\n",
              "       22885.027 , 23164.893 , 23942.578 , 23832.822 , 23303.137 ,\n",
              "       23437.037 , 23283.32  , 23547.236 , 24522.354 , 26302.824 ,\n",
              "       26573.09  , 26820.44  , 27136.244 , 28717.059 , 29250.266 ,\n",
              "       29427.744 , 32040.162 , 33239.555 , 31759.9   , 34239.46  ,\n",
              "       36455.48  , 39473.56  , 40667.414 , 40572.508 , 39220.574 ,\n",
              "       34956.418 , 33876.812 , 36520.504 , 38225.062 , 36888.363 ,\n",
              "       36170.402 , 36468.598 , 36334.973 , 36453.49  , 35172.85  ,\n",
              "       31019.438 , 32744.143 , 32369.24  , 32152.225 , 32473.996 ,\n",
              "       32426.89  , 30658.777 , 33030.594 , 34883.734 , 34728.312 ,\n",
              "       33353.055 , 33673.566 , 35503.492 , 37308.38  , 37430.734 ,\n",
              "       37990.    , 40322.56  , 38924.957 , 44070.434 , 46883.734 ,\n",
              "       45629.57  , 47486.29  , 48446.527 , 47196.44  , 48972.27  ,\n",
              "       48510.1   , 48734.113 , 51978.918 , 52099.215 , 55407.066 ,\n",
              "       55422.914 , 57093.715 , 54844.926 , 48735.293 , 48243.035 ,\n",
              "       48405.76  , 46220.902 , 46295.027 , 45251.26  , 48606.723 ,\n",
              "       48241.51  , 50515.363 , 48875.816 , 49083.848 , 49025.965 ,\n",
              "       50440.594 , 51488.688 , 54339.438 , 57037.14  , 57987.86  ,\n",
              "       57693.1   , 60713.043 , 60677.383 , 56755.    , 56504.156 ,\n",
              "       58455.38  , 57957.715 , 58274.77  , 58754.59  , 57972.36  ,\n",
              "       54621.73  , 54517.223 , 52900.586 , 52003.62  , 54049.523 ,\n",
              "       56142.348 , 55513.617 , 57519.59  , 59010.867 , 58919.18  ,\n",
              "       59101.16  , 59050.664 , 57706.66  , 58046.633 , 58819.543 ,\n",
              "       58122.    , 56610.914 , 57705.312 , 58211.953 , 59141.49  ,\n",
              "       59897.652 , 60025.008 , 63020.39  , 63317.246 , 63422.867 ,\n",
              "       62342.84  , 60775.8   , 57091.938 , 55924.45  , 56315.527 ,\n",
              "       54422.023 , 51987.867 , 50580.15  , 50517.336 , 48737.19  ,\n",
              "       52761.188 , 55229.48  , 54790.863 , 53600.508 , 57151.344 ,\n",
              "       57970.652 , 56599.098 , 57288.48  , 54262.723 , 56620.926 ,\n",
              "       56834.56  , 56952.69  , 58713.805 , 58462.4   , 55952.49  ,\n",
              "       56437.367 , 52627.887 , 49747.117 , 49726.836 , 48281.766 ,\n",
              "       45882.504 ], dtype=float32)>"
            ]
          },
          "metadata": {
            "tags": []
          },
          "execution_count": 108
        }
      ]
    },
    {
      "cell_type": "code",
      "metadata": {
        "colab": {
          "base_uri": "https://localhost:8080/"
        },
        "id": "A6nL8cP17CGQ",
        "outputId": "922d6ca8-7dc5-4a4a-c282-682d8f23b349"
      },
      "source": [
        "model_6_results = evaluate_preds(y_true=tf.squeeze(y_test),\n",
        "                                 y_pred=model_6_preds)\n",
        "model_6_results"
      ],
      "execution_count": 109,
      "outputs": [
        {
          "output_type": "execute_result",
          "data": {
            "text/plain": [
              "{'mae': 567.5863,\n",
              " 'mape': 2.5413754,\n",
              " 'mase': 0.99709195,\n",
              " 'mse': 1161687.2,\n",
              " 'rmse': 1077.8159}"
            ]
          },
          "metadata": {
            "tags": []
          },
          "execution_count": 109
        }
      ]
    },
    {
      "cell_type": "code",
      "metadata": {
        "colab": {
          "base_uri": "https://localhost:8080/"
        },
        "id": "mTBbSzxb7M4w",
        "outputId": "9d7fc33f-3f5f-4ad5-fe79-34aee780ae42"
      },
      "source": [
        "naive_results, model_1_results"
      ],
      "execution_count": 110,
      "outputs": [
        {
          "output_type": "execute_result",
          "data": {
            "text/plain": [
              "({'mae': 567.9802,\n",
              "  'mape': 2.516525,\n",
              "  'mase': 0.99957,\n",
              "  'mse': 1147547.0,\n",
              "  'rmse': 1071.2362},\n",
              " {'mae': 568.95123,\n",
              "  'mape': 2.5448983,\n",
              "  'mase': 0.9994897,\n",
              "  'mse': 1171744.0,\n",
              "  'rmse': 1082.4712})"
            ]
          },
          "metadata": {
            "tags": []
          },
          "execution_count": 110
        }
      ]
    },
    {
      "cell_type": "markdown",
      "metadata": {
        "id": "Uy1gdAPE7Pw0"
      },
      "source": [
        "## As we can see our multivariate model achieves a better `MAE` score on both the Naive forecast and model 1. Slightly better than both but still a win"
      ]
    },
    {
      "cell_type": "markdown",
      "metadata": {
        "id": "Rfekd-0N7OZg"
      },
      "source": [
        "### Building and testing N-BEATS block layer"
      ]
    },
    {
      "cell_type": "code",
      "metadata": {
        "id": "BBXD9ZE2_9n3"
      },
      "source": [
        "# Create NBEATS custom layer\n",
        "\n",
        "class NBeatsBlock(tf.keras.layers.Layer):\n",
        "  def __init__(self,\n",
        "               input_size: int,\n",
        "               theta_size: int,\n",
        "               horizon: int,\n",
        "               n_nuerons: int,\n",
        "               n_layers: int,\n",
        "               **kwargs): # takes care of all arguments for parent class\n",
        "\n",
        "    super().__init__(**kwargs)\n",
        "    self.input_size = input_size\n",
        "    self.theta_size = theta_size\n",
        "    self.horizon = horizon\n",
        "    self.n_nuerons = n_nuerons\n",
        "    self.n_layers = n_layers\n",
        "\n",
        "    # BLock contains 4 FC Layers. Each has RELU activation\n",
        "    self.hidden = [tf.keras.layers.Dense(n_nuerons, activation=\"relu\", for _ in range(n_layers))]\n",
        "    \n",
        "    # Output of block is theta layer with linear activation\n",
        "    self.theta_layer = tf.keras.layers.Dense(theta_size, activation=\"linear\", name=\"theta\")\n",
        "\n",
        "  def call(self, inputs):\n",
        "    x = inputs\n",
        "    for layer in self.hidden():\n",
        "      x = layer(x)\n",
        "    theta = self.theta_layer(x)\n",
        "    # Output backcast and forecast for theta\n",
        "    backcast, forecast = theta[:, :self.input_size], theta[:, -self.horizon]\n",
        "    return backcast, forecast"
      ],
      "execution_count": null,
      "outputs": []
    }
  ]
}