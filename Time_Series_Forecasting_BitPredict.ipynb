{
  "nbformat": 4,
  "nbformat_minor": 0,
  "metadata": {
    "colab": {
      "name": "Time-Series-Forecasting-BitPredict.ipynb",
      "provenance": [],
      "collapsed_sections": [],
      "authorship_tag": "ABX9TyMLIKfB1ESgTCeapBHUR0a7",
      "include_colab_link": true
    },
    "kernelspec": {
      "name": "python3",
      "display_name": "Python 3"
    },
    "language_info": {
      "name": "python"
    },
    "accelerator": "GPU"
  },
  "cells": [
    {
      "cell_type": "markdown",
      "metadata": {
        "id": "view-in-github",
        "colab_type": "text"
      },
      "source": [
        "<a href=\"https://colab.research.google.com/github/SilahicAmil/End-To-End-Time-Series-Forcasting/blob/main/Time_Series_Forecasting_BitPredict.ipynb\" target=\"_parent\"><img src=\"https://colab.research.google.com/assets/colab-badge.svg\" alt=\"Open In Colab\"/></a>"
      ]
    },
    {
      "cell_type": "markdown",
      "metadata": {
        "id": "vOjBMGN-jyDB"
      },
      "source": [
        "## Time series forecasting fundamentals with TensorFlow\n",
        "\n",
        "Links:\n",
        "* All Resources: https://github.com/mrdbourke/tensorflow-deep-learning\n",
        " "
      ]
    },
    {
      "cell_type": "markdown",
      "metadata": {
        "id": "nnPqLK9Cj_9d"
      },
      "source": [
        "## Get Data\n",
        "\n",
        "Hisotrical price data of Bitcoin from CoinDesk"
      ]
    },
    {
      "cell_type": "code",
      "metadata": {
        "colab": {
          "base_uri": "https://localhost:8080/"
        },
        "id": "4IjiM1HakhFi",
        "outputId": "7f49302f-2f9f-4e6b-c26f-921301c7286d"
      },
      "source": [
        "!wget https://raw.githubusercontent.com/mrdbourke/tensorflow-deep-learning/main/extras/BTC_USD_2013-10-01_2021-05-18-CoinDesk.csv"
      ],
      "execution_count": null,
      "outputs": [
        {
          "output_type": "stream",
          "text": [
            "--2021-08-14 01:56:56--  https://raw.githubusercontent.com/mrdbourke/tensorflow-deep-learning/main/extras/BTC_USD_2013-10-01_2021-05-18-CoinDesk.csv\n",
            "Resolving raw.githubusercontent.com (raw.githubusercontent.com)... 185.199.111.133, 185.199.108.133, 185.199.110.133, ...\n",
            "Connecting to raw.githubusercontent.com (raw.githubusercontent.com)|185.199.111.133|:443... connected.\n",
            "HTTP request sent, awaiting response... 200 OK\n",
            "Length: 178509 (174K) [text/plain]\n",
            "Saving to: ‘BTC_USD_2013-10-01_2021-05-18-CoinDesk.csv.1’\n",
            "\n",
            "BTC_USD_2013-10-01_ 100%[===================>] 174.33K  --.-KB/s    in 0.02s   \n",
            "\n",
            "2021-08-14 01:56:56 (10.8 MB/s) - ‘BTC_USD_2013-10-01_2021-05-18-CoinDesk.csv.1’ saved [178509/178509]\n",
            "\n"
          ],
          "name": "stdout"
        }
      ]
    },
    {
      "cell_type": "code",
      "metadata": {
        "colab": {
          "base_uri": "https://localhost:8080/"
        },
        "id": "WJOrBUv13IEr",
        "outputId": "ef515b6d-1e38-4cfa-e2ed-fdb90378e5a0"
      },
      "source": [
        "# Even though the datasets are smaller. Good to even get the small benefit of a GPU\n",
        "!nvidia-smi -L\n"
      ],
      "execution_count": null,
      "outputs": [
        {
          "output_type": "stream",
          "text": [
            "GPU 0: Tesla T4 (UUID: GPU-59f8dae1-4ee3-9bdf-7647-7e4c30e17dd3)\n"
          ],
          "name": "stdout"
        }
      ]
    },
    {
      "cell_type": "markdown",
      "metadata": {
        "id": "ah7ONKkXk5aL"
      },
      "source": [
        "## Importing time series data with Pandas"
      ]
    },
    {
      "cell_type": "code",
      "metadata": {
        "colab": {
          "base_uri": "https://localhost:8080/",
          "height": 235
        },
        "id": "eX7ZRGWclMGX",
        "outputId": "e77b1549-e5b6-4b19-93a6-21be58c6f3da"
      },
      "source": [
        "import pandas as pd\n",
        "df= pd.read_csv(\"/content/BTC_USD_2013-10-01_2021-05-18-CoinDesk.csv\",\n",
        "                parse_dates=[\"Date\"],\n",
        "                index_col=[\"Date\"])\n",
        "df.head()"
      ],
      "execution_count": null,
      "outputs": [
        {
          "output_type": "execute_result",
          "data": {
            "text/html": [
              "<div>\n",
              "<style scoped>\n",
              "    .dataframe tbody tr th:only-of-type {\n",
              "        vertical-align: middle;\n",
              "    }\n",
              "\n",
              "    .dataframe tbody tr th {\n",
              "        vertical-align: top;\n",
              "    }\n",
              "\n",
              "    .dataframe thead th {\n",
              "        text-align: right;\n",
              "    }\n",
              "</style>\n",
              "<table border=\"1\" class=\"dataframe\">\n",
              "  <thead>\n",
              "    <tr style=\"text-align: right;\">\n",
              "      <th></th>\n",
              "      <th>Currency</th>\n",
              "      <th>Closing Price (USD)</th>\n",
              "      <th>24h Open (USD)</th>\n",
              "      <th>24h High (USD)</th>\n",
              "      <th>24h Low (USD)</th>\n",
              "    </tr>\n",
              "    <tr>\n",
              "      <th>Date</th>\n",
              "      <th></th>\n",
              "      <th></th>\n",
              "      <th></th>\n",
              "      <th></th>\n",
              "      <th></th>\n",
              "    </tr>\n",
              "  </thead>\n",
              "  <tbody>\n",
              "    <tr>\n",
              "      <th>2013-10-01</th>\n",
              "      <td>BTC</td>\n",
              "      <td>123.65499</td>\n",
              "      <td>124.30466</td>\n",
              "      <td>124.75166</td>\n",
              "      <td>122.56349</td>\n",
              "    </tr>\n",
              "    <tr>\n",
              "      <th>2013-10-02</th>\n",
              "      <td>BTC</td>\n",
              "      <td>125.45500</td>\n",
              "      <td>123.65499</td>\n",
              "      <td>125.75850</td>\n",
              "      <td>123.63383</td>\n",
              "    </tr>\n",
              "    <tr>\n",
              "      <th>2013-10-03</th>\n",
              "      <td>BTC</td>\n",
              "      <td>108.58483</td>\n",
              "      <td>125.45500</td>\n",
              "      <td>125.66566</td>\n",
              "      <td>83.32833</td>\n",
              "    </tr>\n",
              "    <tr>\n",
              "      <th>2013-10-04</th>\n",
              "      <td>BTC</td>\n",
              "      <td>118.67466</td>\n",
              "      <td>108.58483</td>\n",
              "      <td>118.67500</td>\n",
              "      <td>107.05816</td>\n",
              "    </tr>\n",
              "    <tr>\n",
              "      <th>2013-10-05</th>\n",
              "      <td>BTC</td>\n",
              "      <td>121.33866</td>\n",
              "      <td>118.67466</td>\n",
              "      <td>121.93633</td>\n",
              "      <td>118.00566</td>\n",
              "    </tr>\n",
              "  </tbody>\n",
              "</table>\n",
              "</div>"
            ],
            "text/plain": [
              "           Currency  Closing Price (USD)  ...  24h High (USD)  24h Low (USD)\n",
              "Date                                      ...                               \n",
              "2013-10-01      BTC            123.65499  ...       124.75166      122.56349\n",
              "2013-10-02      BTC            125.45500  ...       125.75850      123.63383\n",
              "2013-10-03      BTC            108.58483  ...       125.66566       83.32833\n",
              "2013-10-04      BTC            118.67466  ...       118.67500      107.05816\n",
              "2013-10-05      BTC            121.33866  ...       121.93633      118.00566\n",
              "\n",
              "[5 rows x 5 columns]"
            ]
          },
          "metadata": {
            "tags": []
          },
          "execution_count": 3
        }
      ]
    },
    {
      "cell_type": "code",
      "metadata": {
        "colab": {
          "base_uri": "https://localhost:8080/"
        },
        "id": "I0KWRWprl_pV",
        "outputId": "7cc4cdd2-a505-4b6f-edb0-86cf0f1dfd35"
      },
      "source": [
        "df.info()"
      ],
      "execution_count": null,
      "outputs": [
        {
          "output_type": "stream",
          "text": [
            "<class 'pandas.core.frame.DataFrame'>\n",
            "DatetimeIndex: 2787 entries, 2013-10-01 to 2021-05-18\n",
            "Data columns (total 5 columns):\n",
            " #   Column               Non-Null Count  Dtype  \n",
            "---  ------               --------------  -----  \n",
            " 0   Currency             2787 non-null   object \n",
            " 1   Closing Price (USD)  2787 non-null   float64\n",
            " 2   24h Open (USD)       2787 non-null   float64\n",
            " 3   24h High (USD)       2787 non-null   float64\n",
            " 4   24h Low (USD)        2787 non-null   float64\n",
            "dtypes: float64(4), object(1)\n",
            "memory usage: 130.6+ KB\n"
          ],
          "name": "stdout"
        }
      ]
    },
    {
      "cell_type": "code",
      "metadata": {
        "colab": {
          "base_uri": "https://localhost:8080/"
        },
        "id": "XkZYgYeEmFri",
        "outputId": "74a3cfe9-13c3-4ffc-bd10-17b5ce5aebd5"
      },
      "source": [
        "df[\"Closing Price (USD)\"].dtype\n",
        "# df[\"Date\"].dtype()\n",
        "# df[\"Currency\"].dtype"
      ],
      "execution_count": null,
      "outputs": [
        {
          "output_type": "execute_result",
          "data": {
            "text/plain": [
              "dtype('float64')"
            ]
          },
          "metadata": {
            "tags": []
          },
          "execution_count": 5
        }
      ]
    },
    {
      "cell_type": "code",
      "metadata": {
        "colab": {
          "base_uri": "https://localhost:8080/"
        },
        "id": "dK0b96r8mjPI",
        "outputId": "a3846557-4501-473f-9864-14303055717d"
      },
      "source": [
        "len(df)"
      ],
      "execution_count": null,
      "outputs": [
        {
          "output_type": "execute_result",
          "data": {
            "text/plain": [
              "2787"
            ]
          },
          "metadata": {
            "tags": []
          },
          "execution_count": 6
        }
      ]
    },
    {
      "cell_type": "markdown",
      "metadata": {
        "id": "XJHdnpBYmyCd"
      },
      "source": [
        "Collecting the historical price of Bitcoin over the past ~8 years yielded 2787 samples.\n",
        "\n",
        "Typically deep learning likes and yields better results with more data.\n",
        "\n",
        ">Seasonality of a time series dataset refers to the number of samples per year. For the dataset here the seasonality value is 365. Meaning we collect one sample per day for 365 days of the year"
      ]
    },
    {
      "cell_type": "code",
      "metadata": {
        "colab": {
          "base_uri": "https://localhost:8080/",
          "height": 235
        },
        "id": "c-3clG2zmpzP",
        "outputId": "694c9cf3-c034-4eea-c7af-b4aeeddad6f7"
      },
      "source": [
        "df.head()"
      ],
      "execution_count": null,
      "outputs": [
        {
          "output_type": "execute_result",
          "data": {
            "text/html": [
              "<div>\n",
              "<style scoped>\n",
              "    .dataframe tbody tr th:only-of-type {\n",
              "        vertical-align: middle;\n",
              "    }\n",
              "\n",
              "    .dataframe tbody tr th {\n",
              "        vertical-align: top;\n",
              "    }\n",
              "\n",
              "    .dataframe thead th {\n",
              "        text-align: right;\n",
              "    }\n",
              "</style>\n",
              "<table border=\"1\" class=\"dataframe\">\n",
              "  <thead>\n",
              "    <tr style=\"text-align: right;\">\n",
              "      <th></th>\n",
              "      <th>Currency</th>\n",
              "      <th>Closing Price (USD)</th>\n",
              "      <th>24h Open (USD)</th>\n",
              "      <th>24h High (USD)</th>\n",
              "      <th>24h Low (USD)</th>\n",
              "    </tr>\n",
              "    <tr>\n",
              "      <th>Date</th>\n",
              "      <th></th>\n",
              "      <th></th>\n",
              "      <th></th>\n",
              "      <th></th>\n",
              "      <th></th>\n",
              "    </tr>\n",
              "  </thead>\n",
              "  <tbody>\n",
              "    <tr>\n",
              "      <th>2013-10-01</th>\n",
              "      <td>BTC</td>\n",
              "      <td>123.65499</td>\n",
              "      <td>124.30466</td>\n",
              "      <td>124.75166</td>\n",
              "      <td>122.56349</td>\n",
              "    </tr>\n",
              "    <tr>\n",
              "      <th>2013-10-02</th>\n",
              "      <td>BTC</td>\n",
              "      <td>125.45500</td>\n",
              "      <td>123.65499</td>\n",
              "      <td>125.75850</td>\n",
              "      <td>123.63383</td>\n",
              "    </tr>\n",
              "    <tr>\n",
              "      <th>2013-10-03</th>\n",
              "      <td>BTC</td>\n",
              "      <td>108.58483</td>\n",
              "      <td>125.45500</td>\n",
              "      <td>125.66566</td>\n",
              "      <td>83.32833</td>\n",
              "    </tr>\n",
              "    <tr>\n",
              "      <th>2013-10-04</th>\n",
              "      <td>BTC</td>\n",
              "      <td>118.67466</td>\n",
              "      <td>108.58483</td>\n",
              "      <td>118.67500</td>\n",
              "      <td>107.05816</td>\n",
              "    </tr>\n",
              "    <tr>\n",
              "      <th>2013-10-05</th>\n",
              "      <td>BTC</td>\n",
              "      <td>121.33866</td>\n",
              "      <td>118.67466</td>\n",
              "      <td>121.93633</td>\n",
              "      <td>118.00566</td>\n",
              "    </tr>\n",
              "  </tbody>\n",
              "</table>\n",
              "</div>"
            ],
            "text/plain": [
              "           Currency  Closing Price (USD)  ...  24h High (USD)  24h Low (USD)\n",
              "Date                                      ...                               \n",
              "2013-10-01      BTC            123.65499  ...       124.75166      122.56349\n",
              "2013-10-02      BTC            125.45500  ...       125.75850      123.63383\n",
              "2013-10-03      BTC            108.58483  ...       125.66566       83.32833\n",
              "2013-10-04      BTC            118.67466  ...       118.67500      107.05816\n",
              "2013-10-05      BTC            121.33866  ...       121.93633      118.00566\n",
              "\n",
              "[5 rows x 5 columns]"
            ]
          },
          "metadata": {
            "tags": []
          },
          "execution_count": 7
        }
      ]
    },
    {
      "cell_type": "code",
      "metadata": {
        "colab": {
          "base_uri": "https://localhost:8080/",
          "height": 450
        },
        "id": "7tQ4XtY-px2w",
        "outputId": "30fe0c18-2366-4ec6-b1a6-8b6fef4d133e"
      },
      "source": [
        "# Only having date and closing price\n",
        "bitcoin_prices = pd.DataFrame(df[\"Closing Price (USD)\"]).rename(columns={\"Closing Price (USD)\": \"Price\"})\n",
        "bitcoin_prices"
      ],
      "execution_count": null,
      "outputs": [
        {
          "output_type": "execute_result",
          "data": {
            "text/html": [
              "<div>\n",
              "<style scoped>\n",
              "    .dataframe tbody tr th:only-of-type {\n",
              "        vertical-align: middle;\n",
              "    }\n",
              "\n",
              "    .dataframe tbody tr th {\n",
              "        vertical-align: top;\n",
              "    }\n",
              "\n",
              "    .dataframe thead th {\n",
              "        text-align: right;\n",
              "    }\n",
              "</style>\n",
              "<table border=\"1\" class=\"dataframe\">\n",
              "  <thead>\n",
              "    <tr style=\"text-align: right;\">\n",
              "      <th></th>\n",
              "      <th>Price</th>\n",
              "    </tr>\n",
              "    <tr>\n",
              "      <th>Date</th>\n",
              "      <th></th>\n",
              "    </tr>\n",
              "  </thead>\n",
              "  <tbody>\n",
              "    <tr>\n",
              "      <th>2013-10-01</th>\n",
              "      <td>123.654990</td>\n",
              "    </tr>\n",
              "    <tr>\n",
              "      <th>2013-10-02</th>\n",
              "      <td>125.455000</td>\n",
              "    </tr>\n",
              "    <tr>\n",
              "      <th>2013-10-03</th>\n",
              "      <td>108.584830</td>\n",
              "    </tr>\n",
              "    <tr>\n",
              "      <th>2013-10-04</th>\n",
              "      <td>118.674660</td>\n",
              "    </tr>\n",
              "    <tr>\n",
              "      <th>2013-10-05</th>\n",
              "      <td>121.338660</td>\n",
              "    </tr>\n",
              "    <tr>\n",
              "      <th>...</th>\n",
              "      <td>...</td>\n",
              "    </tr>\n",
              "    <tr>\n",
              "      <th>2021-05-14</th>\n",
              "      <td>49764.132082</td>\n",
              "    </tr>\n",
              "    <tr>\n",
              "      <th>2021-05-15</th>\n",
              "      <td>50032.693137</td>\n",
              "    </tr>\n",
              "    <tr>\n",
              "      <th>2021-05-16</th>\n",
              "      <td>47885.625255</td>\n",
              "    </tr>\n",
              "    <tr>\n",
              "      <th>2021-05-17</th>\n",
              "      <td>45604.615754</td>\n",
              "    </tr>\n",
              "    <tr>\n",
              "      <th>2021-05-18</th>\n",
              "      <td>43144.471291</td>\n",
              "    </tr>\n",
              "  </tbody>\n",
              "</table>\n",
              "<p>2787 rows × 1 columns</p>\n",
              "</div>"
            ],
            "text/plain": [
              "                   Price\n",
              "Date                    \n",
              "2013-10-01    123.654990\n",
              "2013-10-02    125.455000\n",
              "2013-10-03    108.584830\n",
              "2013-10-04    118.674660\n",
              "2013-10-05    121.338660\n",
              "...                  ...\n",
              "2021-05-14  49764.132082\n",
              "2021-05-15  50032.693137\n",
              "2021-05-16  47885.625255\n",
              "2021-05-17  45604.615754\n",
              "2021-05-18  43144.471291\n",
              "\n",
              "[2787 rows x 1 columns]"
            ]
          },
          "metadata": {
            "tags": []
          },
          "execution_count": 8
        }
      ]
    },
    {
      "cell_type": "code",
      "metadata": {
        "colab": {
          "base_uri": "https://localhost:8080/",
          "height": 623
        },
        "id": "ybGH2BI7qHV9",
        "outputId": "f1aef042-5e58-4700-aa31-b36308a20581"
      },
      "source": [
        "import matplotlib.pyplot as plt\n",
        "bitcoin_prices.plot(figsize=(15,10))\n",
        "plt.ylabel(\"BTC Price\")\n",
        "plt.title(\"Price of Bitcoin 10/2013 to 05/2021\", fontsize=14);"
      ],
      "execution_count": null,
      "outputs": [
        {
          "output_type": "display_data",
          "data": {
            "image/png": "[encoded data removed]",
            "text/plain": [
              "<Figure size 1080x720 with 1 Axes>"
            ]
          },
          "metadata": {
            "tags": [],
            "needs_background": "light"
          }
        }
      ]
    },
    {
      "cell_type": "markdown",
      "metadata": {
        "id": "S8kbGDXWtUTf"
      },
      "source": [
        "## Importing time series data with Pythn's CSV Module"
      ]
    },
    {
      "cell_type": "code",
      "metadata": {
        "colab": {
          "base_uri": "https://localhost:8080/"
        },
        "id": "a6rKQI8YqOk9",
        "outputId": "db25ba44-6bc1-477f-c67f-f29617391a17"
      },
      "source": [
        "import csv\n",
        "from datetime import datetime\n",
        "\n",
        "timesteps = []\n",
        "btc_price = []\n",
        "\n",
        "with open(\"/content/BTC_USD_2013-10-01_2021-05-18-CoinDesk.csv\", \"r\") as f:\n",
        "  csv_reader = csv.reader(f, delimiter=\",\")\n",
        "  next(csv_reader) #Skips header\n",
        "  for line in csv_reader:\n",
        "    timesteps.append(datetime.strptime(line[1], \"%Y-%m-%d\")) # Gets dates as dates\n",
        "    btc_price.append(float(line[2]))\n",
        "\n",
        "# View first 10\n",
        "timesteps[:10],btc_price[:10]"
      ],
      "execution_count": null,
      "outputs": [
        {
          "output_type": "execute_result",
          "data": {
            "text/plain": [
              "([datetime.datetime(2013, 10, 1, 0, 0),\n",
              "  datetime.datetime(2013, 10, 2, 0, 0),\n",
              "  datetime.datetime(2013, 10, 3, 0, 0),\n",
              "  datetime.datetime(2013, 10, 4, 0, 0),\n",
              "  datetime.datetime(2013, 10, 5, 0, 0),\n",
              "  datetime.datetime(2013, 10, 6, 0, 0),\n",
              "  datetime.datetime(2013, 10, 7, 0, 0),\n",
              "  datetime.datetime(2013, 10, 8, 0, 0),\n",
              "  datetime.datetime(2013, 10, 9, 0, 0),\n",
              "  datetime.datetime(2013, 10, 10, 0, 0)],\n",
              " [123.65499,\n",
              "  125.455,\n",
              "  108.58483,\n",
              "  118.67466,\n",
              "  121.33866,\n",
              "  120.65533,\n",
              "  121.795,\n",
              "  123.033,\n",
              "  124.049,\n",
              "  125.96116])"
            ]
          },
          "metadata": {
            "tags": []
          },
          "execution_count": 10
        }
      ]
    },
    {
      "cell_type": "code",
      "metadata": {
        "colab": {
          "base_uri": "https://localhost:8080/",
          "height": 623
        },
        "id": "qZZtjudhu3cd",
        "outputId": "b4427074-bc3e-4bd0-e1a1-7f609e25c4e4"
      },
      "source": [
        "# plot from csv\n",
        "import numpy as np\n",
        "plt.figure(figsize=(15,10))\n",
        "plt.plot(timesteps, btc_price)\n",
        "plt.ylabel(\"BTC Price\")\n",
        "plt.xlabel(\"Date\")\n",
        "plt.title(\"Price of Bitcoin 10/2013 to 05/2021\", fontsize=14);"
      ],
      "execution_count": null,
      "outputs": [
        {
          "output_type": "display_data",
          "data": {
            "image/png": "[encoded data removed]",
            "text/plain": [
              "<Figure size 1080x720 with 1 Axes>"
            ]
          },
          "metadata": {
            "tags": [],
            "needs_background": "light"
          }
        }
      ]
    },
    {
      "cell_type": "markdown",
      "metadata": {
        "id": "_2zsLoafvYSo"
      },
      "source": [
        "## Create Train/Test Split "
      ]
    },
    {
      "cell_type": "code",
      "metadata": {
        "colab": {
          "base_uri": "https://localhost:8080/"
        },
        "id": "goqbznwzxUy4",
        "outputId": "95b22700-1dc2-4380-a4f7-b3d342e51f38"
      },
      "source": [
        "\n",
        "# Get bitcoin date array\n",
        "timesteps = bitcoin_prices.index.to_numpy()\n",
        "prices = bitcoin_prices[\"Price\"].to_numpy()\n",
        "\n",
        "timesteps[:10], prices[:10]"
      ],
      "execution_count": null,
      "outputs": [
        {
          "output_type": "execute_result",
          "data": {
            "text/plain": [
              "(array(['2013-10-01T00:00:00.000000000', '2013-10-02T00:00:00.000000000',\n",
              "        '2013-10-03T00:00:00.000000000', '2013-10-04T00:00:00.000000000',\n",
              "        '2013-10-05T00:00:00.000000000', '2013-10-06T00:00:00.000000000',\n",
              "        '2013-10-07T00:00:00.000000000', '2013-10-08T00:00:00.000000000',\n",
              "        '2013-10-09T00:00:00.000000000', '2013-10-10T00:00:00.000000000'],\n",
              "       dtype='datetime64[ns]'),\n",
              " array([123.65499, 125.455  , 108.58483, 118.67466, 121.33866, 120.65533,\n",
              "        121.795  , 123.033  , 124.049  , 125.96116]))"
            ]
          },
          "metadata": {
            "tags": []
          },
          "execution_count": 12
        }
      ]
    },
    {
      "cell_type": "code",
      "metadata": {
        "colab": {
          "base_uri": "https://localhost:8080/"
        },
        "id": "WgHHayCOw-c_",
        "outputId": "bfcc9d9b-a2d6-4600-dac0-4331a128ca01"
      },
      "source": [
        "from sklearn.model_selection import train_test_split\n",
        "\n",
        "X_train, X_test, y_train, y_test = train_test_split(timesteps,\n",
        "                                                    prices,\n",
        "                                                    test_size=0.2,\n",
        "                                                    random_state=42)\n",
        "X_train.shape, X_test.shape, y_train.shape, y_test.shape"
      ],
      "execution_count": null,
      "outputs": [
        {
          "output_type": "execute_result",
          "data": {
            "text/plain": [
              "((2229,), (558,), (2229,), (558,))"
            ]
          },
          "metadata": {
            "tags": []
          },
          "execution_count": 13
        }
      ]
    },
    {
      "cell_type": "code",
      "metadata": {
        "colab": {
          "base_uri": "https://localhost:8080/"
        },
        "id": "B5xLW13cwBXM",
        "outputId": "4d9ecbe8-89e8-446f-d1fb-a86b11bac716"
      },
      "source": [
        "# Create train and test splits for time series data\n",
        "split_size = int(0.8 * len(prices)) \n",
        "\n",
        "# Train data splits\n",
        "X_train, y_train = timesteps[:split_size], prices[:split_size]\n",
        "\n",
        "# Test data splits\n",
        "X_test, y_test = timesteps[split_size:], prices[split_size:]\n",
        "\n",
        "len(X_train), len(X_test), len(y_train), len(y_test)"
      ],
      "execution_count": null,
      "outputs": [
        {
          "output_type": "execute_result",
          "data": {
            "text/plain": [
              "(2229, 558, 2229, 558)"
            ]
          },
          "metadata": {
            "tags": []
          },
          "execution_count": 14
        }
      ]
    },
    {
      "cell_type": "code",
      "metadata": {
        "colab": {
          "base_uri": "https://localhost:8080/",
          "height": 606
        },
        "id": "f7Xx1WuYxkzn",
        "outputId": "02c6b417-6c17-42f0-efa2-6f6c6b6d2b7e"
      },
      "source": [
        "# Plot the splits\n",
        "plt.figure(figsize=(15,10))\n",
        "plt.scatter(X_train, y_train, s=5, label=\"Train data\")\n",
        "plt.scatter(X_test, y_test, s=5, label=\"Test data\")\n",
        "plt.xlabel(\"Date\")\n",
        "plt.ylabel(\"BTC Price\")\n",
        "plt.legend(fontsize=12)\n",
        "plt.show();"
      ],
      "execution_count": null,
      "outputs": [
        {
          "output_type": "display_data",
          "data": {
            "image/png": "[encoded data removed]",
            "text/plain": [
              "<Figure size 1080x720 with 1 Axes>"
            ]
          },
          "metadata": {
            "tags": [],
            "needs_background": "light"
          }
        }
      ]
    },
    {
      "cell_type": "markdown",
      "metadata": {
        "id": "G7dpr4TFxnM7"
      },
      "source": [
        "## Create a plotting function\n"
      ]
    },
    {
      "cell_type": "code",
      "metadata": {
        "id": "tgThIIVAyxfu"
      },
      "source": [
        "# Plotting function\n",
        "\n",
        "def plot_time_series(timesteps, values, format=\".\", start=0, end=None, label=None):\n",
        "  \"\"\"\n",
        "  Plots timesteps (series of points in times)\n",
        "\n",
        "  Params\n",
        "  -------\n",
        "  timesteps: array of timestep values\n",
        "  values: array of values across time\n",
        "  foramt: style of plot defaults scatter\n",
        "  start: where to start the plot\n",
        "  end: where to end the plot\n",
        "  label: label to show plot values\n",
        "  \"\"\"\n",
        "  # Plot series\n",
        "\n",
        "  plt.plot(timesteps[start:end], values[start:end], format, label=label)\n",
        "  plt.xlabel(\"Time\")\n",
        "  plt.ylabel(\"BTC Price\")\n",
        "  if label:\n",
        "    plt.legend(fontsize=14)\n",
        "  plt.grid=(True)"
      ],
      "execution_count": null,
      "outputs": []
    },
    {
      "cell_type": "code",
      "metadata": {
        "colab": {
          "base_uri": "https://localhost:8080/",
          "height": 442
        },
        "id": "0lV14pvJy2yd",
        "outputId": "10342b70-f435-4099-a16b-672853254420"
      },
      "source": [
        "# Test out func\n",
        "plt.figure(figsize=(10,7))\n",
        "plot_time_series(timesteps=X_train, values=y_train, label=\"Train Data\")\n",
        "plot_time_series(timesteps=X_test, values=y_test, label=\"Test Data\")"
      ],
      "execution_count": null,
      "outputs": [
        {
          "output_type": "display_data",
          "data": {
            "image/png": "[encoded data removed]",
            "text/plain": [
              "<Figure size 720x504 with 1 Axes>"
            ]
          },
          "metadata": {
            "tags": [],
            "needs_background": "light"
          }
        }
      ]
    },
    {
      "cell_type": "markdown",
      "metadata": {
        "id": "JJl3InsC0Lke"
      },
      "source": [
        "## Modelling Experiment\n",
        "\n",
        "We've got sme BTC historical data for modelling. Time to run a series of modelling experiments to see which performs best\n",
        "\n",
        "Common terms:\n",
        "* Horizon = number of timesteps into the future were going to predict\n",
        "* Window Size = number of timesteps we're going to use to predict horizon\n",
        "\n",
        "Modeling experiments\n",
        "\n",
        "Model Number\tModel Type\tHorizon size\tWindow size\tExtra data\n",
        "* 0\tNaïve model (baseline)\n",
        "* 1\tDense model\tHorizon=1,\tWindow Size=7\t\n",
        "* 2\tSame as Horizon=1, Window Size=30\t\n",
        "* 3\tSame as Horizon=1, Window Size=30\n",
        "* 4\tConv1D\tHorizon=1, Window Size=7\n",
        "* 5\tLSTM\tHorizon=1,\t Window Size=7\t\n",
        "* 6\tSame as 1 (but with multivariate data)\tHorizon=1,\tWindow Size=7\t- Extra Data: Block Reward Size\n",
        "* 7\tN-BEATs Algorithm\tHorizon=1,\tWindow Size=7\t\n",
        "* 8\tEnsemble (multiple models optimized on different loss functions)\tHorizon=1\tWindow Size=7\t\n",
        "* 9\tFuture prediction model (model to predict future values)\tHorizon=1,\tWindow Size=7\t\n",
        "* 10\tSame as 1 (but with turkey 🦃 data introduced) Horizon=1,\tWindow Size=7\t"
      ]
    },
    {
      "cell_type": "markdown",
      "metadata": {
        "id": "23cqZwdb1_dk"
      },
      "source": [
        "## Model 0: Baseline Forecast"
      ]
    },
    {
      "cell_type": "code",
      "metadata": {
        "colab": {
          "base_uri": "https://localhost:8080/"
        },
        "id": "Qs1F0Be3USpt",
        "outputId": "f8d3f63b-25d9-49cb-9760-298da8e2b61c"
      },
      "source": [
        "# Create a naive forecast\n",
        "naive_forecast = y_test[:-1]\n",
        "\n",
        "naive_forecast[:10],naive_forecast[-10:]"
      ],
      "execution_count": null,
      "outputs": [
        {
          "output_type": "execute_result",
          "data": {
            "text/plain": [
              "(array([9226.48582088, 8794.35864452, 8798.04205463, 9081.18687849,\n",
              "        8711.53433917, 8760.89271814, 8749.52059102, 8656.97092235,\n",
              "        8500.64355816, 8469.2608989 ]),\n",
              " array([57107.12067189, 58788.20967893, 58102.19142623, 55715.54665129,\n",
              "        56573.5554719 , 52147.82118698, 49764.1320816 , 50032.69313676,\n",
              "        47885.62525472, 45604.61575361]))"
            ]
          },
          "metadata": {
            "tags": []
          },
          "execution_count": 18
        }
      ]
    },
    {
      "cell_type": "code",
      "metadata": {
        "colab": {
          "base_uri": "https://localhost:8080/",
          "height": 442
        },
        "id": "M6DCKJKwVCGK",
        "outputId": "1eaab8f1-6de5-459a-f701-b99ff64cd44a"
      },
      "source": [
        "# Plot naive forecast\n",
        "plt.figure(figsize=(10,7))\n",
        "# plot_time_series(timesteps=X_train, values=y_train, label=\"Train Data\")\n",
        "plot_time_series(timesteps=X_test, values=y_test, start=360, format=\"-\", label=\"Test Data\")\n",
        "plot_time_series(timesteps=X_test[1:], values=naive_forecast, start=360, format=\"-\", label=\"Naive Forecast\")"
      ],
      "execution_count": null,
      "outputs": [
        {
          "output_type": "display_data",
          "data": {
            "image/png": "[encoded data removed]",
            "text/plain": [
              "<Figure size 720x504 with 1 Axes>"
            ]
          },
          "metadata": {
            "tags": [],
            "needs_background": "light"
          }
        }
      ]
    },
    {
      "cell_type": "markdown",
      "metadata": {
        "id": "1R_8tjz7VuCC"
      },
      "source": [
        "## Evaluating a time series model\n",
        "\n",
        "Looking into some evaluation metrics for time series forecasting.\n",
        "\n",
        "What are we doing?\n",
        "\n",
        "We're predicting a number. So that means it is a regression problem.\n",
        "\n",
        "\n",
        "Because we're working on a regression problem, we'll  regression metrics.\n",
        "\n",
        "Regression Metrics:\n",
        "* MAE - mean absolute error\n",
        "* MSE - mean squared error\n",
        "* RMSE - root mean square error\n",
        "* MAPE/sMAPE - (symmetric) mean absolute percentage error\n",
        "* MASE - mean absolute scaled error\n",
        "\n",
        "For all of the above metrics, **lower is better**.\n",
        "\n",
        "The main evaluation we are doing is: *how does our models forecast `(y_pred)` compare against the actual values `(y_true)`\n"
      ]
    },
    {
      "cell_type": "code",
      "metadata": {
        "id": "EXE1bHrNYGJK"
      },
      "source": [
        "import tensorflow as tf"
      ],
      "execution_count": null,
      "outputs": []
    },
    {
      "cell_type": "code",
      "metadata": {
        "id": "wmBTZBOlZr_2"
      },
      "source": [
        "def mean_absolute_scaled_error(y_true, y_pred):\n",
        "  \"\"\"\n",
        "  Implement MASE (assumes no seasonality)\n",
        "  \"\"\"\n",
        "  mae = tf.reduce_mean(tf.abs(y_true-y_pred))\n",
        "\n",
        "  # Find MAE of naive forecast \n",
        "  mae_naive_no_season = tf.reduce_mean(tf.abs(y_true[1:]-y_true[:-1])) # Seasonality is 1 day. Reason for the shift of 1\n",
        "\n",
        "  return mae / mae_naive_no_season"
      ],
      "execution_count": null,
      "outputs": []
    },
    {
      "cell_type": "code",
      "metadata": {
        "colab": {
          "base_uri": "https://localhost:8080/"
        },
        "id": "UQLMha_XbB8Z",
        "outputId": "c3feaad3-ca29-4d6b-be88-63839dc63fc0"
      },
      "source": [
        "mean_absolute_scaled_error(y_true=y_test[1:], y_pred=naive_forecast).numpy()"
      ],
      "execution_count": null,
      "outputs": [
        {
          "output_type": "execute_result",
          "data": {
            "text/plain": [
              "0.9995699939182624"
            ]
          },
          "metadata": {
            "tags": []
          },
          "execution_count": 22
        }
      ]
    },
    {
      "cell_type": "code",
      "metadata": {
        "id": "6zgwVhhSbHrM"
      },
      "source": [
        "# Create a function to take in model preds and true values\n",
        "\n",
        "def evaluate_preds(y_true,y_pred):\n",
        "  # Make sure float32 for metric calculations\n",
        "  y_true = tf.cast(y_true, dtype=tf.float32)\n",
        "  y_pred = tf.cast(y_pred, dtype=tf.float32)\n",
        "\n",
        "  # Calc evals\n",
        "  mae = tf.keras.metrics.mean_absolute_error(y_true, y_pred)\n",
        "  mse = tf.keras.metrics.mean_squared_error(y_true, y_pred)\n",
        "  rmse = tf.sqrt(mse)\n",
        "  mape = tf.keras.metrics.mean_absolute_percentage_error(y_true, y_pred)\n",
        "  mase = mean_absolute_scaled_error(y_true, y_pred)\n",
        "\n",
        "  return {\"mae\": mae.numpy(),\n",
        "          \"mse\": mse.numpy(),\n",
        "          \"rmse\": rmse.numpy(),\n",
        "          \"mape\": mape.numpy(),\n",
        "          \"mase\": mase.numpy()}"
      ],
      "execution_count": null,
      "outputs": []
    },
    {
      "cell_type": "code",
      "metadata": {
        "colab": {
          "base_uri": "https://localhost:8080/"
        },
        "id": "pf2MK9HTF5Z1",
        "outputId": "5c551231-24d6-4d3b-ce38-f7669d1619cb"
      },
      "source": [
        "naive_results = evaluate_preds(y_true=y_test[1:],\n",
        "                               y_pred=naive_forecast)\n",
        "naive_results"
      ],
      "execution_count": null,
      "outputs": [
        {
          "output_type": "execute_result",
          "data": {
            "text/plain": [
              "{'mae': 567.9802,\n",
              " 'mape': 2.516525,\n",
              " 'mase': 0.99957,\n",
              " 'mse': 1147547.0,\n",
              " 'rmse': 1071.2362}"
            ]
          },
          "metadata": {
            "tags": []
          },
          "execution_count": 24
        }
      ]
    },
    {
      "cell_type": "markdown",
      "metadata": {
        "id": "UrIv5uEfGDha"
      },
      "source": [
        "## Format Data Part 2: Windowing Dataset\n",
        "\n",
        "We window our time series dataset to turn our data into a supervised learning problem"
      ]
    },
    {
      "cell_type": "code",
      "metadata": {
        "id": "9GFMRU6oNi7M"
      },
      "source": [
        "# Global variables\n",
        "HORIZON = 1\n",
        "WINDOW_SIZE = 7"
      ],
      "execution_count": null,
      "outputs": []
    },
    {
      "cell_type": "code",
      "metadata": {
        "id": "sIMptX8YOPhl"
      },
      "source": [
        "# Create function to label windowed data\n",
        "\n",
        "def get_labeled_window(x, horizon=HORIZON):\n",
        "  \"\"\"\n",
        "  Creates labels for windowed dataset\n",
        "  \"\"\"\n",
        "  return x[:, :-horizon], x[:,-horizon:]\n"
      ],
      "execution_count": null,
      "outputs": []
    },
    {
      "cell_type": "code",
      "metadata": {
        "colab": {
          "base_uri": "https://localhost:8080/"
        },
        "id": "0vz4lFEyPPno",
        "outputId": "459cca13-f068-45ee-b028-8e47c9935735"
      },
      "source": [
        "# Test out function\n",
        "test_window, test_label = get_labeled_window(tf.expand_dims(tf.range(8), axis=0))\n",
        "print(f\"Window: {tf.squeeze(test_window).numpy()} ->, Label: {tf.squeeze(test_label).numpy()}\")"
      ],
      "execution_count": null,
      "outputs": [
        {
          "output_type": "stream",
          "text": [
            "Window: [0 1 2 3 4 5 6] ->, Label: 7\n"
          ],
          "name": "stdout"
        }
      ]
    },
    {
      "cell_type": "code",
      "metadata": {
        "id": "zL-usQCkPcIz"
      },
      "source": [
        "# Create function to view numpy arrays as windows\n",
        "\n",
        "def make_windows(x, window_size=WINDOW_SIZE, horizon=HORIZON):\n",
        "  \"\"\"\n",
        "  Turns a 1D Array into a 2D of sequentially labeled windows of window_size and horizon size labels\n",
        "  \"\"\"\n",
        "  # Create window of specific size (horizon on the end)\n",
        "  window_step = np.expand_dims(np.arange(window_size+horizon), axis=0)\n",
        "\n",
        "  # Numpy indexing - 2D Array of multiple window steps minus 1 (zero indexing)\n",
        "  window_indexes = window_step + np.expand_dims(np.arange(len(x)-(window_size+horizon-1)), axis=0).T\n",
        "  \n",
        "  # print(f\"Window indexes:\\n {window_indexes, window_indexes.shape}\")\n",
        "\n",
        "  # Index on the target array with 2D array\n",
        "  windowed_array = x[window_indexes]\n",
        "\n",
        "  # Get the labelled windows\n",
        "  windows, labels = get_labeled_window(windowed_array, horizon=horizon)\n",
        "  \n",
        "  return windows, labels\n",
        "  "
      ],
      "execution_count": null,
      "outputs": []
    },
    {
      "cell_type": "code",
      "metadata": {
        "colab": {
          "base_uri": "https://localhost:8080/"
        },
        "id": "-0kvKiu0TQZ5",
        "outputId": "38e9ce87-3502-4ce7-d4aa-6caa6591c0bb"
      },
      "source": [
        "full_windows, full_labels = make_windows(prices, window_size=WINDOW_SIZE, horizon=HORIZON)\n",
        "len(full_windows), len(full_labels)"
      ],
      "execution_count": null,
      "outputs": [
        {
          "output_type": "execute_result",
          "data": {
            "text/plain": [
              "(2780, 2780)"
            ]
          },
          "metadata": {
            "tags": []
          },
          "execution_count": 29
        }
      ]
    },
    {
      "cell_type": "code",
      "metadata": {
        "colab": {
          "base_uri": "https://localhost:8080/"
        },
        "id": "LEYxZ8bSUsM5",
        "outputId": "f89efcc9-29ab-41da-e5f7-f3bea43c9b04"
      },
      "source": [
        "# View first 3 windows/labels\n",
        "\n",
        "for i in range(3):\n",
        "  print(f\"Window: {full_windows[i]} -> Horizon: {full_labels[i]}\")"
      ],
      "execution_count": null,
      "outputs": [
        {
          "output_type": "stream",
          "text": [
            "Window: [123.65499 125.455   108.58483 118.67466 121.33866 120.65533 121.795  ] -> Horizon: [123.033]\n",
            "Window: [125.455   108.58483 118.67466 121.33866 120.65533 121.795   123.033  ] -> Horizon: [124.049]\n",
            "Window: [108.58483 118.67466 121.33866 120.65533 121.795   123.033   124.049  ] -> Horizon: [125.96116]\n"
          ],
          "name": "stdout"
        }
      ]
    },
    {
      "cell_type": "code",
      "metadata": {
        "colab": {
          "base_uri": "https://localhost:8080/"
        },
        "id": "2w5bE2cKWfnH",
        "outputId": "f2d63efd-f485-4b2e-bff6-05940f27b9e1"
      },
      "source": [
        "# View last 3 \n",
        "for i in range(3):\n",
        "  print(f\"Window: {full_windows[i-3]} -> Horizon: {full_labels[i-3]}\")"
      ],
      "execution_count": null,
      "outputs": [
        {
          "output_type": "stream",
          "text": [
            "Window: [58788.20967893 58102.19142623 55715.54665129 56573.5554719\n",
            " 52147.82118698 49764.1320816  50032.69313676] -> Horizon: [47885.62525472]\n",
            "Window: [58102.19142623 55715.54665129 56573.5554719  52147.82118698\n",
            " 49764.1320816  50032.69313676 47885.62525472] -> Horizon: [45604.61575361]\n",
            "Window: [55715.54665129 56573.5554719  52147.82118698 49764.1320816\n",
            " 50032.69313676 47885.62525472 45604.61575361] -> Horizon: [43144.47129086]\n"
          ],
          "name": "stdout"
        }
      ]
    },
    {
      "cell_type": "markdown",
      "metadata": {
        "id": "CoO-r8wnW1Qu"
      },
      "source": [
        "## Turning windows into train and test sets"
      ]
    },
    {
      "cell_type": "code",
      "metadata": {
        "id": "KzSgcHFaZaeX"
      },
      "source": [
        "# Train and test splits\n",
        "\n",
        "def make_train_test_splits(windows, labels, test_split=0.2):\n",
        "  \"\"\"\n",
        "  Splits matching pairs of windows and horizon (labels) into train and test splits\n",
        "  \"\"\"\n",
        "  split_size = int(len(windows) * (1-test_split)) # Default to 80% train. 20% Test\n",
        "  train_windows = windows[:split_size]\n",
        "  train_labels = labels[:split_size]\n",
        "  test_windows = windows[split_size:]\n",
        "  test_labels = labels[split_size:]\n",
        "  \n",
        "  return train_windows, test_windows, train_labels, test_labels"
      ],
      "execution_count": null,
      "outputs": []
    },
    {
      "cell_type": "code",
      "metadata": {
        "colab": {
          "base_uri": "https://localhost:8080/"
        },
        "id": "ebe13XiQanCn",
        "outputId": "04b3de39-dfbf-4df8-8b36-9aa530bd079f"
      },
      "source": [
        "# Create train and test windows\n",
        "train_windows, test_windows, train_labels, test_labels = make_train_test_splits(full_windows, full_labels)\n",
        "len(train_windows), len(test_windows), len(train_labels), len(test_labels)"
      ],
      "execution_count": null,
      "outputs": [
        {
          "output_type": "execute_result",
          "data": {
            "text/plain": [
              "(2224, 556, 2224, 556)"
            ]
          },
          "metadata": {
            "tags": []
          },
          "execution_count": 33
        }
      ]
    },
    {
      "cell_type": "code",
      "metadata": {
        "colab": {
          "base_uri": "https://localhost:8080/"
        },
        "id": "Mr0tSCcrwgPi",
        "outputId": "7d9cd42e-96dd-4ceb-a581-17fc563ef10d"
      },
      "source": [
        "train_windows[:5]"
      ],
      "execution_count": null,
      "outputs": [
        {
          "output_type": "execute_result",
          "data": {
            "text/plain": [
              "array([[123.65499, 125.455  , 108.58483, 118.67466, 121.33866, 120.65533,\n",
              "        121.795  ],\n",
              "       [125.455  , 108.58483, 118.67466, 121.33866, 120.65533, 121.795  ,\n",
              "        123.033  ],\n",
              "       [108.58483, 118.67466, 121.33866, 120.65533, 121.795  , 123.033  ,\n",
              "        124.049  ],\n",
              "       [118.67466, 121.33866, 120.65533, 121.795  , 123.033  , 124.049  ,\n",
              "        125.96116],\n",
              "       [121.33866, 120.65533, 121.795  , 123.033  , 124.049  , 125.96116,\n",
              "        125.27966]])"
            ]
          },
          "metadata": {
            "tags": []
          },
          "execution_count": 34
        }
      ]
    },
    {
      "cell_type": "code",
      "metadata": {
        "colab": {
          "base_uri": "https://localhost:8080/"
        },
        "id": "n9Euaw18a9kq",
        "outputId": "af8e13ca-af29-45d7-a679-35f9522d5b34"
      },
      "source": [
        "len(full_windows) * 0.8"
      ],
      "execution_count": null,
      "outputs": [
        {
          "output_type": "execute_result",
          "data": {
            "text/plain": [
              "2224.0"
            ]
          },
          "metadata": {
            "tags": []
          },
          "execution_count": 35
        }
      ]
    },
    {
      "cell_type": "code",
      "metadata": {
        "colab": {
          "base_uri": "https://localhost:8080/"
        },
        "id": "GHnWYwxqbDNo",
        "outputId": "618d5748-77da-40d2-9d8a-73548484b3b7"
      },
      "source": [
        "# Check if train labels are same\n",
        "np.array_equal(np.squeeze(train_labels[:-HORIZON-1]), y_train[WINDOW_SIZE:])"
      ],
      "execution_count": null,
      "outputs": [
        {
          "output_type": "execute_result",
          "data": {
            "text/plain": [
              "True"
            ]
          },
          "metadata": {
            "tags": []
          },
          "execution_count": 36
        }
      ]
    },
    {
      "cell_type": "markdown",
      "metadata": {
        "id": "cZn4EPdrbWZv"
      },
      "source": [
        "## Creating a modelling checkpoint"
      ]
    },
    {
      "cell_type": "code",
      "metadata": {
        "id": "pX6InSAFcU2U"
      },
      "source": [
        "import os\n",
        "\n",
        "# Create function to implement ModelCheckpoint callback for specific filenames\n",
        "\n",
        "def create_model_checkpoint(model_name, save_path=\"model_experiments\"):\n",
        "  return tf.keras.callbacks.ModelCheckpoint(filepath=os.path.join(save_path, model_name), # Monitors val_loss\n",
        "                                            verbose=0,\n",
        "                                            save_best_only=True)\n"
      ],
      "execution_count": null,
      "outputs": []
    },
    {
      "cell_type": "markdown",
      "metadata": {
        "id": "ILWLkUgnlq54"
      },
      "source": [
        "## Model 1: Dense Model (Window=7, Horizon=1)\n",
        "\n",
        "First simple dense model:\n",
        "\n",
        "* Single Dense layer (128 hidden units)\n",
        "* Output layer with linear activation aka no activation\n",
        "* Adam optimization and MAE loss function\n",
        "* Batch size of 128\n",
        "* 100 Epochs - Dataset is smaller than normal, won't affect the learning time as much if the dataset was bigger\n",
        "\n"
      ]
    },
    {
      "cell_type": "code",
      "metadata": {
        "colab": {
          "base_uri": "https://localhost:8080/"
        },
        "id": "N1cHZlDQl8Ll",
        "outputId": "dd603d18-6b67-4710-cf7c-48f508d2ae82"
      },
      "source": [
        "import tensorflow as tf\n",
        "from tensorflow.keras import layers\n",
        "\n",
        "# Random seed\n",
        "tf.random.set_seed(42)\n",
        "\n",
        "# Construct model\n",
        "\n",
        "model_1 = tf.keras.Sequential([\n",
        "    layers.Dense(128, activation=\"relu\"),\n",
        "    layers.Dense(HORIZON, activation=\"linear\")\n",
        "], name=\"model_1_dense\")\n",
        "\n",
        "# Compile\n",
        "model_1.compile(loss=\"mae\",\n",
        "                optimizer=tf.keras.optimizers.Adam(),\n",
        "                metrics=[\"mae\", \"mse\"])\n",
        "\n",
        "# Fit the model\n",
        "\n",
        "model_1.fit(x=train_windows,\n",
        "            y=train_labels,\n",
        "            epochs=100,\n",
        "            verbose=1,\n",
        "            batch_size=128,\n",
        "            validation_data=(test_windows, test_labels),\n",
        "            callbacks=[create_model_checkpoint(model_name=model_1.name)])\n",
        "\n"
      ],
      "execution_count": null,
      "outputs": [
        {
          "output_type": "stream",
          "text": [
            "Epoch 1/100\n",
            "18/18 [==============================] - 1s 11ms/step - loss: 780.3455 - mae: 780.3455 - mse: 2312725.7500 - val_loss: 2279.6528 - val_mae: 2279.6528 - val_mse: 12772731.0000\n",
            "INFO:tensorflow:Assets written to: model_experiments/model_1_dense/assets\n",
            "Epoch 2/100\n",
            "18/18 [==============================] - 0s 3ms/step - loss: 247.6756 - mae: 247.6756 - mse: 285481.1875 - val_loss: 1005.9993 - val_mae: 1005.9993 - val_mse: 3441833.2500\n",
            "INFO:tensorflow:Assets written to: model_experiments/model_1_dense/assets\n",
            "Epoch 3/100\n",
            "18/18 [==============================] - 0s 3ms/step - loss: 188.4116 - mae: 188.4116 - mse: 171891.6094 - val_loss: 923.2862 - val_mae: 923.2861 - val_mse: 2868220.7500\n",
            "INFO:tensorflow:Assets written to: model_experiments/model_1_dense/assets\n",
            "Epoch 4/100\n",
            "18/18 [==============================] - 0s 3ms/step - loss: 169.4340 - mae: 169.4340 - mse: 151700.5781 - val_loss: 900.5872 - val_mae: 900.5872 - val_mse: 2683715.5000\n",
            "INFO:tensorflow:Assets written to: model_experiments/model_1_dense/assets\n",
            "Epoch 5/100\n",
            "18/18 [==============================] - 0s 4ms/step - loss: 165.0894 - mae: 165.0894 - mse: 145490.7812 - val_loss: 895.2237 - val_mae: 895.2237 - val_mse: 2564574.5000\n",
            "INFO:tensorflow:Assets written to: model_experiments/model_1_dense/assets\n",
            "Epoch 6/100\n",
            "18/18 [==============================] - 0s 3ms/step - loss: 158.5210 - mae: 158.5210 - mse: 133817.7344 - val_loss: 855.1984 - val_mae: 855.1984 - val_mse: 2481873.2500\n",
            "INFO:tensorflow:Assets written to: model_experiments/model_1_dense/assets\n",
            "Epoch 7/100\n",
            "18/18 [==============================] - 0s 5ms/step - loss: 151.3566 - mae: 151.3566 - mse: 123446.9766 - val_loss: 840.9166 - val_mae: 840.9166 - val_mse: 2276451.5000\n",
            "INFO:tensorflow:Assets written to: model_experiments/model_1_dense/assets\n",
            "Epoch 8/100\n",
            "18/18 [==============================] - 0s 4ms/step - loss: 145.2560 - mae: 145.2560 - mse: 117694.5000 - val_loss: 803.5956 - val_mae: 803.5956 - val_mse: 2140573.5000\n",
            "INFO:tensorflow:Assets written to: model_experiments/model_1_dense/assets\n",
            "Epoch 9/100\n",
            "18/18 [==============================] - 0s 4ms/step - loss: 144.3546 - mae: 144.3546 - mse: 115269.3047 - val_loss: 799.5454 - val_mae: 799.5454 - val_mse: 2049207.7500\n",
            "INFO:tensorflow:Assets written to: model_experiments/model_1_dense/assets\n",
            "Epoch 10/100\n",
            "18/18 [==============================] - 0s 4ms/step - loss: 141.2943 - mae: 141.2943 - mse: 112394.5938 - val_loss: 763.5010 - val_mae: 763.5010 - val_mse: 1933140.7500\n",
            "INFO:tensorflow:Assets written to: model_experiments/model_1_dense/assets\n",
            "Epoch 11/100\n",
            "18/18 [==============================] - 0s 4ms/step - loss: 135.6595 - mae: 135.6595 - mse: 104118.2344 - val_loss: 771.3356 - val_mae: 771.3356 - val_mse: 1885849.7500\n",
            "Epoch 12/100\n",
            "18/18 [==============================] - 0s 3ms/step - loss: 134.1700 - mae: 134.1700 - mse: 101780.8672 - val_loss: 782.8079 - val_mae: 782.8079 - val_mse: 1881727.1250\n",
            "Epoch 13/100\n",
            "18/18 [==============================] - 0s 3ms/step - loss: 134.6015 - mae: 134.6015 - mse: 102345.2266 - val_loss: 784.4449 - val_mae: 784.4449 - val_mse: 1860996.1250\n",
            "Epoch 14/100\n",
            "18/18 [==============================] - 0s 3ms/step - loss: 130.6127 - mae: 130.6127 - mse: 96225.1328 - val_loss: 751.3234 - val_mae: 751.3233 - val_mse: 1749609.0000\n",
            "INFO:tensorflow:Assets written to: model_experiments/model_1_dense/assets\n",
            "Epoch 15/100\n",
            "18/18 [==============================] - 0s 4ms/step - loss: 128.8347 - mae: 128.8347 - mse: 94306.9922 - val_loss: 696.5756 - val_mae: 696.5756 - val_mse: 1606352.3750\n",
            "INFO:tensorflow:Assets written to: model_experiments/model_1_dense/assets\n",
            "Epoch 16/100\n",
            "18/18 [==============================] - 0s 3ms/step - loss: 124.7739 - mae: 124.7739 - mse: 90394.9375 - val_loss: 702.4698 - val_mae: 702.4698 - val_mse: 1592416.2500\n",
            "Epoch 17/100\n",
            "18/18 [==============================] - 0s 3ms/step - loss: 123.4474 - mae: 123.4474 - mse: 89247.7031 - val_loss: 704.9239 - val_mae: 704.9239 - val_mse: 1580782.7500\n",
            "Epoch 18/100\n",
            "18/18 [==============================] - 0s 4ms/step - loss: 122.2105 - mae: 122.2105 - mse: 87607.5938 - val_loss: 667.9724 - val_mae: 667.9724 - val_mse: 1498881.8750\n",
            "INFO:tensorflow:Assets written to: model_experiments/model_1_dense/assets\n",
            "Epoch 19/100\n",
            "18/18 [==============================] - 0s 3ms/step - loss: 121.7263 - mae: 121.7263 - mse: 86632.2422 - val_loss: 718.8796 - val_mae: 718.8796 - val_mse: 1589299.3750\n",
            "Epoch 20/100\n",
            "18/18 [==============================] - 0s 4ms/step - loss: 119.2420 - mae: 119.2420 - mse: 84334.3203 - val_loss: 657.0666 - val_mae: 657.0666 - val_mse: 1447501.1250\n",
            "INFO:tensorflow:Assets written to: model_experiments/model_1_dense/assets\n",
            "Epoch 21/100\n",
            "18/18 [==============================] - 0s 5ms/step - loss: 121.2275 - mae: 121.2275 - mse: 85743.3828 - val_loss: 637.0333 - val_mae: 637.0333 - val_mse: 1401774.2500\n",
            "INFO:tensorflow:Assets written to: model_experiments/model_1_dense/assets\n",
            "Epoch 22/100\n",
            "18/18 [==============================] - 0s 4ms/step - loss: 119.9544 - mae: 119.9544 - mse: 84050.1094 - val_loss: 671.2488 - val_mae: 671.2488 - val_mse: 1447895.7500\n",
            "Epoch 23/100\n",
            "18/18 [==============================] - 0s 4ms/step - loss: 121.9248 - mae: 121.9248 - mse: 83746.1250 - val_loss: 633.3592 - val_mae: 633.3592 - val_mse: 1367377.8750\n",
            "INFO:tensorflow:Assets written to: model_experiments/model_1_dense/assets\n",
            "Epoch 24/100\n",
            "18/18 [==============================] - 0s 3ms/step - loss: 116.3665 - mae: 116.3665 - mse: 81446.6562 - val_loss: 624.4852 - val_mae: 624.4852 - val_mse: 1348960.6250\n",
            "INFO:tensorflow:Assets written to: model_experiments/model_1_dense/assets\n",
            "Epoch 25/100\n",
            "18/18 [==============================] - 0s 3ms/step - loss: 114.6816 - mae: 114.6816 - mse: 78912.8359 - val_loss: 619.7570 - val_mae: 619.7570 - val_mse: 1351089.7500\n",
            "INFO:tensorflow:Assets written to: model_experiments/model_1_dense/assets\n",
            "Epoch 26/100\n",
            "18/18 [==============================] - 0s 3ms/step - loss: 116.4455 - mae: 116.4455 - mse: 79365.5938 - val_loss: 615.6364 - val_mae: 615.6364 - val_mse: 1321514.3750\n",
            "INFO:tensorflow:Assets written to: model_experiments/model_1_dense/assets\n",
            "Epoch 27/100\n",
            "18/18 [==============================] - 0s 4ms/step - loss: 116.5868 - mae: 116.5868 - mse: 78672.9062 - val_loss: 615.9629 - val_mae: 615.9629 - val_mse: 1313077.5000\n",
            "Epoch 28/100\n",
            "18/18 [==============================] - 0s 3ms/step - loss: 113.4691 - mae: 113.4691 - mse: 77440.0938 - val_loss: 608.0921 - val_mae: 608.0921 - val_mse: 1309775.3750\n",
            "INFO:tensorflow:Assets written to: model_experiments/model_1_dense/assets\n",
            "Epoch 29/100\n",
            "18/18 [==============================] - 0s 4ms/step - loss: 113.7598 - mae: 113.7598 - mse: 78506.9531 - val_loss: 621.9305 - val_mae: 621.9305 - val_mse: 1313324.6250\n",
            "Epoch 30/100\n",
            "18/18 [==============================] - 0s 4ms/step - loss: 116.8613 - mae: 116.8613 - mse: 79236.4609 - val_loss: 604.4056 - val_mae: 604.4056 - val_mse: 1283408.0000\n",
            "INFO:tensorflow:Assets written to: model_experiments/model_1_dense/assets\n",
            "Epoch 31/100\n",
            "18/18 [==============================] - 0s 3ms/step - loss: 111.9375 - mae: 111.9375 - mse: 74849.0703 - val_loss: 609.3882 - val_mae: 609.3882 - val_mse: 1284506.2500\n",
            "Epoch 32/100\n",
            "18/18 [==============================] - 0s 3ms/step - loss: 112.4175 - mae: 112.4175 - mse: 77178.5859 - val_loss: 603.0588 - val_mae: 603.0588 - val_mse: 1273059.5000\n",
            "INFO:tensorflow:Assets written to: model_experiments/model_1_dense/assets\n",
            "Epoch 33/100\n",
            "18/18 [==============================] - 0s 4ms/step - loss: 112.6697 - mae: 112.6697 - mse: 75787.9766 - val_loss: 645.6973 - val_mae: 645.6973 - val_mse: 1353255.7500\n",
            "Epoch 34/100\n",
            "18/18 [==============================] - 0s 3ms/step - loss: 111.9867 - mae: 111.9867 - mse: 77245.7266 - val_loss: 604.7634 - val_mae: 604.7634 - val_mse: 1289360.3750\n",
            "Epoch 35/100\n",
            "18/18 [==============================] - 0s 4ms/step - loss: 110.9451 - mae: 110.9451 - mse: 75301.7812 - val_loss: 593.4648 - val_mae: 593.4648 - val_mse: 1250491.3750\n",
            "INFO:tensorflow:Assets written to: model_experiments/model_1_dense/assets\n",
            "Epoch 36/100\n",
            "18/18 [==============================] - 0s 3ms/step - loss: 114.4816 - mae: 114.4816 - mse: 76138.5391 - val_loss: 608.0074 - val_mae: 608.0074 - val_mse: 1269272.3750\n",
            "Epoch 37/100\n",
            "18/18 [==============================] - 0s 4ms/step - loss: 110.2016 - mae: 110.2016 - mse: 74635.3047 - val_loss: 597.2308 - val_mae: 597.2308 - val_mse: 1248474.0000\n",
            "Epoch 38/100\n",
            "18/18 [==============================] - 0s 3ms/step - loss: 112.2372 - mae: 112.2372 - mse: 75821.6953 - val_loss: 637.9798 - val_mae: 637.9798 - val_mse: 1366130.8750\n",
            "Epoch 39/100\n",
            "18/18 [==============================] - 0s 4ms/step - loss: 115.1289 - mae: 115.1289 - mse: 76339.6797 - val_loss: 587.4680 - val_mae: 587.4680 - val_mse: 1233512.3750\n",
            "INFO:tensorflow:Assets written to: model_experiments/model_1_dense/assets\n",
            "Epoch 40/100\n",
            "18/18 [==============================] - 0s 3ms/step - loss: 110.0854 - mae: 110.0854 - mse: 73528.4766 - val_loss: 592.7117 - val_mae: 592.7117 - val_mse: 1251474.6250\n",
            "Epoch 41/100\n",
            "18/18 [==============================] - 0s 3ms/step - loss: 110.6344 - mae: 110.6344 - mse: 73528.7891 - val_loss: 593.8997 - val_mae: 593.8997 - val_mse: 1253678.5000\n",
            "Epoch 42/100\n",
            "18/18 [==============================] - 0s 3ms/step - loss: 113.5762 - mae: 113.5762 - mse: 77076.7031 - val_loss: 636.3674 - val_mae: 636.3674 - val_mse: 1317283.5000\n",
            "Epoch 43/100\n",
            "18/18 [==============================] - 0s 3ms/step - loss: 116.2285 - mae: 116.2285 - mse: 74712.2031 - val_loss: 662.9263 - val_mae: 662.9263 - val_mse: 1419201.7500\n",
            "Epoch 44/100\n",
            "18/18 [==============================] - 0s 3ms/step - loss: 120.0192 - mae: 120.0192 - mse: 80971.8750 - val_loss: 635.6360 - val_mae: 635.6360 - val_mse: 1345999.3750\n",
            "Epoch 45/100\n",
            "18/18 [==============================] - 0s 4ms/step - loss: 110.9675 - mae: 110.9675 - mse: 74941.2891 - val_loss: 601.9926 - val_mae: 601.9926 - val_mse: 1244816.7500\n",
            "Epoch 46/100\n",
            "18/18 [==============================] - 0s 4ms/step - loss: 111.6012 - mae: 111.6012 - mse: 74565.6016 - val_loss: 593.3531 - val_mae: 593.3531 - val_mse: 1248764.3750\n",
            "Epoch 47/100\n",
            "18/18 [==============================] - 0s 4ms/step - loss: 109.6161 - mae: 109.6161 - mse: 74190.7109 - val_loss: 637.0011 - val_mae: 637.0011 - val_mse: 1314970.2500\n",
            "Epoch 48/100\n",
            "18/18 [==============================] - 0s 3ms/step - loss: 109.1368 - mae: 109.1368 - mse: 72792.5547 - val_loss: 598.4197 - val_mae: 598.4197 - val_mse: 1234610.1250\n",
            "Epoch 49/100\n",
            "18/18 [==============================] - 0s 3ms/step - loss: 112.4355 - mae: 112.4355 - mse: 73980.3359 - val_loss: 579.7042 - val_mae: 579.7042 - val_mse: 1208301.8750\n",
            "INFO:tensorflow:Assets written to: model_experiments/model_1_dense/assets\n",
            "Epoch 50/100\n",
            "18/18 [==============================] - 0s 4ms/step - loss: 110.2108 - mae: 110.2108 - mse: 72939.7109 - val_loss: 639.2327 - val_mae: 639.2327 - val_mse: 1347994.1250\n",
            "Epoch 51/100\n",
            "18/18 [==============================] - 0s 3ms/step - loss: 111.0958 - mae: 111.0958 - mse: 73281.9062 - val_loss: 597.3571 - val_mae: 597.3571 - val_mse: 1229791.1250\n",
            "Epoch 52/100\n",
            "18/18 [==============================] - 0s 3ms/step - loss: 110.7351 - mae: 110.7351 - mse: 74529.6328 - val_loss: 580.7227 - val_mae: 580.7227 - val_mse: 1215477.1250\n",
            "Epoch 53/100\n",
            "18/18 [==============================] - 0s 3ms/step - loss: 111.1785 - mae: 111.1785 - mse: 74149.4766 - val_loss: 648.3586 - val_mae: 648.3586 - val_mse: 1336951.1250\n",
            "Epoch 54/100\n",
            "18/18 [==============================] - 0s 3ms/step - loss: 114.0831 - mae: 114.0831 - mse: 74815.0781 - val_loss: 593.2006 - val_mae: 593.2006 - val_mse: 1220661.2500\n",
            "Epoch 55/100\n",
            "18/18 [==============================] - 0s 3ms/step - loss: 110.4910 - mae: 110.4910 - mse: 74711.2500 - val_loss: 579.5067 - val_mae: 579.5067 - val_mse: 1211580.3750\n",
            "INFO:tensorflow:Assets written to: model_experiments/model_1_dense/assets\n",
            "Epoch 56/100\n",
            "18/18 [==============================] - 0s 3ms/step - loss: 108.0488 - mae: 108.0488 - mse: 71844.1562 - val_loss: 807.3853 - val_mae: 807.3853 - val_mse: 1859293.0000\n",
            "Epoch 57/100\n",
            "18/18 [==============================] - 0s 4ms/step - loss: 125.0614 - mae: 125.0614 - mse: 84025.2812 - val_loss: 674.1658 - val_mae: 674.1658 - val_mse: 1437687.2500\n",
            "Epoch 58/100\n",
            "18/18 [==============================] - 0s 3ms/step - loss: 115.4340 - mae: 115.4340 - mse: 73710.7500 - val_loss: 582.2697 - val_mae: 582.2697 - val_mse: 1202679.6250\n",
            "Epoch 59/100\n",
            "18/18 [==============================] - 0s 4ms/step - loss: 110.0881 - mae: 110.0881 - mse: 72845.1172 - val_loss: 606.7640 - val_mae: 606.7640 - val_mse: 1267544.0000\n",
            "Epoch 60/100\n",
            "18/18 [==============================] - 0s 4ms/step - loss: 108.7156 - mae: 108.7156 - mse: 72675.7734 - val_loss: 602.3099 - val_mae: 602.3099 - val_mse: 1234689.8750\n",
            "Epoch 61/100\n",
            "18/18 [==============================] - 0s 4ms/step - loss: 108.1525 - mae: 108.1525 - mse: 72252.1250 - val_loss: 573.9990 - val_mae: 573.9990 - val_mse: 1189583.5000\n",
            "INFO:tensorflow:Assets written to: model_experiments/model_1_dense/assets\n",
            "Epoch 62/100\n",
            "18/18 [==============================] - 0s 5ms/step - loss: 107.3726 - mae: 107.3726 - mse: 70822.7891 - val_loss: 581.7015 - val_mae: 581.7015 - val_mse: 1214006.6250\n",
            "Epoch 63/100\n",
            "18/18 [==============================] - 0s 3ms/step - loss: 110.7667 - mae: 110.7667 - mse: 73178.4453 - val_loss: 637.5243 - val_mae: 637.5243 - val_mse: 1311201.6250\n",
            "Epoch 64/100\n",
            "18/18 [==============================] - 0s 5ms/step - loss: 110.1539 - mae: 110.1539 - mse: 72588.2188 - val_loss: 586.6598 - val_mae: 586.6598 - val_mse: 1207116.3750\n",
            "Epoch 65/100\n",
            "18/18 [==============================] - 0s 4ms/step - loss: 108.2325 - mae: 108.2325 - mse: 71962.0781 - val_loss: 573.5618 - val_mae: 573.5618 - val_mse: 1188986.2500\n",
            "INFO:tensorflow:Assets written to: model_experiments/model_1_dense/assets\n",
            "Epoch 66/100\n",
            "18/18 [==============================] - 0s 3ms/step - loss: 108.6826 - mae: 108.6826 - mse: 71026.3516 - val_loss: 572.2206 - val_mae: 572.2206 - val_mse: 1187818.3750\n",
            "INFO:tensorflow:Assets written to: model_experiments/model_1_dense/assets\n",
            "Epoch 67/100\n",
            "18/18 [==============================] - 0s 4ms/step - loss: 106.6371 - mae: 106.6371 - mse: 70166.2578 - val_loss: 646.6359 - val_mae: 646.6359 - val_mse: 1356393.0000\n",
            "Epoch 68/100\n",
            "18/18 [==============================] - 0s 3ms/step - loss: 114.1603 - mae: 114.1603 - mse: 71297.3203 - val_loss: 681.8572 - val_mae: 681.8572 - val_mse: 1455430.5000\n",
            "Epoch 69/100\n",
            "18/18 [==============================] - 0s 3ms/step - loss: 124.5514 - mae: 124.5514 - mse: 81238.9609 - val_loss: 655.9892 - val_mae: 655.9892 - val_mse: 1383324.7500\n",
            "Epoch 70/100\n",
            "18/18 [==============================] - 0s 3ms/step - loss: 125.0234 - mae: 125.0234 - mse: 83058.2109 - val_loss: 601.0039 - val_mae: 601.0039 - val_mse: 1256963.6250\n",
            "Epoch 71/100\n",
            "18/18 [==============================] - 0s 3ms/step - loss: 110.3652 - mae: 110.3652 - mse: 71691.4922 - val_loss: 595.3957 - val_mae: 595.3957 - val_mse: 1222771.6250\n",
            "Epoch 72/100\n",
            "18/18 [==============================] - 0s 3ms/step - loss: 107.9285 - mae: 107.9285 - mse: 71745.5391 - val_loss: 573.7084 - val_mae: 573.7084 - val_mse: 1192818.5000\n",
            "Epoch 73/100\n",
            "18/18 [==============================] - 0s 3ms/step - loss: 109.5085 - mae: 109.5085 - mse: 71691.1484 - val_loss: 580.4183 - val_mae: 580.4183 - val_mse: 1211317.6250\n",
            "Epoch 74/100\n",
            "18/18 [==============================] - 0s 3ms/step - loss: 108.7380 - mae: 108.7380 - mse: 72051.1094 - val_loss: 576.1216 - val_mae: 576.1216 - val_mse: 1199670.6250\n",
            "Epoch 75/100\n",
            "18/18 [==============================] - 0s 3ms/step - loss: 107.9404 - mae: 107.9404 - mse: 71043.1328 - val_loss: 591.1470 - val_mae: 591.1470 - val_mse: 1211107.3750\n",
            "Epoch 76/100\n",
            "18/18 [==============================] - 0s 3ms/step - loss: 109.4232 - mae: 109.4232 - mse: 72295.0312 - val_loss: 597.8611 - val_mae: 597.8611 - val_mse: 1243936.2500\n",
            "Epoch 77/100\n",
            "18/18 [==============================] - 0s 4ms/step - loss: 107.5879 - mae: 107.5879 - mse: 70333.8359 - val_loss: 571.9301 - val_mae: 571.9301 - val_mse: 1186830.0000\n",
            "INFO:tensorflow:Assets written to: model_experiments/model_1_dense/assets\n",
            "Epoch 78/100\n",
            "18/18 [==============================] - 0s 4ms/step - loss: 108.1598 - mae: 108.1598 - mse: 70200.0781 - val_loss: 575.2387 - val_mae: 575.2387 - val_mse: 1195318.0000\n",
            "Epoch 79/100\n",
            "18/18 [==============================] - 0s 4ms/step - loss: 107.9175 - mae: 107.9175 - mse: 72451.5859 - val_loss: 617.3083 - val_mae: 617.3083 - val_mse: 1285512.5000\n",
            "Epoch 80/100\n",
            "18/18 [==============================] - 0s 3ms/step - loss: 108.9510 - mae: 108.9510 - mse: 72158.7812 - val_loss: 583.4841 - val_mae: 583.4841 - val_mse: 1194356.7500\n",
            "Epoch 81/100\n",
            "18/18 [==============================] - 0s 3ms/step - loss: 106.0505 - mae: 106.0505 - mse: 69690.9219 - val_loss: 570.0803 - val_mae: 570.0803 - val_mse: 1177237.8750\n",
            "INFO:tensorflow:Assets written to: model_experiments/model_1_dense/assets\n",
            "Epoch 82/100\n",
            "18/18 [==============================] - 0s 4ms/step - loss: 115.6827 - mae: 115.6827 - mse: 76903.4922 - val_loss: 575.7388 - val_mae: 575.7388 - val_mse: 1194662.6250\n",
            "Epoch 83/100\n",
            "18/18 [==============================] - 0s 3ms/step - loss: 110.9379 - mae: 110.9379 - mse: 72968.2969 - val_loss: 659.6579 - val_mae: 659.6579 - val_mse: 1388829.8750\n",
            "Epoch 84/100\n",
            "18/18 [==============================] - 0s 3ms/step - loss: 111.4836 - mae: 111.4836 - mse: 73017.9375 - val_loss: 570.1957 - val_mae: 570.1957 - val_mse: 1177492.2500\n",
            "Epoch 85/100\n",
            "18/18 [==============================] - 0s 3ms/step - loss: 107.5949 - mae: 107.5949 - mse: 70728.2266 - val_loss: 601.5938 - val_mae: 601.5938 - val_mse: 1228450.6250\n",
            "Epoch 86/100\n",
            "18/18 [==============================] - 0s 5ms/step - loss: 108.9425 - mae: 108.9425 - mse: 70066.7500 - val_loss: 592.8101 - val_mae: 592.8101 - val_mse: 1209680.7500\n",
            "Epoch 87/100\n",
            "18/18 [==============================] - 0s 3ms/step - loss: 105.7717 - mae: 105.7717 - mse: 68382.3516 - val_loss: 603.6174 - val_mae: 603.6174 - val_mse: 1252409.5000\n",
            "Epoch 88/100\n",
            "18/18 [==============================] - 0s 3ms/step - loss: 107.9217 - mae: 107.9217 - mse: 71668.0469 - val_loss: 569.0499 - val_mae: 569.0499 - val_mse: 1174588.3750\n",
            "INFO:tensorflow:Assets written to: model_experiments/model_1_dense/assets\n",
            "Epoch 89/100\n",
            "18/18 [==============================] - 0s 3ms/step - loss: 106.0344 - mae: 106.0344 - mse: 68979.1484 - val_loss: 568.9510 - val_mae: 568.9510 - val_mse: 1171743.5000\n",
            "INFO:tensorflow:Assets written to: model_experiments/model_1_dense/assets\n",
            "Epoch 90/100\n",
            "18/18 [==============================] - 0s 3ms/step - loss: 105.4977 - mae: 105.4977 - mse: 67516.5000 - val_loss: 581.7678 - val_mae: 581.7678 - val_mse: 1190160.6250\n",
            "Epoch 91/100\n",
            "18/18 [==============================] - 0s 4ms/step - loss: 108.8468 - mae: 108.8468 - mse: 71112.3438 - val_loss: 573.6025 - val_mae: 573.6025 - val_mse: 1185216.2500\n",
            "Epoch 92/100\n",
            "18/18 [==============================] - 0s 4ms/step - loss: 110.8884 - mae: 110.8884 - mse: 73287.8125 - val_loss: 576.8243 - val_mae: 576.8243 - val_mse: 1181628.3750\n",
            "Epoch 93/100\n",
            "18/18 [==============================] - 0s 3ms/step - loss: 113.8781 - mae: 113.8781 - mse: 75236.4375 - val_loss: 608.3022 - val_mae: 608.3022 - val_mse: 1264206.1250\n",
            "Epoch 94/100\n",
            "18/18 [==============================] - 0s 4ms/step - loss: 110.5763 - mae: 110.5763 - mse: 72590.8672 - val_loss: 601.6041 - val_mae: 601.6041 - val_mse: 1229105.0000\n",
            "Epoch 95/100\n",
            "18/18 [==============================] - 0s 3ms/step - loss: 106.5906 - mae: 106.5906 - mse: 68612.3281 - val_loss: 570.3651 - val_mae: 570.3651 - val_mse: 1175759.3750\n",
            "Epoch 96/100\n",
            "18/18 [==============================] - 0s 3ms/step - loss: 116.9515 - mae: 116.9515 - mse: 75082.1172 - val_loss: 615.2584 - val_mae: 615.2584 - val_mse: 1277124.5000\n",
            "Epoch 97/100\n",
            "18/18 [==============================] - 0s 3ms/step - loss: 108.0739 - mae: 108.0739 - mse: 71321.4219 - val_loss: 580.3076 - val_mae: 580.3076 - val_mse: 1202622.2500\n",
            "Epoch 98/100\n",
            "18/18 [==============================] - 0s 3ms/step - loss: 108.7102 - mae: 108.7102 - mse: 70248.0703 - val_loss: 586.6510 - val_mae: 586.6510 - val_mse: 1200831.5000\n",
            "Epoch 99/100\n",
            "18/18 [==============================] - 0s 4ms/step - loss: 109.0488 - mae: 109.0488 - mse: 70913.1641 - val_loss: 570.0628 - val_mae: 570.0628 - val_mse: 1177064.5000\n",
            "Epoch 100/100\n",
            "18/18 [==============================] - 0s 3ms/step - loss: 106.1845 - mae: 106.1845 - mse: 68681.7266 - val_loss: 585.9758 - val_mae: 585.9758 - val_mse: 1197802.1250\n"
          ],
          "name": "stdout"
        },
        {
          "output_type": "execute_result",
          "data": {
            "text/plain": [
              "<tensorflow.python.keras.callbacks.History at 0x7f86b0301950>"
            ]
          },
          "metadata": {
            "tags": []
          },
          "execution_count": 38
        }
      ]
    },
    {
      "cell_type": "code",
      "metadata": {
        "colab": {
          "base_uri": "https://localhost:8080/"
        },
        "id": "Ma3p1WKgoNyv",
        "outputId": "da269010-80a3-4e46-a29a-10c7edbfe777"
      },
      "source": [
        "naive_results"
      ],
      "execution_count": null,
      "outputs": [
        {
          "output_type": "execute_result",
          "data": {
            "text/plain": [
              "{'mae': 567.9802,\n",
              " 'mape': 2.516525,\n",
              " 'mase': 0.99957,\n",
              " 'mse': 1147547.0,\n",
              " 'rmse': 1071.2362}"
            ]
          },
          "metadata": {
            "tags": []
          },
          "execution_count": 39
        }
      ]
    },
    {
      "cell_type": "code",
      "metadata": {
        "colab": {
          "base_uri": "https://localhost:8080/"
        },
        "id": "4olkkpisomvL",
        "outputId": "98165d48-a726-4750-f8c3-740f2608b5cc"
      },
      "source": [
        "# Eval model on test data\n",
        "# Model that was just tested. Not the best performing \n",
        "model_1.evaluate(test_windows, test_labels)\n"
      ],
      "execution_count": null,
      "outputs": [
        {
          "output_type": "stream",
          "text": [
            "18/18 [==============================] - 0s 2ms/step - loss: 585.9758 - mae: 585.9758 - mse: 1197802.1250\n"
          ],
          "name": "stdout"
        },
        {
          "output_type": "execute_result",
          "data": {
            "text/plain": [
              "[585.9757690429688, 585.9757690429688, 1197802.125]"
            ]
          },
          "metadata": {
            "tags": []
          },
          "execution_count": 40
        }
      ]
    },
    {
      "cell_type": "code",
      "metadata": {
        "colab": {
          "base_uri": "https://localhost:8080/"
        },
        "id": "eVO2K2WVpJsR",
        "outputId": "6541ead3-2eba-4ec7-8df7-5165bc8ecd9c"
      },
      "source": [
        "# Load in saved best performing model_1\n",
        "\n",
        "model_1 = tf.keras.models.load_model(\"model_experiments/model_1_dense/\")\n",
        "model_1.evaluate(test_windows, test_labels)"
      ],
      "execution_count": null,
      "outputs": [
        {
          "output_type": "stream",
          "text": [
            "18/18 [==============================] - 0s 2ms/step - loss: 568.9510 - mae: 568.9510 - mse: 1171743.6250\n"
          ],
          "name": "stdout"
        },
        {
          "output_type": "execute_result",
          "data": {
            "text/plain": [
              "[568.9510498046875, 568.9510498046875, 1171743.625]"
            ]
          },
          "metadata": {
            "tags": []
          },
          "execution_count": 41
        }
      ]
    },
    {
      "cell_type": "markdown",
      "metadata": {
        "id": "0Iz9c0VDpgJg"
      },
      "source": [
        "## Making forecast (predictions on the pseudo future) with the model (test data)\n",
        "\n",
        "To make forecasts lets write a function:\n",
        "\n",
        "1. Take in a train model\n",
        "2. Takes in some input data\n",
        "3. Passes the input data to the models `predict()` method\n",
        "4. Returns predictions"
      ]
    },
    {
      "cell_type": "code",
      "metadata": {
        "id": "dM_8Xd1tq2te"
      },
      "source": [
        "def make_preds(model, input_data):\n",
        "  \"\"\"\n",
        "  Uses model to make preds on input data (time series)\n",
        "  \"\"\"\n",
        "  \n",
        "  # Pseudo future forecast\n",
        "  forecast = model.predict(input_data)\n",
        "  return tf.squeeze(forecast)"
      ],
      "execution_count": null,
      "outputs": []
    },
    {
      "cell_type": "code",
      "metadata": {
        "colab": {
          "base_uri": "https://localhost:8080/"
        },
        "id": "YFvGktoarKIx",
        "outputId": "ea378cd9-72cf-4543-eb91-95315b15d004"
      },
      "source": [
        "# Make preds with model_1\n",
        "\n",
        "model_1_preds = make_preds(model_1, test_windows)\n",
        "model_1_preds[:5]"
      ],
      "execution_count": null,
      "outputs": [
        {
          "output_type": "execute_result",
          "data": {
            "text/plain": [
              "<tf.Tensor: shape=(5,), dtype=float32, numpy=array([8861.71 , 8769.887, 9015.711, 8795.519, 8723.811], dtype=float32)>"
            ]
          },
          "metadata": {
            "tags": []
          },
          "execution_count": 43
        }
      ]
    },
    {
      "cell_type": "code",
      "metadata": {
        "colab": {
          "base_uri": "https://localhost:8080/"
        },
        "id": "my96iAUZrYOb",
        "outputId": "9e8e4373-fe64-4e88-d7b9-e676f4319519"
      },
      "source": [
        "# Evaluate preds\n",
        "\n",
        "model_1_results = evaluate_preds(y_true=tf.squeeze(test_labels),\n",
        "                                 y_pred=model_1_preds)\n",
        "\n",
        "model_1_results"
      ],
      "execution_count": null,
      "outputs": [
        {
          "output_type": "execute_result",
          "data": {
            "text/plain": [
              "{'mae': 568.95105,\n",
              " 'mape': 2.5448983,\n",
              " 'mase': 0.9994894,\n",
              " 'mse': 1171743.8,\n",
              " 'rmse': 1082.4712}"
            ]
          },
          "metadata": {
            "tags": []
          },
          "execution_count": 44
        }
      ]
    },
    {
      "cell_type": "code",
      "metadata": {
        "colab": {
          "base_uri": "https://localhost:8080/"
        },
        "id": "b5BoIBFGrsCS",
        "outputId": "d7ed7f7b-a672-4a7b-f151-26fd5994e368"
      },
      "source": [
        "naive_results"
      ],
      "execution_count": null,
      "outputs": [
        {
          "output_type": "execute_result",
          "data": {
            "text/plain": [
              "{'mae': 567.9802,\n",
              " 'mape': 2.516525,\n",
              " 'mase': 0.99957,\n",
              " 'mse': 1147547.0,\n",
              " 'rmse': 1071.2362}"
            ]
          },
          "metadata": {
            "tags": []
          },
          "execution_count": 45
        }
      ]
    },
    {
      "cell_type": "code",
      "metadata": {
        "colab": {
          "base_uri": "https://localhost:8080/"
        },
        "id": "2z9YR8nLtSvz",
        "outputId": "1dc3c952-9fa1-4d4a-ad37-6e827206c889"
      },
      "source": [
        "test_windows.shape"
      ],
      "execution_count": null,
      "outputs": [
        {
          "output_type": "execute_result",
          "data": {
            "text/plain": [
              "(556, 7)"
            ]
          },
          "metadata": {
            "tags": []
          },
          "execution_count": 46
        }
      ]
    },
    {
      "cell_type": "code",
      "metadata": {
        "colab": {
          "base_uri": "https://localhost:8080/"
        },
        "id": "GoJw7vbRuILi",
        "outputId": "cffb41ae-233d-4dbc-987e-f9072b81db0e"
      },
      "source": [
        "test_windows"
      ],
      "execution_count": null,
      "outputs": [
        {
          "output_type": "execute_result",
          "data": {
            "text/plain": [
              "array([[ 9290.89660239,  9202.41545055,  9369.62808116, ...,\n",
              "         9335.75240233,  9226.48582088,  8794.35864452],\n",
              "       [ 9202.41545055,  9369.62808116,  9326.59962378, ...,\n",
              "         9226.48582088,  8794.35864452,  8798.04205463],\n",
              "       [ 9369.62808116,  9326.59962378,  9335.75240233, ...,\n",
              "         8794.35864452,  8798.04205463,  9081.18687849],\n",
              "       ...,\n",
              "       [58788.20967893, 58102.19142623, 55715.54665129, ...,\n",
              "        52147.82118698, 49764.1320816 , 50032.69313676],\n",
              "       [58102.19142623, 55715.54665129, 56573.5554719 , ...,\n",
              "        49764.1320816 , 50032.69313676, 47885.62525472],\n",
              "       [55715.54665129, 56573.5554719 , 52147.82118698, ...,\n",
              "        50032.69313676, 47885.62525472, 45604.61575361]])"
            ]
          },
          "metadata": {
            "tags": []
          },
          "execution_count": 47
        }
      ]
    },
    {
      "cell_type": "code",
      "metadata": {
        "colab": {
          "base_uri": "https://localhost:8080/",
          "height": 442
        },
        "id": "aU2t_OcqsE74",
        "outputId": "193fd58c-5e3a-4747-caed-d80c1da69313"
      },
      "source": [
        "offset = 300\n",
        "plt.figure(figsize=(10, 7))\n",
        "\n",
        "# Account for test_window offset and index into test_labels\n",
        "plot_time_series(timesteps=X_test[-len(test_windows):], values=test_labels[:, 0], start=offset, label=\"Test_data\")\n",
        "plot_time_series(timesteps=X_test[-len(test_windows):], values=model_1_preds, start=offset, format=\"-\", label=\"model_1_preds\")"
      ],
      "execution_count": null,
      "outputs": [
        {
          "output_type": "display_data",
          "data": {
            "image/png": "[encoded data removed]",
            "text/plain": [
              "<Figure size 720x504 with 1 Axes>"
            ]
          },
          "metadata": {
            "tags": [],
            "needs_background": "light"
          }
        }
      ]
    },
    {
      "cell_type": "markdown",
      "metadata": {
        "id": "ucBvJBZLykdi"
      },
      "source": [
        "## Model 2: Dense Model(Window=30, Horizon=1)"
      ]
    },
    {
      "cell_type": "code",
      "metadata": {
        "id": "QZdHJiQG3xkr"
      },
      "source": [
        "HORIZON = 1\n",
        "WINDOW_SIZE = 30"
      ],
      "execution_count": null,
      "outputs": []
    },
    {
      "cell_type": "code",
      "metadata": {
        "colab": {
          "base_uri": "https://localhost:8080/"
        },
        "id": "cLFJa3yi6pAd",
        "outputId": "87aa8314-7c32-4b0b-bb5c-18d23f1488c7"
      },
      "source": [
        "# Make windowed data with horizon and window sizes\n",
        "\n",
        "full_windows, full_labels = make_windows(prices, window_size=WINDOW_SIZE, horizon=HORIZON)\n",
        "\n",
        "len(full_windows), len(full_labels)"
      ],
      "execution_count": null,
      "outputs": [
        {
          "output_type": "execute_result",
          "data": {
            "text/plain": [
              "(2757, 2757)"
            ]
          },
          "metadata": {
            "tags": []
          },
          "execution_count": 50
        }
      ]
    },
    {
      "cell_type": "code",
      "metadata": {
        "colab": {
          "base_uri": "https://localhost:8080/"
        },
        "id": "dQMnQbPX6_sr",
        "outputId": "257fed74-8d9b-4a74-b7f7-c4b4fbf9fbbd"
      },
      "source": [
        "# Make train and test windows\n",
        "\n",
        "train_windows, test_windows, train_labels, test_labels = make_train_test_splits(windows=full_windows,\n",
        "                                                                                labels=full_labels,\n",
        "                                                                                test_split=0.2)\n",
        "\n",
        "len(train_windows), len(test_windows), len(train_labels), len(test_labels)"
      ],
      "execution_count": null,
      "outputs": [
        {
          "output_type": "execute_result",
          "data": {
            "text/plain": [
              "(2205, 552, 2205, 552)"
            ]
          },
          "metadata": {
            "tags": []
          },
          "execution_count": 51
        }
      ]
    },
    {
      "cell_type": "code",
      "metadata": {
        "colab": {
          "base_uri": "https://localhost:8080/"
        },
        "id": "np8QfauR7YAj",
        "outputId": "41d29bf8-40ac-40da-9bfe-173bd1e3f6ae"
      },
      "source": [
        "train_windows[:5], train_labels[:5]"
      ],
      "execution_count": null,
      "outputs": [
        {
          "output_type": "execute_result",
          "data": {
            "text/plain": [
              "(array([[123.65499, 125.455  , 108.58483, 118.67466, 121.33866, 120.65533,\n",
              "         121.795  , 123.033  , 124.049  , 125.96116, 125.27966, 125.9275 ,\n",
              "         126.38333, 135.24199, 133.20333, 142.76333, 137.92333, 142.95166,\n",
              "         152.55183, 160.33883, 164.31499, 177.63333, 188.29716, 200.70166,\n",
              "         180.355  , 175.03166, 177.6965 , 187.15983, 192.75666, 197.4    ],\n",
              "        [125.455  , 108.58483, 118.67466, 121.33866, 120.65533, 121.795  ,\n",
              "         123.033  , 124.049  , 125.96116, 125.27966, 125.9275 , 126.38333,\n",
              "         135.24199, 133.20333, 142.76333, 137.92333, 142.95166, 152.55183,\n",
              "         160.33883, 164.31499, 177.63333, 188.29716, 200.70166, 180.355  ,\n",
              "         175.03166, 177.6965 , 187.15983, 192.75666, 197.4    , 196.02499],\n",
              "        [108.58483, 118.67466, 121.33866, 120.65533, 121.795  , 123.033  ,\n",
              "         124.049  , 125.96116, 125.27966, 125.9275 , 126.38333, 135.24199,\n",
              "         133.20333, 142.76333, 137.92333, 142.95166, 152.55183, 160.33883,\n",
              "         164.31499, 177.63333, 188.29716, 200.70166, 180.355  , 175.03166,\n",
              "         177.6965 , 187.15983, 192.75666, 197.4    , 196.02499, 198.04883],\n",
              "        [118.67466, 121.33866, 120.65533, 121.795  , 123.033  , 124.049  ,\n",
              "         125.96116, 125.27966, 125.9275 , 126.38333, 135.24199, 133.20333,\n",
              "         142.76333, 137.92333, 142.95166, 152.55183, 160.33883, 164.31499,\n",
              "         177.63333, 188.29716, 200.70166, 180.355  , 175.03166, 177.6965 ,\n",
              "         187.15983, 192.75666, 197.4    , 196.02499, 198.04883, 198.93233],\n",
              "        [121.33866, 120.65533, 121.795  , 123.033  , 124.049  , 125.96116,\n",
              "         125.27966, 125.9275 , 126.38333, 135.24199, 133.20333, 142.76333,\n",
              "         137.92333, 142.95166, 152.55183, 160.33883, 164.31499, 177.63333,\n",
              "         188.29716, 200.70166, 180.355  , 175.03166, 177.6965 , 187.15983,\n",
              "         192.75666, 197.4    , 196.02499, 198.04883, 198.93233, 200.543  ]]),\n",
              " array([[196.02499],\n",
              "        [198.04883],\n",
              "        [198.93233],\n",
              "        [200.543  ],\n",
              "        [210.3075 ]]))"
            ]
          },
          "metadata": {
            "tags": []
          },
          "execution_count": 52
        }
      ]
    },
    {
      "cell_type": "code",
      "metadata": {
        "colab": {
          "base_uri": "https://localhost:8080/"
        },
        "id": "CVP9UeBw7aUQ",
        "outputId": "786817bb-275e-417a-d554-7e18af592df9"
      },
      "source": [
        "tf.random.set_seed(42)\n",
        "\n",
        "# Create model\n",
        "model_2 = tf.keras.Sequential([\n",
        "  layers.Dense(128, activation=\"relu\"),\n",
        "  layers.Dense(HORIZON)                                                        \n",
        "                              \n",
        "], name=\"model_2_dense\")\n",
        "\n",
        "# Compile\n",
        "model_2.compile(loss=\"mae\",\n",
        "                optimizer=tf.keras.optimizers.Adam(),)\n",
        "\n",
        "# Fit model\n",
        "\n",
        "model_2.fit(train_windows,\n",
        "            train_labels,\n",
        "            epochs=100,\n",
        "            batch_size=128,\n",
        "            verbose=0,\n",
        "            validation_data=(test_windows, test_labels),\n",
        "            callbacks=[create_model_checkpoint(model_name=model_2.name)])"
      ],
      "execution_count": null,
      "outputs": [
        {
          "output_type": "stream",
          "text": [
            "INFO:tensorflow:Assets written to: model_experiments/model_2_dense/assets\n",
            "INFO:tensorflow:Assets written to: model_experiments/model_2_dense/assets\n",
            "INFO:tensorflow:Assets written to: model_experiments/model_2_dense/assets\n",
            "INFO:tensorflow:Assets written to: model_experiments/model_2_dense/assets\n",
            "INFO:tensorflow:Assets written to: model_experiments/model_2_dense/assets\n",
            "INFO:tensorflow:Assets written to: model_experiments/model_2_dense/assets\n",
            "INFO:tensorflow:Assets written to: model_experiments/model_2_dense/assets\n",
            "INFO:tensorflow:Assets written to: model_experiments/model_2_dense/assets\n",
            "INFO:tensorflow:Assets written to: model_experiments/model_2_dense/assets\n",
            "INFO:tensorflow:Assets written to: model_experiments/model_2_dense/assets\n",
            "INFO:tensorflow:Assets written to: model_experiments/model_2_dense/assets\n",
            "INFO:tensorflow:Assets written to: model_experiments/model_2_dense/assets\n",
            "INFO:tensorflow:Assets written to: model_experiments/model_2_dense/assets\n",
            "INFO:tensorflow:Assets written to: model_experiments/model_2_dense/assets\n",
            "INFO:tensorflow:Assets written to: model_experiments/model_2_dense/assets\n",
            "INFO:tensorflow:Assets written to: model_experiments/model_2_dense/assets\n",
            "INFO:tensorflow:Assets written to: model_experiments/model_2_dense/assets\n",
            "INFO:tensorflow:Assets written to: model_experiments/model_2_dense/assets\n",
            "INFO:tensorflow:Assets written to: model_experiments/model_2_dense/assets\n",
            "INFO:tensorflow:Assets written to: model_experiments/model_2_dense/assets\n",
            "INFO:tensorflow:Assets written to: model_experiments/model_2_dense/assets\n",
            "INFO:tensorflow:Assets written to: model_experiments/model_2_dense/assets\n",
            "INFO:tensorflow:Assets written to: model_experiments/model_2_dense/assets\n",
            "INFO:tensorflow:Assets written to: model_experiments/model_2_dense/assets\n",
            "INFO:tensorflow:Assets written to: model_experiments/model_2_dense/assets\n",
            "INFO:tensorflow:Assets written to: model_experiments/model_2_dense/assets\n",
            "INFO:tensorflow:Assets written to: model_experiments/model_2_dense/assets\n",
            "INFO:tensorflow:Assets written to: model_experiments/model_2_dense/assets\n",
            "INFO:tensorflow:Assets written to: model_experiments/model_2_dense/assets\n",
            "INFO:tensorflow:Assets written to: model_experiments/model_2_dense/assets\n"
          ],
          "name": "stdout"
        },
        {
          "output_type": "execute_result",
          "data": {
            "text/plain": [
              "<tensorflow.python.keras.callbacks.History at 0x7f8660fb36d0>"
            ]
          },
          "metadata": {
            "tags": []
          },
          "execution_count": 53
        }
      ]
    },
    {
      "cell_type": "code",
      "metadata": {
        "colab": {
          "base_uri": "https://localhost:8080/"
        },
        "id": "Zz2-XT7v8N64",
        "outputId": "38e2fb31-4b21-4bd2-f980-7e7e607c7e1e"
      },
      "source": [
        "# Evaluate model 2\n",
        "model_2.evaluate(test_windows, test_labels)"
      ],
      "execution_count": null,
      "outputs": [
        {
          "output_type": "stream",
          "text": [
            "18/18 [==============================] - 0s 1ms/step - loss: 659.3332\n"
          ],
          "name": "stdout"
        },
        {
          "output_type": "execute_result",
          "data": {
            "text/plain": [
              "659.3331909179688"
            ]
          },
          "metadata": {
            "tags": []
          },
          "execution_count": 54
        }
      ]
    },
    {
      "cell_type": "code",
      "metadata": {
        "colab": {
          "base_uri": "https://localhost:8080/"
        },
        "id": "vGfrDKQd8YZ7",
        "outputId": "089ebf06-89db-4bac-ff05-7a33726ae1b6"
      },
      "source": [
        "# Load in best model\n",
        "model_2 = tf.keras.models.load_model(\"model_experiments/model_2_dense/\")\n",
        "model_2.evaluate(test_windows, test_labels)"
      ],
      "execution_count": null,
      "outputs": [
        {
          "output_type": "stream",
          "text": [
            "18/18 [==============================] - 0s 1ms/step - loss: 605.8741\n"
          ],
          "name": "stdout"
        },
        {
          "output_type": "execute_result",
          "data": {
            "text/plain": [
              "605.8740844726562"
            ]
          },
          "metadata": {
            "tags": []
          },
          "execution_count": 55
        }
      ]
    },
    {
      "cell_type": "code",
      "metadata": {
        "id": "Gwx8ETMU8o5T"
      },
      "source": [
        "# Forecast preds\n",
        "model_2_pred = make_preds(model_2,\n",
        "                          input_data=test_windows)"
      ],
      "execution_count": null,
      "outputs": []
    },
    {
      "cell_type": "code",
      "metadata": {
        "colab": {
          "base_uri": "https://localhost:8080/"
        },
        "id": "2fY-YJ2m8ioa",
        "outputId": "c6c3be5b-eaee-4fca-b7de-d66cfe6e7375"
      },
      "source": [
        "# Eval results for preds\n",
        "model_2_results = evaluate_preds(y_true=tf.squeeze(test_labels),\n",
        "                                 y_pred=model_2_pred)\n",
        "model_2_results"
      ],
      "execution_count": null,
      "outputs": [
        {
          "output_type": "execute_result",
          "data": {
            "text/plain": [
              "{'mae': 605.8741,\n",
              " 'mape': 2.726445,\n",
              " 'mase': 1.0590738,\n",
              " 'mse': 1273360.8,\n",
              " 'rmse': 1128.4329}"
            ]
          },
          "metadata": {
            "tags": []
          },
          "execution_count": 57
        }
      ]
    },
    {
      "cell_type": "code",
      "metadata": {
        "colab": {
          "base_uri": "https://localhost:8080/"
        },
        "id": "r5nyNCzC89zR",
        "outputId": "730768d1-056f-4926-b0b0-089baea7ec12"
      },
      "source": [
        "model_1_results"
      ],
      "execution_count": null,
      "outputs": [
        {
          "output_type": "execute_result",
          "data": {
            "text/plain": [
              "{'mae': 568.95105,\n",
              " 'mape': 2.5448983,\n",
              " 'mase': 0.9994894,\n",
              " 'mse': 1171743.8,\n",
              " 'rmse': 1082.4712}"
            ]
          },
          "metadata": {
            "tags": []
          },
          "execution_count": 58
        }
      ]
    },
    {
      "cell_type": "code",
      "metadata": {
        "colab": {
          "base_uri": "https://localhost:8080/",
          "height": 442
        },
        "id": "Kigxl64x8-sI",
        "outputId": "a744f72b-1783-4f9c-f187-9399c477bb91"
      },
      "source": [
        "#PLot model\n",
        "offset=300\n",
        "plt.figure(figsize=(10,7))\n",
        "\n",
        "plot_time_series(timesteps=X_test[-len(test_windows):], values=test_labels[:, 0], start=offset, label=\"Test Data\")\n",
        "plot_time_series(timesteps=X_test[-len(test_windows):], values=model_2_pred, start=offset, format=\"-\", label=\"model_2_pred\")"
      ],
      "execution_count": null,
      "outputs": [
        {
          "output_type": "display_data",
          "data": {
            "image/png": "[encoded data removed]",
            "text/plain": [
              "<Figure size 720x504 with 1 Axes>"
            ]
          },
          "metadata": {
            "tags": [],
            "needs_background": "light"
          }
        }
      ]
    },
    {
      "cell_type": "markdown",
      "metadata": {
        "id": "blu3Ymv_9hNW"
      },
      "source": [
        "## Model 3: Dense Model (Window=30, Horizon=7)"
      ]
    },
    {
      "cell_type": "code",
      "metadata": {
        "colab": {
          "base_uri": "https://localhost:8080/"
        },
        "id": "CVvmzhL-rfJc",
        "outputId": "24969e3e-284c-4c71-aa3f-c7ff621acbe0"
      },
      "source": [
        "HORIZON = 7\n",
        "WINDOW_SIZE = 30\n",
        "\n",
        "full_windows, full_labels = make_windows(prices, window_size=WINDOW_SIZE, horizon=HORIZON)\n",
        "\n",
        "len(full_windows), len(full_labels)"
      ],
      "execution_count": null,
      "outputs": [
        {
          "output_type": "execute_result",
          "data": {
            "text/plain": [
              "(2751, 2751)"
            ]
          },
          "metadata": {
            "tags": []
          },
          "execution_count": 60
        }
      ]
    },
    {
      "cell_type": "code",
      "metadata": {
        "colab": {
          "base_uri": "https://localhost:8080/"
        },
        "id": "Up8ex6corwV0",
        "outputId": "332f9a7a-d0c7-4f27-c097-6037b7def916"
      },
      "source": [
        "train_windows, test_windows, train_labels, test_labels = make_train_test_splits(windows=full_windows,\n",
        "                                                                                labels=full_labels,\n",
        "                                                                                test_split=0.2)\n",
        "\n",
        "len(train_windows), len(test_windows), len(train_labels), len(test_labels)"
      ],
      "execution_count": null,
      "outputs": [
        {
          "output_type": "execute_result",
          "data": {
            "text/plain": [
              "(2200, 551, 2200, 551)"
            ]
          },
          "metadata": {
            "tags": []
          },
          "execution_count": 61
        }
      ]
    },
    {
      "cell_type": "code",
      "metadata": {
        "colab": {
          "base_uri": "https://localhost:8080/"
        },
        "id": "G60T0zV2sBoY",
        "outputId": "d2a0baf9-d183-47e7-9176-7a8f06a0be24"
      },
      "source": [
        "tf.random.set_seed(42)\n",
        "\n",
        "# Create model\n",
        "\n",
        "model_3 = tf.keras.Sequential([\n",
        "    layers.Dense(128, activation=\"relu\"),\n",
        "    layers.Dense(HORIZON)\n",
        "], name=\"model_3_dense\")\n",
        "\n",
        "\n",
        "# Compile\n",
        "\n",
        "model_3.compile(loss=\"mae\",\n",
        "                 optimizer=\"adam\")\n",
        "\n",
        "# Fit model\n",
        "\n",
        "model_3.fit(train_windows,\n",
        "            train_labels,\n",
        "            batch_size=128,\n",
        "            epochs=100,\n",
        "            verbose=0,\n",
        "            validation_data=(test_windows, test_labels),\n",
        "            callbacks=create_model_checkpoint(model_name=model_3.name))"
      ],
      "execution_count": null,
      "outputs": [
        {
          "output_type": "stream",
          "text": [
            "INFO:tensorflow:Assets written to: model_experiments/model_3_dense/assets\n",
            "INFO:tensorflow:Assets written to: model_experiments/model_3_dense/assets\n",
            "INFO:tensorflow:Assets written to: model_experiments/model_3_dense/assets\n",
            "INFO:tensorflow:Assets written to: model_experiments/model_3_dense/assets\n",
            "INFO:tensorflow:Assets written to: model_experiments/model_3_dense/assets\n",
            "INFO:tensorflow:Assets written to: model_experiments/model_3_dense/assets\n",
            "INFO:tensorflow:Assets written to: model_experiments/model_3_dense/assets\n",
            "INFO:tensorflow:Assets written to: model_experiments/model_3_dense/assets\n",
            "INFO:tensorflow:Assets written to: model_experiments/model_3_dense/assets\n",
            "INFO:tensorflow:Assets written to: model_experiments/model_3_dense/assets\n",
            "INFO:tensorflow:Assets written to: model_experiments/model_3_dense/assets\n",
            "INFO:tensorflow:Assets written to: model_experiments/model_3_dense/assets\n",
            "INFO:tensorflow:Assets written to: model_experiments/model_3_dense/assets\n",
            "INFO:tensorflow:Assets written to: model_experiments/model_3_dense/assets\n",
            "INFO:tensorflow:Assets written to: model_experiments/model_3_dense/assets\n",
            "INFO:tensorflow:Assets written to: model_experiments/model_3_dense/assets\n",
            "INFO:tensorflow:Assets written to: model_experiments/model_3_dense/assets\n",
            "INFO:tensorflow:Assets written to: model_experiments/model_3_dense/assets\n",
            "INFO:tensorflow:Assets written to: model_experiments/model_3_dense/assets\n",
            "INFO:tensorflow:Assets written to: model_experiments/model_3_dense/assets\n",
            "INFO:tensorflow:Assets written to: model_experiments/model_3_dense/assets\n",
            "INFO:tensorflow:Assets written to: model_experiments/model_3_dense/assets\n"
          ],
          "name": "stdout"
        },
        {
          "output_type": "execute_result",
          "data": {
            "text/plain": [
              "<tensorflow.python.keras.callbacks.History at 0x7f8660669310>"
            ]
          },
          "metadata": {
            "tags": []
          },
          "execution_count": 62
        }
      ]
    },
    {
      "cell_type": "code",
      "metadata": {
        "colab": {
          "base_uri": "https://localhost:8080/"
        },
        "id": "H0Fz2S8ksupn",
        "outputId": "2c3f8394-f853-4ffe-a077-a84b341df47e"
      },
      "source": [
        "#  Evaluate\n",
        "\n",
        "model_3.evaluate(test_windows, test_labels)"
      ],
      "execution_count": null,
      "outputs": [
        {
          "output_type": "stream",
          "text": [
            "18/18 [==============================] - 0s 2ms/step - loss: 1300.1525\n"
          ],
          "name": "stdout"
        },
        {
          "output_type": "execute_result",
          "data": {
            "text/plain": [
              "1300.1524658203125"
            ]
          },
          "metadata": {
            "tags": []
          },
          "execution_count": 63
        }
      ]
    },
    {
      "cell_type": "code",
      "metadata": {
        "colab": {
          "base_uri": "https://localhost:8080/"
        },
        "id": "WVeY8ujcs-v7",
        "outputId": "4a0cd270-281d-430a-dd35-1cc1178270dd"
      },
      "source": [
        "# Load best model_3\n",
        "\n",
        "model_3 = tf.keras.models.load_model(\"model_experiments/model_3_dense/\")\n",
        "model_3.evaluate(test_windows, test_labels)\n"
      ],
      "execution_count": null,
      "outputs": [
        {
          "output_type": "stream",
          "text": [
            "18/18 [==============================] - 0s 2ms/step - loss: 1237.5065\n"
          ],
          "name": "stdout"
        },
        {
          "output_type": "execute_result",
          "data": {
            "text/plain": [
              "1237.5064697265625"
            ]
          },
          "metadata": {
            "tags": []
          },
          "execution_count": 64
        }
      ]
    },
    {
      "cell_type": "code",
      "metadata": {
        "colab": {
          "base_uri": "https://localhost:8080/"
        },
        "id": "7oXQqz4ItZJ4",
        "outputId": "4b0f8615-0e43-4d0b-e9c1-0091bb6fac17"
      },
      "source": [
        "# Make preds on model_3\n",
        "\n",
        "model_3_preds = make_preds(model_3,\n",
        "                           input_data=test_windows)\n",
        "\n",
        "model_3_preds[:5]"
      ],
      "execution_count": null,
      "outputs": [
        {
          "output_type": "execute_result",
          "data": {
            "text/plain": [
              "<tf.Tensor: shape=(5, 7), dtype=float32, numpy=\n",
              "array([[9004.694 , 9048.1   , 9425.09  , 9258.256 , 9495.797 , 9558.453 ,\n",
              "        9357.3545],\n",
              "       [8735.506 , 8840.303 , 9247.793 , 8885.601 , 9097.186 , 9174.327 ,\n",
              "        9156.819 ],\n",
              "       [8672.508 , 8782.387 , 9123.857 , 8770.371 , 9007.13  , 9003.869 ,\n",
              "        9042.725 ],\n",
              "       [8874.399 , 8784.74  , 9043.902 , 8943.052 , 9033.477 , 9176.489 ,\n",
              "        9039.677 ],\n",
              "       [8825.891 , 8777.44  , 8926.78  , 8870.179 , 9213.232 , 9268.156 ,\n",
              "        8942.487 ]], dtype=float32)>"
            ]
          },
          "metadata": {
            "tags": []
          },
          "execution_count": 65
        }
      ]
    },
    {
      "cell_type": "code",
      "metadata": {
        "colab": {
          "base_uri": "https://localhost:8080/"
        },
        "id": "nhGBfPezth7J",
        "outputId": "cee12816-a1b5-4662-f347-3a620ce47ac9"
      },
      "source": [
        "# Eval model_3 results\n",
        "\n",
        "model_3_results = evaluate_preds(y_true=tf.squeeze(test_labels),\n",
        "                                 y_pred=model_3_preds)\n",
        "\n",
        "model_3_results"
      ],
      "execution_count": null,
      "outputs": [
        {
          "output_type": "execute_result",
          "data": {
            "text/plain": [
              "{'mae': array([ 513.6056  ,  355.08344 ,  327.17075 ,  358.5106  ,  420.53305 ,\n",
              "         537.854   ,  545.66144 ,  485.9229  ,  584.49725 ,  687.3824  ,\n",
              "         836.2265  ,  755.1577  ,  731.4958  ,  775.3399  ,  567.95526 ,\n",
              "         266.8088  ,  188.80225 ,  188.10783 ,  253.095   ,  301.43256 ,\n",
              "         151.10721 ,  196.81473 ,  191.46178 ,  231.65031 ,  143.61133 ,\n",
              "         122.59089 ,  132.78879 ,  190.8118  ,  179.15994 ,  228.26004 ,\n",
              "         314.44028 ,  379.09244 ,  278.32526 ,  295.3471  ,  299.3853  ,\n",
              "         248.6499  ,  299.75656 ,  259.69434 ,  180.30531 ,  206.72922 ,\n",
              "         374.62863 ,  144.85086 ,  142.33635 ,  131.11613 ,   93.941124,\n",
              "          54.825542,   73.79527 ,  103.60121 ,  121.333916,  168.67278 ,\n",
              "         183.90953 ,  152.253   ,  186.57185 ,  146.91267 ,  240.42912 ,\n",
              "         351.00662 ,  540.952   ,  549.1573  ,  521.2413  ,  526.85516 ,\n",
              "         453.36237 ,  257.98117 ,  277.29486 ,  301.82465 ,  455.718   ,\n",
              "         458.9601  ,  503.4438  ,  522.3119  ,  223.07658 ,  250.09543 ,\n",
              "         297.1437  ,  400.57086 ,  495.79828 ,  364.33707 ,  283.36606 ,\n",
              "         325.59543 ,  238.21191 ,  318.9777  ,  460.77106 ,  651.07605 ,\n",
              "         835.88    ,  669.9647  ,  319.54507 ,  261.99442 ,  142.3923  ,\n",
              "         136.6285  ,  154.75223 ,  221.32631 ,  290.50418 ,  503.88406 ,\n",
              "         414.2602  ,  434.35742 ,  377.98813 ,  251.78947 ,  204.28334 ,\n",
              "         388.2271  ,  360.65805 ,  493.80902 ,  614.861   ,  754.7026  ,\n",
              "         533.7712  ,  378.9891  ,  280.49496 ,  339.4809  ,  413.12863 ,\n",
              "         452.8789  ,  550.5382  ,  634.5726  ,  935.5724  ,  931.6003  ,\n",
              "         881.2803  ,  426.39984 ,  179.45871 ,  121.66197 ,  160.43889 ,\n",
              "         372.07108 ,  341.85776 ,  476.52408 ,  618.3245  , 1038.8986  ,\n",
              "        1569.5028  , 2157.1199  , 1987.6074  , 2158.611   , 2303.561   ,\n",
              "        2662.943   , 1405.5013  ,  728.30096 ,  351.70062 ,  322.03195 ,\n",
              "         493.94748 ,  435.4843  ,  565.5558  ,  350.11676 ,  289.01987 ,\n",
              "         251.21603 ,  409.05615 ,  342.2101  ,  320.83636 ,  330.88608 ,\n",
              "         357.84604 ,  335.94824 ,  206.10303 ,  544.3841  ,  700.00934 ,\n",
              "         468.91992 ,  404.4961  ,  172.80127 ,  308.33685 ,  210.47621 ,\n",
              "         318.9543  ,  486.1326  ,  428.88037 ,  533.9111  ,  433.7814  ,\n",
              "         396.89432 ,  138.40373 ,  189.96658 ,  170.39209 ,  181.54346 ,\n",
              "         282.88986 ,  264.38867 ,  250.62172 ,  240.33754 ,  276.95425 ,\n",
              "         326.02957 ,  489.6155  ,  686.2447  ,  526.9792  ,  603.01135 ,\n",
              "         825.383   ,  871.0465  ,  990.0687  , 1090.0597  ,  560.28406 ,\n",
              "         310.52203 ,  371.39035 ,  348.45953 ,  355.73438 ,  429.56543 ,\n",
              "         581.2836  ,  550.52203 ,  635.43134 ,  913.404   ,  840.7183  ,\n",
              "         305.03598 ,  493.93344 ,  751.31793 ,  410.6346  ,  220.6243  ,\n",
              "         282.25446 ,  291.85297 ,  422.50406 ,  458.65445 ,  637.2352  ,\n",
              "         647.82336 ,  417.24496 ,  220.23703 ,  246.72209 ,  200.22922 ,\n",
              "         455.1494  ,  719.6059  ,  696.3024  ,  485.0996  ,  294.95297 ,\n",
              "         170.52371 ,  211.82478 ,  270.565   ,  189.89314 ,  171.21721 ,\n",
              "         366.4471  ,  231.96373 ,  318.78738 ,  273.79395 ,  358.55664 ,\n",
              "         412.22797 ,  512.3167  ,  185.43959 ,  196.38225 ,  200.006   ,\n",
              "         224.58664 ,  213.41978 ,  186.23898 ,  113.371376,  172.23228 ,\n",
              "         168.89857 ,  236.0957  ,  307.5971  ,  328.93903 ,  566.59625 ,\n",
              "         285.04395 ,  300.44965 ,  125.45299 ,  168.94322 ,  137.25851 ,\n",
              "         143.50404 ,  145.27776 ,  107.339424,   77.16211 ,  131.87096 ,\n",
              "         134.02037 ,  167.45773 ,  137.9216  ,  148.91336 ,  204.95508 ,\n",
              "         157.89746 ,  196.95256 ,  167.93904 ,  156.45605 ,  188.68094 ,\n",
              "         161.44127 ,   90.99749 ,  136.8411  ,  198.51688 ,  230.1381  ,\n",
              "         294.78336 ,  594.2425  ,  699.6479  ,  815.13574 ,  905.33875 ,\n",
              "        1127.2997  , 1342.6943  , 1317.0691  ,  590.1681  ,  296.34515 ,\n",
              "         243.43625 ,  256.39816 ,  222.28459 ,  323.83817 ,   82.513115,\n",
              "         120.14384 ,  249.14914 ,  205.73592 ,  243.45494 ,  250.64787 ,\n",
              "         287.27582 ,  224.38127 ,  266.56027 ,  221.51047 ,  218.4965  ,\n",
              "         272.42285 ,  279.59625 ,  252.5883  ,  381.56488 ,  417.97086 ,\n",
              "         624.5573  ,  368.03726 ,  327.25504 ,  263.43973 ,  349.95312 ,\n",
              "         398.62515 ,  297.07407 ,  147.04924 ,  164.5431  ,  313.36328 ,\n",
              "         477.7482  ,  675.0409  ,  897.2679  , 1094.7103  , 1460.1776  ,\n",
              "        1398.586   ,  952.72504 ,  645.959   ,  166.17899 ,  144.66881 ,\n",
              "         189.18289 ,  304.8132  ,  435.10602 ,  449.64383 ,  425.244   ,\n",
              "         441.93597 ,  407.29477 ,  252.40388 ,  248.36984 ,  336.17105 ,\n",
              "         482.8107  ,  437.5307  ,  533.0868  ,  346.9795  ,  127.686806,\n",
              "         110.20843 ,  301.75113 ,  195.50545 ,  174.65164 ,  238.47098 ,\n",
              "         302.3718  ,  313.51743 ,  310.1296  ,  200.29855 ,  172.47266 ,\n",
              "         140.2302  ,  252.48549 ,  289.32437 ,  343.62082 ,  504.1179  ,\n",
              "         635.1341  ,  602.13043 ,  519.06067 ,  214.90276 ,  195.91183 ,\n",
              "         265.0371  ,  198.90137 ,  345.5127  ,  517.2228  ,  631.0294  ,\n",
              "         988.4247  , 1174.2139  , 1196.2843  , 1253.9299  ,  526.0654  ,\n",
              "         210.31502 ,  215.27092 ,  169.86035 ,  283.78668 ,  269.76157 ,\n",
              "         228.63477 ,  186.64648 ,  410.54227 ,  601.2648  ,  618.1224  ,\n",
              "         768.7529  , 1158.5457  , 1232.8795  , 1254.4298  ,  423.02426 ,\n",
              "         390.0357  ,  367.23856 ,  209.55775 ,  530.222   ,  821.3824  ,\n",
              "         812.3729  ,  741.1966  ,  953.4831  , 1258.9906  , 1844.932   ,\n",
              "        1605.2845  , 1112.7659  ,  594.18835 ,  549.7667  ,  632.5435  ,\n",
              "         829.2642  , 1103.2213  , 1130.1033  , 1033.3522  ,  878.5865  ,\n",
              "         595.4085  , 1115.6506  , 1371.1725  , 1385.2511  ,  387.5229  ,\n",
              "         303.74887 ,  495.125   ,  719.5804  ,  648.9029  ,  766.1632  ,\n",
              "         683.23157 ,  596.4121  ,  523.0932  ,  577.3407  , 1337.6213  ,\n",
              "        2454.5972  , 2759.2344  , 3135.8762  , 3407.3804  , 3602.6333  ,\n",
              "        2527.1577  , 1158.0999  ,  679.8432  ,  748.5586  , 1073.4863  ,\n",
              "        1217.7327  , 1459.5656  , 2502.731   , 3075.8245  , 3090.2878  ,\n",
              "        2564.7583  , 2660.5315  , 2928.934   , 3690.556   , 3525.1406  ,\n",
              "        4183.67    , 5144.068   , 4384.655   , 4164.9604  , 4431.0938  ,\n",
              "        3335.1223  , 3017.6863  , 2589.539   , 4103.6294  , 5582.0933  ,\n",
              "        5108.4595  , 1382.9637  ,  953.5419  , 1081.6825  , 2483.1975  ,\n",
              "        2992.0552  , 3127.0942  , 2972.274   , 3054.65    , 3283.713   ,\n",
              "        3617.367   , 1170.2606  , 1074.1833  , 1059.317   , 1044.5404  ,\n",
              "        1060.6217  , 2115.719   , 3569.8875  , 3474.3628  , 2448.0156  ,\n",
              "        2641.418   , 3188.6028  , 4899.915   , 5516.2876  , 4635.486   ,\n",
              "        4677.0337  , 5732.883   , 5866.7373  , 8083.34    , 5049.8286  ,\n",
              "        1476.2288  , 1873.3275  , 1219.0994  , 2324.073   , 2467.009   ,\n",
              "        3005.0886  , 2805.0503  , 3688.2544  , 2962.7131  , 3664.2388  ,\n",
              "        5618.684   , 6925.0967  , 9751.095   , 8790.821   , 5057.626   ,\n",
              "        2971.6848  , 1715.495   , 1125.7712  , 2201.4253  , 3969.4978  ,\n",
              "        2988.5083  , 2911.9285  , 2796.8672  , 3937.8806  , 5449.5894  ,\n",
              "        6395.02    , 6148.242   , 5437.7007  , 4291.8257  , 2362.3967  ,\n",
              "        1657.3405  , 1426.6367  , 1647.7148  , 2730.3972  , 1813.7115  ,\n",
              "        2061.1506  , 3095.7227  , 4312.8096  , 5500.727   , 5258.0264  ,\n",
              "        5152.0273  , 1331.4062  , 1634.4034  , 2493.433   , 3957.9526  ,\n",
              "        4499.2134  , 2215.846   , 2587.4124  , 1622.4397  ,  591.875   ,\n",
              "        1297.4733  , 1284.5977  ,  915.2282  ,  940.44977 , 1084.6595  ,\n",
              "         875.8979  , 1041.3549  , 2299.2478  , 3152.5981  , 3518.394   ,\n",
              "        2531.524   , 2682.5742  , 3094.2917  , 3829.3372  , 5550.616   ,\n",
              "        7159.3467  , 8820.522   , 8587.342   , 6777.8154  , 5193.292   ,\n",
              "        4793.3384  , 2605.2556  , 1668.3605  , 2510.7183  , 4105.6826  ,\n",
              "        6278.393   , 4109.754   , 1711.1166  , 2261.9832  , 2384.7534  ,\n",
              "        1246.6641  , 1672.8483  , 1103.1345  , 1743.3678  , 1608.4564  ,\n",
              "        1933.9045  , 2742.3438  , 3945.3645  , 5765.941   , 6955.8433  ,\n",
              "        8107.7104  ], dtype=float32),\n",
              " 'mape': array([ 5.860151 ,  4.0873427,  3.775816 ,  4.187658 ,  4.9781423,\n",
              "         6.448365 ,  6.61446  ,  6.061674 ,  7.547593 ,  9.095927 ,\n",
              "        11.30021  , 10.396474 , 10.109089 , 10.697326 ,  7.862846 ,\n",
              "         3.6872842,  2.585637 ,  2.5050018,  3.350452 ,  4.013581 ,\n",
              "         2.0036225,  2.6397398,  2.6087885,  3.1609263,  1.9612136,\n",
              "         1.6679872,  1.7952291,  2.5901227,  2.4362576,  3.1327386,\n",
              "         4.3595433,  5.285637 ,  3.940355 ,  4.3142257,  4.373317 ,\n",
              "         3.637686 ,  4.362977 ,  3.7757437,  2.6192946,  2.900764 ,\n",
              "         5.1501083,  2.0147362,  1.9706653,  1.8104146,  1.3007245,\n",
              "         0.7535146,  1.0192304,  1.4282731,  1.6741855,  2.3589702,\n",
              "         2.5630999,  2.1327186,  2.5974844,  2.0173264,  3.1387615,\n",
              "         4.502132 ,  6.95963  ,  6.9602227,  6.5331416,  6.575783 ,\n",
              "         5.610285 ,  3.0642037,  3.2474003,  3.4847279,  5.2227206,\n",
              "         5.2294755,  5.727937 ,  5.927383 ,  2.5284507,  2.866405 ,\n",
              "         3.4308906,  4.6874185,  5.841511 ,  4.309815 ,  3.3552825,\n",
              "         3.8162112,  2.7363598,  3.4623704,  4.9716797,  7.0261   ,\n",
              "         8.974979 ,  7.167816 ,  3.4013336,  2.7761197,  1.5223246,\n",
              "         1.453548 ,  1.6354663,  2.252781 ,  2.947562 ,  5.0738955,\n",
              "         4.103283 ,  4.2952995,  3.7052844,  2.4620771,  2.013224 ,\n",
              "         3.8428314,  3.6306534,  5.016276 ,  6.279475 ,  7.757473 ,\n",
              "         5.495675 ,  3.8907137,  2.854692 ,  3.5311158,  4.4648895,\n",
              "         5.016243 ,  6.1257167,  7.129436 , 10.711448 , 10.66408  ,\n",
              "        10.087246 ,  4.893629 ,  2.0717275,  1.3628381,  1.8011156,\n",
              "         4.219881 ,  4.055696 ,  5.744895 ,  7.49288  , 15.03298  ,\n",
              "        24.388466 , 35.428123 , 34.702423 , 39.8611   , 42.836586 ,\n",
              "        49.604614 , 26.081121 , 13.669951 ,  6.3608704,  5.4986424,\n",
              "         7.9925127,  6.8575373,  8.820604 ,  5.3112006,  4.527914 ,\n",
              "         3.8704064,  6.2283874,  5.2470326,  5.1045547,  5.329427 ,\n",
              "         5.7789717,  5.35849  ,  3.2211251,  8.118445 , 10.231979 ,\n",
              "         6.726865 ,  5.7573056,  2.404117 ,  4.2864566,  2.9776995,\n",
              "         4.4548492,  6.9262066,  6.15908  ,  7.763827 ,  6.308202 ,\n",
              "         5.7371473,  1.9719487,  2.7191217,  2.399884 ,  2.5685852,\n",
              "         3.9529986,  3.6584747,  3.4535575,  3.3018749,  3.794225 ,\n",
              "         4.310311 ,  6.4319797,  8.5671015,  6.2936544,  7.023875 ,\n",
              "         9.469171 ,  9.915061 , 11.217032 , 12.280664 ,  6.2092824,\n",
              "         3.2802749,  3.8508568,  3.6124706,  3.7172365,  4.6127863,\n",
              "         6.233849 ,  6.0376983,  7.1359625, 10.132261 ,  9.337389 ,\n",
              "         3.379459 ,  5.190335 ,  7.8229227,  4.264503 ,  2.3285003,\n",
              "         3.0320892,  3.1225502,  4.5721965,  5.0134616,  7.059326 ,\n",
              "         7.1808734,  4.628824 ,  2.4294448,  2.6893463,  2.1346915,\n",
              "         4.670391 ,  7.4296794,  7.17774  ,  4.927452 ,  2.9697587,\n",
              "         1.7036037,  2.102083 ,  2.790086 ,  1.954098 ,  1.7562655,\n",
              "         3.8170404,  2.4557264,  3.3356586,  2.8912692,  3.8006883,\n",
              "         4.368519 ,  5.4371586,  1.969062 ,  2.0868657,  2.132989 ,\n",
              "         2.4014468,  2.2829754,  1.9878354,  1.212721 ,  1.8306261,\n",
              "         1.815668 ,  2.5207548,  3.292389 ,  3.5837185,  6.187771 ,\n",
              "         3.1184072,  3.2884552,  1.3740312,  1.8472781,  1.5017242,\n",
              "         1.5671415,  1.5889224,  1.1630667,  0.8371262,  1.4223018,\n",
              "         1.4407569,  1.8029895,  1.4796977,  1.599085 ,  2.2175858,\n",
              "         1.7130921,  2.1422663,  1.8232707,  1.7015604,  2.0563033,\n",
              "         1.7596658,  0.9822953,  1.4560665,  2.1070132,  2.4114134,\n",
              "         3.049994 ,  5.77384  ,  6.6185617,  7.4951463,  8.227663 ,\n",
              "        10.186892 , 11.9281225, 11.676128 ,  5.199712 ,  2.592971 ,\n",
              "         2.1249874,  2.2335186,  1.9233074,  2.8466182,  0.7076641,\n",
              "         1.0350558,  2.1322331,  1.7789838,  2.1161144,  2.1635544,\n",
              "         2.4792848,  1.9270612,  2.255131 ,  1.845723 ,  1.811268 ,\n",
              "         2.2626755,  2.3515134,  2.117338 ,  3.2111597,  3.5736072,\n",
              "         5.371579 ,  3.1869476,  2.8585403,  2.2958062,  3.0581007,\n",
              "         3.480608 ,  2.5900195,  1.2625039,  1.405033 ,  2.7622333,\n",
              "         4.3049507,  6.2830634,  8.513557 , 10.517092 , 14.161083 ,\n",
              "        13.64061  ,  9.320249 ,  6.3080707,  1.6300529,  1.3983179,\n",
              "         1.819187 ,  2.8875935,  4.0688186,  4.173644 ,  3.92286  ,\n",
              "         4.0472693,  3.7387364,  2.3069754,  2.306329 ,  3.194118 ,\n",
              "         4.589591 ,  4.157944 ,  5.0558167,  3.300565 ,  1.2102807,\n",
              "         1.0371078,  2.8088493,  1.8151473,  1.6353134,  2.2353568,\n",
              "         2.8412106,  2.9520068,  2.918753 ,  1.8913219,  1.6178684,\n",
              "         1.2982846,  2.3039372,  2.6034815,  3.0176392,  4.4442587,\n",
              "         5.5989394,  5.266945 ,  4.535596 ,  1.8671705,  1.7055062,\n",
              "         2.3196983,  1.7318275,  2.7897265,  4.062607 ,  4.894445 ,\n",
              "         7.6816387,  9.1078   ,  9.207177 ,  9.502263 ,  3.9754767,\n",
              "         1.5744735,  1.5996983,  1.2423751,  2.077034 ,  1.9747171,\n",
              "         1.6764194,  1.3502657,  2.785833 ,  3.9915595,  4.0835905,\n",
              "         5.016293 ,  7.6388426,  8.078354 ,  8.109144 ,  2.6612592,\n",
              "         2.4994817,  2.296388 ,  1.3040293,  3.258552 ,  4.9145136,\n",
              "         4.7377963,  4.2538857,  5.353146 ,  6.980067 , 10.170471 ,\n",
              "         8.772198 ,  6.0037904,  3.184009 ,  3.0089974,  3.6370165,\n",
              "         4.774086 ,  6.289234 ,  6.4191923,  5.904084 ,  4.996318 ,\n",
              "         3.1905975,  5.85623  ,  7.181029 ,  7.2116575,  2.0219853,\n",
              "         1.591239 ,  2.6243296,  3.8534112,  3.5140638,  4.1405344,\n",
              "         3.6843975,  3.215591 ,  2.8228266,  2.88985  ,  6.284895 ,\n",
              "        11.458011 , 12.342679 , 13.76467  , 14.824155 , 15.566193 ,\n",
              "        10.829554 ,  4.9278164,  2.8345594,  3.0226746,  4.3117876,\n",
              "         4.720057 ,  5.5167937,  9.303037 , 11.212705 , 11.037068 ,\n",
              "         8.631595 ,  8.57773  ,  9.389047 , 11.49777  , 10.463528 ,\n",
              "        11.683612 , 13.823773 , 11.273861 , 10.805959 , 11.400708 ,\n",
              "         8.496616 ,  7.889382 ,  7.169473 , 11.423844 , 15.540586 ,\n",
              "        14.246389 ,  3.8430889,  2.5450244,  2.926231 ,  7.2883105,\n",
              "         8.999363 ,  9.586315 ,  9.271843 ,  9.42326  , 10.242951 ,\n",
              "        11.396608 ,  3.655807 ,  3.3454576,  3.2290843,  3.1591043,\n",
              "         3.1852615,  6.141231 , 10.163145 ,  9.673941 ,  6.657334 ,\n",
              "         6.975822 ,  8.377457 , 12.244591 , 13.002367 , 10.547288 ,\n",
              "        10.269908 , 12.405405 , 12.598533 , 17.187765 , 10.616799 ,\n",
              "         3.0717638,  3.766271 ,  2.39153  ,  4.426362 ,  4.6217613,\n",
              "         5.4785843,  5.115232 ,  6.826432 ,  5.61515  ,  7.090962 ,\n",
              "        11.599259 , 14.510158 , 20.67855  , 18.67078  , 10.813845 ,\n",
              "         6.3959217,  3.68131  ,  2.3239698,  4.459366 ,  8.030946 ,\n",
              "         5.953289 ,  5.6428604,  5.137942 ,  7.162542 ,  9.831411 ,\n",
              "        11.209798 , 10.556693 ,  9.350718 ,  7.3507614,  3.9944015,\n",
              "         2.82334  ,  2.3929412,  2.8540509,  4.729088 ,  3.2363744,\n",
              "         3.6810775,  5.66858  ,  8.005048 , 10.247124 ,  9.74785  ,\n",
              "         9.546038 ,  2.477174 ,  2.985415 ,  4.3493805,  6.8806424,\n",
              "         7.7586823,  3.8011284,  4.4251757,  2.761091 ,  1.0093703,\n",
              "         2.242208 ,  2.2289226,  1.586883 ,  1.6239101,  1.8814822,\n",
              "         1.5162615,  1.7166462,  3.759433 ,  5.0977902,  5.66472  ,\n",
              "         4.075433 ,  4.3486757,  5.1419644,  6.618981 ,  9.824003 ,\n",
              "        12.981378 , 16.38801  , 16.260683 , 13.249784 , 10.180601 ,\n",
              "         9.383696 ,  5.121853 ,  3.2893925,  4.634882 ,  7.40683  ,\n",
              "        11.2843275,  7.2873406,  3.019625 ,  4.0061307,  4.1726418,\n",
              "         2.2337658,  3.0054157,  1.9702905,  3.1211088,  2.7774823,\n",
              "         3.492498 ,  5.1419344,  7.6572046, 11.470653 , 14.311554 ,\n",
              "        17.280176 ], dtype=float32),\n",
              " 'mase': 2.2020733,\n",
              " 'mse': array([3.15562562e+05, 1.69165250e+05, 1.44132125e+05, 1.76003203e+05,\n",
              "        2.63520375e+05, 3.91517562e+05, 3.99526000e+05, 3.44422344e+05,\n",
              "        4.93892812e+05, 6.88786938e+05, 9.18703188e+05, 8.00988875e+05,\n",
              "        6.35508688e+05, 6.45535812e+05, 3.57740438e+05, 1.03007500e+05,\n",
              "        5.33133203e+04, 4.65831875e+04, 1.10349016e+05, 1.11646961e+05,\n",
              "        4.35359453e+04, 5.45390977e+04, 4.55849648e+04, 7.64883672e+04,\n",
              "        4.03074492e+04, 2.71077129e+04, 1.90270059e+04, 4.55626055e+04,\n",
              "        4.25344805e+04, 6.63250156e+04, 1.16741680e+05, 1.69440500e+05,\n",
              "        1.10487078e+05, 1.59708281e+05, 1.61631031e+05, 1.23861797e+05,\n",
              "        1.50757344e+05, 1.31196844e+05, 5.50280977e+04, 6.28156445e+04,\n",
              "        1.77474219e+05, 2.68842363e+04, 2.53034434e+04, 2.58045020e+04,\n",
              "        1.34594580e+04, 3.88201562e+03, 9.22785449e+03, 1.22403154e+04,\n",
              "        2.20870137e+04, 3.60827500e+04, 4.87961641e+04, 3.74651562e+04,\n",
              "        4.10563203e+04, 4.17418945e+04, 1.10490461e+05, 2.00761391e+05,\n",
              "        3.48149906e+05, 3.58061312e+05, 3.28374281e+05, 2.96505719e+05,\n",
              "        2.33353781e+05, 1.54046719e+05, 1.43171672e+05, 1.62586625e+05,\n",
              "        2.96452750e+05, 2.66880812e+05, 2.94188594e+05, 3.10067562e+05,\n",
              "        6.27179414e+04, 8.63873047e+04, 9.69540391e+04, 2.01815141e+05,\n",
              "        2.97054375e+05, 2.00675078e+05, 1.27305359e+05, 1.32510266e+05,\n",
              "        8.46021953e+04, 1.74816891e+05, 2.95114281e+05, 4.75889656e+05,\n",
              "        7.21893438e+05, 4.62710344e+05, 1.33154703e+05, 8.13637656e+04,\n",
              "        3.43107852e+04, 3.45205352e+04, 5.36855352e+04, 7.42412266e+04,\n",
              "        1.09339273e+05, 2.79682500e+05, 2.19119391e+05, 1.99934375e+05,\n",
              "        1.65902703e+05, 8.16736484e+04, 4.82390000e+04, 1.65301422e+05,\n",
              "        1.81698344e+05, 3.30644938e+05, 4.63626844e+05, 6.75045938e+05,\n",
              "        3.34911812e+05, 1.69344250e+05, 1.03219461e+05, 1.48348297e+05,\n",
              "        2.98685406e+05, 3.71952469e+05, 4.43306094e+05, 5.27905000e+05,\n",
              "        1.12945200e+06, 1.00652944e+06, 8.03246812e+05, 2.21277531e+05,\n",
              "        6.64889766e+04, 2.66179375e+04, 3.29691523e+04, 1.68663719e+05,\n",
              "        1.76257484e+05, 2.99364906e+05, 4.31794719e+05, 1.91346938e+06,\n",
              "        3.90354050e+06, 6.29502550e+06, 5.49042450e+06, 6.25677150e+06,\n",
              "        6.28618550e+06, 7.23876800e+06, 2.08143475e+06, 6.66785812e+05,\n",
              "        1.44640328e+05, 1.83413734e+05, 3.41025938e+05, 3.02068688e+05,\n",
              "        3.71339250e+05, 2.02418469e+05, 1.36150891e+05, 8.24756250e+04,\n",
              "        1.96007016e+05, 1.61595719e+05, 1.71401281e+05, 2.00606781e+05,\n",
              "        2.37199281e+05, 1.58720250e+05, 6.36029766e+04, 3.38904844e+05,\n",
              "        5.23524188e+05, 2.86211969e+05, 1.92325875e+05, 3.73764375e+04,\n",
              "        1.31962375e+05, 9.33164844e+04, 1.18443625e+05, 3.00599344e+05,\n",
              "        2.28997734e+05, 3.57954781e+05, 2.36219141e+05, 1.71530031e+05,\n",
              "        2.68483496e+04, 4.79165352e+04, 4.00421953e+04, 5.41032422e+04,\n",
              "        1.07641422e+05, 9.80018828e+04, 7.08349766e+04, 6.55987578e+04,\n",
              "        8.53739844e+04, 1.33836609e+05, 2.72516031e+05, 6.54132938e+05,\n",
              "        4.97211812e+05, 6.11189312e+05, 9.92908312e+05, 9.56691312e+05,\n",
              "        1.09541312e+06, 1.19283188e+06, 3.75002000e+05, 2.22053375e+05,\n",
              "        2.60620156e+05, 1.88108875e+05, 1.87927750e+05, 2.49059219e+05,\n",
              "        3.79192031e+05, 4.07706812e+05, 6.24782875e+05, 9.62080500e+05,\n",
              "        7.95344312e+05, 1.40557953e+05, 2.65226469e+05, 6.26269938e+05,\n",
              "        2.05804641e+05, 6.53085547e+04, 1.33562875e+05, 1.14691688e+05,\n",
              "        2.26914000e+05, 2.61227547e+05, 5.08516812e+05, 4.90744344e+05,\n",
              "        2.38722219e+05, 6.85554844e+04, 7.30579844e+04, 5.36114375e+04,\n",
              "        3.28222750e+05, 6.26447562e+05, 5.17733938e+05, 3.32536906e+05,\n",
              "        1.72656625e+05, 8.28139297e+04, 1.43392859e+05, 8.83170859e+04,\n",
              "        5.15845508e+04, 4.20796523e+04, 1.78049359e+05, 1.17352023e+05,\n",
              "        1.16870359e+05, 1.02416914e+05, 1.67489453e+05, 2.05509344e+05,\n",
              "        2.73222562e+05, 4.73887266e+04, 4.60582461e+04, 5.33724297e+04,\n",
              "        7.87066953e+04, 7.06484219e+04, 5.23132695e+04, 2.50282949e+04,\n",
              "        4.52028984e+04, 4.14731211e+04, 7.00108125e+04, 1.24132516e+05,\n",
              "        1.34167734e+05, 3.38401844e+05, 9.75608906e+04, 1.10023234e+05,\n",
              "        1.99198105e+04, 3.32736992e+04, 2.43713613e+04, 2.76616543e+04,\n",
              "        2.70385918e+04, 1.58114443e+04, 1.16168145e+04, 2.74853398e+04,\n",
              "        2.95269004e+04, 3.95873516e+04, 2.81845449e+04, 3.19157754e+04,\n",
              "        5.60373164e+04, 3.98339648e+04, 5.02201758e+04, 3.19761777e+04,\n",
              "        2.96142949e+04, 4.48334258e+04, 4.32264375e+04, 1.52424199e+04,\n",
              "        2.86075918e+04, 4.23483203e+04, 7.25031172e+04, 1.21924172e+05,\n",
              "        6.41490500e+05, 8.50461375e+05, 1.11135250e+06, 1.22003225e+06,\n",
              "        1.54110100e+06, 2.03451825e+06, 1.76440675e+06, 4.22098719e+05,\n",
              "        1.30513617e+05, 7.30579375e+04, 8.56105781e+04, 7.42399219e+04,\n",
              "        1.49466297e+05, 1.25624111e+04, 2.13100684e+04, 9.81801094e+04,\n",
              "        7.28017891e+04, 1.26064586e+05, 1.01337148e+05, 1.24553195e+05,\n",
              "        7.13405469e+04, 8.41951797e+04, 6.25290625e+04, 8.18796172e+04,\n",
              "        1.27303258e+05, 8.94660078e+04, 1.04100891e+05, 1.66147453e+05,\n",
              "        2.32076047e+05, 4.41966531e+05, 1.75839078e+05, 1.76445156e+05,\n",
              "        9.12171094e+04, 1.67975672e+05, 1.87876422e+05, 1.07636641e+05,\n",
              "        3.26579023e+04, 5.35408945e+04, 1.38144219e+05, 3.28639000e+05,\n",
              "        6.38893000e+05, 1.08279062e+06, 1.55802688e+06, 2.42137025e+06,\n",
              "        2.08980188e+06, 9.83022000e+05, 4.27435062e+05, 5.84013867e+04,\n",
              "        4.02857695e+04, 5.27582695e+04, 1.33694031e+05, 2.41685969e+05,\n",
              "        2.54569906e+05, 2.18475781e+05, 2.39844203e+05, 1.72919469e+05,\n",
              "        9.46134297e+04, 8.14815547e+04, 1.83792781e+05, 3.41631688e+05,\n",
              "        2.67091312e+05, 3.54821562e+05, 1.69607250e+05, 2.63052539e+04,\n",
              "        2.11336660e+04, 1.11685516e+05, 6.08848320e+04, 4.64013750e+04,\n",
              "        6.97664531e+04, 1.16935750e+05, 1.44631391e+05, 1.14627359e+05,\n",
              "        7.92806953e+04, 5.69164023e+04, 3.03999824e+04, 9.47754453e+04,\n",
              "        1.19674555e+05, 2.15398828e+05, 3.15528062e+05, 4.17612156e+05,\n",
              "        3.91753469e+05, 2.83128938e+05, 8.15815625e+04, 5.00839414e+04,\n",
              "        1.01595758e+05, 6.17701914e+04, 3.16725906e+05, 5.76747812e+05,\n",
              "        7.41102938e+05, 1.33218062e+06, 1.56516275e+06, 1.55553225e+06,\n",
              "        1.68517800e+06, 3.21848938e+05, 6.30700078e+04, 7.78367891e+04,\n",
              "        5.12543945e+04, 1.14444773e+05, 1.13520664e+05, 7.03017266e+04,\n",
              "        4.71100312e+04, 4.52434938e+05, 7.79103938e+05, 7.32536625e+05,\n",
              "        1.03909069e+06, 1.56208825e+06, 1.63956638e+06, 1.72790162e+06,\n",
              "        4.00524844e+05, 2.34607969e+05, 1.76724578e+05, 6.78014375e+04,\n",
              "        3.90380438e+05, 9.80138500e+05, 1.03536912e+06, 8.44672312e+05,\n",
              "        1.38894175e+06, 1.98340575e+06, 3.62835000e+06, 2.66920550e+06,\n",
              "        1.42116625e+06, 4.54600656e+05, 3.65966188e+05, 9.46591875e+05,\n",
              "        1.45184338e+06, 1.85899825e+06, 1.89930900e+06, 1.82373088e+06,\n",
              "        1.21286275e+06, 4.94639656e+05, 1.49650112e+06, 2.03091888e+06,\n",
              "        2.25657600e+06, 2.11181500e+05, 1.21395586e+05, 3.04311312e+05,\n",
              "        7.11903375e+05, 6.20311312e+05, 8.05388000e+05, 6.26904125e+05,\n",
              "        5.66389625e+05, 4.27519500e+05, 7.83490438e+05, 3.63024725e+06,\n",
              "        8.18037700e+06, 1.07676110e+07, 1.26563590e+07, 1.33500340e+07,\n",
              "        1.33957210e+07, 6.52510400e+06, 1.60696225e+06, 8.56755125e+05,\n",
              "        1.15616888e+06, 1.69268262e+06, 2.17123600e+06, 3.34217825e+06,\n",
              "        7.84993050e+06, 1.08378800e+07, 1.05727040e+07, 1.01602590e+07,\n",
              "        1.14205920e+07, 1.16179760e+07, 1.73510000e+07, 1.79301540e+07,\n",
              "        2.70626420e+07, 3.72665360e+07, 2.97687480e+07, 2.14580120e+07,\n",
              "        2.44065800e+07, 1.56006690e+07, 1.03771470e+07, 9.93531700e+06,\n",
              "        2.18889320e+07, 3.45002520e+07, 2.72495500e+07, 2.51544575e+06,\n",
              "        2.11410025e+06, 1.65101438e+06, 8.78065100e+06, 1.42263940e+07,\n",
              "        1.50277490e+07, 1.42628800e+07, 1.11521150e+07, 1.31385830e+07,\n",
              "        1.44270260e+07, 2.10808500e+06, 2.37276825e+06, 2.06520275e+06,\n",
              "        1.51271862e+06, 1.63592488e+06, 6.01036300e+06, 1.48181600e+07,\n",
              "        1.51462640e+07, 8.88826800e+06, 1.03656160e+07, 1.24236500e+07,\n",
              "        3.12300380e+07, 4.44121600e+07, 3.35616920e+07, 3.37025480e+07,\n",
              "        4.33024880e+07, 4.04648040e+07, 6.68120680e+07, 2.68143000e+07,\n",
              "        3.37227625e+06, 6.18198100e+06, 3.33603075e+06, 9.76003500e+06,\n",
              "        9.50540800e+06, 1.48300460e+07, 1.08089090e+07, 1.52812380e+07,\n",
              "        1.21298700e+07, 1.47111110e+07, 4.46197040e+07, 6.19226520e+07,\n",
              "        1.05739152e+08, 8.06071200e+07, 3.00356780e+07, 1.30779050e+07,\n",
              "        4.55989850e+06, 1.67930088e+06, 6.99429200e+06, 1.63486880e+07,\n",
              "        1.21498720e+07, 1.21798090e+07, 1.68979380e+07, 2.39387620e+07,\n",
              "        3.73065320e+07, 5.09610560e+07, 4.59521920e+07, 3.20003360e+07,\n",
              "        2.06371620e+07, 8.14506450e+06, 4.14795200e+06, 4.23500700e+06,\n",
              "        3.09785050e+06, 8.37916700e+06, 7.36109850e+06, 7.06096000e+06,\n",
              "        1.57310800e+07, 2.78767000e+07, 4.07340160e+07, 3.28521260e+07,\n",
              "        2.89016480e+07, 3.40229975e+06, 3.84224400e+06, 8.10805550e+06,\n",
              "        1.74778640e+07, 2.13824440e+07, 5.77503650e+06, 7.30699750e+06,\n",
              "        3.70580475e+06, 6.14523812e+05, 1.92766962e+06, 2.29575050e+06,\n",
              "        1.09031988e+06, 1.19422512e+06, 2.01535475e+06, 1.38584200e+06,\n",
              "        2.60915475e+06, 7.48125150e+06, 1.25728430e+07, 1.49188430e+07,\n",
              "        7.64713050e+06, 9.50859800e+06, 1.16537280e+07, 2.15389020e+07,\n",
              "        4.32745680e+07, 6.52255160e+07, 9.30124720e+07, 8.49971200e+07,\n",
              "        5.87007240e+07, 3.43533080e+07, 2.82686400e+07, 9.30443000e+06,\n",
              "        4.66935400e+06, 8.00185850e+06, 2.05975080e+07, 4.07234360e+07,\n",
              "        1.93118560e+07, 4.04351750e+06, 5.92505450e+06, 7.37347950e+06,\n",
              "        2.68488600e+06, 5.27761950e+06, 1.84824662e+06, 4.87236000e+06,\n",
              "        4.87888300e+06, 5.77536800e+06, 1.21702220e+07, 2.70199620e+07,\n",
              "        4.94704520e+07, 6.90301360e+07, 8.50555280e+07], dtype=float32),\n",
              " 'rmse': array([  561.7496  ,   411.29703 ,   379.64737 ,   419.52734 ,\n",
              "          513.34235 ,   625.7136  ,   632.0807  ,   586.87506 ,\n",
              "          702.7751  ,   829.9319  ,   958.49005 ,   894.9798  ,\n",
              "          797.188   ,   803.45245 ,   598.1141  ,   320.9478  ,\n",
              "          230.89677 ,   215.83139 ,   332.18823 ,   334.13614 ,\n",
              "          208.6527  ,   233.53607 ,   213.50636 ,   276.5653  ,\n",
              "          200.76715 ,   164.6442  ,   137.93842 ,   213.454   ,\n",
              "          206.23889 ,   257.53644 ,   341.6748  ,   411.6315  ,\n",
              "          332.39597 ,   399.6352  ,   402.03363 ,   351.94003 ,\n",
              "          388.27484 ,   362.21106 ,   234.58069 ,   250.6305  ,\n",
              "          421.2769  ,   163.96413 ,   159.07056 ,   160.6378  ,\n",
              "          116.01491 ,    62.305824,    96.06172 ,   110.635956,\n",
              "          148.617   ,   189.9546  ,   220.89854 ,   193.55917 ,\n",
              "          202.6236  ,   204.30833 ,   332.40106 ,   448.06406 ,\n",
              "          590.0423  ,   598.38226 ,   573.0395  ,   544.5234  ,\n",
              "          483.06705 ,   392.48785 ,   378.38034 ,   403.2203  ,\n",
              "          544.47473 ,   516.6051  ,   542.39154 ,   556.8371  ,\n",
              "          250.4355  ,   293.91718 ,   311.37445 ,   449.2384  ,\n",
              "          545.027   ,   447.9677  ,   356.79877 ,   364.0196  ,\n",
              "          290.86456 ,   418.11108 ,   543.2442  ,   689.84753 ,\n",
              "          849.6431  ,   680.22815 ,   364.9037  ,   285.24335 ,\n",
              "          185.2317  ,   185.79703 ,   231.70139 ,   272.47244 ,\n",
              "          330.6649  ,   528.85016 ,   468.1019  ,   447.14023 ,\n",
              "          407.31155 ,   285.786   ,   219.63379 ,   406.57278 ,\n",
              "          426.2609  ,   575.01733 ,   680.9015  ,   821.6118  ,\n",
              "          578.71564 ,   411.5146  ,   321.27786 ,   385.1601  ,\n",
              "          546.5212  ,   609.8791  ,   665.8124  ,   726.57074 ,\n",
              "         1062.7568  ,  1003.2594  ,   896.24036 ,   470.40146 ,\n",
              "          257.85455 ,   163.15004 ,   181.5741  ,   410.6869  ,\n",
              "          419.8303  ,   547.1425  ,   657.1109  ,  1383.2821  ,\n",
              "         1975.7379  ,  2508.989   ,  2343.1655  ,  2501.354   ,\n",
              "         2507.2266  ,  2690.4958  ,  1442.7179  ,   816.5695  ,\n",
              "          380.3161  ,   428.2683  ,   583.97424 ,   549.6078  ,\n",
              "          609.3761  ,   449.9094  ,   368.9863  ,   287.1857  ,\n",
              "          442.7268  ,   401.9897  ,   414.00638 ,   447.89148 ,\n",
              "          487.0311  ,   398.3971  ,   252.1963  ,   582.15533 ,\n",
              "          723.54974 ,   534.9878  ,   438.54974 ,   193.32986 ,\n",
              "          363.26627 ,   305.47748 ,   344.1564  ,   548.2694  ,\n",
              "          478.53708 ,   598.2932  ,   486.0238  ,   414.16183 ,\n",
              "          163.85466 ,   218.89845 ,   200.10545 ,   232.60104 ,\n",
              "          328.08752 ,   313.05252 ,   266.1484  ,   256.12256 ,\n",
              "          292.18826 ,   365.83685 ,   522.0307  ,   808.78485 ,\n",
              "          705.1325  ,   781.78595 ,   996.4479  ,   978.10596 ,\n",
              "         1046.6199  ,  1092.1685  ,   612.3741  ,   471.2254  ,\n",
              "          510.5097  ,   433.7152  ,   433.50635 ,   499.05832 ,\n",
              "          615.7857  ,   638.5192  ,   790.43207 ,   980.857   ,\n",
              "          891.8208  ,   374.91058 ,   515.0014  ,   791.3722  ,\n",
              "          453.65695 ,   255.55539 ,   365.46255 ,   338.66162 ,\n",
              "          476.35492 ,   511.10425 ,   713.10364 ,   700.5315  ,\n",
              "          488.59207 ,   261.83102 ,   270.29242 ,   231.54144 ,\n",
              "          572.9073  ,   791.4844  ,   719.5373  ,   576.66016 ,\n",
              "          415.5197  ,   287.7741  ,   378.6725  ,   297.18192 ,\n",
              "          227.12233 ,   205.13326 ,   421.95895 ,   342.5668  ,\n",
              "          341.86307 ,   320.02643 ,   409.25476 ,   453.3314  ,\n",
              "          522.707   ,   217.68951 ,   214.61185 ,   231.02473 ,\n",
              "          280.54715 ,   265.7977  ,   228.72095 ,   158.20334 ,\n",
              "          212.60973 ,   203.6495  ,   264.59555 ,   352.32443 ,\n",
              "          366.28915 ,   581.72314 ,   312.34738 ,   331.6975  ,\n",
              "          141.13756 ,   182.4108  ,   156.1133  ,   166.31793 ,\n",
              "          164.43416 ,   125.74357 ,   107.78133 ,   165.78703 ,\n",
              "          171.83394 ,   198.9657  ,   167.88254 ,   178.64987 ,\n",
              "          236.72203 ,   199.58449 ,   224.09859 ,   178.81885 ,\n",
              "          172.08804 ,   211.73904 ,   207.90968 ,   123.4602  ,\n",
              "          169.13779 ,   205.78708 ,   269.26404 ,   349.17642 ,\n",
              "          800.931   ,   922.20465 ,  1054.207   ,  1104.5507  ,\n",
              "         1241.4109  ,  1426.3654  ,  1328.3097  ,   649.6912  ,\n",
              "          361.2667  ,   270.29233 ,   292.59286 ,   272.47003 ,\n",
              "          386.6087  ,   112.08216 ,   145.97969 ,   313.33707 ,\n",
              "          269.81805 ,   355.05576 ,   318.33496 ,   352.92096 ,\n",
              "          267.09653 ,   290.16406 ,   250.05812 ,   286.14615 ,\n",
              "          356.7958  ,   299.1087  ,   322.6467  ,   407.61188 ,\n",
              "          481.7427  ,   664.80566 ,   419.3317  ,   420.05374 ,\n",
              "          302.0217  ,   409.84836 ,   433.44714 ,   328.08023 ,\n",
              "          180.71498 ,   231.38905 ,   371.67758 ,   573.27045 ,\n",
              "          799.3078  ,  1040.5723  ,  1248.2095  ,  1556.0753  ,\n",
              "         1445.6147  ,   991.4747  ,   653.78516 ,   241.66379 ,\n",
              "          200.71315 ,   229.69168 ,   365.64194 ,   491.61566 ,\n",
              "          504.54922 ,   467.41394 ,   489.73892 ,   415.83588 ,\n",
              "          307.59296 ,   285.44974 ,   428.7106  ,   584.4927  ,\n",
              "          516.8088  ,   595.669   ,   411.834   ,   162.18895 ,\n",
              "          145.37422 ,   334.19382 ,   246.74852 ,   215.40979 ,\n",
              "          264.1334  ,   341.9587  ,   380.30435 ,   338.56662 ,\n",
              "          281.56827 ,   238.5716  ,   174.35591 ,   307.8562  ,\n",
              "          345.9401  ,   464.11078 ,   561.7189  ,   646.2292  ,\n",
              "          625.9021  ,   532.09863 ,   285.62488 ,   223.79442 ,\n",
              "          318.7409  ,   248.5361  ,   562.78406 ,   759.43915 ,\n",
              "          860.87335 ,  1154.2013  ,  1251.0647  ,  1247.2098  ,\n",
              "         1298.144   ,   567.3173  ,   251.13742 ,   278.99246 ,\n",
              "          226.39433 ,   338.29688 ,   336.92828 ,   265.1447  ,\n",
              "          217.04845 ,   672.6328  ,   882.66864 ,   855.88354 ,\n",
              "         1019.358   ,  1249.8353  ,  1280.4556  ,  1314.4967  ,\n",
              "          632.8703  ,   484.36346 ,   420.38623 ,   260.3871  ,\n",
              "          624.8043  ,   990.0195  ,  1017.5309  ,   919.06055 ,\n",
              "         1178.5337  ,  1408.3344  ,  1904.8229  ,  1633.7704  ,\n",
              "         1192.1268  ,   674.2408  ,   604.9514  ,   972.9295  ,\n",
              "         1204.9247  ,  1363.4508  ,  1378.1542  ,  1350.4558  ,\n",
              "         1101.3005  ,   703.3062  ,  1223.3157  ,  1425.1031  ,\n",
              "         1502.1904  ,   459.5449  ,   348.4187  ,   551.64417 ,\n",
              "          843.74365 ,   787.59845 ,   897.43414 ,   791.77277 ,\n",
              "          752.5886  ,   653.84973 ,   885.14996 ,  1905.3208  ,\n",
              "         2860.1357  ,  3281.4038  ,  3557.5776  ,  3653.7698  ,\n",
              "         3660.0166  ,  2554.4282  ,  1267.6602  ,   925.61066 ,\n",
              "         1075.2529  ,  1301.0314  ,  1473.5115  ,  1828.1625  ,\n",
              "         2801.7727  ,  3292.0935  ,  3251.5696  ,  3187.516   ,\n",
              "         3379.4365  ,  3408.5151  ,  4165.453   ,  4234.4014  ,\n",
              "         5202.177   ,  6104.6323  ,  5456.074   ,  4632.2793  ,\n",
              "         4940.302   ,  3949.7683  ,  3221.358   ,  3152.0337  ,\n",
              "         4678.561   ,  5873.6914  ,  5220.1104  ,  1586.0156  ,\n",
              "         1453.9946  ,  1284.9181  ,  2963.2163  ,  3771.7893  ,\n",
              "         3876.564   ,  3776.6228  ,  3339.4783  ,  3624.7183  ,\n",
              "         3798.2925  ,  1451.9246  ,  1540.3793  ,  1437.0813  ,\n",
              "         1229.9263  ,  1279.0328  ,  2451.6042  ,  3849.4363  ,\n",
              "         3891.82    ,  2981.3198  ,  3219.5676  ,  3524.7197  ,\n",
              "         5588.3843  ,  6664.245   ,  5793.2456  ,  5805.3896  ,\n",
              "         6580.4624  ,  6361.1953  ,  8173.8647  ,  5178.2524  ,\n",
              "         1836.3759  ,  2486.359   ,  1826.4805  ,  3124.1055  ,\n",
              "         3083.0842  ,  3850.98    ,  3287.6904  ,  3909.1223  ,\n",
              "         3482.7964  ,  3835.5066  ,  6679.7983  ,  7869.0947  ,\n",
              "        10282.954   ,  8978.146   ,  5480.4814  ,  3616.3386  ,\n",
              "         2135.3918  ,  1295.8784  ,  2644.6724  ,  4043.351   ,\n",
              "         3485.6667  ,  3489.9583  ,  4110.71    ,  4892.7256  ,\n",
              "         6107.907   ,  7138.701   ,  6778.8047  ,  5656.884   ,\n",
              "         4542.8145  ,  2853.956   ,  2036.6521  ,  2057.9133  ,\n",
              "         1760.0712  ,  2894.6792  ,  2713.1345  ,  2657.2466  ,\n",
              "         3966.2427  ,  5279.839   ,  6382.321   ,  5731.6772  ,\n",
              "         5376.0254  ,  1844.5323  ,  1960.1643  ,  2847.4648  ,\n",
              "         4180.6533  ,  4624.1157  ,  2403.1306  ,  2703.1458  ,\n",
              "         1925.0466  ,   783.9157  ,  1388.4054  ,  1515.1735  ,\n",
              "         1044.1838  ,  1092.806   ,  1419.632   ,  1177.2179  ,\n",
              "         1615.2878  ,  2735.1877  ,  3545.8206  ,  3862.4917  ,\n",
              "         2765.3445  ,  3083.6016  ,  3413.7556  ,  4641.0024  ,\n",
              "         6578.341   ,  8076.2314  ,  9644.298   ,  9219.389   ,\n",
              "         7661.6396  ,  5861.1694  ,  5316.826   ,  3050.3164  ,\n",
              "         2160.869   ,  2828.7556  ,  4538.4478  ,  6381.4917  ,\n",
              "         4394.526   ,  2010.85    ,  2434.1436  ,  2715.4153  ,\n",
              "         1638.5621  ,  2297.3071  ,  1359.5023  ,  2207.3423  ,\n",
              "         2208.8193  ,  2403.1995  ,  3488.5845  ,  5198.0728  ,\n",
              "         7033.5234  ,  8308.4375  ,  9222.556   ], dtype=float32)}"
            ]
          },
          "metadata": {
            "tags": []
          },
          "execution_count": 66
        }
      ]
    },
    {
      "cell_type": "markdown",
      "metadata": {
        "id": "XkfxzrIouKqt"
      },
      "source": [
        "## Updating the evaluation function to work for larger horizons"
      ]
    },
    {
      "cell_type": "code",
      "metadata": {
        "id": "cIJS9Pbsu5Rt"
      },
      "source": [
        "# Create a function to take in model preds and true values\n",
        "\n",
        "def evaluate_preds(y_true,y_pred):\n",
        "  # Make sure float32 for metric calculations\n",
        "  y_true = tf.cast(y_true, dtype=tf.float32)\n",
        "  y_pred = tf.cast(y_pred, dtype=tf.float32)\n",
        "\n",
        "  # Calc evals\n",
        "  mae = tf.keras.metrics.mean_absolute_error(y_true, y_pred)\n",
        "  mse = tf.keras.metrics.mean_squared_error(y_true, y_pred)\n",
        "  rmse = tf.sqrt(mse)\n",
        "  mape = tf.keras.metrics.mean_absolute_percentage_error(y_true, y_pred)\n",
        "  mase = mean_absolute_scaled_error(y_true, y_pred)\n",
        "\n",
        "  # Account for different sized metrics (longer horizons)\n",
        "\n",
        "  if mae.ndim > 0:\n",
        "    mae = tf.reduce_mean(mae)\n",
        "    mse = tf.reduce_mean(mse)\n",
        "    rmse = tf.reduce_mean(rmse)\n",
        "    mape = tf.reduce_mean(mape)\n",
        "    mase = tf.reduce_mean(mase)\n",
        "\n",
        "\n",
        "  return {\"mae\": mae.numpy(),\n",
        "          \"mse\": mse.numpy(),\n",
        "          \"rmse\": rmse.numpy(),\n",
        "          \"mape\": mape.numpy(),\n",
        "          \"mase\": mase.numpy()}"
      ],
      "execution_count": null,
      "outputs": []
    },
    {
      "cell_type": "code",
      "metadata": {
        "colab": {
          "base_uri": "https://localhost:8080/"
        },
        "id": "bJen6jmKwAYe",
        "outputId": "baa2daf1-2bdf-4c98-d806-b50b45a314b1"
      },
      "source": [
        "# Model_3 results\n",
        "\n",
        "model_3_results = evaluate_preds(y_true=tf.squeeze(test_labels),\n",
        "                                 y_pred=model_3_preds)\n",
        "model_3_results"
      ],
      "execution_count": null,
      "outputs": [
        {
          "output_type": "execute_result",
          "data": {
            "text/plain": [
              "{'mae': 1237.5063,\n",
              " 'mape': 5.558879,\n",
              " 'mase': 2.2020733,\n",
              " 'mse': 5405198.5,\n",
              " 'rmse': 1425.7477}"
            ]
          },
          "metadata": {
            "tags": []
          },
          "execution_count": 68
        }
      ]
    },
    {
      "cell_type": "code",
      "metadata": {
        "colab": {
          "base_uri": "https://localhost:8080/",
          "height": 606
        },
        "id": "UPuWCGLJwJ-r",
        "outputId": "82d8a4aa-c3c7-454a-f0d9-fb31086c7903"
      },
      "source": [
        "# Plot the model\n",
        "\n",
        "offset=420\n",
        "plt.figure(figsize=(15,10))\n",
        "\n",
        "plot_time_series(timesteps=X_test[-len(test_windows):], values=test_labels[:, 0], start=offset, label=\"Test Data\")\n",
        "plot_time_series(timesteps=X_test[-len(test_windows):], values=model_3_preds, format=\"-\", start=offset, label=\"model_3_preds\")"
      ],
      "execution_count": null,
      "outputs": [
        {
          "output_type": "display_data",
          "data": {
            "image/png": "[encoded data removed]",
            "text/plain": [
              "<Figure size 1080x720 with 1 Axes>"
            ]
          },
          "metadata": {
            "tags": [],
            "needs_background": "light"
          }
        }
      ]
    },
    {
      "cell_type": "code",
      "metadata": {
        "colab": {
          "base_uri": "https://localhost:8080/",
          "height": 606
        },
        "id": "7bQ9LESsxEnC",
        "outputId": "21576294-f389-4af4-c7bb-ab4c392454d9"
      },
      "source": [
        "# Time to reduce_mean aka aggregate values\n",
        "\n",
        "offset=420\n",
        "plt.figure(figsize=(15,10))\n",
        "\n",
        "plot_time_series(timesteps=X_test[-len(test_windows):], values=test_labels[:, 0], start=offset, label=\"Test Data\")\n",
        "plot_time_series(timesteps=X_test[-len(test_windows):], values=tf.reduce_mean(model_3_preds, axis=1), format=\"-\", start=offset, label=\"model_3_preds\")"
      ],
      "execution_count": null,
      "outputs": [
        {
          "output_type": "display_data",
          "data": {
            "image/png": "[encoded data removed]",
            "text/plain": [
              "<Figure size 1080x720 with 1 Axes>"
            ]
          },
          "metadata": {
            "tags": [],
            "needs_background": "light"
          }
        }
      ]
    },
    {
      "cell_type": "markdown",
      "metadata": {
        "id": "ZpBEc161zKAi"
      },
      "source": [
        "### Which models performs best so far?\n",
        "\n",
        "Let's compare them so far"
      ]
    },
    {
      "cell_type": "code",
      "metadata": {
        "colab": {
          "base_uri": "https://localhost:8080/",
          "height": 440
        },
        "id": "iHEfziMq2sWD",
        "outputId": "da1ff643-ad28-4a4d-c3bc-dc36574533dc"
      },
      "source": [
        "pd.DataFrame({\"naive\": naive_results[\"mae\"],\n",
        "              \"window_7_horizon_1\": model_1_results[\"mae\"],\n",
        "              \"window_30_horizon_1\": model_2_results[\"mae\"],\n",
        "              \"window_30_horizon_7\": model_3_results[\"mae\"]}, index=[\"mae\"]).plot(figsize=(10,7), kind=\"bar\");"
      ],
      "execution_count": null,
      "outputs": [
        {
          "output_type": "display_data",
          "data": {
            "image/png": "[encoded data removed]",
            "text/plain": [
              "<Figure size 720x504 with 1 Axes>"
            ]
          },
          "metadata": {
            "tags": [],
            "needs_background": "light"
          }
        }
      ]
    },
    {
      "cell_type": "markdown",
      "metadata": {
        "id": "IOr2xbk93WFl"
      },
      "source": [
        "## Model 4: Conv1D Model\n",
        "\n"
      ]
    },
    {
      "cell_type": "code",
      "metadata": {
        "id": "RzugmzqG55Tn"
      },
      "source": [
        "HORIZON = 1\n",
        "WINDOW_SIZE = 7"
      ],
      "execution_count": null,
      "outputs": []
    },
    {
      "cell_type": "code",
      "metadata": {
        "colab": {
          "base_uri": "https://localhost:8080/"
        },
        "id": "_ZglQTHa6ACv",
        "outputId": "d0f4513b-d18c-457c-d0a3-79ceab8c6ecc"
      },
      "source": [
        "# Create dataset\n",
        "\n",
        "full_windows, full_labels = make_windows(prices, window_size=WINDOW_SIZE, horizon=HORIZON)\n",
        "len(full_windows), len(full_labels)"
      ],
      "execution_count": null,
      "outputs": [
        {
          "output_type": "execute_result",
          "data": {
            "text/plain": [
              "(2780, 2780)"
            ]
          },
          "metadata": {
            "tags": []
          },
          "execution_count": 73
        }
      ]
    },
    {
      "cell_type": "code",
      "metadata": {
        "colab": {
          "base_uri": "https://localhost:8080/"
        },
        "id": "Q1ZM6-ip6LWU",
        "outputId": "2e232e6d-d67a-4ad2-8fe0-cd52fa0e4309"
      },
      "source": [
        "# Train and test sets\n",
        "\n",
        "train_windows, test_windows, train_labels, test_labels = make_train_test_splits(full_windows, full_labels)\n",
        "\n",
        "len(train_windows), len(test_windows), len(train_labels), len(test_labels)"
      ],
      "execution_count": null,
      "outputs": [
        {
          "output_type": "execute_result",
          "data": {
            "text/plain": [
              "(2224, 556, 2224, 556)"
            ]
          },
          "metadata": {
            "tags": []
          },
          "execution_count": 74
        }
      ]
    },
    {
      "cell_type": "markdown",
      "metadata": {
        "id": "MCp1Oenv6Tg8"
      },
      "source": [
        "Need an input shape of: `(batch_size , timesteps, input_dim)`"
      ]
    },
    {
      "cell_type": "code",
      "metadata": {
        "colab": {
          "base_uri": "https://localhost:8080/"
        },
        "id": "yS4zQjeI6zCR",
        "outputId": "306ec10e-2c99-4f09-b572-a8970a7ae852"
      },
      "source": [
        "# Data input shape\n",
        "\n",
        "train_windows[0].shape # Returns window size\n"
      ],
      "execution_count": null,
      "outputs": [
        {
          "output_type": "execute_result",
          "data": {
            "text/plain": [
              "(7,)"
            ]
          },
          "metadata": {
            "tags": []
          },
          "execution_count": 75
        }
      ]
    },
    {
      "cell_type": "code",
      "metadata": {
        "colab": {
          "base_uri": "https://localhost:8080/"
        },
        "id": "jKOXYwbm61-x",
        "outputId": "1f8fca46-5118-494a-c870-549ea10e1a6c"
      },
      "source": [
        "# Before passing the data to conv1d, we have to reshape, to make it work\n",
        "x = tf.constant(train_windows[0])\n",
        "x"
      ],
      "execution_count": null,
      "outputs": [
        {
          "output_type": "execute_result",
          "data": {
            "text/plain": [
              "<tf.Tensor: shape=(7,), dtype=float64, numpy=\n",
              "array([123.65499, 125.455  , 108.58483, 118.67466, 121.33866, 120.65533,\n",
              "       121.795  ])>"
            ]
          },
          "metadata": {
            "tags": []
          },
          "execution_count": 76
        }
      ]
    },
    {
      "cell_type": "code",
      "metadata": {
        "colab": {
          "base_uri": "https://localhost:8080/"
        },
        "id": "FlhUhOUD7R-X",
        "outputId": "9b1c8d28-8530-4ac0-caad-8fefcd849613"
      },
      "source": [
        "expand_dims_layers = layers.Lambda(lambda x: tf.expand_dims(x, axis=1)) # Adds extra dimension for input_dim\n",
        "expand_dims_layers"
      ],
      "execution_count": null,
      "outputs": [
        {
          "output_type": "execute_result",
          "data": {
            "text/plain": [
              "<tensorflow.python.keras.layers.core.Lambda at 0x7f866237c050>"
            ]
          },
          "metadata": {
            "tags": []
          },
          "execution_count": 77
        }
      ]
    },
    {
      "cell_type": "code",
      "metadata": {
        "colab": {
          "base_uri": "https://localhost:8080/"
        },
        "id": "TPjxIWF67fj1",
        "outputId": "14b36947-e276-4c13-f5c0-3d5ad98ce33d"
      },
      "source": [
        "# Test out lambda layer\n",
        "\n",
        "print(f\"Original shape: {x.shape}\") # window size\n",
        "print(f\"Expanded shape: {expand_dims_layers(x).shape}\") # window size + extra dimension for input_dim\n",
        "print(f\"Original values with expanded shape:\\n {expand_dims_layers(x)}\")"
      ],
      "execution_count": null,
      "outputs": [
        {
          "output_type": "stream",
          "text": [
            "Original shape: (7,)\n",
            "Expanded shape: (7, 1)\n",
            "Original values with expanded shape:\n",
            " [[123.65499]\n",
            " [125.455  ]\n",
            " [108.58483]\n",
            " [118.67466]\n",
            " [121.33866]\n",
            " [120.65533]\n",
            " [121.795  ]]\n"
          ],
          "name": "stdout"
        }
      ]
    },
    {
      "cell_type": "code",
      "metadata": {
        "colab": {
          "base_uri": "https://localhost:8080/"
        },
        "id": "3wbEFb8C7zCs",
        "outputId": "d49c2ea6-dc40-42d2-dae8-5fc4fc071d4e"
      },
      "source": [
        "# Set seed\n",
        "tf.random.set_seed(42)\n",
        "\n",
        "# Create model\n",
        "model_4 = tf.keras.Sequential([\n",
        "  layers.Lambda(lambda x: tf.expand_dims(x, axis=1)),\n",
        "  layers.Conv1D(128, kernel_size=5, strides=1, padding=\"causal\", activation=\"relu\"),\n",
        "  layers.Dense(HORIZON)\n",
        "], name=\"model_4_conv1d\")\n",
        "\n",
        "# Compile\n",
        "model_4.compile(loss=\"mae\",\n",
        "                optimizer=\"adam\")\n",
        "\n",
        "# Fit the model\n",
        "model_4.fit(train_windows,\n",
        "            train_labels,\n",
        "            epochs=100,\n",
        "            batch_size=128,\n",
        "            verbose=0,\n",
        "            validation_data=(test_windows, test_labels),\n",
        "            callbacks=[create_model_checkpoint(model_name=model_4.name)])"
      ],
      "execution_count": null,
      "outputs": [
        {
          "output_type": "stream",
          "text": [
            "INFO:tensorflow:Assets written to: model_experiments/model_4_conv1d/assets\n",
            "INFO:tensorflow:Assets written to: model_experiments/model_4_conv1d/assets\n",
            "INFO:tensorflow:Assets written to: model_experiments/model_4_conv1d/assets\n",
            "INFO:tensorflow:Assets written to: model_experiments/model_4_conv1d/assets\n",
            "INFO:tensorflow:Assets written to: model_experiments/model_4_conv1d/assets\n",
            "INFO:tensorflow:Assets written to: model_experiments/model_4_conv1d/assets\n",
            "INFO:tensorflow:Assets written to: model_experiments/model_4_conv1d/assets\n",
            "INFO:tensorflow:Assets written to: model_experiments/model_4_conv1d/assets\n",
            "INFO:tensorflow:Assets written to: model_experiments/model_4_conv1d/assets\n",
            "INFO:tensorflow:Assets written to: model_experiments/model_4_conv1d/assets\n",
            "INFO:tensorflow:Assets written to: model_experiments/model_4_conv1d/assets\n",
            "INFO:tensorflow:Assets written to: model_experiments/model_4_conv1d/assets\n",
            "INFO:tensorflow:Assets written to: model_experiments/model_4_conv1d/assets\n",
            "INFO:tensorflow:Assets written to: model_experiments/model_4_conv1d/assets\n",
            "INFO:tensorflow:Assets written to: model_experiments/model_4_conv1d/assets\n",
            "INFO:tensorflow:Assets written to: model_experiments/model_4_conv1d/assets\n",
            "INFO:tensorflow:Assets written to: model_experiments/model_4_conv1d/assets\n",
            "INFO:tensorflow:Assets written to: model_experiments/model_4_conv1d/assets\n",
            "INFO:tensorflow:Assets written to: model_experiments/model_4_conv1d/assets\n",
            "INFO:tensorflow:Assets written to: model_experiments/model_4_conv1d/assets\n",
            "INFO:tensorflow:Assets written to: model_experiments/model_4_conv1d/assets\n",
            "INFO:tensorflow:Assets written to: model_experiments/model_4_conv1d/assets\n",
            "INFO:tensorflow:Assets written to: model_experiments/model_4_conv1d/assets\n",
            "INFO:tensorflow:Assets written to: model_experiments/model_4_conv1d/assets\n",
            "INFO:tensorflow:Assets written to: model_experiments/model_4_conv1d/assets\n",
            "INFO:tensorflow:Assets written to: model_experiments/model_4_conv1d/assets\n",
            "INFO:tensorflow:Assets written to: model_experiments/model_4_conv1d/assets\n",
            "INFO:tensorflow:Assets written to: model_experiments/model_4_conv1d/assets\n",
            "INFO:tensorflow:Assets written to: model_experiments/model_4_conv1d/assets\n",
            "INFO:tensorflow:Assets written to: model_experiments/model_4_conv1d/assets\n",
            "INFO:tensorflow:Assets written to: model_experiments/model_4_conv1d/assets\n",
            "INFO:tensorflow:Assets written to: model_experiments/model_4_conv1d/assets\n",
            "INFO:tensorflow:Assets written to: model_experiments/model_4_conv1d/assets\n",
            "INFO:tensorflow:Assets written to: model_experiments/model_4_conv1d/assets\n",
            "INFO:tensorflow:Assets written to: model_experiments/model_4_conv1d/assets\n",
            "INFO:tensorflow:Assets written to: model_experiments/model_4_conv1d/assets\n",
            "INFO:tensorflow:Assets written to: model_experiments/model_4_conv1d/assets\n",
            "INFO:tensorflow:Assets written to: model_experiments/model_4_conv1d/assets\n",
            "INFO:tensorflow:Assets written to: model_experiments/model_4_conv1d/assets\n"
          ],
          "name": "stdout"
        },
        {
          "output_type": "execute_result",
          "data": {
            "text/plain": [
              "<tensorflow.python.keras.callbacks.History at 0x7f86623433d0>"
            ]
          },
          "metadata": {
            "tags": []
          },
          "execution_count": 79
        }
      ]
    },
    {
      "cell_type": "code",
      "metadata": {
        "colab": {
          "base_uri": "https://localhost:8080/"
        },
        "id": "rI6EWgVXAgFI",
        "outputId": "965458ca-e144-4d7f-de4f-7d088292c309"
      },
      "source": [
        "model_4.summary()"
      ],
      "execution_count": null,
      "outputs": [
        {
          "output_type": "stream",
          "text": [
            "Model: \"model_4_conv1d\"\n",
            "_________________________________________________________________\n",
            "Layer (type)                 Output Shape              Param #   \n",
            "=================================================================\n",
            "lambda_1 (Lambda)            (None, 1, 7)              0         \n",
            "_________________________________________________________________\n",
            "conv1d (Conv1D)              (None, 1, 128)            4608      \n",
            "_________________________________________________________________\n",
            "dense_6 (Dense)              (None, 1, 1)              129       \n",
            "=================================================================\n",
            "Total params: 4,737\n",
            "Trainable params: 4,737\n",
            "Non-trainable params: 0\n",
            "_________________________________________________________________\n"
          ],
          "name": "stdout"
        }
      ]
    },
    {
      "cell_type": "code",
      "metadata": {
        "colab": {
          "base_uri": "https://localhost:8080/"
        },
        "id": "NaY2aYnr_Hy1",
        "outputId": "495bf691-cd2a-4249-92ed-e3b3c0377896"
      },
      "source": [
        "# Eval model\n",
        "\n",
        "model_4.evaluate(train_windows, train_labels)"
      ],
      "execution_count": null,
      "outputs": [
        {
          "output_type": "stream",
          "text": [
            "70/70 [==============================] - 0s 2ms/step - loss: 111.2363\n"
          ],
          "name": "stdout"
        },
        {
          "output_type": "execute_result",
          "data": {
            "text/plain": [
              "111.23627471923828"
            ]
          },
          "metadata": {
            "tags": []
          },
          "execution_count": 81
        }
      ]
    },
    {
      "cell_type": "code",
      "metadata": {
        "colab": {
          "base_uri": "https://localhost:8080/"
        },
        "id": "ZZuYojuaAinF",
        "outputId": "3fabc516-fea2-48b1-ae8b-7cf7282ea394"
      },
      "source": [
        "# Load best model\n",
        "\n",
        "model_4 = tf.keras.models.load_model(\"model_experiments/model_4_conv1d/\")\n",
        "model_4.evaluate(test_windows, test_labels)"
      ],
      "execution_count": null,
      "outputs": [
        {
          "output_type": "stream",
          "text": [
            "18/18 [==============================] - 0s 3ms/step - loss: 570.8283\n"
          ],
          "name": "stdout"
        },
        {
          "output_type": "execute_result",
          "data": {
            "text/plain": [
              "570.8283081054688"
            ]
          },
          "metadata": {
            "tags": []
          },
          "execution_count": 82
        }
      ]
    },
    {
      "cell_type": "code",
      "metadata": {
        "colab": {
          "base_uri": "https://localhost:8080/"
        },
        "id": "pNfkyoOIAv6s",
        "outputId": "723663a5-e40d-4135-e9a5-f287f04d3ed1"
      },
      "source": [
        "# Make preds\n",
        "\n",
        "model_4_preds = make_preds(model_4,\n",
        "                           input_data=test_windows)\n",
        "model_4_preds[:5]"
      ],
      "execution_count": null,
      "outputs": [
        {
          "output_type": "execute_result",
          "data": {
            "text/plain": [
              "<tf.Tensor: shape=(5,), dtype=float32, numpy=array([8851.464, 8754.47 , 8983.928, 8759.671, 8703.627], dtype=float32)>"
            ]
          },
          "metadata": {
            "tags": []
          },
          "execution_count": 83
        }
      ]
    },
    {
      "cell_type": "code",
      "metadata": {
        "colab": {
          "base_uri": "https://localhost:8080/"
        },
        "id": "UkOQTMCYA1qA",
        "outputId": "809cd6bc-7dab-48f9-a34f-93e1073e3307"
      },
      "source": [
        "# model_4 results\n",
        "\n",
        "model_4_results = evaluate_preds(y_true=tf.squeeze(test_labels),\n",
        "                                 y_pred=model_4_preds)\n",
        "model_4_results"
      ],
      "execution_count": null,
      "outputs": [
        {
          "output_type": "execute_result",
          "data": {
            "text/plain": [
              "{'mae': 570.8283,\n",
              " 'mape': 2.5593352,\n",
              " 'mase': 1.0027872,\n",
              " 'mse': 1176671.2,\n",
              " 'rmse': 1084.7448}"
            ]
          },
          "metadata": {
            "tags": []
          },
          "execution_count": 84
        }
      ]
    },
    {
      "cell_type": "code",
      "metadata": {
        "colab": {
          "base_uri": "https://localhost:8080/"
        },
        "id": "dAdQ5ek1CNfF",
        "outputId": "890d5887-f9cd-4c07-d604-7a0d59f3d62a"
      },
      "source": [
        "naive_results"
      ],
      "execution_count": null,
      "outputs": [
        {
          "output_type": "execute_result",
          "data": {
            "text/plain": [
              "{'mae': 567.9802,\n",
              " 'mape': 2.516525,\n",
              " 'mase': 0.99957,\n",
              " 'mse': 1147547.0,\n",
              " 'rmse': 1071.2362}"
            ]
          },
          "metadata": {
            "tags": []
          },
          "execution_count": 85
        }
      ]
    },
    {
      "cell_type": "code",
      "metadata": {
        "colab": {
          "base_uri": "https://localhost:8080/",
          "height": 606
        },
        "id": "_YoaL61FBnt1",
        "outputId": "0a1b33c0-cbc4-4aa0-cea8-7921b4ca7f43"
      },
      "source": [
        "# Plot the model\n",
        "\n",
        "offset=300\n",
        "plt.figure(figsize=(15,10))\n",
        "\n",
        "plot_time_series(timesteps=X_test[-len(test_windows):], values=test_labels[:, 0], start=offset, label=\"Test Data\")\n",
        "plot_time_series(timesteps=X_test[-len(test_windows):], values=model_4_preds, format=\"-\", start=offset, label=\"model_4_preds\")"
      ],
      "execution_count": null,
      "outputs": [
        {
          "output_type": "display_data",
          "data": {
            "image/png": "[encoded data removed]",
            "text/plain": [
              "<Figure size 1080x720 with 1 Axes>"
            ]
          },
          "metadata": {
            "tags": [],
            "needs_background": "light"
          }
        }
      ]
    },
    {
      "cell_type": "markdown",
      "metadata": {
        "id": "GOcrsAzrCLIE"
      },
      "source": [
        "## Model 5: RNN (LSTM) - Same data as Model 4"
      ]
    },
    {
      "cell_type": "code",
      "metadata": {
        "colab": {
          "base_uri": "https://localhost:8080/"
        },
        "id": "PG1Adl9_lyma",
        "outputId": "a1a2c89e-e025-4b2c-96de-f832c1649791"
      },
      "source": [
        "tf.random.set_seed(42)\n",
        "\n",
        "# Create model (functional API)\n",
        "inputs = layers.Input(shape=(WINDOW_SIZE))\n",
        "x = layers.Lambda(lambda x: tf.expand_dims(x, axis=1))(inputs)\n",
        "# x = layers.LSTM(128, return_sequences=True)(x) # Future Testing\n",
        "x = layers.LSTM(128, activation=\"relu\")(x)\n",
        "# x = layers.Dense(32, activation=\"relu\")(x) # Future testing\n",
        "\n",
        "output = layers.Dense(HORIZON)(x)\n",
        "\n",
        "model_5 = tf.keras.Model(inputs=inputs, outputs=output, name=\"model_5_LSTM\")\n",
        "\n",
        "# Compile model\n",
        "model_5.compile(loss=\"mae\",\n",
        "                optimizer=\"adam\")\n",
        "\n",
        "# Fit model\n",
        "model_5.fit(train_windows,\n",
        "            train_labels,\n",
        "            epochs=100,\n",
        "            verbose=1,\n",
        "            batch_size=128,\n",
        "            validation_data=(test_windows, test_labels),\n",
        "            callbacks=[create_model_checkpoint(model_name=model_5.name)])"
      ],
      "execution_count": null,
      "outputs": [
        {
          "output_type": "stream",
          "text": [
            "WARNING:tensorflow:Layer lstm will not use cuDNN kernels since it doesn't meet the criteria. It will use a generic GPU kernel as fallback when running on GPU.\n",
            "Epoch 1/100\n",
            "18/18 [==============================] - 1s 16ms/step - loss: 2323.6082 - val_loss: 9222.6523\n",
            "INFO:tensorflow:Assets written to: model_experiments/model_5_LSTM/assets\n",
            "Epoch 2/100\n",
            "18/18 [==============================] - 0s 6ms/step - loss: 695.4739 - val_loss: 1486.0555\n",
            "INFO:tensorflow:Assets written to: model_experiments/model_5_LSTM/assets\n",
            "Epoch 3/100\n",
            "18/18 [==============================] - 0s 6ms/step - loss: 237.3967 - val_loss: 1298.9084\n",
            "INFO:tensorflow:Assets written to: model_experiments/model_5_LSTM/assets\n",
            "Epoch 4/100\n",
            "18/18 [==============================] - 0s 6ms/step - loss: 181.9180 - val_loss: 966.6431\n",
            "INFO:tensorflow:Assets written to: model_experiments/model_5_LSTM/assets\n",
            "Epoch 5/100\n",
            "18/18 [==============================] - 0s 5ms/step - loss: 173.4022 - val_loss: 970.9295\n",
            "Epoch 6/100\n",
            "18/18 [==============================] - 0s 5ms/step - loss: 173.5414 - val_loss: 941.4746\n",
            "INFO:tensorflow:Assets written to: model_experiments/model_5_LSTM/assets\n",
            "Epoch 7/100\n",
            "18/18 [==============================] - 0s 6ms/step - loss: 170.3566 - val_loss: 898.5215\n",
            "INFO:tensorflow:Assets written to: model_experiments/model_5_LSTM/assets\n",
            "Epoch 8/100\n",
            "18/18 [==============================] - 0s 5ms/step - loss: 157.6371 - val_loss: 887.1069\n",
            "INFO:tensorflow:Assets written to: model_experiments/model_5_LSTM/assets\n",
            "Epoch 9/100\n",
            "18/18 [==============================] - 0s 6ms/step - loss: 159.0397 - val_loss: 941.6474\n",
            "Epoch 10/100\n",
            "18/18 [==============================] - 0s 6ms/step - loss: 166.8723 - val_loss: 932.8405\n",
            "Epoch 11/100\n",
            "18/18 [==============================] - 0s 6ms/step - loss: 166.4009 - val_loss: 912.6633\n",
            "Epoch 12/100\n",
            "18/18 [==============================] - 0s 6ms/step - loss: 169.3308 - val_loss: 911.7051\n",
            "Epoch 13/100\n",
            "18/18 [==============================] - 0s 5ms/step - loss: 163.4948 - val_loss: 912.0140\n",
            "Epoch 14/100\n",
            "18/18 [==============================] - 0s 6ms/step - loss: 161.2514 - val_loss: 954.6791\n",
            "Epoch 15/100\n",
            "18/18 [==============================] - 0s 5ms/step - loss: 160.0829 - val_loss: 929.0612\n",
            "Epoch 16/100\n",
            "18/18 [==============================] - 0s 5ms/step - loss: 150.1265 - val_loss: 837.1278\n",
            "INFO:tensorflow:Assets written to: model_experiments/model_5_LSTM/assets\n",
            "Epoch 17/100\n",
            "18/18 [==============================] - 0s 6ms/step - loss: 146.4163 - val_loss: 853.6611\n",
            "Epoch 18/100\n",
            "18/18 [==============================] - 0s 6ms/step - loss: 160.1423 - val_loss: 872.8708\n",
            "Epoch 19/100\n",
            "18/18 [==============================] - 0s 6ms/step - loss: 162.7851 - val_loss: 948.1257\n",
            "Epoch 20/100\n",
            "18/18 [==============================] - 0s 6ms/step - loss: 157.5906 - val_loss: 879.2180\n",
            "Epoch 21/100\n",
            "18/18 [==============================] - 0s 6ms/step - loss: 152.0355 - val_loss: 862.6780\n",
            "Epoch 22/100\n",
            "18/18 [==============================] - 0s 5ms/step - loss: 150.7321 - val_loss: 837.5231\n",
            "Epoch 23/100\n",
            "18/18 [==============================] - 0s 6ms/step - loss: 149.8567 - val_loss: 863.5777\n",
            "Epoch 24/100\n",
            "18/18 [==============================] - 0s 6ms/step - loss: 147.5116 - val_loss: 857.3817\n",
            "Epoch 25/100\n",
            "18/18 [==============================] - 0s 5ms/step - loss: 145.9860 - val_loss: 839.5698\n",
            "Epoch 26/100\n",
            "18/18 [==============================] - 0s 5ms/step - loss: 145.0650 - val_loss: 814.3984\n",
            "INFO:tensorflow:Assets written to: model_experiments/model_5_LSTM/assets\n",
            "Epoch 27/100\n",
            "18/18 [==============================] - 0s 6ms/step - loss: 143.5609 - val_loss: 803.5718\n",
            "INFO:tensorflow:Assets written to: model_experiments/model_5_LSTM/assets\n",
            "Epoch 28/100\n",
            "18/18 [==============================] - 0s 7ms/step - loss: 141.8002 - val_loss: 787.3266\n",
            "INFO:tensorflow:Assets written to: model_experiments/model_5_LSTM/assets\n",
            "Epoch 29/100\n",
            "18/18 [==============================] - 0s 6ms/step - loss: 140.9612 - val_loss: 802.5436\n",
            "Epoch 30/100\n",
            "18/18 [==============================] - 0s 7ms/step - loss: 141.4158 - val_loss: 792.5001\n",
            "Epoch 31/100\n",
            "18/18 [==============================] - 0s 6ms/step - loss: 138.1068 - val_loss: 769.0403\n",
            "INFO:tensorflow:Assets written to: model_experiments/model_5_LSTM/assets\n",
            "Epoch 32/100\n",
            "18/18 [==============================] - 0s 6ms/step - loss: 136.2222 - val_loss: 766.1755\n",
            "INFO:tensorflow:Assets written to: model_experiments/model_5_LSTM/assets\n",
            "Epoch 33/100\n",
            "18/18 [==============================] - 0s 6ms/step - loss: 136.6590 - val_loss: 799.5143\n",
            "Epoch 34/100\n",
            "18/18 [==============================] - 0s 6ms/step - loss: 136.5250 - val_loss: 751.2918\n",
            "INFO:tensorflow:Assets written to: model_experiments/model_5_LSTM/assets\n",
            "Epoch 35/100\n",
            "18/18 [==============================] - 0s 6ms/step - loss: 133.8809 - val_loss: 760.8373\n",
            "Epoch 36/100\n",
            "18/18 [==============================] - 0s 6ms/step - loss: 154.6745 - val_loss: 755.5355\n",
            "Epoch 37/100\n",
            "18/18 [==============================] - 0s 6ms/step - loss: 155.9530 - val_loss: 830.3299\n",
            "Epoch 38/100\n",
            "18/18 [==============================] - 0s 7ms/step - loss: 133.3048 - val_loss: 721.6965\n",
            "INFO:tensorflow:Assets written to: model_experiments/model_5_LSTM/assets\n",
            "Epoch 39/100\n",
            "18/18 [==============================] - 0s 6ms/step - loss: 130.8634 - val_loss: 716.1732\n",
            "INFO:tensorflow:Assets written to: model_experiments/model_5_LSTM/assets\n",
            "Epoch 40/100\n",
            "18/18 [==============================] - 0s 6ms/step - loss: 131.4340 - val_loss: 722.9932\n",
            "Epoch 41/100\n",
            "18/18 [==============================] - 0s 6ms/step - loss: 127.9265 - val_loss: 706.7326\n",
            "INFO:tensorflow:Assets written to: model_experiments/model_5_LSTM/assets\n",
            "Epoch 42/100\n",
            "18/18 [==============================] - 0s 6ms/step - loss: 126.9680 - val_loss: 711.0535\n",
            "Epoch 43/100\n",
            "18/18 [==============================] - 0s 6ms/step - loss: 125.9146 - val_loss: 699.5353\n",
            "INFO:tensorflow:Assets written to: model_experiments/model_5_LSTM/assets\n",
            "Epoch 44/100\n",
            "18/18 [==============================] - 0s 7ms/step - loss: 126.0430 - val_loss: 694.9197\n",
            "INFO:tensorflow:Assets written to: model_experiments/model_5_LSTM/assets\n",
            "Epoch 45/100\n",
            "18/18 [==============================] - 0s 7ms/step - loss: 124.3085 - val_loss: 688.0770\n",
            "INFO:tensorflow:Assets written to: model_experiments/model_5_LSTM/assets\n",
            "Epoch 46/100\n",
            "18/18 [==============================] - 0s 6ms/step - loss: 125.3113 - val_loss: 688.4482\n",
            "Epoch 47/100\n",
            "18/18 [==============================] - 0s 6ms/step - loss: 123.8175 - val_loss: 697.9518\n",
            "Epoch 48/100\n",
            "18/18 [==============================] - 0s 6ms/step - loss: 123.1645 - val_loss: 678.4640\n",
            "INFO:tensorflow:Assets written to: model_experiments/model_5_LSTM/assets\n",
            "Epoch 49/100\n",
            "18/18 [==============================] - 0s 6ms/step - loss: 122.5108 - val_loss: 691.3553\n",
            "Epoch 50/100\n",
            "18/18 [==============================] - 0s 6ms/step - loss: 124.5405 - val_loss: 711.7105\n",
            "Epoch 51/100\n",
            "18/18 [==============================] - 0s 7ms/step - loss: 125.1063 - val_loss: 767.2324\n",
            "Epoch 52/100\n",
            "18/18 [==============================] - 0s 6ms/step - loss: 124.1389 - val_loss: 667.4606\n",
            "INFO:tensorflow:Assets written to: model_experiments/model_5_LSTM/assets\n",
            "Epoch 53/100\n",
            "18/18 [==============================] - 0s 6ms/step - loss: 120.9903 - val_loss: 664.1364\n",
            "INFO:tensorflow:Assets written to: model_experiments/model_5_LSTM/assets\n",
            "Epoch 54/100\n",
            "18/18 [==============================] - 0s 6ms/step - loss: 120.4420 - val_loss: 668.9785\n",
            "Epoch 55/100\n",
            "18/18 [==============================] - 0s 5ms/step - loss: 120.3250 - val_loss: 657.9633\n",
            "INFO:tensorflow:Assets written to: model_experiments/model_5_LSTM/assets\n",
            "Epoch 56/100\n",
            "18/18 [==============================] - 0s 7ms/step - loss: 120.8701 - val_loss: 651.8960\n",
            "INFO:tensorflow:Assets written to: model_experiments/model_5_LSTM/assets\n",
            "Epoch 57/100\n",
            "18/18 [==============================] - 0s 6ms/step - loss: 123.8955 - val_loss: 676.6168\n",
            "Epoch 58/100\n",
            "18/18 [==============================] - 0s 5ms/step - loss: 119.2845 - val_loss: 647.5352\n",
            "INFO:tensorflow:Assets written to: model_experiments/model_5_LSTM/assets\n",
            "Epoch 59/100\n",
            "18/18 [==============================] - 0s 6ms/step - loss: 118.8512 - val_loss: 650.0970\n",
            "Epoch 60/100\n",
            "18/18 [==============================] - 0s 6ms/step - loss: 119.7555 - val_loss: 647.5707\n",
            "Epoch 61/100\n",
            "18/18 [==============================] - 0s 6ms/step - loss: 120.2817 - val_loss: 713.6547\n",
            "Epoch 62/100\n",
            "18/18 [==============================] - 0s 6ms/step - loss: 125.3769 - val_loss: 794.2551\n",
            "Epoch 63/100\n",
            "18/18 [==============================] - 0s 6ms/step - loss: 124.9135 - val_loss: 664.7371\n",
            "Epoch 64/100\n",
            "18/18 [==============================] - 0s 6ms/step - loss: 118.2151 - val_loss: 674.3691\n",
            "Epoch 65/100\n",
            "18/18 [==============================] - 0s 6ms/step - loss: 120.2009 - val_loss: 642.3017\n",
            "INFO:tensorflow:Assets written to: model_experiments/model_5_LSTM/assets\n",
            "Epoch 66/100\n",
            "18/18 [==============================] - 0s 6ms/step - loss: 118.4315 - val_loss: 641.6986\n",
            "INFO:tensorflow:Assets written to: model_experiments/model_5_LSTM/assets\n",
            "Epoch 67/100\n",
            "18/18 [==============================] - 0s 6ms/step - loss: 119.0471 - val_loss: 634.3810\n",
            "INFO:tensorflow:Assets written to: model_experiments/model_5_LSTM/assets\n",
            "Epoch 68/100\n",
            "18/18 [==============================] - 0s 7ms/step - loss: 116.6638 - val_loss: 636.2444\n",
            "Epoch 69/100\n",
            "18/18 [==============================] - 0s 7ms/step - loss: 120.7408 - val_loss: 634.6294\n",
            "Epoch 70/100\n",
            "18/18 [==============================] - 0s 6ms/step - loss: 115.4599 - val_loss: 626.6803\n",
            "INFO:tensorflow:Assets written to: model_experiments/model_5_LSTM/assets\n",
            "Epoch 71/100\n",
            "18/18 [==============================] - 0s 6ms/step - loss: 115.9339 - val_loss: 656.0881\n",
            "Epoch 72/100\n",
            "18/18 [==============================] - 0s 6ms/step - loss: 119.8699 - val_loss: 632.4766\n",
            "Epoch 73/100\n",
            "18/18 [==============================] - 0s 6ms/step - loss: 116.7878 - val_loss: 632.6957\n",
            "Epoch 74/100\n",
            "18/18 [==============================] - 0s 6ms/step - loss: 115.9789 - val_loss: 628.7859\n",
            "Epoch 75/100\n",
            "18/18 [==============================] - 0s 6ms/step - loss: 116.2214 - val_loss: 648.9557\n",
            "Epoch 76/100\n",
            "18/18 [==============================] - 0s 6ms/step - loss: 115.7740 - val_loss: 619.5612\n",
            "INFO:tensorflow:Assets written to: model_experiments/model_5_LSTM/assets\n",
            "Epoch 77/100\n",
            "18/18 [==============================] - 0s 7ms/step - loss: 116.0982 - val_loss: 676.6537\n",
            "Epoch 78/100\n",
            "18/18 [==============================] - 0s 6ms/step - loss: 117.8428 - val_loss: 638.4432\n",
            "Epoch 79/100\n",
            "18/18 [==============================] - 0s 6ms/step - loss: 114.5818 - val_loss: 615.1121\n",
            "INFO:tensorflow:Assets written to: model_experiments/model_5_LSTM/assets\n",
            "Epoch 80/100\n",
            "18/18 [==============================] - 0s 7ms/step - loss: 113.7328 - val_loss: 627.4662\n",
            "Epoch 81/100\n",
            "18/18 [==============================] - 0s 6ms/step - loss: 113.7289 - val_loss: 633.0526\n",
            "Epoch 82/100\n",
            "18/18 [==============================] - 0s 6ms/step - loss: 116.9833 - val_loss: 627.6213\n",
            "Epoch 83/100\n",
            "18/18 [==============================] - 0s 7ms/step - loss: 113.7818 - val_loss: 646.7040\n",
            "Epoch 84/100\n",
            "18/18 [==============================] - 0s 6ms/step - loss: 116.0995 - val_loss: 634.6423\n",
            "Epoch 85/100\n",
            "18/18 [==============================] - 0s 7ms/step - loss: 115.7939 - val_loss: 626.9783\n",
            "Epoch 86/100\n",
            "18/18 [==============================] - 0s 6ms/step - loss: 116.1706 - val_loss: 615.6919\n",
            "Epoch 87/100\n",
            "18/18 [==============================] - 0s 6ms/step - loss: 112.9052 - val_loss: 610.0921\n",
            "INFO:tensorflow:Assets written to: model_experiments/model_5_LSTM/assets\n",
            "Epoch 88/100\n",
            "18/18 [==============================] - 0s 6ms/step - loss: 112.7499 - val_loss: 607.0144\n",
            "INFO:tensorflow:Assets written to: model_experiments/model_5_LSTM/assets\n",
            "Epoch 89/100\n",
            "18/18 [==============================] - 0s 6ms/step - loss: 112.3718 - val_loss: 634.9384\n",
            "Epoch 90/100\n",
            "18/18 [==============================] - 0s 6ms/step - loss: 117.4136 - val_loss: 640.5466\n",
            "Epoch 91/100\n",
            "18/18 [==============================] - 0s 6ms/step - loss: 115.2679 - val_loss: 623.8540\n",
            "Epoch 92/100\n",
            "18/18 [==============================] - 0s 7ms/step - loss: 113.5989 - val_loss: 612.2767\n",
            "Epoch 93/100\n",
            "18/18 [==============================] - 0s 6ms/step - loss: 113.3057 - val_loss: 602.9005\n",
            "INFO:tensorflow:Assets written to: model_experiments/model_5_LSTM/assets\n",
            "Epoch 94/100\n",
            "18/18 [==============================] - 0s 7ms/step - loss: 111.8213 - val_loss: 606.6011\n",
            "Epoch 95/100\n",
            "18/18 [==============================] - 0s 7ms/step - loss: 111.7478 - val_loss: 600.6985\n",
            "INFO:tensorflow:Assets written to: model_experiments/model_5_LSTM/assets\n",
            "Epoch 96/100\n",
            "18/18 [==============================] - 0s 6ms/step - loss: 113.2104 - val_loss: 606.9620\n",
            "Epoch 97/100\n",
            "18/18 [==============================] - 0s 7ms/step - loss: 111.9565 - val_loss: 614.7238\n",
            "Epoch 98/100\n",
            "18/18 [==============================] - 0s 6ms/step - loss: 112.5009 - val_loss: 601.0434\n",
            "Epoch 99/100\n",
            "18/18 [==============================] - 0s 6ms/step - loss: 111.3801 - val_loss: 598.6812\n",
            "INFO:tensorflow:Assets written to: model_experiments/model_5_LSTM/assets\n",
            "Epoch 100/100\n",
            "18/18 [==============================] - 0s 6ms/step - loss: 112.7539 - val_loss: 601.1650\n"
          ],
          "name": "stdout"
        },
        {
          "output_type": "execute_result",
          "data": {
            "text/plain": [
              "<tensorflow.python.keras.callbacks.History at 0x7f867410f410>"
            ]
          },
          "metadata": {
            "tags": []
          },
          "execution_count": 87
        }
      ]
    },
    {
      "cell_type": "code",
      "metadata": {
        "colab": {
          "base_uri": "https://localhost:8080/"
        },
        "id": "2owtPG14n6XP",
        "outputId": "cda61b2a-5926-4a0d-d270-a1887aee7eed"
      },
      "source": [
        "# Load best model_5\n",
        "\n",
        "model_5 = tf.keras.models.load_model(\"model_experiments/model_5_LSTM/\")\n",
        "model_5.evaluate(test_windows, test_labels)"
      ],
      "execution_count": null,
      "outputs": [
        {
          "output_type": "stream",
          "text": [
            "WARNING:tensorflow:Layer lstm will not use cuDNN kernels since it doesn't meet the criteria. It will use a generic GPU kernel as fallback when running on GPU.\n",
            "18/18 [==============================] - 0s 2ms/step - loss: 598.6813\n"
          ],
          "name": "stdout"
        },
        {
          "output_type": "execute_result",
          "data": {
            "text/plain": [
              "598.6813354492188"
            ]
          },
          "metadata": {
            "tags": []
          },
          "execution_count": 88
        }
      ]
    },
    {
      "cell_type": "code",
      "metadata": {
        "colab": {
          "base_uri": "https://localhost:8080/"
        },
        "id": "ON1c0SWcpbZg",
        "outputId": "5ebf6e30-8df7-4d2b-e96e-672aa29e319d"
      },
      "source": [
        "# Make preds\n",
        "\n",
        "model_5_preds = make_preds(model_5, test_windows)\n",
        "model_5_preds[:3]"
      ],
      "execution_count": null,
      "outputs": [
        {
          "output_type": "execute_result",
          "data": {
            "text/plain": [
              "<tf.Tensor: shape=(3,), dtype=float32, numpy=array([8990.325, 8818.501, 8999.41 ], dtype=float32)>"
            ]
          },
          "metadata": {
            "tags": []
          },
          "execution_count": 89
        }
      ]
    },
    {
      "cell_type": "code",
      "metadata": {
        "colab": {
          "base_uri": "https://localhost:8080/"
        },
        "id": "DMWsGbQ5plv1",
        "outputId": "e9f4e2a7-a419-47f3-ac67-8bd14f00aa7b"
      },
      "source": [
        "# Eval model 5\n",
        "\n",
        "model_5_results = evaluate_preds(y_true=tf.squeeze(test_labels),\n",
        "                                 y_pred=model_5_preds)\n",
        "model_5_results"
      ],
      "execution_count": null,
      "outputs": [
        {
          "output_type": "execute_result",
          "data": {
            "text/plain": [
              "{'mae': 598.6813,\n",
              " 'mape': 2.6928957,\n",
              " 'mase': 1.0517172,\n",
              " 'mse': 1280250.8,\n",
              " 'rmse': 1131.4817}"
            ]
          },
          "metadata": {
            "tags": []
          },
          "execution_count": 90
        }
      ]
    },
    {
      "cell_type": "code",
      "metadata": {
        "colab": {
          "base_uri": "https://localhost:8080/"
        },
        "id": "egjQyTKQqUVn",
        "outputId": "53736a97-27e9-420f-fb4f-45356644df1e"
      },
      "source": [
        "naive_results, model_4_results"
      ],
      "execution_count": null,
      "outputs": [
        {
          "output_type": "execute_result",
          "data": {
            "text/plain": [
              "({'mae': 567.9802,\n",
              "  'mape': 2.516525,\n",
              "  'mase': 0.99957,\n",
              "  'mse': 1147547.0,\n",
              "  'rmse': 1071.2362},\n",
              " {'mae': 570.8283,\n",
              "  'mape': 2.5593352,\n",
              "  'mase': 1.0027872,\n",
              "  'mse': 1176671.2,\n",
              "  'rmse': 1084.7448})"
            ]
          },
          "metadata": {
            "tags": []
          },
          "execution_count": 91
        }
      ]
    },
    {
      "cell_type": "code",
      "metadata": {
        "colab": {
          "base_uri": "https://localhost:8080/",
          "height": 606
        },
        "id": "fKJFKsdapvD0",
        "outputId": "45db8ac2-ccbd-4597-e636-a4bc975ab87f"
      },
      "source": [
        "# Plot the model\n",
        "\n",
        "offset=300\n",
        "plt.figure(figsize=(15,10))\n",
        "#\n",
        "plot_time_series(timesteps=X_test[-len(test_windows):], values=test_labels[:, 0], start=offset, label=\"Test Data\")\n",
        "plot_time_series(timesteps=X_test[-len(test_windows):], values=model_5_preds, format=\"-\", start=offset, label=\"model_5_preds\")"
      ],
      "execution_count": null,
      "outputs": [
        {
          "output_type": "display_data",
          "data": {
            "image/png": "[encoded data removed]",
            "text/plain": [
              "<Figure size 1080x720 with 1 Axes>"
            ]
          },
          "metadata": {
            "tags": [],
            "needs_background": "light"
          }
        }
      ]
    },
    {
      "cell_type": "markdown",
      "metadata": {
        "id": "hbZ15kAEqYZA"
      },
      "source": [
        "### Modeling tip 🔑\n",
        "\n",
        "Nueral Network are powerfl algorithms, and can be used for almost anything. Doesn't mean that they'll perform or have usable results in every application/dataset"
      ]
    },
    {
      "cell_type": "markdown",
      "metadata": {
        "id": "aKDlVTm_qSZj"
      },
      "source": [
        "## Making a multivariate dataset\n",
        "\n",
        "What features can we use?\n",
        "\n",
        "* Bitcoin halving events"
      ]
    },
    {
      "cell_type": "code",
      "metadata": {
        "colab": {
          "base_uri": "https://localhost:8080/",
          "height": 235
        },
        "id": "_kHVijkIq_G2",
        "outputId": "15cde68b-be07-46c4-8081-a72f669f36cd"
      },
      "source": [
        "# Multivariate time series\n",
        "\n",
        "bitcoin_prices.head()"
      ],
      "execution_count": null,
      "outputs": [
        {
          "output_type": "execute_result",
          "data": {
            "text/html": [
              "<div>\n",
              "<style scoped>\n",
              "    .dataframe tbody tr th:only-of-type {\n",
              "        vertical-align: middle;\n",
              "    }\n",
              "\n",
              "    .dataframe tbody tr th {\n",
              "        vertical-align: top;\n",
              "    }\n",
              "\n",
              "    .dataframe thead th {\n",
              "        text-align: right;\n",
              "    }\n",
              "</style>\n",
              "<table border=\"1\" class=\"dataframe\">\n",
              "  <thead>\n",
              "    <tr style=\"text-align: right;\">\n",
              "      <th></th>\n",
              "      <th>Price</th>\n",
              "    </tr>\n",
              "    <tr>\n",
              "      <th>Date</th>\n",
              "      <th></th>\n",
              "    </tr>\n",
              "  </thead>\n",
              "  <tbody>\n",
              "    <tr>\n",
              "      <th>2013-10-01</th>\n",
              "      <td>123.65499</td>\n",
              "    </tr>\n",
              "    <tr>\n",
              "      <th>2013-10-02</th>\n",
              "      <td>125.45500</td>\n",
              "    </tr>\n",
              "    <tr>\n",
              "      <th>2013-10-03</th>\n",
              "      <td>108.58483</td>\n",
              "    </tr>\n",
              "    <tr>\n",
              "      <th>2013-10-04</th>\n",
              "      <td>118.67466</td>\n",
              "    </tr>\n",
              "    <tr>\n",
              "      <th>2013-10-05</th>\n",
              "      <td>121.33866</td>\n",
              "    </tr>\n",
              "  </tbody>\n",
              "</table>\n",
              "</div>"
            ],
            "text/plain": [
              "                Price\n",
              "Date                 \n",
              "2013-10-01  123.65499\n",
              "2013-10-02  125.45500\n",
              "2013-10-03  108.58483\n",
              "2013-10-04  118.67466\n",
              "2013-10-05  121.33866"
            ]
          },
          "metadata": {
            "tags": []
          },
          "execution_count": 93
        }
      ]
    },
    {
      "cell_type": "code",
      "metadata": {
        "colab": {
          "base_uri": "https://localhost:8080/",
          "height": 235
        },
        "id": "FF8JxVGquGkU",
        "outputId": "9fae1d91-6bed-4000-b850-95fa185d75df"
      },
      "source": [
        "bitcoin_prices.tail()"
      ],
      "execution_count": null,
      "outputs": [
        {
          "output_type": "execute_result",
          "data": {
            "text/html": [
              "<div>\n",
              "<style scoped>\n",
              "    .dataframe tbody tr th:only-of-type {\n",
              "        vertical-align: middle;\n",
              "    }\n",
              "\n",
              "    .dataframe tbody tr th {\n",
              "        vertical-align: top;\n",
              "    }\n",
              "\n",
              "    .dataframe thead th {\n",
              "        text-align: right;\n",
              "    }\n",
              "</style>\n",
              "<table border=\"1\" class=\"dataframe\">\n",
              "  <thead>\n",
              "    <tr style=\"text-align: right;\">\n",
              "      <th></th>\n",
              "      <th>Price</th>\n",
              "    </tr>\n",
              "    <tr>\n",
              "      <th>Date</th>\n",
              "      <th></th>\n",
              "    </tr>\n",
              "  </thead>\n",
              "  <tbody>\n",
              "    <tr>\n",
              "      <th>2021-05-14</th>\n",
              "      <td>49764.132082</td>\n",
              "    </tr>\n",
              "    <tr>\n",
              "      <th>2021-05-15</th>\n",
              "      <td>50032.693137</td>\n",
              "    </tr>\n",
              "    <tr>\n",
              "      <th>2021-05-16</th>\n",
              "      <td>47885.625255</td>\n",
              "    </tr>\n",
              "    <tr>\n",
              "      <th>2021-05-17</th>\n",
              "      <td>45604.615754</td>\n",
              "    </tr>\n",
              "    <tr>\n",
              "      <th>2021-05-18</th>\n",
              "      <td>43144.471291</td>\n",
              "    </tr>\n",
              "  </tbody>\n",
              "</table>\n",
              "</div>"
            ],
            "text/plain": [
              "                   Price\n",
              "Date                    \n",
              "2021-05-14  49764.132082\n",
              "2021-05-15  50032.693137\n",
              "2021-05-16  47885.625255\n",
              "2021-05-17  45604.615754\n",
              "2021-05-18  43144.471291"
            ]
          },
          "metadata": {
            "tags": []
          },
          "execution_count": 94
        }
      ]
    },
    {
      "cell_type": "code",
      "metadata": {
        "id": "BNhn2Iunslh4"
      },
      "source": [
        "# Halving values\n",
        "block_reward_1 = 50 # January 3, 2009 - block reward isnt in our dataset\n",
        "block_reward_2 = 25 # November 28, 2012\n",
        "block_reward_3 = 12.5 # July 9, 2016\n",
        "block_reward_4 = 6.25 # May 18, 2020\n",
        "\n",
        "\n",
        "# Block reward dates\n",
        "block_reward_2_datetime = np.datetime64(\"2012-11-28\") # Year, Month, Day\n",
        "block_reward_3_datetime = np.datetime64(\"2016-07-09\")\n",
        "block_reward_4_datetime = np.datetime64(\"2020-05-18\")\n"
      ],
      "execution_count": null,
      "outputs": []
    },
    {
      "cell_type": "code",
      "metadata": {
        "colab": {
          "base_uri": "https://localhost:8080/"
        },
        "id": "Yj5DoBwit0qu",
        "outputId": "9b5205c7-a1e5-4868-9d67-d22f32a02df4"
      },
      "source": [
        "# Data ranges for specific block_reward values\n",
        "\n",
        "block_reward_2_days = (block_reward_3_datetime - bitcoin_prices.index[0]).days\n",
        "block_reward_3_days = (block_reward_4_datetime - bitcoin_prices.index[0]).days\n",
        "block_reward_2_days, block_reward_3_days"
      ],
      "execution_count": null,
      "outputs": [
        {
          "output_type": "execute_result",
          "data": {
            "text/plain": [
              "(1012, 2421)"
            ]
          },
          "metadata": {
            "tags": []
          },
          "execution_count": 96
        }
      ]
    },
    {
      "cell_type": "code",
      "metadata": {
        "id": "tMVVuYT3t42R"
      },
      "source": [
        "# Add in block reward column\n",
        "\n",
        "bitcoin_prices_block = bitcoin_prices.copy()\n",
        "bitcoin_prices_block[\"block_reward\"] = None\n",
        "\n",
        "# Add block_reward feature to dataframe\n",
        "bitcoin_prices_block.iloc[:block_reward_2_days, -1] = block_reward_2\n",
        "bitcoin_prices_block.iloc[block_reward_2_days:block_reward_3_days, -1] = block_reward_3\n",
        "bitcoin_prices_block.iloc[block_reward_3_days:, -1] = block_reward_4\n",
        "\n"
      ],
      "execution_count": null,
      "outputs": []
    },
    {
      "cell_type": "code",
      "metadata": {
        "colab": {
          "base_uri": "https://localhost:8080/"
        },
        "id": "X9iCPkhJx8fP",
        "outputId": "d93bc889-3c26-43fc-af59-9b31e4a329cc"
      },
      "source": [
        "bitcoin_prices_block.head(), bitcoin_prices_block.tail()"
      ],
      "execution_count": null,
      "outputs": [
        {
          "output_type": "execute_result",
          "data": {
            "text/plain": [
              "(                Price block_reward\n",
              " Date                              \n",
              " 2013-10-01  123.65499           25\n",
              " 2013-10-02  125.45500           25\n",
              " 2013-10-03  108.58483           25\n",
              " 2013-10-04  118.67466           25\n",
              " 2013-10-05  121.33866           25,                    Price block_reward\n",
              " Date                                 \n",
              " 2021-05-14  49764.132082         6.25\n",
              " 2021-05-15  50032.693137         6.25\n",
              " 2021-05-16  47885.625255         6.25\n",
              " 2021-05-17  45604.615754         6.25\n",
              " 2021-05-18  43144.471291         6.25)"
            ]
          },
          "metadata": {
            "tags": []
          },
          "execution_count": 98
        }
      ]
    },
    {
      "cell_type": "code",
      "metadata": {
        "colab": {
          "base_uri": "https://localhost:8080/",
          "height": 450
        },
        "id": "IUA60pbcyOrk",
        "outputId": "1ee3636d-bf40-4138-e8ef-d34b30d4ef66"
      },
      "source": [
        "bitcoin_prices_block[:1500]"
      ],
      "execution_count": null,
      "outputs": [
        {
          "output_type": "execute_result",
          "data": {
            "text/html": [
              "<div>\n",
              "<style scoped>\n",
              "    .dataframe tbody tr th:only-of-type {\n",
              "        vertical-align: middle;\n",
              "    }\n",
              "\n",
              "    .dataframe tbody tr th {\n",
              "        vertical-align: top;\n",
              "    }\n",
              "\n",
              "    .dataframe thead th {\n",
              "        text-align: right;\n",
              "    }\n",
              "</style>\n",
              "<table border=\"1\" class=\"dataframe\">\n",
              "  <thead>\n",
              "    <tr style=\"text-align: right;\">\n",
              "      <th></th>\n",
              "      <th>Price</th>\n",
              "      <th>block_reward</th>\n",
              "    </tr>\n",
              "    <tr>\n",
              "      <th>Date</th>\n",
              "      <th></th>\n",
              "      <th></th>\n",
              "    </tr>\n",
              "  </thead>\n",
              "  <tbody>\n",
              "    <tr>\n",
              "      <th>2013-10-01</th>\n",
              "      <td>123.65499</td>\n",
              "      <td>25</td>\n",
              "    </tr>\n",
              "    <tr>\n",
              "      <th>2013-10-02</th>\n",
              "      <td>125.45500</td>\n",
              "      <td>25</td>\n",
              "    </tr>\n",
              "    <tr>\n",
              "      <th>2013-10-03</th>\n",
              "      <td>108.58483</td>\n",
              "      <td>25</td>\n",
              "    </tr>\n",
              "    <tr>\n",
              "      <th>2013-10-04</th>\n",
              "      <td>118.67466</td>\n",
              "      <td>25</td>\n",
              "    </tr>\n",
              "    <tr>\n",
              "      <th>2013-10-05</th>\n",
              "      <td>121.33866</td>\n",
              "      <td>25</td>\n",
              "    </tr>\n",
              "    <tr>\n",
              "      <th>...</th>\n",
              "      <td>...</td>\n",
              "      <td>...</td>\n",
              "    </tr>\n",
              "    <tr>\n",
              "      <th>2017-11-04</th>\n",
              "      <td>7210.46875</td>\n",
              "      <td>12.5</td>\n",
              "    </tr>\n",
              "    <tr>\n",
              "      <th>2017-11-05</th>\n",
              "      <td>7376.74250</td>\n",
              "      <td>12.5</td>\n",
              "    </tr>\n",
              "    <tr>\n",
              "      <th>2017-11-06</th>\n",
              "      <td>7231.93000</td>\n",
              "      <td>12.5</td>\n",
              "    </tr>\n",
              "    <tr>\n",
              "      <th>2017-11-07</th>\n",
              "      <td>7123.89375</td>\n",
              "      <td>12.5</td>\n",
              "    </tr>\n",
              "    <tr>\n",
              "      <th>2017-11-08</th>\n",
              "      <td>7356.50625</td>\n",
              "      <td>12.5</td>\n",
              "    </tr>\n",
              "  </tbody>\n",
              "</table>\n",
              "<p>1500 rows × 2 columns</p>\n",
              "</div>"
            ],
            "text/plain": [
              "                 Price block_reward\n",
              "Date                               \n",
              "2013-10-01   123.65499           25\n",
              "2013-10-02   125.45500           25\n",
              "2013-10-03   108.58483           25\n",
              "2013-10-04   118.67466           25\n",
              "2013-10-05   121.33866           25\n",
              "...                ...          ...\n",
              "2017-11-04  7210.46875         12.5\n",
              "2017-11-05  7376.74250         12.5\n",
              "2017-11-06  7231.93000         12.5\n",
              "2017-11-07  7123.89375         12.5\n",
              "2017-11-08  7356.50625         12.5\n",
              "\n",
              "[1500 rows x 2 columns]"
            ]
          },
          "metadata": {
            "tags": []
          },
          "execution_count": 99
        }
      ]
    },
    {
      "cell_type": "code",
      "metadata": {
        "colab": {
          "base_uri": "https://localhost:8080/",
          "height": 606
        },
        "id": "oXSqV_joy7eD",
        "outputId": "d220964d-08fc-4c24-da66-692d4d715f28"
      },
      "source": [
        "# Plot block_reward vs price\n",
        "\n",
        "from sklearn.preprocessing import minmax_scale\n",
        "\n",
        "scaled_price_block_df = pd.DataFrame(minmax_scale(bitcoin_prices_block[[\"Price\", \"block_reward\"]]),\n",
        "                                                                       columns=bitcoin_prices_block.columns,\n",
        "                                                                       index=bitcoin_prices_block.index)\n",
        "\n",
        "scaled_price_block_df.plot(figsize=(15,10));"
      ],
      "execution_count": null,
      "outputs": [
        {
          "output_type": "display_data",
          "data": {
            "image/png": "[encoded data removed]",
            "text/plain": [
              "<Figure size 1080x720 with 1 Axes>"
            ]
          },
          "metadata": {
            "tags": [],
            "needs_background": "light"
          }
        }
      ]
    },
    {
      "cell_type": "markdown",
      "metadata": {
        "id": "-ZhqNaQRy-mJ"
      },
      "source": [
        "## Making windowed dataset with pandas (Multivariate)\n",
        "\n"
      ]
    },
    {
      "cell_type": "code",
      "metadata": {
        "id": "vLzV0YMr0osN"
      },
      "source": [
        "#Dataset hyperparameters\n",
        "HORIZON = 1\n",
        "WINDOW_SIZE = 7"
      ],
      "execution_count": null,
      "outputs": []
    },
    {
      "cell_type": "code",
      "metadata": {
        "colab": {
          "base_uri": "https://localhost:8080/",
          "height": 390
        },
        "id": "7aLHt4uN2b_J",
        "outputId": "3dba4107-e0b7-4a2b-b5b0-ab8e230a9522"
      },
      "source": [
        "# Make a copy of the historical data\n",
        "\n",
        "bitcoin_prices_windowed = bitcoin_prices_block.copy()\n",
        "\n",
        "# Add windowed columns\n",
        "\n",
        "for i in range(WINDOW_SIZE):\n",
        "  bitcoin_prices_windowed[f\"Price={i+1}\"] = bitcoin_prices_windowed[\"Price\"].shift(periods=i+1)\n",
        "bitcoin_prices_windowed.head(10)"
      ],
      "execution_count": null,
      "outputs": [
        {
          "output_type": "execute_result",
          "data": {
            "text/html": [
              "<div>\n",
              "<style scoped>\n",
              "    .dataframe tbody tr th:only-of-type {\n",
              "        vertical-align: middle;\n",
              "    }\n",
              "\n",
              "    .dataframe tbody tr th {\n",
              "        vertical-align: top;\n",
              "    }\n",
              "\n",
              "    .dataframe thead th {\n",
              "        text-align: right;\n",
              "    }\n",
              "</style>\n",
              "<table border=\"1\" class=\"dataframe\">\n",
              "  <thead>\n",
              "    <tr style=\"text-align: right;\">\n",
              "      <th></th>\n",
              "      <th>Price</th>\n",
              "      <th>block_reward</th>\n",
              "      <th>Price=1</th>\n",
              "      <th>Price=2</th>\n",
              "      <th>Price=3</th>\n",
              "      <th>Price=4</th>\n",
              "      <th>Price=5</th>\n",
              "      <th>Price=6</th>\n",
              "      <th>Price=7</th>\n",
              "    </tr>\n",
              "    <tr>\n",
              "      <th>Date</th>\n",
              "      <th></th>\n",
              "      <th></th>\n",
              "      <th></th>\n",
              "      <th></th>\n",
              "      <th></th>\n",
              "      <th></th>\n",
              "      <th></th>\n",
              "      <th></th>\n",
              "      <th></th>\n",
              "    </tr>\n",
              "  </thead>\n",
              "  <tbody>\n",
              "    <tr>\n",
              "      <th>2013-10-01</th>\n",
              "      <td>123.65499</td>\n",
              "      <td>25</td>\n",
              "      <td>NaN</td>\n",
              "      <td>NaN</td>\n",
              "      <td>NaN</td>\n",
              "      <td>NaN</td>\n",
              "      <td>NaN</td>\n",
              "      <td>NaN</td>\n",
              "      <td>NaN</td>\n",
              "    </tr>\n",
              "    <tr>\n",
              "      <th>2013-10-02</th>\n",
              "      <td>125.45500</td>\n",
              "      <td>25</td>\n",
              "      <td>123.65499</td>\n",
              "      <td>NaN</td>\n",
              "      <td>NaN</td>\n",
              "      <td>NaN</td>\n",
              "      <td>NaN</td>\n",
              "      <td>NaN</td>\n",
              "      <td>NaN</td>\n",
              "    </tr>\n",
              "    <tr>\n",
              "      <th>2013-10-03</th>\n",
              "      <td>108.58483</td>\n",
              "      <td>25</td>\n",
              "      <td>125.45500</td>\n",
              "      <td>123.65499</td>\n",
              "      <td>NaN</td>\n",
              "      <td>NaN</td>\n",
              "      <td>NaN</td>\n",
              "      <td>NaN</td>\n",
              "      <td>NaN</td>\n",
              "    </tr>\n",
              "    <tr>\n",
              "      <th>2013-10-04</th>\n",
              "      <td>118.67466</td>\n",
              "      <td>25</td>\n",
              "      <td>108.58483</td>\n",
              "      <td>125.45500</td>\n",
              "      <td>123.65499</td>\n",
              "      <td>NaN</td>\n",
              "      <td>NaN</td>\n",
              "      <td>NaN</td>\n",
              "      <td>NaN</td>\n",
              "    </tr>\n",
              "    <tr>\n",
              "      <th>2013-10-05</th>\n",
              "      <td>121.33866</td>\n",
              "      <td>25</td>\n",
              "      <td>118.67466</td>\n",
              "      <td>108.58483</td>\n",
              "      <td>125.45500</td>\n",
              "      <td>123.65499</td>\n",
              "      <td>NaN</td>\n",
              "      <td>NaN</td>\n",
              "      <td>NaN</td>\n",
              "    </tr>\n",
              "    <tr>\n",
              "      <th>2013-10-06</th>\n",
              "      <td>120.65533</td>\n",
              "      <td>25</td>\n",
              "      <td>121.33866</td>\n",
              "      <td>118.67466</td>\n",
              "      <td>108.58483</td>\n",
              "      <td>125.45500</td>\n",
              "      <td>123.65499</td>\n",
              "      <td>NaN</td>\n",
              "      <td>NaN</td>\n",
              "    </tr>\n",
              "    <tr>\n",
              "      <th>2013-10-07</th>\n",
              "      <td>121.79500</td>\n",
              "      <td>25</td>\n",
              "      <td>120.65533</td>\n",
              "      <td>121.33866</td>\n",
              "      <td>118.67466</td>\n",
              "      <td>108.58483</td>\n",
              "      <td>125.45500</td>\n",
              "      <td>123.65499</td>\n",
              "      <td>NaN</td>\n",
              "    </tr>\n",
              "    <tr>\n",
              "      <th>2013-10-08</th>\n",
              "      <td>123.03300</td>\n",
              "      <td>25</td>\n",
              "      <td>121.79500</td>\n",
              "      <td>120.65533</td>\n",
              "      <td>121.33866</td>\n",
              "      <td>118.67466</td>\n",
              "      <td>108.58483</td>\n",
              "      <td>125.45500</td>\n",
              "      <td>123.65499</td>\n",
              "    </tr>\n",
              "    <tr>\n",
              "      <th>2013-10-09</th>\n",
              "      <td>124.04900</td>\n",
              "      <td>25</td>\n",
              "      <td>123.03300</td>\n",
              "      <td>121.79500</td>\n",
              "      <td>120.65533</td>\n",
              "      <td>121.33866</td>\n",
              "      <td>118.67466</td>\n",
              "      <td>108.58483</td>\n",
              "      <td>125.45500</td>\n",
              "    </tr>\n",
              "    <tr>\n",
              "      <th>2013-10-10</th>\n",
              "      <td>125.96116</td>\n",
              "      <td>25</td>\n",
              "      <td>124.04900</td>\n",
              "      <td>123.03300</td>\n",
              "      <td>121.79500</td>\n",
              "      <td>120.65533</td>\n",
              "      <td>121.33866</td>\n",
              "      <td>118.67466</td>\n",
              "      <td>108.58483</td>\n",
              "    </tr>\n",
              "  </tbody>\n",
              "</table>\n",
              "</div>"
            ],
            "text/plain": [
              "                Price block_reward    Price=1  ...    Price=5    Price=6    Price=7\n",
              "Date                                           ...                                 \n",
              "2013-10-01  123.65499           25        NaN  ...        NaN        NaN        NaN\n",
              "2013-10-02  125.45500           25  123.65499  ...        NaN        NaN        NaN\n",
              "2013-10-03  108.58483           25  125.45500  ...        NaN        NaN        NaN\n",
              "2013-10-04  118.67466           25  108.58483  ...        NaN        NaN        NaN\n",
              "2013-10-05  121.33866           25  118.67466  ...        NaN        NaN        NaN\n",
              "2013-10-06  120.65533           25  121.33866  ...  123.65499        NaN        NaN\n",
              "2013-10-07  121.79500           25  120.65533  ...  125.45500  123.65499        NaN\n",
              "2013-10-08  123.03300           25  121.79500  ...  108.58483  125.45500  123.65499\n",
              "2013-10-09  124.04900           25  123.03300  ...  118.67466  108.58483  125.45500\n",
              "2013-10-10  125.96116           25  124.04900  ...  121.33866  118.67466  108.58483\n",
              "\n",
              "[10 rows x 9 columns]"
            ]
          },
          "metadata": {
            "tags": []
          },
          "execution_count": 102
        }
      ]
    },
    {
      "cell_type": "code",
      "metadata": {
        "colab": {
          "base_uri": "https://localhost:8080/",
          "height": 235
        },
        "id": "Vj9U5lLS3q-E",
        "outputId": "016f71f6-c26a-4bb9-eeb5-d52353831dc2"
      },
      "source": [
        " # Create X (windows) and y (horizon) features\n",
        "\n",
        " X = bitcoin_prices_windowed.dropna().drop(\"Price\", axis=1).astype(np.float32)\n",
        " y = bitcoin_prices_windowed.dropna()[\"Price\"].astype(np.float32)\n",
        " X.head()"
      ],
      "execution_count": null,
      "outputs": [
        {
          "output_type": "execute_result",
          "data": {
            "text/html": [
              "<div>\n",
              "<style scoped>\n",
              "    .dataframe tbody tr th:only-of-type {\n",
              "        vertical-align: middle;\n",
              "    }\n",
              "\n",
              "    .dataframe tbody tr th {\n",
              "        vertical-align: top;\n",
              "    }\n",
              "\n",
              "    .dataframe thead th {\n",
              "        text-align: right;\n",
              "    }\n",
              "</style>\n",
              "<table border=\"1\" class=\"dataframe\">\n",
              "  <thead>\n",
              "    <tr style=\"text-align: right;\">\n",
              "      <th></th>\n",
              "      <th>block_reward</th>\n",
              "      <th>Price=1</th>\n",
              "      <th>Price=2</th>\n",
              "      <th>Price=3</th>\n",
              "      <th>Price=4</th>\n",
              "      <th>Price=5</th>\n",
              "      <th>Price=6</th>\n",
              "      <th>Price=7</th>\n",
              "    </tr>\n",
              "    <tr>\n",
              "      <th>Date</th>\n",
              "      <th></th>\n",
              "      <th></th>\n",
              "      <th></th>\n",
              "      <th></th>\n",
              "      <th></th>\n",
              "      <th></th>\n",
              "      <th></th>\n",
              "      <th></th>\n",
              "    </tr>\n",
              "  </thead>\n",
              "  <tbody>\n",
              "    <tr>\n",
              "      <th>2013-10-08</th>\n",
              "      <td>25.0</td>\n",
              "      <td>121.794998</td>\n",
              "      <td>120.655327</td>\n",
              "      <td>121.338661</td>\n",
              "      <td>118.674660</td>\n",
              "      <td>108.584831</td>\n",
              "      <td>125.455002</td>\n",
              "      <td>123.654991</td>\n",
              "    </tr>\n",
              "    <tr>\n",
              "      <th>2013-10-09</th>\n",
              "      <td>25.0</td>\n",
              "      <td>123.032997</td>\n",
              "      <td>121.794998</td>\n",
              "      <td>120.655327</td>\n",
              "      <td>121.338661</td>\n",
              "      <td>118.674660</td>\n",
              "      <td>108.584831</td>\n",
              "      <td>125.455002</td>\n",
              "    </tr>\n",
              "    <tr>\n",
              "      <th>2013-10-10</th>\n",
              "      <td>25.0</td>\n",
              "      <td>124.049004</td>\n",
              "      <td>123.032997</td>\n",
              "      <td>121.794998</td>\n",
              "      <td>120.655327</td>\n",
              "      <td>121.338661</td>\n",
              "      <td>118.674660</td>\n",
              "      <td>108.584831</td>\n",
              "    </tr>\n",
              "    <tr>\n",
              "      <th>2013-10-11</th>\n",
              "      <td>25.0</td>\n",
              "      <td>125.961159</td>\n",
              "      <td>124.049004</td>\n",
              "      <td>123.032997</td>\n",
              "      <td>121.794998</td>\n",
              "      <td>120.655327</td>\n",
              "      <td>121.338661</td>\n",
              "      <td>118.674660</td>\n",
              "    </tr>\n",
              "    <tr>\n",
              "      <th>2013-10-12</th>\n",
              "      <td>25.0</td>\n",
              "      <td>125.279663</td>\n",
              "      <td>125.961159</td>\n",
              "      <td>124.049004</td>\n",
              "      <td>123.032997</td>\n",
              "      <td>121.794998</td>\n",
              "      <td>120.655327</td>\n",
              "      <td>121.338661</td>\n",
              "    </tr>\n",
              "  </tbody>\n",
              "</table>\n",
              "</div>"
            ],
            "text/plain": [
              "            block_reward     Price=1  ...     Price=6     Price=7\n",
              "Date                                  ...                        \n",
              "2013-10-08          25.0  121.794998  ...  125.455002  123.654991\n",
              "2013-10-09          25.0  123.032997  ...  108.584831  125.455002\n",
              "2013-10-10          25.0  124.049004  ...  118.674660  108.584831\n",
              "2013-10-11          25.0  125.961159  ...  121.338661  118.674660\n",
              "2013-10-12          25.0  125.279663  ...  120.655327  121.338661\n",
              "\n",
              "[5 rows x 8 columns]"
            ]
          },
          "metadata": {
            "tags": []
          },
          "execution_count": 103
        }
      ]
    },
    {
      "cell_type": "code",
      "metadata": {
        "colab": {
          "base_uri": "https://localhost:8080/"
        },
        "id": "zEyGQAXF4rYu",
        "outputId": "e5d04270-abb3-4dcb-ee63-4672254ebc0a"
      },
      "source": [
        " y.head()"
      ],
      "execution_count": null,
      "outputs": [
        {
          "output_type": "execute_result",
          "data": {
            "text/plain": [
              "Date\n",
              "2013-10-08    123.032997\n",
              "2013-10-09    124.049004\n",
              "2013-10-10    125.961159\n",
              "2013-10-11    125.279663\n",
              "2013-10-12    125.927498\n",
              "Name: Price, dtype: float32"
            ]
          },
          "metadata": {
            "tags": []
          },
          "execution_count": 104
        }
      ]
    },
    {
      "cell_type": "code",
      "metadata": {
        "colab": {
          "base_uri": "https://localhost:8080/"
        },
        "id": "Ye2sow8C4tzr",
        "outputId": "73378691-8612-4830-a824-e7826299219c"
      },
      "source": [
        "# Train and test sets\n",
        "split_size = int(len(X) * 0.8)\n",
        "X_train, y_train = X[:split_size], y[:split_size]\n",
        "X_test, y_test = X[split_size:], y[split_size:]\n",
        "\n",
        "len(X_train), len(y_train), len(X_test), len(y_test)"
      ],
      "execution_count": null,
      "outputs": [
        {
          "output_type": "execute_result",
          "data": {
            "text/plain": [
              "(2224, 2224, 556, 556)"
            ]
          },
          "metadata": {
            "tags": []
          },
          "execution_count": 105
        }
      ]
    },
    {
      "cell_type": "markdown",
      "metadata": {
        "id": "jOE9eyGq5OhE"
      },
      "source": [
        "## Model 6: Multivariate model\n",
        "\n",
        "Same architecture to Model_1. Except we are training on the multivariate data instead of the univariate."
      ]
    },
    {
      "cell_type": "code",
      "metadata": {
        "colab": {
          "base_uri": "https://localhost:8080/"
        },
        "id": "fQRa0Jqp5uBI",
        "outputId": "af1243eb-d4e7-415d-cdb6-d50c825d24a2"
      },
      "source": [
        "\n",
        "# Random seed\n",
        "tf.random.set_seed(42)\n",
        "\n",
        "# Multivariate model\n",
        "model_6 = tf.keras.Sequential([\n",
        "    layers.Dense(128, activation=\"relu\"),\n",
        "    layers.Dense(HORIZON, activation=\"linear\")\n",
        "], name=\"model_6_multivariate\")\n",
        "\n",
        "# Compile\n",
        "model_6.compile(loss=\"mae\",\n",
        "                optimizer=\"adam\")\n",
        "\n",
        "# Fit the model\n",
        "model_6.fit(x=X_train,\n",
        "            y=y_train,\n",
        "            epochs=100,\n",
        "            verbose=1,\n",
        "            batch_size=128,\n",
        "            validation_data=(X_test, y_test),\n",
        "            callbacks=[create_model_checkpoint(model_name=model_6.name)])"
      ],
      "execution_count": null,
      "outputs": [
        {
          "output_type": "stream",
          "text": [
            "Epoch 1/100\n",
            "18/18 [==============================] - 0s 10ms/step - loss: 1234.6804 - val_loss: 2061.9077\n",
            "INFO:tensorflow:Assets written to: model_experiments/model_6_multivariate/assets\n",
            "Epoch 2/100\n",
            "18/18 [==============================] - 0s 3ms/step - loss: 351.5053 - val_loss: 1908.6733\n",
            "INFO:tensorflow:Assets written to: model_experiments/model_6_multivariate/assets\n",
            "Epoch 3/100\n",
            "18/18 [==============================] - 0s 3ms/step - loss: 235.4153 - val_loss: 1329.0585\n",
            "INFO:tensorflow:Assets written to: model_experiments/model_6_multivariate/assets\n",
            "Epoch 4/100\n",
            "18/18 [==============================] - 0s 3ms/step - loss: 208.6112 - val_loss: 1102.1342\n",
            "INFO:tensorflow:Assets written to: model_experiments/model_6_multivariate/assets\n",
            "Epoch 5/100\n",
            "18/18 [==============================] - 0s 3ms/step - loss: 196.5770 - val_loss: 1107.8474\n",
            "Epoch 6/100\n",
            "18/18 [==============================] - 0s 3ms/step - loss: 187.2245 - val_loss: 1036.1720\n",
            "INFO:tensorflow:Assets written to: model_experiments/model_6_multivariate/assets\n",
            "Epoch 7/100\n",
            "18/18 [==============================] - 0s 3ms/step - loss: 182.0245 - val_loss: 1019.2928\n",
            "INFO:tensorflow:Assets written to: model_experiments/model_6_multivariate/assets\n",
            "Epoch 8/100\n",
            "18/18 [==============================] - 0s 3ms/step - loss: 175.7059 - val_loss: 977.8488\n",
            "INFO:tensorflow:Assets written to: model_experiments/model_6_multivariate/assets\n",
            "Epoch 9/100\n",
            "18/18 [==============================] - 0s 3ms/step - loss: 170.1784 - val_loss: 954.4037\n",
            "INFO:tensorflow:Assets written to: model_experiments/model_6_multivariate/assets\n",
            "Epoch 10/100\n",
            "18/18 [==============================] - 0s 3ms/step - loss: 164.4430 - val_loss: 913.5148\n",
            "INFO:tensorflow:Assets written to: model_experiments/model_6_multivariate/assets\n",
            "Epoch 11/100\n",
            "18/18 [==============================] - 0s 3ms/step - loss: 158.6892 - val_loss: 874.2507\n",
            "INFO:tensorflow:Assets written to: model_experiments/model_6_multivariate/assets\n",
            "Epoch 12/100\n",
            "18/18 [==============================] - 0s 3ms/step - loss: 152.0732 - val_loss: 861.0418\n",
            "INFO:tensorflow:Assets written to: model_experiments/model_6_multivariate/assets\n",
            "Epoch 13/100\n",
            "18/18 [==============================] - 0s 3ms/step - loss: 151.1057 - val_loss: 886.1207\n",
            "Epoch 14/100\n",
            "18/18 [==============================] - 0s 3ms/step - loss: 147.5482 - val_loss: 837.8616\n",
            "INFO:tensorflow:Assets written to: model_experiments/model_6_multivariate/assets\n",
            "Epoch 15/100\n",
            "18/18 [==============================] - 0s 3ms/step - loss: 142.3497 - val_loss: 794.4788\n",
            "INFO:tensorflow:Assets written to: model_experiments/model_6_multivariate/assets\n",
            "Epoch 16/100\n",
            "18/18 [==============================] - 0s 3ms/step - loss: 137.5206 - val_loss: 778.4052\n",
            "INFO:tensorflow:Assets written to: model_experiments/model_6_multivariate/assets\n",
            "Epoch 17/100\n",
            "18/18 [==============================] - 0s 3ms/step - loss: 135.8190 - val_loss: 772.4532\n",
            "INFO:tensorflow:Assets written to: model_experiments/model_6_multivariate/assets\n",
            "Epoch 18/100\n",
            "18/18 [==============================] - 0s 3ms/step - loss: 134.8562 - val_loss: 747.4802\n",
            "INFO:tensorflow:Assets written to: model_experiments/model_6_multivariate/assets\n",
            "Epoch 19/100\n",
            "18/18 [==============================] - 0s 3ms/step - loss: 130.3347 - val_loss: 761.0554\n",
            "Epoch 20/100\n",
            "18/18 [==============================] - 0s 3ms/step - loss: 128.6775 - val_loss: 701.8977\n",
            "INFO:tensorflow:Assets written to: model_experiments/model_6_multivariate/assets\n",
            "Epoch 21/100\n",
            "18/18 [==============================] - 0s 3ms/step - loss: 129.5576 - val_loss: 691.0128\n",
            "INFO:tensorflow:Assets written to: model_experiments/model_6_multivariate/assets\n",
            "Epoch 22/100\n",
            "18/18 [==============================] - 0s 3ms/step - loss: 125.8060 - val_loss: 684.4119\n",
            "INFO:tensorflow:Assets written to: model_experiments/model_6_multivariate/assets\n",
            "Epoch 23/100\n",
            "18/18 [==============================] - 0s 3ms/step - loss: 125.5263 - val_loss: 692.1298\n",
            "Epoch 24/100\n",
            "18/18 [==============================] - 0s 3ms/step - loss: 122.4765 - val_loss: 674.2216\n",
            "INFO:tensorflow:Assets written to: model_experiments/model_6_multivariate/assets\n",
            "Epoch 25/100\n",
            "18/18 [==============================] - 0s 3ms/step - loss: 121.1171 - val_loss: 669.6441\n",
            "INFO:tensorflow:Assets written to: model_experiments/model_6_multivariate/assets\n",
            "Epoch 26/100\n",
            "18/18 [==============================] - 0s 3ms/step - loss: 127.2623 - val_loss: 690.0403\n",
            "Epoch 27/100\n",
            "18/18 [==============================] - 0s 3ms/step - loss: 124.6204 - val_loss: 643.9724\n",
            "INFO:tensorflow:Assets written to: model_experiments/model_6_multivariate/assets\n",
            "Epoch 28/100\n",
            "18/18 [==============================] - 0s 3ms/step - loss: 118.2544 - val_loss: 656.2767\n",
            "Epoch 29/100\n",
            "18/18 [==============================] - 0s 3ms/step - loss: 119.6374 - val_loss: 633.4547\n",
            "INFO:tensorflow:Assets written to: model_experiments/model_6_multivariate/assets\n",
            "Epoch 30/100\n",
            "18/18 [==============================] - 0s 3ms/step - loss: 119.5001 - val_loss: 625.3953\n",
            "INFO:tensorflow:Assets written to: model_experiments/model_6_multivariate/assets\n",
            "Epoch 31/100\n",
            "18/18 [==============================] - 0s 3ms/step - loss: 114.5633 - val_loss: 668.5064\n",
            "Epoch 32/100\n",
            "18/18 [==============================] - 0s 3ms/step - loss: 116.9750 - val_loss: 617.1061\n",
            "INFO:tensorflow:Assets written to: model_experiments/model_6_multivariate/assets\n",
            "Epoch 33/100\n",
            "18/18 [==============================] - 0s 3ms/step - loss: 115.2438 - val_loss: 649.0989\n",
            "Epoch 34/100\n",
            "18/18 [==============================] - 0s 3ms/step - loss: 114.5187 - val_loss: 632.1375\n",
            "Epoch 35/100\n",
            "18/18 [==============================] - 0s 3ms/step - loss: 113.6357 - val_loss: 607.4173\n",
            "INFO:tensorflow:Assets written to: model_experiments/model_6_multivariate/assets\n",
            "Epoch 36/100\n",
            "18/18 [==============================] - 0s 3ms/step - loss: 115.2605 - val_loss: 626.4319\n",
            "Epoch 37/100\n",
            "18/18 [==============================] - 0s 3ms/step - loss: 113.7020 - val_loss: 606.2318\n",
            "INFO:tensorflow:Assets written to: model_experiments/model_6_multivariate/assets\n",
            "Epoch 38/100\n",
            "18/18 [==============================] - 0s 3ms/step - loss: 111.4061 - val_loss: 603.2919\n",
            "INFO:tensorflow:Assets written to: model_experiments/model_6_multivariate/assets\n",
            "Epoch 39/100\n",
            "18/18 [==============================] - 0s 3ms/step - loss: 112.7722 - val_loss: 596.0060\n",
            "INFO:tensorflow:Assets written to: model_experiments/model_6_multivariate/assets\n",
            "Epoch 40/100\n",
            "18/18 [==============================] - 0s 3ms/step - loss: 110.5418 - val_loss: 593.2170\n",
            "INFO:tensorflow:Assets written to: model_experiments/model_6_multivariate/assets\n",
            "Epoch 41/100\n",
            "18/18 [==============================] - 0s 3ms/step - loss: 110.8671 - val_loss: 609.1062\n",
            "Epoch 42/100\n",
            "18/18 [==============================] - 0s 3ms/step - loss: 115.7249 - val_loss: 607.4877\n",
            "Epoch 43/100\n",
            "18/18 [==============================] - 0s 3ms/step - loss: 111.3313 - val_loss: 606.2029\n",
            "Epoch 44/100\n",
            "18/18 [==============================] - 0s 3ms/step - loss: 109.7027 - val_loss: 586.1215\n",
            "INFO:tensorflow:Assets written to: model_experiments/model_6_multivariate/assets\n",
            "Epoch 45/100\n",
            "18/18 [==============================] - 0s 3ms/step - loss: 107.8748 - val_loss: 593.8445\n",
            "Epoch 46/100\n",
            "18/18 [==============================] - 0s 3ms/step - loss: 109.8641 - val_loss: 586.4581\n",
            "Epoch 47/100\n",
            "18/18 [==============================] - 0s 3ms/step - loss: 112.3587 - val_loss: 655.4489\n",
            "Epoch 48/100\n",
            "18/18 [==============================] - 0s 3ms/step - loss: 109.1614 - val_loss: 598.7234\n",
            "Epoch 49/100\n",
            "18/18 [==============================] - 0s 3ms/step - loss: 109.3029 - val_loss: 589.2489\n",
            "Epoch 50/100\n",
            "18/18 [==============================] - 0s 3ms/step - loss: 111.1971 - val_loss: 649.3788\n",
            "Epoch 51/100\n",
            "18/18 [==============================] - 0s 3ms/step - loss: 110.8514 - val_loss: 602.7667\n",
            "Epoch 52/100\n",
            "18/18 [==============================] - 0s 3ms/step - loss: 111.8331 - val_loss: 599.2957\n",
            "Epoch 53/100\n",
            "18/18 [==============================] - 0s 3ms/step - loss: 110.8895 - val_loss: 652.1644\n",
            "Epoch 54/100\n",
            "18/18 [==============================] - 0s 3ms/step - loss: 113.8169 - val_loss: 600.8459\n",
            "Epoch 55/100\n",
            "18/18 [==============================] - 0s 3ms/step - loss: 110.4068 - val_loss: 575.7752\n",
            "INFO:tensorflow:Assets written to: model_experiments/model_6_multivariate/assets\n",
            "Epoch 56/100\n",
            "18/18 [==============================] - 0s 3ms/step - loss: 108.6609 - val_loss: 785.9749\n",
            "Epoch 57/100\n",
            "18/18 [==============================] - 0s 3ms/step - loss: 124.9823 - val_loss: 670.3782\n",
            "Epoch 58/100\n",
            "18/18 [==============================] - 0s 3ms/step - loss: 112.8591 - val_loss: 580.2877\n",
            "Epoch 59/100\n",
            "18/18 [==============================] - 0s 3ms/step - loss: 107.2513 - val_loss: 597.5082\n",
            "Epoch 60/100\n",
            "18/18 [==============================] - 0s 3ms/step - loss: 109.2322 - val_loss: 632.2958\n",
            "Epoch 61/100\n",
            "18/18 [==============================] - 0s 3ms/step - loss: 109.3519 - val_loss: 591.5412\n",
            "Epoch 62/100\n",
            "18/18 [==============================] - 0s 3ms/step - loss: 108.4084 - val_loss: 617.5801\n",
            "Epoch 63/100\n",
            "18/18 [==============================] - 0s 3ms/step - loss: 113.5326 - val_loss: 613.1476\n",
            "Epoch 64/100\n",
            "18/18 [==============================] - 0s 3ms/step - loss: 110.6625 - val_loss: 689.1802\n",
            "Epoch 65/100\n",
            "18/18 [==============================] - 0s 3ms/step - loss: 112.0475 - val_loss: 575.5540\n",
            "INFO:tensorflow:Assets written to: model_experiments/model_6_multivariate/assets\n",
            "Epoch 66/100\n",
            "18/18 [==============================] - 0s 3ms/step - loss: 111.2830 - val_loss: 590.7802\n",
            "Epoch 67/100\n",
            "18/18 [==============================] - 0s 3ms/step - loss: 106.7918 - val_loss: 586.8840\n",
            "Epoch 68/100\n",
            "18/18 [==============================] - 0s 3ms/step - loss: 112.2987 - val_loss: 696.5287\n",
            "Epoch 69/100\n",
            "18/18 [==============================] - 0s 3ms/step - loss: 124.7808 - val_loss: 698.5261\n",
            "Epoch 70/100\n",
            "18/18 [==============================] - 0s 4ms/step - loss: 119.3443 - val_loss: 581.2100\n",
            "Epoch 71/100\n",
            "18/18 [==============================] - 0s 3ms/step - loss: 109.9960 - val_loss: 607.6742\n",
            "Epoch 72/100\n",
            "18/18 [==============================] - 0s 3ms/step - loss: 106.7711 - val_loss: 573.6142\n",
            "INFO:tensorflow:Assets written to: model_experiments/model_6_multivariate/assets\n",
            "Epoch 73/100\n",
            "18/18 [==============================] - 0s 3ms/step - loss: 110.2485 - val_loss: 618.8947\n",
            "Epoch 74/100\n",
            "18/18 [==============================] - 0s 3ms/step - loss: 105.5330 - val_loss: 574.9452\n",
            "Epoch 75/100\n",
            "18/18 [==============================] - 0s 4ms/step - loss: 107.3177 - val_loss: 606.1979\n",
            "Epoch 76/100\n",
            "18/18 [==============================] - 0s 3ms/step - loss: 107.8084 - val_loss: 582.2403\n",
            "Epoch 77/100\n",
            "18/18 [==============================] - 0s 3ms/step - loss: 107.2528 - val_loss: 571.8563\n",
            "INFO:tensorflow:Assets written to: model_experiments/model_6_multivariate/assets\n",
            "Epoch 78/100\n",
            "18/18 [==============================] - 0s 3ms/step - loss: 106.2309 - val_loss: 572.2830\n",
            "Epoch 79/100\n",
            "18/18 [==============================] - 0s 3ms/step - loss: 105.8568 - val_loss: 596.5461\n",
            "Epoch 80/100\n",
            "18/18 [==============================] - 0s 3ms/step - loss: 107.8418 - val_loss: 577.2400\n",
            "Epoch 81/100\n",
            "18/18 [==============================] - 0s 3ms/step - loss: 105.1101 - val_loss: 568.4897\n",
            "INFO:tensorflow:Assets written to: model_experiments/model_6_multivariate/assets\n",
            "Epoch 82/100\n",
            "18/18 [==============================] - 0s 3ms/step - loss: 114.1867 - val_loss: 592.5609\n",
            "Epoch 83/100\n",
            "18/18 [==============================] - 0s 3ms/step - loss: 107.9631 - val_loss: 651.6213\n",
            "Epoch 84/100\n",
            "18/18 [==============================] - 0s 3ms/step - loss: 109.6690 - val_loss: 568.9340\n",
            "Epoch 85/100\n",
            "18/18 [==============================] - 0s 4ms/step - loss: 105.8219 - val_loss: 571.5334\n",
            "Epoch 86/100\n",
            "18/18 [==============================] - 0s 3ms/step - loss: 104.8628 - val_loss: 579.3859\n",
            "Epoch 87/100\n",
            "18/18 [==============================] - 0s 3ms/step - loss: 104.7148 - val_loss: 582.9178\n",
            "Epoch 88/100\n",
            "18/18 [==============================] - 0s 3ms/step - loss: 106.8899 - val_loss: 569.0820\n",
            "Epoch 89/100\n",
            "18/18 [==============================] - 0s 4ms/step - loss: 105.4376 - val_loss: 569.3439\n",
            "Epoch 90/100\n",
            "18/18 [==============================] - 0s 3ms/step - loss: 105.1583 - val_loss: 600.5422\n",
            "Epoch 91/100\n",
            "18/18 [==============================] - 0s 3ms/step - loss: 111.8188 - val_loss: 632.4727\n",
            "Epoch 92/100\n",
            "18/18 [==============================] - 0s 3ms/step - loss: 106.8183 - val_loss: 601.6358\n",
            "Epoch 93/100\n",
            "18/18 [==============================] - 0s 3ms/step - loss: 114.4035 - val_loss: 647.1910\n",
            "Epoch 94/100\n",
            "18/18 [==============================] - 0s 3ms/step - loss: 110.5867 - val_loss: 571.2924\n",
            "Epoch 95/100\n",
            "18/18 [==============================] - 0s 3ms/step - loss: 105.7926 - val_loss: 584.9744\n",
            "Epoch 96/100\n",
            "18/18 [==============================] - 0s 3ms/step - loss: 112.4480 - val_loss: 624.2061\n",
            "Epoch 97/100\n",
            "18/18 [==============================] - 0s 3ms/step - loss: 108.2609 - val_loss: 581.7926\n",
            "Epoch 98/100\n",
            "18/18 [==============================] - 0s 3ms/step - loss: 108.0625 - val_loss: 573.6556\n",
            "Epoch 99/100\n",
            "18/18 [==============================] - 0s 4ms/step - loss: 107.7017 - val_loss: 567.8899\n",
            "INFO:tensorflow:Assets written to: model_experiments/model_6_multivariate/assets\n",
            "Epoch 100/100\n",
            "18/18 [==============================] - 0s 3ms/step - loss: 107.9951 - val_loss: 626.7441\n"
          ],
          "name": "stdout"
        },
        {
          "output_type": "execute_result",
          "data": {
            "text/plain": [
              "<tensorflow.python.keras.callbacks.History at 0x7f866007bf90>"
            ]
          },
          "metadata": {
            "tags": []
          },
          "execution_count": 106
        }
      ]
    },
    {
      "cell_type": "code",
      "metadata": {
        "colab": {
          "base_uri": "https://localhost:8080/"
        },
        "id": "lcqxbsTG6Tv2",
        "outputId": "32d47d8c-bccc-4693-ae68-ba824f645f37"
      },
      "source": [
        "# Load best model\n",
        "\n",
        "model_6 = tf.keras.models.load_model(\"model_experiments/model_6_multivariate/\")\n",
        "model_6.evaluate(X_test, y_test)"
      ],
      "execution_count": null,
      "outputs": [
        {
          "output_type": "stream",
          "text": [
            "18/18 [==============================] - 0s 1ms/step - loss: 567.8899\n"
          ],
          "name": "stdout"
        },
        {
          "output_type": "execute_result",
          "data": {
            "text/plain": [
              "567.889892578125"
            ]
          },
          "metadata": {
            "tags": []
          },
          "execution_count": 107
        }
      ]
    },
    {
      "cell_type": "code",
      "metadata": {
        "colab": {
          "base_uri": "https://localhost:8080/"
        },
        "id": "iXlQ2-9g64tD",
        "outputId": "2386cb16-49ba-4331-a06f-f96ce0507a2d"
      },
      "source": [
        "model_6_preds = make_preds(model_6,\n",
        "                           input_data=X_test)\n",
        "model_6_preds"
      ],
      "execution_count": null,
      "outputs": [
        {
          "output_type": "execute_result",
          "data": {
            "text/plain": [
              "<tf.Tensor: shape=(556,), dtype=float32, numpy=\n",
              "array([ 8844.684 ,  8769.905 ,  9045.17  ,  8747.686 ,  8728.429 ,\n",
              "        8772.757 ,  8667.292 ,  8503.437 ,  8470.313 ,  8527.244 ,\n",
              "        8238.248 ,  8104.2837,  8075.3057,  7660.394 ,  7289.175 ,\n",
              "        7276.9727,  7090.6523,  7165.9717,  7152.981 ,  7481.1064,\n",
              "        7437.3022,  7710.821 ,  7611.62  ,  7412.4463,  7342.944 ,\n",
              "        7322.142 ,  7209.663 ,  7370.9634,  7517.8076,  7546.2236,\n",
              "        7569.1943,  7381.327 ,  7247.6797,  7198.906 ,  7180.86  ,\n",
              "        7224.6763,  7107.423 ,  7106.336 ,  6914.44  ,  6597.423 ,\n",
              "        7314.834 ,  7221.261 ,  7123.581 ,  7310.6924,  7284.903 ,\n",
              "        7166.4326,  7240.0864,  7230.7446,  7188.315 ,  7229.841 ,\n",
              "        7316.5317,  7391.6724,  7282.6973,  7194.9277,  7182.865 ,\n",
              "        6977.7007,  7238.982 ,  7357.549 ,  7355.0845,  7699.7827,\n",
              "        8064.6143,  8112.268 ,  7878.6255,  8088.5366,  8119.242 ,\n",
              "        8144.0806,  8139.967 ,  8697.845 ,  8893.031 ,  8763.146 ,\n",
              "        8945.0205,  8997.698 ,  8680.856 ,  8645.718 ,  8717.104 ,\n",
              "        8638.542 ,  8401.282 ,  8438.298 ,  8363.296 ,  8526.116 ,\n",
              "        8866.856 ,  9145.616 ,  9350.333 ,  9586.853 ,  9468.405 ,\n",
              "        9394.486 ,  9409.958 ,  9293.351 ,  9179.995 ,  9582.982 ,\n",
              "        9712.687 ,  9802.15  ,  9960.8545, 10163.143 ,  9907.646 ,\n",
              "       10206.927 , 10404.979 , 10257.368 , 10368.101 , 10016.201 ,\n",
              "        9859.479 ,  9656.536 , 10107.77  ,  9771.141 ,  9612.776 ,\n",
              "        9681.818 ,  9696.071 ,  9882.132 ,  9697.934 ,  9417.122 ,\n",
              "        8846.707 ,  8735.521 ,  8763.97  ,  8656.004 ,  8540.025 ,\n",
              "        8886.855 ,  8831.389 ,  8759.599 ,  9070.649 ,  9166.081 ,\n",
              "        8959.507 ,  8257.478 ,  7868.142 ,  7925.475 ,  7972.0435,\n",
              "        6403.477 ,  5896.052 ,  5629.803 ,  5626.257 ,  5380.8096,\n",
              "        5417.526 ,  5390.8965,  6186.4077,  6256.5967,  6224.2495,\n",
              "        5971.3296,  6428.563 ,  6786.1274,  6745.454 ,  6753.4014,\n",
              "        6741.931 ,  6288.256 ,  5923.388 ,  6397.7773,  6459.8115,\n",
              "        6509.5537,  6854.755 ,  6843.536 ,  6862.457 ,  6846.35  ,\n",
              "        7249.012 ,  7229.543 ,  7364.43  ,  7373.558 ,  6937.846 ,\n",
              "        6851.0156,  7028.643 ,  6895.9844,  6871.277 ,  6750.8203,\n",
              "        7116.622 ,  7104.7456,  7260.4165,  7236.5723,  6911.536 ,\n",
              "        6887.2896,  7104.323 ,  7519.7173,  7539.5845,  7571.907 ,\n",
              "        7665.111 ,  7795.0337,  7785.0615,  8695.035 ,  8864.117 ,\n",
              "        8891.833 ,  9031.547 ,  8979.77  ,  8900.99  ,  8987.902 ,\n",
              "        9351.883 ,  9889.068 ,  9984.227 ,  9704.484 ,  8907.889 ,\n",
              "        8588.56  ,  8762.849 ,  9250.494 ,  9718.3955,  9462.016 ,\n",
              "        9449.901 ,  9713.287 ,  9747.686 ,  9726.073 ,  9591.062 ,\n",
              "        9192.537 ,  9163.754 ,  9208.921 ,  9046.531 ,  8906.731 ,\n",
              "        8842.379 ,  9077.453 ,  9482.052 ,  9472.364 ,  9694.019 ,\n",
              "        9520.262 , 10199.079 ,  9669.378 ,  9627.956 ,  9837.382 ,\n",
              "        9695.302 ,  9651.046 ,  9758.166 ,  9800.39  ,  9797.867 ,\n",
              "        9884.247 ,  9345.112 ,  9413.375 ,  9472.777 ,  9345.129 ,\n",
              "        9419.193 ,  9529.905 ,  9474.631 ,  9414.261 ,  9305.324 ,\n",
              "        9345.9375,  9302.15  ,  9641.235 ,  9655.291 ,  9357.734 ,\n",
              "        9265.789 ,  9191.594 ,  9016.607 ,  9073.394 ,  9185.153 ,\n",
              "        9159.227 ,  9236.393 ,  9137.422 ,  9099.025 ,  9131.567 ,\n",
              "        9070.949 ,  9256.555 ,  9275.961 ,  9461.956 ,  9297.298 ,\n",
              "        9251.031 ,  9247.681 ,  9287.629 ,  9247.318 ,  9267.643 ,\n",
              "        9230.033 ,  9148.932 ,  9160.302 ,  9183.8545,  9194.746 ,\n",
              "        9184.964 ,  9386.001 ,  9546.884 ,  9636.919 ,  9608.91  ,\n",
              "        9724.831 ,  9948.754 , 11099.86  , 11079.93  , 11303.714 ,\n",
              "       11256.035 , 11402.834 , 11762.985 , 11258.438 , 11234.121 ,\n",
              "       11272.419 , 11605.341 , 11805.008 , 11698.322 , 11765.561 ,\n",
              "       11726.676 , 11824.197 , 11411.109 , 11510.883 , 11753.708 ,\n",
              "       11792.99  , 11896.445 , 11944.415 , 12378.997 , 12164.629 ,\n",
              "       11790.827 , 11836.468 , 11621.724 , 11625.819 , 11671.38  ,\n",
              "       11741.644 , 11427.41  , 11443.513 , 11330.351 , 11449.48  ,\n",
              "       11522.006 , 11659.817 , 11705.595 , 11967.28  , 11526.459 ,\n",
              "       10771.504 , 10540.909 , 10121.926 , 10173.454 , 10349.882 ,\n",
              "       10071.307 , 10223.857 , 10373.412 , 10388.008 , 10446.049 ,\n",
              "       10359.106 , 10654.528 , 10857.295 , 11043.754 , 10996.62  ,\n",
              "       10973.172 , 11066.485 , 10897.063 , 10554.008 , 10519.693 ,\n",
              "       10282.71  , 10594.47  , 10745.056 , 10753.889 , 10779.651 ,\n",
              "       10890.219 , 10797.949 , 10753.509 , 10653.283 , 10575.348 ,\n",
              "       10554.43  , 10652.221 , 10758.3955, 10625.849 , 10649.244 ,\n",
              "       10896.173 , 11065.119 , 11358.775 , 11397.243 , 11676.175 ,\n",
              "       11529.779 , 11419.3955, 11515.852 , 11392.191 , 11349.243 ,\n",
              "       11474.531 , 11765.229 , 11954.398 , 13032.831 , 13266.826 ,\n",
              "       13031.614 , 13147.762 , 13093.603 , 13031.092 , 13668.991 ,\n",
              "       13397.455 , 13450.251 , 13624.801 , 13895.322 , 13778.603 ,\n",
              "       13673.186 , 13841.952 , 14165.296 , 15335.63  , 15656.469 ,\n",
              "       14952.95  , 15488.021 , 15421.505 , 15343.099 , 15804.228 ,\n",
              "       16289.353 , 16397.027 , 16098.573 , 15967.873 , 16698.803 ,\n",
              "       17574.133 , 17899.521 , 18057.498 , 18679.086 , 18722.596 ,\n",
              "       18683.068 , 18555.277 , 19030.035 , 18837.219 , 17347.174 ,\n",
              "       16970.19  , 17707.947 , 18052.438 , 19243.592 , 19181.953 ,\n",
              "       19251.629 , 19554.97  , 18961.168 , 18993.535 , 19156.104 ,\n",
              "       19114.936 , 18730.576 , 18562.955 , 18377.979 , 18135.217 ,\n",
              "       18779.877 , 19098.498 , 19268.816 , 19503.928 , 21219.838 ,\n",
              "       22898.5   , 23189.545 , 23972.65  , 23857.21  , 23317.848 ,\n",
              "       23454.447 , 23300.652 , 23562.336 , 24539.902 , 26320.516 ,\n",
              "       26597.553 , 26851.113 , 27164.477 , 28735.943 , 29272.805 ,\n",
              "       29457.85  , 32065.463 , 33266.46  , 31797.576 , 34270.438 ,\n",
              "       36479.27  , 39498.812 , 40710.64  , 40632.414 , 39257.168 ,\n",
              "       34986.56  , 33932.77  , 36565.848 , 38288.36  , 36972.273 ,\n",
              "       36222.48  , 36498.95  , 36351.926 , 36476.176 , 35208.746 ,\n",
              "       31145.176 , 32769.305 , 32418.64  , 32210.648 , 32549.07  ,\n",
              "       32456.182 , 30683.879 , 33050.098 , 34899.996 , 34759.375 ,\n",
              "       33398.18  , 33708.258 , 35517.    , 37327.47  , 37466.938 ,\n",
              "       38034.945 , 40355.332 , 38962.348 , 44093.74  , 46923.957 ,\n",
              "       45687.855 , 47543.652 , 48486.082 , 47230.027 , 49009.914 ,\n",
              "       48555.92  , 48770.363 , 52014.633 , 52141.992 , 55448.56  ,\n",
              "       55482.004 , 57145.1   , 54904.824 , 48797.684 , 48324.5   ,\n",
              "       48487.01  , 46363.523 , 46451.195 , 45312.875 , 48624.223 ,\n",
              "       48279.277 , 50558.92  , 48932.41  , 49129.38  , 49061.004 ,\n",
              "       50473.527 , 51523.42  , 54383.895 , 57085.152 , 58048.562 ,\n",
              "       57757.74  , 60764.336 , 60728.367 , 56817.363 , 56555.56  ,\n",
              "       58485.344 , 57986.453 , 58324.168 , 58813.316 , 58021.203 ,\n",
              "       54672.97  , 54556.29  , 52944.184 , 52097.77  , 54096.656 ,\n",
              "       56175.406 , 55563.84  , 57575.527 , 59062.97  , 58968.504 ,\n",
              "       59156.02  , 59105.96  , 57754.125 , 58088.62  , 58860.062 ,\n",
              "       58167.34  , 56663.438 , 57748.906 , 58249.574 , 59182.1   ,\n",
              "       59950.504 , 60081.445 , 63064.9   , 63373.125 , 63481.59  ,\n",
              "       62407.684 , 60830.387 , 57138.22  , 56014.71  , 56413.945 ,\n",
              "       54558.414 , 52172.406 , 50716.89  , 50601.54  , 48882.688 ,\n",
              "       52784.62  , 55263.414 , 54846.96  , 53668.82  , 57196.91  ,\n",
              "       58004.914 , 56652.805 , 57347.26  , 54319.8   , 56645.04  ,\n",
              "       56873.43  , 56996.64  , 58762.914 , 58520.14  , 56004.223 ,\n",
              "       56484.016 , 52672.984 , 49899.125 , 49888.863 , 48383.973 ,\n",
              "       46039.625 ], dtype=float32)>"
            ]
          },
          "metadata": {
            "tags": []
          },
          "execution_count": 108
        }
      ]
    },
    {
      "cell_type": "code",
      "metadata": {
        "colab": {
          "base_uri": "https://localhost:8080/"
        },
        "id": "A6nL8cP17CGQ",
        "outputId": "fe8c337b-9916-46d0-ca62-1668459ff259"
      },
      "source": [
        "model_6_results = evaluate_preds(y_true=tf.squeeze(y_test),\n",
        "                                 y_pred=model_6_preds)\n",
        "model_6_results"
      ],
      "execution_count": null,
      "outputs": [
        {
          "output_type": "execute_result",
          "data": {
            "text/plain": [
              "{'mae': 567.8899,\n",
              " 'mape': 2.5460758,\n",
              " 'mase': 0.99762523,\n",
              " 'mse': 1164816.4,\n",
              " 'rmse': 1079.2666}"
            ]
          },
          "metadata": {
            "tags": []
          },
          "execution_count": 109
        }
      ]
    },
    {
      "cell_type": "code",
      "metadata": {
        "colab": {
          "base_uri": "https://localhost:8080/"
        },
        "id": "mTBbSzxb7M4w",
        "outputId": "3a82cc17-3799-4041-d62e-f529037f5b40"
      },
      "source": [
        "naive_results, model_1_results"
      ],
      "execution_count": null,
      "outputs": [
        {
          "output_type": "execute_result",
          "data": {
            "text/plain": [
              "({'mae': 567.9802,\n",
              "  'mape': 2.516525,\n",
              "  'mase': 0.99957,\n",
              "  'mse': 1147547.0,\n",
              "  'rmse': 1071.2362},\n",
              " {'mae': 568.95105,\n",
              "  'mape': 2.5448983,\n",
              "  'mase': 0.9994894,\n",
              "  'mse': 1171743.8,\n",
              "  'rmse': 1082.4712})"
            ]
          },
          "metadata": {
            "tags": []
          },
          "execution_count": 110
        }
      ]
    },
    {
      "cell_type": "markdown",
      "metadata": {
        "id": "Uy1gdAPE7Pw0"
      },
      "source": [
        "## As we can see our multivariate model achieves a better `MAE` score on both the Naive forecast and model 1. Slightly better than both but still a win"
      ]
    },
    {
      "cell_type": "markdown",
      "metadata": {
        "id": "Rfekd-0N7OZg"
      },
      "source": [
        "### Building and testing N-BEATS block layer"
      ]
    },
    {
      "cell_type": "code",
      "metadata": {
        "id": "BBXD9ZE2_9n3"
      },
      "source": [
        "# Create NBEATS custom layer\n",
        "\n",
        "class NBeatsBlock(tf.keras.layers.Layer):\n",
        "  def __init__(self,\n",
        "               input_size: int,\n",
        "               theta_size: int,\n",
        "               horizon: int,\n",
        "               n_nuerons: int,\n",
        "               n_layers: int,\n",
        "               **kwargs): # takes care of all arguments for parent class\n",
        "\n",
        "    super().__init__(**kwargs)\n",
        "    self.input_size = input_size\n",
        "    self.theta_size = theta_size\n",
        "    self.horizon = horizon\n",
        "    self.n_nuerons = n_nuerons\n",
        "    self.n_layers = n_layers\n",
        "\n",
        "    # BLock contains 4 FC (Fully Connected) Layers. Each has RELU activation\n",
        "    self.hidden = [tf.keras.layers.Dense(n_nuerons, activation=\"relu\") for _ in range(n_layers)]\n",
        "    \n",
        "    # Output of block is theta layer with linear activation\n",
        "    self.theta_layer = tf.keras.layers.Dense(theta_size, activation=\"linear\", name=\"theta\")\n",
        "\n",
        "  def call(self, inputs):\n",
        "    x = inputs\n",
        "    for layer in self.hidden:\n",
        "      x = layer(x)\n",
        "    theta = self.theta_layer(x)\n",
        "    # Output backcast and forecast for theta\n",
        "    backcast, forecast = theta[:, :self.input_size], theta[:, -self.horizon]\n",
        "    return backcast, forecast"
      ],
      "execution_count": null,
      "outputs": []
    },
    {
      "cell_type": "markdown",
      "metadata": {
        "id": "HVKkoXw5Khrj"
      },
      "source": [
        "Time to test NBeatsBlock Class, using dummy inputs"
      ]
    },
    {
      "cell_type": "code",
      "metadata": {
        "id": "KHIheLJeB0-G"
      },
      "source": [
        "# Set up dummy layer\n",
        "tf.random.set_seed(42)\n",
        "dummy_nbeats_block_layer = NBeatsBlock(input_size=WINDOW_SIZE,\n",
        "                                       theta_size=WINDOW_SIZE+HORIZON, #backcast + forecast\n",
        "                                       horizon=HORIZON,\n",
        "                                       n_nuerons=128,\n",
        "                                       n_layers=4)"
      ],
      "execution_count": null,
      "outputs": []
    },
    {
      "cell_type": "code",
      "metadata": {
        "colab": {
          "base_uri": "https://localhost:8080/"
        },
        "id": "i4r42uJACsFw",
        "outputId": "f3a2e6f6-feeb-4ef7-81e9-52246fef40c5"
      },
      "source": [
        "# Create dummy inputs \n",
        "\n",
        "dummy_inputs = tf.expand_dims(tf.range(WINDOW_SIZE) +1, axis=0) #Input shape refects dense layer inputs\n",
        "dummy_inputs"
      ],
      "execution_count": null,
      "outputs": [
        {
          "output_type": "execute_result",
          "data": {
            "text/plain": [
              "<tf.Tensor: shape=(1, 7), dtype=int32, numpy=array([[1, 2, 3, 4, 5, 6, 7]], dtype=int32)>"
            ]
          },
          "metadata": {
            "tags": []
          },
          "execution_count": 113
        }
      ]
    },
    {
      "cell_type": "code",
      "metadata": {
        "colab": {
          "base_uri": "https://localhost:8080/"
        },
        "id": "Gkc-RIY6DHef",
        "outputId": "791fdd90-6e57-46ad-fdcf-45c9309e1458"
      },
      "source": [
        "# Pass dummy inputs to layer\n",
        "\n",
        "backcast, forecast = dummy_nbeats_block_layer(dummy_inputs)\n",
        "\n",
        "# Activation outputs for theta layer (random due to no training)\n",
        "print(f\"Backcast: {tf.squeeze(backcast.numpy())}\")\n",
        "print(f\"Forecast: {tf.squeeze(forecast.numpy())}\")"
      ],
      "execution_count": null,
      "outputs": [
        {
          "output_type": "stream",
          "text": [
            "Backcast: [ 0.07960171  0.32512033 -0.8428683  -0.6938985  -0.31720552 -0.5698734\n",
            " -0.6396662 ]\n",
            "Forecast: 1.0071648359298706\n"
          ],
          "name": "stdout"
        }
      ]
    },
    {
      "cell_type": "markdown",
      "metadata": {
        "id": "bs4Bj9TwDqkC"
      },
      "source": [
        "## Preparing data for the N-BEATS algo using `tf.data` pipeline"
      ]
    },
    {
      "cell_type": "code",
      "metadata": {
        "id": "h1eoPC-lTgua"
      },
      "source": [
        "HORIZON = 1\n",
        "WINDOW_SIZE = 7"
      ],
      "execution_count": null,
      "outputs": []
    },
    {
      "cell_type": "code",
      "metadata": {
        "colab": {
          "base_uri": "https://localhost:8080/",
          "height": 235
        },
        "id": "C6OEYLwhTvRP",
        "outputId": "dd540830-c2e1-47bb-abc1-f33b867a8921"
      },
      "source": [
        "# Create data inputs for N-BEATS\n",
        "\n",
        "bitcoin_prices.head()"
      ],
      "execution_count": null,
      "outputs": [
        {
          "output_type": "execute_result",
          "data": {
            "text/html": [
              "<div>\n",
              "<style scoped>\n",
              "    .dataframe tbody tr th:only-of-type {\n",
              "        vertical-align: middle;\n",
              "    }\n",
              "\n",
              "    .dataframe tbody tr th {\n",
              "        vertical-align: top;\n",
              "    }\n",
              "\n",
              "    .dataframe thead th {\n",
              "        text-align: right;\n",
              "    }\n",
              "</style>\n",
              "<table border=\"1\" class=\"dataframe\">\n",
              "  <thead>\n",
              "    <tr style=\"text-align: right;\">\n",
              "      <th></th>\n",
              "      <th>Price</th>\n",
              "    </tr>\n",
              "    <tr>\n",
              "      <th>Date</th>\n",
              "      <th></th>\n",
              "    </tr>\n",
              "  </thead>\n",
              "  <tbody>\n",
              "    <tr>\n",
              "      <th>2013-10-01</th>\n",
              "      <td>123.65499</td>\n",
              "    </tr>\n",
              "    <tr>\n",
              "      <th>2013-10-02</th>\n",
              "      <td>125.45500</td>\n",
              "    </tr>\n",
              "    <tr>\n",
              "      <th>2013-10-03</th>\n",
              "      <td>108.58483</td>\n",
              "    </tr>\n",
              "    <tr>\n",
              "      <th>2013-10-04</th>\n",
              "      <td>118.67466</td>\n",
              "    </tr>\n",
              "    <tr>\n",
              "      <th>2013-10-05</th>\n",
              "      <td>121.33866</td>\n",
              "    </tr>\n",
              "  </tbody>\n",
              "</table>\n",
              "</div>"
            ],
            "text/plain": [
              "                Price\n",
              "Date                 \n",
              "2013-10-01  123.65499\n",
              "2013-10-02  125.45500\n",
              "2013-10-03  108.58483\n",
              "2013-10-04  118.67466\n",
              "2013-10-05  121.33866"
            ]
          },
          "metadata": {
            "tags": []
          },
          "execution_count": 116
        }
      ]
    },
    {
      "cell_type": "code",
      "metadata": {
        "colab": {
          "base_uri": "https://localhost:8080/",
          "height": 235
        },
        "id": "Eus82rgET7jN",
        "outputId": "fd5419c7-ee0e-4b0e-944f-5303090a86a4"
      },
      "source": [
        "# Add windowed columns with pandas\n",
        "\n",
        "bitcoin_prices_nbeats = bitcoin_prices.copy()\n",
        "\n",
        "for i in range(WINDOW_SIZE):\n",
        "  bitcoin_prices_nbeats[f\"Price+{i+1}\"] = bitcoin_prices_nbeats[\"Price\"].shift(periods=i+1)\n",
        "bitcoin_prices_nbeats.head()"
      ],
      "execution_count": null,
      "outputs": [
        {
          "output_type": "execute_result",
          "data": {
            "text/html": [
              "<div>\n",
              "<style scoped>\n",
              "    .dataframe tbody tr th:only-of-type {\n",
              "        vertical-align: middle;\n",
              "    }\n",
              "\n",
              "    .dataframe tbody tr th {\n",
              "        vertical-align: top;\n",
              "    }\n",
              "\n",
              "    .dataframe thead th {\n",
              "        text-align: right;\n",
              "    }\n",
              "</style>\n",
              "<table border=\"1\" class=\"dataframe\">\n",
              "  <thead>\n",
              "    <tr style=\"text-align: right;\">\n",
              "      <th></th>\n",
              "      <th>Price</th>\n",
              "      <th>Price+1</th>\n",
              "      <th>Price+2</th>\n",
              "      <th>Price+3</th>\n",
              "      <th>Price+4</th>\n",
              "      <th>Price+5</th>\n",
              "      <th>Price+6</th>\n",
              "      <th>Price+7</th>\n",
              "    </tr>\n",
              "    <tr>\n",
              "      <th>Date</th>\n",
              "      <th></th>\n",
              "      <th></th>\n",
              "      <th></th>\n",
              "      <th></th>\n",
              "      <th></th>\n",
              "      <th></th>\n",
              "      <th></th>\n",
              "      <th></th>\n",
              "    </tr>\n",
              "  </thead>\n",
              "  <tbody>\n",
              "    <tr>\n",
              "      <th>2013-10-01</th>\n",
              "      <td>123.65499</td>\n",
              "      <td>NaN</td>\n",
              "      <td>NaN</td>\n",
              "      <td>NaN</td>\n",
              "      <td>NaN</td>\n",
              "      <td>NaN</td>\n",
              "      <td>NaN</td>\n",
              "      <td>NaN</td>\n",
              "    </tr>\n",
              "    <tr>\n",
              "      <th>2013-10-02</th>\n",
              "      <td>125.45500</td>\n",
              "      <td>123.65499</td>\n",
              "      <td>NaN</td>\n",
              "      <td>NaN</td>\n",
              "      <td>NaN</td>\n",
              "      <td>NaN</td>\n",
              "      <td>NaN</td>\n",
              "      <td>NaN</td>\n",
              "    </tr>\n",
              "    <tr>\n",
              "      <th>2013-10-03</th>\n",
              "      <td>108.58483</td>\n",
              "      <td>125.45500</td>\n",
              "      <td>123.65499</td>\n",
              "      <td>NaN</td>\n",
              "      <td>NaN</td>\n",
              "      <td>NaN</td>\n",
              "      <td>NaN</td>\n",
              "      <td>NaN</td>\n",
              "    </tr>\n",
              "    <tr>\n",
              "      <th>2013-10-04</th>\n",
              "      <td>118.67466</td>\n",
              "      <td>108.58483</td>\n",
              "      <td>125.45500</td>\n",
              "      <td>123.65499</td>\n",
              "      <td>NaN</td>\n",
              "      <td>NaN</td>\n",
              "      <td>NaN</td>\n",
              "      <td>NaN</td>\n",
              "    </tr>\n",
              "    <tr>\n",
              "      <th>2013-10-05</th>\n",
              "      <td>121.33866</td>\n",
              "      <td>118.67466</td>\n",
              "      <td>108.58483</td>\n",
              "      <td>125.45500</td>\n",
              "      <td>123.65499</td>\n",
              "      <td>NaN</td>\n",
              "      <td>NaN</td>\n",
              "      <td>NaN</td>\n",
              "    </tr>\n",
              "  </tbody>\n",
              "</table>\n",
              "</div>"
            ],
            "text/plain": [
              "                Price    Price+1    Price+2  ...  Price+5  Price+6  Price+7\n",
              "Date                                         ...                           \n",
              "2013-10-01  123.65499        NaN        NaN  ...      NaN      NaN      NaN\n",
              "2013-10-02  125.45500  123.65499        NaN  ...      NaN      NaN      NaN\n",
              "2013-10-03  108.58483  125.45500  123.65499  ...      NaN      NaN      NaN\n",
              "2013-10-04  118.67466  108.58483  125.45500  ...      NaN      NaN      NaN\n",
              "2013-10-05  121.33866  118.67466  108.58483  ...      NaN      NaN      NaN\n",
              "\n",
              "[5 rows x 8 columns]"
            ]
          },
          "metadata": {
            "tags": []
          },
          "execution_count": 117
        }
      ]
    },
    {
      "cell_type": "code",
      "metadata": {
        "colab": {
          "base_uri": "https://localhost:8080/"
        },
        "id": "Y86xQirUUAZ1",
        "outputId": "a21ba6b6-b7e8-4ab4-8ba5-29ccc23856a2"
      },
      "source": [
        "# Features and labels\n",
        "X = bitcoin_prices_nbeats.dropna().drop(\"Price\", axis=1)\n",
        "y = bitcoin_prices_nbeats.dropna()[\"Price\"]\n",
        "\n",
        "\n",
        "# Make train and test sets\n",
        "split_size = int(len(X) * 0.8)\n",
        "X_train, y_train = X[:split_size], y[:split_size]\n",
        "X_test, y_test = X[split_size:], y[split_size:]\n",
        "\n",
        "len(X_train), len(y_train), len(X_test), len(y_test)\n"
      ],
      "execution_count": null,
      "outputs": [
        {
          "output_type": "execute_result",
          "data": {
            "text/plain": [
              "(2224, 2224, 556, 556)"
            ]
          },
          "metadata": {
            "tags": []
          },
          "execution_count": 118
        }
      ]
    },
    {
      "cell_type": "code",
      "metadata": {
        "colab": {
          "base_uri": "https://localhost:8080/"
        },
        "id": "pX8E1-CyU9Ho",
        "outputId": "43096709-a379-4908-cab3-3e8bac914043"
      },
      "source": [
        "# Making dataset with tf.data aka performant\n",
        "\n",
        "# Train datasets\n",
        "train_features_dataset = tf.data.Dataset.from_tensor_slices(X_train)\n",
        "train_labels_dataset = tf.data.Dataset.from_tensor_slices(y_train)\n",
        "\n",
        "# Test datasets\n",
        "test_features_dataset = tf.data.Dataset.from_tensor_slices(X_test)\n",
        "test_labels_dataset = tf.data.Dataset.from_tensor_slices(y_test)\n",
        "\n",
        "\n",
        "# Combine features and labels\n",
        "train_dataset = tf.data.Dataset.zip((train_features_dataset, train_labels_dataset))\n",
        "test_dataset = tf.data.Dataset.zip((test_features_dataset, test_labels_dataset))\n",
        "\n",
        "# Bath and prefetch\n",
        "BATCH_SIZE = 1024\n",
        "\n",
        "train_dataset = train_dataset.batch(BATCH_SIZE).prefetch(tf.data.AUTOTUNE)\n",
        "test_dataset = test_dataset.batch(BATCH_SIZE).prefetch(tf.data.AUTOTUNE)\n",
        "\n",
        "# Viualize datasets\n",
        "train_dataset, test_dataset"
      ],
      "execution_count": null,
      "outputs": [
        {
          "output_type": "execute_result",
          "data": {
            "text/plain": [
              "(<PrefetchDataset shapes: ((None, 7), (None,)), types: (tf.float64, tf.float64)>,\n",
              " <PrefetchDataset shapes: ((None, 7), (None,)), types: (tf.float64, tf.float64)>)"
            ]
          },
          "metadata": {
            "tags": []
          },
          "execution_count": 127
        }
      ]
    },
    {
      "cell_type": "markdown",
      "metadata": {
        "id": "6Mm76v1cVlH9"
      },
      "source": [
        "## Setting up hyperparameters\n",
        "\n",
        "https://arxiv.org/pdf/1905.10437.pdf (Table 18)"
      ]
    },
    {
      "cell_type": "code",
      "metadata": {
        "colab": {
          "base_uri": "https://localhost:8080/"
        },
        "id": "fQ3zkWpAW-H2",
        "outputId": "42144bde-3439-4701-93b2-4524a53141f6"
      },
      "source": [
        "# Values from paper\n",
        "\n",
        "N_EPOCHS = 5000\n",
        "N_NUERONS = 512\n",
        "N_LAYERS = 4\n",
        "N_STACKS = 30\n",
        "\n",
        "INPUT_SIZE = WINDOW_SIZE * HORIZON\n",
        "THETA_SIZE = INPUT_SIZE + HORIZON\n",
        "\n",
        "INPUT_SIZE, THETA_SIZE"
      ],
      "execution_count": null,
      "outputs": [
        {
          "output_type": "execute_result",
          "data": {
            "text/plain": [
              "(7, 8)"
            ]
          },
          "metadata": {
            "tags": []
          },
          "execution_count": 129
        }
      ]
    },
    {
      "cell_type": "code",
      "metadata": {
        "id": "tg6IKriDdFAv"
      },
      "source": [
        ""
      ],
      "execution_count": null,
      "outputs": []
    }
  ]
}